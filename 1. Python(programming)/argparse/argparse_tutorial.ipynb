{
 "cells": [
  {
   "cell_type": "markdown",
   "id": "stuffed-metallic",
   "metadata": {},
   "source": [
    "출처  \n",
    "- https://wikidocs.net/73785\n",
    "- https://greeksharifa.github.io/references/2019/02/12/argparse-usage/ <- 대부분 참고한 사이트"
   ]
  },
  {
   "cell_type": "code",
   "execution_count": null,
   "id": "talented-chaos",
   "metadata": {},
   "outputs": [],
   "source": [
    "import argparse"
   ]
  },
  {
   "cell_type": "code",
   "execution_count": null,
   "id": "corresponding-overhead",
   "metadata": {},
   "outputs": [],
   "source": [
    "# 아래의 내용을 포함하는 run.py스크립트를 작성한다고 가정하자.\n",
    "parser = argparse.ArgumentParser() \n",
    "\n",
    "# 파싱할 인자를 add_argument메서드를 통해 추가한다.\n",
    "parser.add_argument(\"-d\", \"--decimal\", dest=\"decimal\", action=\"store\")\n",
    "# 추가 옵션을 받는 경우 action=\"store\"\n",
    "# 추가 옵션을 받지 않고 단지 옵션의 유/무 만이 필요한 경우 action=\"store_true\"를 사용한다.\n",
    "# 사용자가 입력한 옵션 값은 dest인자로 지정한 변수에 저장된다.\n",
    "\n",
    "# extra value\n",
    "parser.add_argument(\"-f\", \"--fast\", dest=\"fast\", action=\"store_true\")\n",
    "\n",
    "# existence/nonexistence\n",
    "args = parser.parse_args()\n",
    "\n",
    "if args.decimal == '1':\n",
    "    print('decimal is 1')\n",
    "if args.fast == True:\n",
    "    print('-f option is used')"
   ]
  },
  {
   "cell_type": "markdown",
   "id": "wired-roommate",
   "metadata": {},
   "source": [
    "- 위와 같이 run.py를 코딩한 후, 터미널에서 옵션 명령행을 실행해보면,\n",
    "\n",
    "$run.py -d 1 -fm"
   ]
  },
  {
   "cell_type": "markdown",
   "id": "critical-christian",
   "metadata": {},
   "source": [
    "1     # args.decimal  \n",
    "True  # args.fast"
   ]
  },
  {
   "cell_type": "markdown",
   "id": "brave-kazakhstan",
   "metadata": {},
   "source": [
    "### arguments의 이름 정의\n",
    "- 인자 이름을 정의할 때, 여러개로 짓는 것이 가능\n",
    "- 보통 1~2개를 지정하며, --help, -h와 같이 fullname과 약자를 하나씩 지정한다."
   ]
  },
  {
   "cell_type": "markdown",
   "id": "angry-original",
   "metadata": {},
   "source": [
    "### argparse의 arguments"
   ]
  },
  {
   "cell_type": "markdown",
   "id": "infinite-nickel",
   "metadata": {},
   "source": [
    "#### -help, -h\n",
    "- 이 인자를 넣고 Python으로 실행하면 인자 사용법에 대한 도움말이 출력된다.\n",
    "- 예) python run.py -h 혹은 python run.py --help"
   ]
  },
  {
   "cell_type": "markdown",
   "id": "spectacular-plymouth",
   "metadata": {},
   "source": [
    "### type 지정\n",
    "- parse_args()가 주어진 인자는 모든 문자를 문자열로 취급한다.\n",
    "- add_argument()에서 type=로써 데이터타입을 지정할 수 있다.(default는 str)\n",
    "- 예) parser.add_argument('-d', type=int)"
   ]
  },
  {
   "cell_type": "markdown",
   "id": "pleased-shopping",
   "metadata": {},
   "source": [
    "### positional & optional 인자\n",
    "- 인자 이름 앞에 -가 붙지 않으면 positional인자로서, 필수로 지정해주어야 한다.  \n",
    "예) parser.add_argument('bar')  \n",
    "  \n",
    "  \n",
    "- 인자 이름 앞에 -가 붙어있으면 optional  \n",
    "예) parser.add_argument('--foo', '-f')  \n",
    "  \n",
    "  \n",
    "- add_argument()함수에 required=True를 넣어 optional 인자를 필수로 지정할수도 있다.\n",
    "- optional 인자는 뒤에 반드시 저장할 값을 지정해야 한다. 지정하지 않으면 지정한 기본값이 저장된다.\n",
    "- positional인자가 여러개인 경우, 순서를 지켜야 한다."
   ]
  },
  {
   "cell_type": "markdown",
   "id": "intermediate-dynamics",
   "metadata": {},
   "source": [
    "### 기본값(default) 설정하기\n",
    "- add_argument()에서 default=옵션을 지정한다.\n",
    "- argparse.SUPPRESS를 적을 경우, 인자를 적지 않았을 때, 객체 자체가 생성되지 않는다. --help에도 표시되지 않는다."
   ]
  },
  {
   "cell_type": "markdown",
   "id": "living-diary",
   "metadata": {},
   "source": [
    "### action의 종류 지정\n",
    "- add_argument()에 action을 지정할 수 있다. 기본값은 store이다.\n",
    "> - store: 기본값, 인자이름 뒤에 입력한 값을 해당 인자에 저장(store)한다.\n",
    "> - store_true & store_false: 값을 적지 않고 인자를 적으면 해당 인자에 boolean값이 저장된다. true의 경우, 인자를 적으면 True. false의 경우 인자를 적으면 False\n",
    "> - store_const: add_argument()에 미리 지정되어있는 const=에 해당하는 값이 저장된다. const값은 반드시 지정해주어야 한다.\n",
    "> - append: 값을 여러개 저장하고 싶을 때 사용. 인자를 여러번 입력하면 입력하는 값이 계속 추가된다. append를 사용한 경우, 인자를 하나만 적어도 데이터 타입이 리스트가 된다.\n",
    "> - append_const: append와 비슷, 사전에 지정한 const값이 저장된다.\n",
    "> - count: 인자를 적은 횟수만큼 값이 count된다.\n"
   ]
  },
  {
   "cell_type": "code",
   "execution_count": null,
   "id": "latter-visiting",
   "metadata": {},
   "outputs": [],
   "source": []
  }
 ],
 "metadata": {
  "kernelspec": {
   "display_name": "Python 3",
   "language": "python",
   "name": "python3"
  },
  "language_info": {
   "codemirror_mode": {
    "name": "ipython",
    "version": 3
   },
   "file_extension": ".py",
   "mimetype": "text/x-python",
   "name": "python",
   "nbconvert_exporter": "python",
   "pygments_lexer": "ipython3",
   "version": "3.9.1"
  }
 },
 "nbformat": 4,
 "nbformat_minor": 5
}
