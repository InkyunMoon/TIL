{
 "cells": [
  {
   "cell_type": "markdown",
   "metadata": {
    "id": "Wl9am83eEp11"
   },
   "source": [
    "### mutable vs immutable\n",
    "- mutable : 데이터 내 순서 or 인덱싱으로 해당 데이터 타입의 element를 바꿀 수 있는 것\n",
    "- immutable : 데이터 내 순서 or 인덱싱는로 해당 데이터 element를 바꿀 수 없는 것"
   ]
  },
  {
   "cell_type": "code",
   "execution_count": null,
   "metadata": {
    "id": "Tv1aCFSHicAd"
   },
   "outputs": [],
   "source": [
    "a = [1,2,3]\n",
    "b = a\n",
    "id(a), id(b)"
   ]
  },
  {
   "cell_type": "code",
   "execution_count": null,
   "metadata": {
    "id": "XAXhBjafjIwN"
   },
   "outputs": [],
   "source": [
    "a[0] = 4\n",
    "id(a), id(b)"
   ]
  },
  {
   "cell_type": "code",
   "execution_count": null,
   "metadata": {
    "id": "-V4IL95CjMm9"
   },
   "outputs": [],
   "source": [
    "print(a)\n",
    "print(b)"
   ]
  },
  {
   "cell_type": "markdown",
   "metadata": {
    "id": "IBiO5FgajsbE"
   },
   "source": [
    "##### mutable의 경우 그냥 복사 후 복사한 값을 변경하면 초기 값도 함께 변경됨을 알 수 있다.(참조만 복사된 경우)\n",
    "\n",
    "- deepcopy를 이용하여 참조만 복사하지 않고 전체 값을 복사한다. -> 위와 같은 경우 예방"
   ]
  },
  {
   "cell_type": "code",
   "execution_count": null,
   "metadata": {
    "id": "wqaN48w1kKNn"
   },
   "outputs": [],
   "source": [
    "# 1. 리스트 깊은 복사\n",
    "a = [1,2,3]\n",
    "b = a[:]\n",
    "id(a), id(b)"
   ]
  },
  {
   "cell_type": "code",
   "execution_count": null,
   "metadata": {
    "id": "ZqrTyOx1k0eP"
   },
   "outputs": [],
   "source": [
    "a[0] = 4\n",
    "a,b"
   ]
  },
  {
   "cell_type": "code",
   "execution_count": null,
   "metadata": {
    "id": "vuY_hwiKk2Ts"
   },
   "outputs": [],
   "source": [
    "# 2. copy모듈 사용\n",
    "import copy\n",
    "a = [1,2,3]\n",
    "b = copy.deepcopy(a)\n",
    "a[0] = 4\n",
    "a, b"
   ]
  },
  {
   "cell_type": "code",
   "execution_count": null,
   "metadata": {
    "id": "79FfKxaAk_5s"
   },
   "outputs": [],
   "source": []
  }
 ],
 "metadata": {
  "colab": {
   "collapsed_sections": [],
   "name": "11.2 변수와 메모리",
   "private_outputs": true,
   "provenance": []
  },
  "hide_input": false,
  "kernelspec": {
   "display_name": "Python 3",
   "language": "python",
   "name": "python3"
  },
  "language_info": {
   "codemirror_mode": {
    "name": "ipython",
    "version": 3
   },
   "file_extension": ".py",
   "mimetype": "text/x-python",
   "name": "python",
   "nbconvert_exporter": "python",
   "pygments_lexer": "ipython3",
   "version": "3.7.9"
  }
 },
 "nbformat": 4,
 "nbformat_minor": 1
}
