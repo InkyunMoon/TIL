{
 "cells": [
  {
   "cell_type": "markdown",
   "metadata": {
    "id": "DtJ0efJMzKV9"
   },
   "source": [
    "[자료 출처](https://wikidocs.net/28)"
   ]
  },
  {
   "cell_type": "code",
   "execution_count": null,
   "metadata": {
    "id": "yUjPJHzElXFs"
   },
   "outputs": [],
   "source": [
    "result = 0\n",
    "\n",
    "def add(num):\n",
    "  global result\n",
    "  result += num\n",
    "  return result"
   ]
  },
  {
   "cell_type": "markdown",
   "metadata": {
    "id": "VFSSfAA_oFur"
   },
   "source": [
    "이전에 계산한 결과값을 유지하기 위해서 result를 전역변수로 선언했다.  \n",
    "그러나 한 프로그램에서 각각 다른 add 연산이 필요한 경우, add 함수 하나 만으로는 결과값을 따로 유지할 수 없다."
   ]
  },
  {
   "cell_type": "code",
   "execution_count": null,
   "metadata": {
    "id": "gV30kMrioBax"
   },
   "outputs": [],
   "source": [
    "result1 = 0\n",
    "result2 = 0\n",
    "\n",
    "def add1(num):\n",
    "  global result1\n",
    "  result1 += num\n",
    "  return result1\n",
    "\n",
    "def add2(num):\n",
    "  global result2\n",
    "  result2 += num\n",
    "  return result2\n",
    "\n",
    "print(add1(2))\n",
    "print(add2(4))"
   ]
  },
  {
   "cell_type": "code",
   "execution_count": null,
   "metadata": {
    "id": "vMpRqHWvoiOi"
   },
   "outputs": [],
   "source": [
    "print(add1(2))\n",
    "print(add2(4))"
   ]
  },
  {
   "cell_type": "markdown",
   "metadata": {
    "id": "t4yyIaV1osL2"
   },
   "source": [
    "위와 같이 같은 add 연산을 하는 경우 각각 결과값을 유지하는 전역변수 두개가 필요하게 되었다.  \n",
    "- 그러나 n개의 add 연산이 필요한 경우, 계속해서 n개의 전역변수를 추가하기는 어렵다.\n"
   ]
  },
  {
   "cell_type": "code",
   "execution_count": null,
   "metadata": {
    "id": "VpuUZ0ryopBX"
   },
   "outputs": [],
   "source": [
    "class Calculator:\n",
    "  \n",
    "  def __init__(self):\n",
    "    self.result = 0\n",
    "  \n",
    "  def add(self, num):\n",
    "    self.result += num\n",
    "    return self.result\n",
    "\n",
    "cal1 = Calculator()\n",
    "cal2 = Calculator()\n",
    "\n",
    "print(cal1.add(3))\n",
    "print(cal2.add(4))"
   ]
  },
  {
   "cell_type": "code",
   "execution_count": null,
   "metadata": {
    "id": "UelirM42pc-B"
   },
   "outputs": [],
   "source": [
    "print(cal1.add(4))\n",
    "print(cal2.add(6))"
   ]
  },
  {
   "cell_type": "markdown",
   "metadata": {
    "id": "1AIl51uUp8V4"
   },
   "source": [
    "클래스를 사용하면 계산기 add 연산의 수가 늘어나더라도 객체를 생성만 하면 되기 때문에 함수를 사용하는 경우와 달리 매우 간단해진다.\n",
    "- 클래스로 생성한 객체마다 고유한 성격을 가지기 때문에 하나의 객체를 수정하더라도 다른 객체에는 아무런 영향이 없다."
   ]
  },
  {
   "cell_type": "markdown",
   "metadata": {
    "id": "w6gRa6xep8Qe"
   },
   "source": [
    "사칙연산 클래스 만들어보기"
   ]
  },
  {
   "cell_type": "code",
   "execution_count": null,
   "metadata": {
    "id": "9Lt8K4hPpkTh"
   },
   "outputs": [],
   "source": [
    "class Fourcal:\n",
    "  pass"
   ]
  },
  {
   "cell_type": "code",
   "execution_count": null,
   "metadata": {
    "id": "dt_oI1w3relk"
   },
   "outputs": [],
   "source": [
    "a = Fourcal()\n",
    "type(a)"
   ]
  },
  {
   "cell_type": "markdown",
   "metadata": {
    "id": "wejUrpqRrn0-"
   },
   "source": [
    "사칙연산을 수행할 2개의 숫자를 먼저 알려주어야 한다. (a.setdata(4,2) 와 같이)  \n",
    "따라서 연산의 대상을 객체에 지정할 수 있게 만들어보자."
   ]
  },
  {
   "cell_type": "code",
   "execution_count": null,
   "metadata": {
    "id": "whovvS5krlWk"
   },
   "outputs": [],
   "source": [
    "class FourCal:\n",
    "  def setdata(self, first, second):\n",
    "    self.first = first\n",
    "    self.second = second\n",
    "# setdata 함수를 만들었다.\n",
    "# 클래스 안에 구현된 함수는 다른 말로 메서드라고 부른다.\n",
    "\n",
    "# a.setdata(4, 2) 처럼 호출하면 setdata 메서드의 첫 번째 매개변수 self에는 setdata메서드를 호출한 객체 a가 자동으로 전달되기 때문이다.\n",
    "\n",
    "  def add(self):\n",
    "    result = self.first + self.second\n",
    "    return result"
   ]
  },
  {
   "cell_type": "code",
   "execution_count": null,
   "metadata": {
    "id": "PA2vdDWQsCzU"
   },
   "outputs": [],
   "source": [
    "a = FourCal()\n",
    "a.setdata(4,2)\n",
    "a.first # 객체에 생성되는 객체만의 변수를 객체변수라고 부른다.\n",
    "\n",
    "## 객체변수는 그 객체의 고유 값을 저장할 수 있는 공간이다. 객체 변수는 다른 객체에 영향을 받지 않고 독립적으로 그 값을 유지한다!!"
   ]
  },
  {
   "cell_type": "code",
   "execution_count": null,
   "metadata": {
    "id": "6e3h3X00tj53"
   },
   "outputs": [],
   "source": [
    "a.add()"
   ]
  },
  {
   "cell_type": "markdown",
   "metadata": {
    "id": "Ci5K5mtZvK_0"
   },
   "source": [
    "## 나머지 사칙연산 기능 추가하기"
   ]
  },
  {
   "cell_type": "code",
   "execution_count": 3,
   "metadata": {
    "id": "VW_tNE8qutJn"
   },
   "outputs": [],
   "source": [
    "class FourCal:\n",
    "    def setdata(self, first, second):\n",
    "        self.first = first\n",
    "        self.second = second\n",
    "    def add(self):\n",
    "        result = self.first + self.second\n",
    "        return result\n",
    "    def sub(self):\n",
    "        result = self.first - self.second\n",
    "        return result\n",
    "    def mul(self):\n",
    "        result = self.first * self.second\n",
    "        return result\n",
    "    def div(self):\n",
    "        result = self.first / self.second\n",
    "        return result"
   ]
  },
  {
   "cell_type": "code",
   "execution_count": 4,
   "metadata": {
    "id": "6hv2NseZvp0G"
   },
   "outputs": [
    {
     "data": {
      "text/plain": [
       "0.5"
      ]
     },
     "execution_count": 4,
     "metadata": {},
     "output_type": "execute_result"
    }
   ],
   "source": [
    "test = FourCal()\n",
    "test.setdata(1,2)\n",
    "test.div()"
   ]
  },
  {
   "cell_type": "markdown",
   "metadata": {
    "id": "uxV27IVxv4KW"
   },
   "source": [
    "지금까지 예에서는 setdata 메서드를 이용해서 초기값을 설정해주어야 했다. 그러나 초깃값을 설정하는 것 보다는 생성자를 구현하는 것이 더 안전한 방법이다.  \n",
    "- 생성자: 객체가 생성될 때 자동으로 호출되는 메서드를 의미한다.\n",
    "- __init__을 사용하여 생성자를 생성하도록 한다."
   ]
  },
  {
   "cell_type": "code",
   "execution_count": 5,
   "metadata": {
    "id": "W_CW8ZOavs6F"
   },
   "outputs": [],
   "source": [
    "class FourCal:\n",
    "    def __init__(self, first, second): # __init__ 메서드는 setdata 메서드와 이름만 다르고 모든 것이 동일하다.\n",
    "        self.first = first               # 그러나 이름을 __init__으로 했기 때문에 생성자로 인식되어 객체가 생성되는 시점에 자동으로 호출되는 차이가 있다.\n",
    "        self.second = second\n",
    "    def add(self):\n",
    "        result = self.first + self.second\n",
    "        return result\n",
    "    def mul(self):\n",
    "        result = self.first * self.second\n",
    "        return result\n",
    "    def sub(self):\n",
    "        result = self.first - self.second\n",
    "        return result\n",
    "    def div(self):\n",
    "        result = self.first / self.second\n",
    "        return result"
   ]
  },
  {
   "cell_type": "code",
   "execution_count": 6,
   "metadata": {
    "id": "sPOjoOHSwqdH"
   },
   "outputs": [
    {
     "data": {
      "text/plain": [
       "6"
      ]
     },
     "execution_count": 6,
     "metadata": {},
     "output_type": "execute_result"
    }
   ],
   "source": [
    "test2 = FourCal(4, 2) # 객체 생성시 초기값을 지정해주어야 한다.\n",
    "                      # __init__메서드가 호출되면 setdata 메서드를 호출했을 때와 마찬가지로 두 객체변수가 생성될 것이다.\n",
    "test2.add()"
   ]
  },
  {
   "cell_type": "markdown",
   "metadata": {
    "id": "uIfFIWtZxZGU"
   },
   "source": [
    "# 클래스의 상속\n",
    "- 기존 클래스를 변경하지 않고 기능을 추가하거나 기존 기능을 변경하려고 할 때 사용한다.\n",
    "- 기존 클래스가 라이브러리 형태로 제공되거나 수정이 허용되지 않는 상황일 때 상속해서 사용해야한다."
   ]
  },
  {
   "cell_type": "code",
   "execution_count": null,
   "metadata": {
    "id": "7K4f6Mtpyl3m"
   },
   "outputs": [],
   "source": [
    "class MoreFourCal(FourCal):\n",
    "    pass"
   ]
  },
  {
   "cell_type": "code",
   "execution_count": null,
   "metadata": {
    "id": "iGvEJ7_byz3q"
   },
   "outputs": [],
   "source": [
    "a = MoreFourCal(4,2)\n",
    "a.add()\n",
    "\n",
    "# 부모 클래스의 모든 기능을 사용할 수 있다."
   ]
  },
  {
   "cell_type": "code",
   "execution_count": null,
   "metadata": {
    "id": "6jyTLFnKy22p"
   },
   "outputs": [],
   "source": [
    "class MoreFourCal(FourCal):\n",
    "    def pow(self):\n",
    "        result = self.first ** self.second\n",
    "        return result"
   ]
  },
  {
   "cell_type": "code",
   "execution_count": null,
   "metadata": {
    "id": "EdupjTROzlMc"
   },
   "outputs": [],
   "source": [
    "a = MoreFourCal(4, 2)\n",
    "a.pow()"
   ]
  },
  {
   "cell_type": "markdown",
   "metadata": {
    "id": "gwnstJdNzqTR"
   },
   "source": [
    "# 메서드 오버라이딩\n",
    "- 부모 클래스에 있는 메서드를 **동일한 이름으로** 다시 만드는 것을 메서드 오버라이딩이라고 한다."
   ]
  },
  {
   "cell_type": "code",
   "execution_count": null,
   "metadata": {
    "id": "s9vG8FCczuuY"
   },
   "outputs": [],
   "source": [
    "class SafeFourCal(FourCal):\n",
    "    def div(self):\n",
    "    if self.second == 0:\n",
    "        return 0\n",
    "    else:\n",
    "        return self.first / self.second"
   ]
  },
  {
   "cell_type": "code",
   "execution_count": null,
   "metadata": {
    "id": "V63Aahud0Sp7"
   },
   "outputs": [],
   "source": [
    "a = SafeFourCal(4, 0)\n",
    "a.div()"
   ]
  },
  {
   "cell_type": "markdown",
   "metadata": {
    "id": "2ifCXstn0uJr"
   },
   "source": [
    "# 클래스 변수\n",
    "- 객체 변수는 다른 객체들에 영향받지 않고 독립적으로 그 값을 유지함을 알아보았다.\n",
    "- 클래스 변수는 조금 성격이 다르다."
   ]
  },
  {
   "cell_type": "markdown",
   "metadata": {
    "id": "JUpdksFE09k_"
   },
   "source": []
  },
  {
   "cell_type": "code",
   "execution_count": null,
   "metadata": {
    "id": "RbSv97Ku04ts"
   },
   "outputs": [],
   "source": [
    "class Family:\n",
    "    lastname = '김'"
   ]
  },
  {
   "cell_type": "code",
   "execution_count": null,
   "metadata": {
    "id": "7F2CJRjF1CeO"
   },
   "outputs": [],
   "source": [
    "Family.lastname"
   ]
  },
  {
   "cell_type": "code",
   "execution_count": null,
   "metadata": {
    "id": "RDMAbnYq1DtO"
   },
   "outputs": [],
   "source": [
    "sample1 = Family()\n",
    "sample2 = Family()\n",
    "\n",
    "print(sample1, sample2)"
   ]
  },
  {
   "cell_type": "code",
   "execution_count": null,
   "metadata": {
    "id": "ulmiiX6s1Jkt"
   },
   "outputs": [],
   "source": [
    "# Family 클래스의 lastname을 바꾸면 해당 클래스로 만든 객체의 lastname 값 모두 변경된다.\n",
    "\n",
    "Family.lastname = '박'\n",
    "\n",
    "print(sample1.lastname, sample2.lastname)"
   ]
  },
  {
   "cell_type": "markdown",
   "metadata": {
    "id": "UpOq8PEa1kID"
   },
   "source": [
    "- 클래스 변수는 해당 클래스로 만든 모든 객체에 공유된다는 특징이 있다.\n",
    "- id()로 확인해보면 모든 객체들이 같은 메모리를 가리키고 있다."
   ]
  },
  {
   "cell_type": "code",
   "execution_count": null,
   "metadata": {
    "id": "QpDKCa1C15jQ"
   },
   "outputs": [],
   "source": [
    "print(id(sample1.lastname))\n",
    "print(id(sample2.lastname))\n",
    "print(id(Family.lastname))"
   ]
  },
  {
   "cell_type": "code",
   "execution_count": null,
   "metadata": {},
   "outputs": [],
   "source": []
  },
  {
   "cell_type": "markdown",
   "metadata": {},
   "source": [
    "### 정적 메서드\n",
    "- 인스턴스 속성과 메서드 접근 불가\n",
    "- 독립적으로 동작하기 위함"
   ]
  },
  {
   "cell_type": "code",
   "execution_count": null,
   "metadata": {},
   "outputs": [],
   "source": [
    "class cal:\n",
    "#     @staticmethod\n",
    "    def add(*As):\n",
    "        sum_ = 0\n",
    "        for A in As:\n",
    "            sum_ += A\n",
    "        return sum_\n",
    "    def sub(*As):\n",
    "        sub_ = 0\n",
    "        for A in As:\n",
    "            sub_ -= A\n",
    "        return sub_\n",
    "    def mul(*As):\n",
    "        mul_ = 1\n",
    "        for A in As:\n",
    "            mul_ *= A\n",
    "        return mul_"
   ]
  },
  {
   "cell_type": "code",
   "execution_count": null,
   "metadata": {},
   "outputs": [],
   "source": [
    "cal.add(1,2)"
   ]
  },
  {
   "cell_type": "code",
   "execution_count": null,
   "metadata": {},
   "outputs": [],
   "source": [
    "cal.sub(1,2)"
   ]
  },
  {
   "cell_type": "code",
   "execution_count": null,
   "metadata": {},
   "outputs": [],
   "source": [
    "cal.mul(2,3)"
   ]
  },
  {
   "cell_type": "markdown",
   "metadata": {},
   "source": [
    "### 클래스 메서드\n",
    "- 정적 메서드와 거의 동일\n",
    "- **클래스 속성에 접근 가능**"
   ]
  },
  {
   "cell_type": "code",
   "execution_count": null,
   "metadata": {},
   "outputs": [],
   "source": [
    "class Calc:\n",
    "    count=0\n",
    "    @classmethod\n",
    "    def add(cls,a,b):\n",
    "        print(a+b)\n",
    "        cls.count+=1\n",
    "        print('계산된횟수:', cls.count)"
   ]
  },
  {
   "cell_type": "code",
   "execution_count": null,
   "metadata": {},
   "outputs": [],
   "source": [
    "Calc.add(10,20)"
   ]
  },
  {
   "cell_type": "code",
   "execution_count": null,
   "metadata": {},
   "outputs": [],
   "source": [
    "Calc.add(12,34)"
   ]
  },
  {
   "cell_type": "code",
   "execution_count": null,
   "metadata": {},
   "outputs": [],
   "source": []
  },
  {
   "cell_type": "code",
   "execution_count": null,
   "metadata": {},
   "outputs": [],
   "source": []
  },
  {
   "cell_type": "code",
   "execution_count": null,
   "metadata": {},
   "outputs": [],
   "source": []
  }
 ],
 "metadata": {
  "colab": {
   "collapsed_sections": [],
   "name": "11.2 객체지향 프로그래밍(클래스)",
   "private_outputs": true,
   "provenance": []
  },
  "hide_input": false,
  "kernelspec": {
   "display_name": "Python 3",
   "language": "python",
   "name": "python3"
  },
  "language_info": {
   "codemirror_mode": {
    "name": "ipython",
    "version": 3
   },
   "file_extension": ".py",
   "mimetype": "text/x-python",
   "name": "python",
   "nbconvert_exporter": "python",
   "pygments_lexer": "ipython3",
   "version": "3.7.6"
  }
 },
 "nbformat": 4,
 "nbformat_minor": 1
}
