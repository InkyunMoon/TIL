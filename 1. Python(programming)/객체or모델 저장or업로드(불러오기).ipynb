{
 "cells": [
  {
   "cell_type": "markdown",
   "metadata": {},
   "source": [
    "# 객체 저장\n",
    "\n",
    "- 코랩 환경: 연동된 드라이브에 저장되므로 구글 코랩 라이브러리를 통해 로컬로 다운로드 받는다.\n",
    "- 파이썬 환경: with 구문 내에서 로컬 디렉토리를 설정하여 저장한다.\n",
    "\n",
    "hist라는 이름으로 저장된 학습 history가 있다고 하자."
   ]
  },
  {
   "cell_type": "code",
   "execution_count": null,
   "metadata": {
    "scrolled": true
   },
   "outputs": [],
   "source": [
    "import pickle\n",
    "from google.colab import files\n",
    "\n",
    "with open('hist9-2.pickle','wb') as f:\n",
    "    pickle.dump(hist.history, f) # 저장할 파일 객체\n",
    "# 위와 같이 입력하면 연동된 드라이브로 저장이 된다.\n",
    "\n",
    "files.download('hist9-2.pickle')\n",
    "# 구글 코랩 라이브러리를 통해 로컬로 다운로드 받을 수 있다.   \n",
    "#--------------------------------------------------------------\n",
    "\n",
    "import pickle\n",
    "\n",
    "lst = ['a', 2, 3]\n",
    "# 파일 저장하기\n",
    "with open('data.pickle', 'wb') as f:\n",
    "    pickle.dump(lst, f)\n",
    "\n",
    "# 파일에서 불러오기\n",
    "with open('data.pickle', 'rb') as f:\n",
    "    l_lst = pickle.load(f)\n",
    "print(l_lst)"
   ]
  },
  {
   "cell_type": "code",
   "execution_count": 1,
   "metadata": {},
   "outputs": [],
   "source": [
    "## 객체 불러오기"
   ]
  },
  {
   "cell_type": "code",
   "execution_count": null,
   "metadata": {},
   "outputs": [],
   "source": [
    "with open('../hist9-2.pickle', 'rb') as f:\n",
    "    hist = pickle.load(f)"
   ]
  },
  {
   "cell_type": "markdown",
   "metadata": {},
   "source": [
    "## 텍스트, 배열, 딕셔너리 저장하기"
   ]
  },
  {
   "cell_type": "code",
   "execution_count": null,
   "metadata": {},
   "outputs": [],
   "source": [
    "DATA_IN_PATH = 'c:/inkyun/data/'\n",
    "TRAIN_INPUT_DATA = 'train_input.npy'\n",
    "TRAIN_LABEL_DATA = 'train_label.npy'\n",
    "TRAIN_CLEAN_DATA = 'train_clean.csv'\n",
    "DATA_CONFIGS = 'data_configs.json'\n",
    "\n",
    "import os\n",
    "if not os.path.exists(DATA_IN_PATH):\n",
    "    os.makedirs(DATA_IN_PATH)"
   ]
  },
  {
   "cell_type": "code",
   "execution_count": null,
   "metadata": {},
   "outputs": [],
   "source": [
    "# 넘파이 형태 저장\n",
    "np.save(open(DATA_IN_PATH + TRAIN_INPUT_DATA, 'wb'), train_inputs)\n",
    "np.save(open(DATA_IN_PATH + TRAIN_LABEL_DATA, 'wb'), train_labels)\n",
    "\n",
    "# 정제된 텍스트를 CSV 형태로 저장\n",
    "clean_train_df.to_csv(DATA_IN_PATH+TRAIN_CLEAN_DATA, index = False)\n",
    "\n",
    "# 딕셔너리를 JSON형태로 저장\n",
    "json.dump(data_configs, open(DATA_IN_PATH + DATA_CONFIGS, 'w'), ensure_ascii=False)"
   ]
  },
  {
   "cell_type": "markdown",
   "metadata": {},
   "source": [
    "# 모델 저장\n",
    "\n",
    "위와 같다."
   ]
  },
  {
   "cell_type": "code",
   "execution_count": null,
   "metadata": {},
   "outputs": [],
   "source": [
    "from keras.models import load_model\n",
    "\n",
    "model.save('model9-2.h5')\n",
    "files.download('model9-2.h5')\n",
    "\n",
    "# 코랩 환경이라면 위와 같은 방법으로 로컬에 저장"
   ]
  },
  {
   "cell_type": "markdown",
   "metadata": {},
   "source": [
    "## 모델 불러오기"
   ]
  },
  {
   "cell_type": "code",
   "execution_count": null,
   "metadata": {},
   "outputs": [],
   "source": [
    "model = load_model('model9-2.h5')"
   ]
  },
  {
   "cell_type": "markdown",
   "metadata": {},
   "source": [
    "# 코랩에서 로컬 csv파일 불러오기\n"
   ]
  },
  {
   "cell_type": "code",
   "execution_count": null,
   "metadata": {},
   "outputs": [],
   "source": [
    "from google.colab import files\n",
    "import io\n",
    "\n",
    "uploaded = files.upload()\n",
    "\n",
    "df = pd.read_csv(io.BytesIO(iploaded['filename.cvs']))"
   ]
  }
 ],
 "metadata": {
  "hide_input": false,
  "kernelspec": {
   "display_name": "Python 3",
   "language": "python",
   "name": "python3"
  },
  "language_info": {
   "codemirror_mode": {
    "name": "ipython",
    "version": 3
   },
   "file_extension": ".py",
   "mimetype": "text/x-python",
   "name": "python",
   "nbconvert_exporter": "python",
   "pygments_lexer": "ipython3",
   "version": "3.7.6"
  }
 },
 "nbformat": 4,
 "nbformat_minor": 4
}
