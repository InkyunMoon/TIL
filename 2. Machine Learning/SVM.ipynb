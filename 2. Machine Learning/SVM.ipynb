{
 "cells": [
  {
   "cell_type": "markdown",
   "metadata": {},
   "source": [
    "[hleecaster님 블로그](http://hleecaster.com/ml-svm-concept)  \n",
    "[조성현 강사님 자료](http://blog.naver.com/chunjein)"
   ]
  },
  {
   "cell_type": "markdown",
   "metadata": {},
   "source": [
    "# SVM\n",
    "> 주어진 샘플에 대해 분류 규칙을 찾아내는 기법 중 하나. 최대 마진을 갖는 경계(초평면)를 찾는 것이 SVM알고리즘의 기본 아이디어이다.\n",
    "\n",
    "- SVM은 기본적으로 이진 분류이나, 다중 분륭 대해서도 이진 분류를 여러번 수행하는 식으로 적용 가능하다.\n",
    "- 최대 마진을 경계로 생성하면 과잉 적합 문제를 최소화하고, 일반화특성을 좋게할 수 있다.\n",
    "    - 마진: Decision boundary와 SV사이의 거리"
   ]
  },
  {
   "cell_type": "markdown",
   "metadata": {},
   "source": [
    "1) 선형분리 가능한 경우\n",
    "- 경계로 부터 가장 가까운 벡터가 Support vector이고, 이 벡터만 있으면 Decision boundary를 결정할 수 있다.\n",
    "\n",
    "![svm1](https://dbscthumb-phinf.pstatic.net/5277_000_1/20190129123638452_WCUWWYK1Z.bmp/svm1.bmp?type=w646_fst_n;;92;true)\n",
    "\n",
    "- 위 그림에서 2개의 속성을 가진 데이터를 분류해보았는데, 3개의 SV가 필요했다. 즉, n개의 속성을 가진 데이터는 n+1개의 SV가 존재한다.\n",
    "    - SVM에서는 Decision boundary를 정의하는게 SV이기 때문에 그것만 잘 찾는다면 나머지 데이터는 무시하고 분석할 수 있다. 따라서 매우 빠르다.\n",
    "    \n",
    "![svm2](https://i1.wp.com/hleecaster.com/wp-content/uploads/2020/01/svm06.png?w=1280)\n",
    "\n",
    "- 위의 그림은 아웃라이어를 허용하지 않고 까다롭게 마진을 설정한 경우(hard margin) -> 오버피팅 문제 발생 가능\n",
    "\n",
    "- 아래 그림은 이상치들을 어느정도 허용하여 마진을 설정(soft margin) -> 언더피팅 문제 발생 가능"
   ]
  },
  {
   "cell_type": "markdown",
   "metadata": {},
   "source": [
    "2) 선형분리 불가능한 경우\n",
    "- RBF 커널(sklearn svm의 디폴트) : 2차원의 점을 무한한 차원의 점으로 변형한다.\n",
    "- gamma 파라미터를 이용하여 결정결계를 얼마나 유연하게 그을 것인지 설정. c와 비슷하게 학습 데이터에 얼마나 민감하게 반응할 것인지 조정하는 것.\n",
    "\n",
    "![svm3](https://i0.wp.com/hleecaster.com/wp-content/uploads/2020/01/svm11.png?w=1280)\n",
    "\n",
    "- gamma를 높이면 학습 데이터에 많이 의존해서 결정경계를 구불구불하게 설정한다. -> 오버피팅 문제 발생 가능\n",
    "- gamma를 낮추면 결정경계를 직선에 가깝게 설정한다. -> 언더피팅 발생 가능"
   ]
  },
  {
   "cell_type": "code",
   "execution_count": null,
   "metadata": {},
   "outputs": [],
   "source": []
  }
 ],
 "metadata": {
  "hide_input": false,
  "kernelspec": {
   "display_name": "Python 3",
   "language": "python",
   "name": "python3"
  },
  "language_info": {
   "codemirror_mode": {
    "name": "ipython",
    "version": 3
   },
   "file_extension": ".py",
   "mimetype": "text/x-python",
   "name": "python",
   "nbconvert_exporter": "python",
   "pygments_lexer": "ipython3",
   "version": "3.7.6"
  }
 },
 "nbformat": 4,
 "nbformat_minor": 4
}
