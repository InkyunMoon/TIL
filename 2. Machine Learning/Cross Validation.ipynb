{
 "cells": [
  {
   "cell_type": "markdown",
   "metadata": {},
   "source": [
    "[InsightOut님의 블로그](https://homeproject.tistory.com/m/6)\n",
    "\n",
    "# Cross Validation\n",
    "#### 1) 단순 교차 검증 - cross_val_score"
   ]
  },
  {
   "cell_type": "code",
   "execution_count": 15,
   "metadata": {},
   "outputs": [
    {
     "name": "stdout",
     "output_type": "stream",
     "text": [
      "cross validation score: [0.96666667 1.         0.93333333 0.96666667 1.        ]\n"
     ]
    }
   ],
   "source": [
    "import warnings\n",
    "warnings.filterwarnings('ignore')\n",
    "from sklearn.datasets import load_iris\n",
    "from sklearn.linear_model import LogisticRegression\n",
    "from sklearn.model_selection import cross_val_score\n",
    "iris = load_iris()\n",
    "logreg = LogisticRegression()\n",
    "score = cross_val_score(logreg,iris.data,iris.target,cv=5)\n",
    "print('cross validation score: %s'%score)"
   ]
  },
  {
   "cell_type": "code",
   "execution_count": null,
   "metadata": {},
   "outputs": [],
   "source": []
  },
  {
   "cell_type": "code",
   "execution_count": null,
   "metadata": {},
   "outputs": [],
   "source": []
  },
  {
   "cell_type": "markdown",
   "metadata": {},
   "source": [
    "#### 2) 계층별 k-겹 교차검증\n",
    "- 데이터가 편향되어 있을 경우, 단순 교차검증은 성능평가가 제대로 이루어지지 않을 수 있다. 따라서 stractified k-fold CV를 사용한다.\n",
    "  \n",
    "- 일반적으로 회귀에는 기본 CV를, 분류에는 StratifiedKFold를 사용한다."
   ]
  },
  {
   "cell_type": "code",
   "execution_count": 16,
   "metadata": {},
   "outputs": [
    {
     "name": "stdout",
     "output_type": "stream",
     "text": [
      "0.96\n"
     ]
    }
   ],
   "source": [
    "from sklearn.model_selection import StratifiedKFold\n",
    "skf = StratifiedKFold(n_splits = 10, shuffle = True, random_state = 0)\n",
    "score = cross_val_score(logreg, iris.data, iris.target, cv = skf)\n",
    "print(score.mean())"
   ]
  },
  {
   "cell_type": "markdown",
   "metadata": {},
   "source": [
    "- n_splits: 몇 개로 분할할 것인가?\n",
    "- shuffle : True시 분할 전 무작위로 섞음  \n",
    "\n"
   ]
  },
  {
   "cell_type": "code",
   "execution_count": null,
   "metadata": {},
   "outputs": [],
   "source": []
  }
 ],
 "metadata": {
  "kernelspec": {
   "display_name": "Python 3",
   "language": "python",
   "name": "python3"
  },
  "language_info": {
   "codemirror_mode": {
    "name": "ipython",
    "version": 3
   },
   "file_extension": ".py",
   "mimetype": "text/x-python",
   "name": "python",
   "nbconvert_exporter": "python",
   "pygments_lexer": "ipython3",
   "version": "3.7.6"
  }
 },
 "nbformat": 4,
 "nbformat_minor": 4
}
