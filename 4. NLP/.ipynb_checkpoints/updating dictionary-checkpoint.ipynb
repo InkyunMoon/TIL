{
 "cells": [
  {
   "cell_type": "markdown",
   "metadata": {},
   "source": [
    "# 사전에 단어 추가하기\n",
    "> 자연어 처리 과정에서 사전에 등록되지 않은 단어가 잘못 처리되는 경우가 있다.  \n",
    "이런 경우 단어를 등록하여 제대로 처리하게 해주어야 한다."
   ]
  },
  {
   "cell_type": "code",
   "execution_count": 1,
   "metadata": {},
   "outputs": [
    {
     "name": "stdout",
     "output_type": "stream",
     "text": [
      "['삼성', '전자', '이자', '용', '삼성', '반도체', '아이스', '블론드', '카라멜', '클라우드', '마키아또']\n"
     ]
    }
   ],
   "source": [
    "from konlpy.tag import Okt\n",
    "\n",
    "text = '삼성전자 이자용 삼성 반도체 아이스 블론드 카라멜 클라우드 마키아또'\n",
    "okt = Okt()\n",
    "print(okt.morphs(text))"
   ]
  },
  {
   "cell_type": "markdown",
   "metadata": {},
   "source": [
    "- konlpy 라이브러리가 설치된 경로의 java로 들어가서 새 디렉토리(새 폴더)를 만든다. (1)\n",
    "    - 예시) C:\\ProgramData\\Anaconda3\\Lib\\site-packages\\konlpy\\java\n",
    "\n",
    "- 해당 디렉토리의 open-korean-text-2.1.0.jar 파일 안에 사전 정보가 들어있다.\n",
    "\n",
    "- cmd를 실행시켜서 (1)의 디렉토리로 변경한 뒤(cd ~), jar xvf '../open-korean-text-2.1.0.jar'를 입력하면 두 개의 폴더가 새로만든 디렉토리에 생성된다.\n",
    "    - 묶인(?) 사전을 풀어주는 작업이다."
   ]
  },
  {
   "cell_type": "markdown",
   "metadata": {},
   "source": [
    "![001.png](https://github.com/InkyunMoon/TIL/blob/master/markdown-images/001.png?raw=true)"
   ]
  },
  {
   "cell_type": "markdown",
   "metadata": {},
   "source": [
    "- 생성한 디렉토리 중 하나인 org에서 다음 경로까지 들어간다.\n",
    "    - C:\\ProgramData\\Anaconda3\\Lib\\site-packages\\konlpy\\java\\aaa\\org\\openkoreantext\\processor\\util\n",
    "\n",
    "- 이 디렉토리 안에 사전들이 있다. 이곳에서 원하는 항목에 추가/제거하면 된다.\n",
    "\n",
    "- 위에서 xvf명령어를 통해 jar를 풀었으므로 다시 묶어주어야 한다.(cvf 명령어)  \n",
    "    - C:\\ProgramData\\Anaconda3\\Lib\\site-packages\\konlpy\\java\\aaa>jar cvf open-korean-text-2.1.0.jar *  \n",
    "    - 마지막의 *는 '모두'를 뜻하는 와일드카드로, 하위 디렉토리의 모두를 묶는다는 뜻이다."
   ]
  },
  {
   "cell_type": "markdown",
   "metadata": {},
   "source": [
    "![1](https://github.com/InkyunMoon/TIL/blob/master/markdown-images/002.png?raw=True)"
   ]
  },
  {
   "cell_type": "markdown",
   "metadata": {},
   "source": [
    "- 위의 작업을 거치면 새로 만든 디렉토리에 open-korean-text-2.1.0.jar 파일이 생긴다. **이 파일로 처음의 것을 대체하면 된다.**(복사-붙여넣기)"
   ]
  },
  {
   "cell_type": "code",
   "execution_count": 1,
   "metadata": {},
   "outputs": [
    {
     "name": "stdout",
     "output_type": "stream",
     "text": [
      "['삼성', '전자', '이자용', '삼성', '반도체', '아이스', '블론드', '카라멜', '클라우드', '마키아또']\n"
     ]
    }
   ],
   "source": [
    "# 다시 어간으로 나누어보자.\n",
    "text = '삼성전자 이자용 삼성 반도체 아이스 블론드 카라멜 클라우드 마키아또'\n",
    "okt = Okt()\n",
    "print(okt.morphs(text))"
   ]
  },
  {
   "cell_type": "code",
   "execution_count": null,
   "metadata": {},
   "outputs": [],
   "source": []
  }
 ],
 "metadata": {
  "kernelspec": {
   "display_name": "Python 3",
   "language": "python",
   "name": "python3"
  },
  "language_info": {
   "codemirror_mode": {
    "name": "ipython",
    "version": 3
   },
   "file_extension": ".py",
   "mimetype": "text/x-python",
   "name": "python",
   "nbconvert_exporter": "python",
   "pygments_lexer": "ipython3",
   "version": "3.7.6"
  }
 },
 "nbformat": 4,
 "nbformat_minor": 4
}
