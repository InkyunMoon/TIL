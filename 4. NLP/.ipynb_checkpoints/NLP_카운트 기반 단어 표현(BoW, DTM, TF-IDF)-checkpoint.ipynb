{
 "cells": [
  {
   "cell_type": "markdown",
   "metadata": {},
   "source": [
    "이 글은 [핀인사이트 조성현 강사님 블로그(바로가기)](https://blog.naver.com/chunjein) 와 [딥 러닝을 이용한 자연어 처리 입문(바로가기)](https://wikidocs.net/22650)을 참고하였습니다.\n",
    "\n",
    "# 카운트를 기반으로 한 단어 표현방법을 알아보자.\n",
    "\n",
    "## BoW\n",
    "(Bag of Words)\n",
    "- 단어 순서 고려하지 않고 빈도에만 집중\n",
    "\n",
    "### 만드는 과정\n",
    "1) 각 단어에 고유 인덱스 부여  \n",
    "2) 각 인덱스 위치에 단어 토큰의 등장 횟수를 기록한 벡터 생성"
   ]
  },
  {
   "cell_type": "markdown",
   "metadata": {},
   "source": [
    "# DTM\n",
    "(Document-Term Matrix)\n",
    "- 여러 문서에서 등장하는 각 단어들의 빈도를 행렬로 표현한 것(서로 다른 문서들의 BoW를 결합)\n",
    "- 문서들을 수치화함으로써 다른 문서들과 비교할 수 있게 된다.\n",
    "\n",
    "## 한계점\n",
    "#### 1) 희소표현\n",
    "- 각 문서벡터의 차원은 전체 단어 집합의 크기\n",
    "    - 데이터가 크다면 대부분의 값이 0을 가지게 된다.\n",
    "    - 단어집합의 크기를 줄이기 위해 구두점, 빈도수 낮은 단어, 불용어, 어간 표제어 추출 등 정규화를 이용\n",
    "    \n",
    "#### 2) 단순 빈도 수 기반 접근\n",
    "- 의미는 없지만 빈도수가 높은 단어들이 있는 문서들을 유사하다고 판단할 수 있다.\n",
    "\n",
    "\n",
    "따라서, 중요한 단어에 대해서 가중치를 줄 수 있는 방법(TF-IDF)에 대해서 알아보도록 하자."
   ]
  },
  {
   "cell_type": "markdown",
   "metadata": {},
   "source": [
    "# TF-IDF\n",
    "(Term Frequency-Inverse Document Frequency)\n",
    "\n",
    "- 단어 빈도(TF)와 역 문서 빈도(IDF)를 사용하여 DTM 내의 각 단어들마다 중요한 정도를 가중치로 주는 방법\n",
    "- 모든 문서에서 자주 등장하는 단어는 중요도가 낮다고 판단 <-> 특정 문서에서만 등장하는 단어는 중요도가 높다고 판단.  \n",
    "\n",
    "예) the, a와 같은 불용어는 중요도가 낮다.\n",
    "- TF-IDF는 클수록 중요도가 높다.\n",
    "    \n",
    "### 활용\n",
    "- TF-IDF간의 코사인 거리를 이용하여 유사도 측정\n",
    "    - 검색문과의 유사도 or 문서간의 유사도\n",
    "- 검색 결과의 중요도를 정하는 작업\n",
    "- 문서 내 특정 단어의 중요도 구하는 작업\n",
    "\n",
    "### 단점\n",
    "- 문서와 단어 수가 많아지면 많은 시간 소모\n",
    "- 최신 트렌드를 반영하기가 어려움\n",
    "    - 최신 트렌드 반영한 문서 범위 설정의 어려움\n",
    "    - 신조어/ 신기술 문서의 경우 특정 단어가 포함된 문서가 많아 오히려 중요도가 낮아질 수 있음  \n",
    "    -> 트렌드 분석을 위해서는 특정 키워드가 연도별로 얼마나 중요한지 가중치를 부여함(TF-DI)\n",
    "\n",
    "### 상세 설명\n",
    "d: 문서  \n",
    "t: 단어  \n",
    "n: 문서 개수\n",
    "\n",
    "#### 1) tf(d,t): 특정 문서 d에서의 특정 단어 t의 등장 횟수\n",
    "\n",
    "#### 2) df(t): 특정 단어 t가 등장한 문서의 수\n",
    "\n",
    "#### 3) idf(d,t): df(t)에 반비례하는 수\n",
    "$$idf(d,t) = log(\\frac{n}{1+df(t)})$$\n",
    "- log사용\n",
    "    - 총 문서의 수 n이 커질 수록, idf의 값은 기하급수적으로 커지게 되므로\n",
    "    - log 사용하지 않을 때 희귀단어들에 엄청난 가중치가 부여될 수 있다.\n",
    "- 분모 1 더하기\n",
    "    - 특정 단어가 전체 문서에서 등장하지 않을 경우 분모가 0이 되는 상황 방지\n",
    "\n",
    "\n",
    "## TF-IDF 구현하기\n",
    "### 1.파이썬으로 직접 구현하기"
   ]
  },
  {
   "cell_type": "code",
   "execution_count": 1,
   "metadata": {},
   "outputs": [],
   "source": [
    "import pandas as pd\n",
    "from math import log"
   ]
  },
  {
   "cell_type": "code",
   "execution_count": 2,
   "metadata": {},
   "outputs": [],
   "source": [
    "docs = ['gold silver truck',\n",
    "        'Shipment of gold damaged in a fire',\n",
    "        'Delivery of silver arrived in a silver truck',\n",
    "        'Shipment of gold arrived in a truck'\n",
    "       ]\n",
    "\n",
    "vocab = list(set(w for doc in docs for w in doc.split()))\n",
    "vocab.sort()"
   ]
  },
  {
   "cell_type": "code",
   "execution_count": 24,
   "metadata": {},
   "outputs": [],
   "source": [
    "# TF\n",
    "N =len(docs)\n",
    "\n",
    "def tf(d, t):\n",
    "    return d.count(t)\n",
    "\n",
    "def idf(t):\n",
    "    df = 0\n",
    "    for doc in docs:\n",
    "        df += t in doc\n",
    "    return log(N/(df+1))\n",
    "\n",
    "def tfidf(t,d):\n",
    "    return tf(d,t)*idf(t)"
   ]
  },
  {
   "cell_type": "code",
   "execution_count": 26,
   "metadata": {},
   "outputs": [
    {
     "data": {
      "text/html": [
       "<div>\n",
       "<style scoped>\n",
       "    .dataframe tbody tr th:only-of-type {\n",
       "        vertical-align: middle;\n",
       "    }\n",
       "\n",
       "    .dataframe tbody tr th {\n",
       "        vertical-align: top;\n",
       "    }\n",
       "\n",
       "    .dataframe thead th {\n",
       "        text-align: right;\n",
       "    }\n",
       "</style>\n",
       "<table border=\"1\" class=\"dataframe\">\n",
       "  <thead>\n",
       "    <tr style=\"text-align: right;\">\n",
       "      <th></th>\n",
       "      <th>Delivery</th>\n",
       "      <th>Shipment</th>\n",
       "      <th>a</th>\n",
       "      <th>arrived</th>\n",
       "      <th>damaged</th>\n",
       "      <th>fire</th>\n",
       "      <th>gold</th>\n",
       "      <th>in</th>\n",
       "      <th>of</th>\n",
       "      <th>silver</th>\n",
       "      <th>truck</th>\n",
       "    </tr>\n",
       "  </thead>\n",
       "  <tbody>\n",
       "    <tr>\n",
       "      <th>0</th>\n",
       "      <td>0</td>\n",
       "      <td>0</td>\n",
       "      <td>0</td>\n",
       "      <td>0</td>\n",
       "      <td>0</td>\n",
       "      <td>0</td>\n",
       "      <td>1</td>\n",
       "      <td>0</td>\n",
       "      <td>0</td>\n",
       "      <td>1</td>\n",
       "      <td>1</td>\n",
       "    </tr>\n",
       "    <tr>\n",
       "      <th>1</th>\n",
       "      <td>0</td>\n",
       "      <td>1</td>\n",
       "      <td>3</td>\n",
       "      <td>0</td>\n",
       "      <td>1</td>\n",
       "      <td>1</td>\n",
       "      <td>1</td>\n",
       "      <td>1</td>\n",
       "      <td>1</td>\n",
       "      <td>0</td>\n",
       "      <td>0</td>\n",
       "    </tr>\n",
       "    <tr>\n",
       "      <th>2</th>\n",
       "      <td>1</td>\n",
       "      <td>0</td>\n",
       "      <td>2</td>\n",
       "      <td>1</td>\n",
       "      <td>0</td>\n",
       "      <td>0</td>\n",
       "      <td>0</td>\n",
       "      <td>1</td>\n",
       "      <td>1</td>\n",
       "      <td>2</td>\n",
       "      <td>1</td>\n",
       "    </tr>\n",
       "    <tr>\n",
       "      <th>3</th>\n",
       "      <td>0</td>\n",
       "      <td>1</td>\n",
       "      <td>2</td>\n",
       "      <td>1</td>\n",
       "      <td>0</td>\n",
       "      <td>0</td>\n",
       "      <td>1</td>\n",
       "      <td>1</td>\n",
       "      <td>1</td>\n",
       "      <td>0</td>\n",
       "      <td>1</td>\n",
       "    </tr>\n",
       "  </tbody>\n",
       "</table>\n",
       "</div>"
      ],
      "text/plain": [
       "   Delivery  Shipment  a  arrived  damaged  fire  gold  in  of  silver  truck\n",
       "0         0         0  0        0        0     0     1   0   0       1      1\n",
       "1         0         1  3        0        1     1     1   1   1       0      0\n",
       "2         1         0  2        1        0     0     0   1   1       2      1\n",
       "3         0         1  2        1        0     0     1   1   1       0      1"
      ]
     },
     "execution_count": 26,
     "metadata": {},
     "output_type": "execute_result"
    }
   ],
   "source": [
    "result = []\n",
    "for i in range(N):\n",
    "    result.append([])\n",
    "    d = docs[i]\n",
    "    for j in range(len(vocab)):\n",
    "        t = vocab[j]\n",
    "        result[-1].append(tf(d,t))\n",
    "        \n",
    "tf_ = pd.DataFrame(result, columns = vocab)\n",
    "tf_"
   ]
  },
  {
   "cell_type": "code",
   "execution_count": 34,
   "metadata": {
    "scrolled": true
   },
   "outputs": [
    {
     "data": {
      "text/html": [
       "<div>\n",
       "<style scoped>\n",
       "    .dataframe tbody tr th:only-of-type {\n",
       "        vertical-align: middle;\n",
       "    }\n",
       "\n",
       "    .dataframe tbody tr th {\n",
       "        vertical-align: top;\n",
       "    }\n",
       "\n",
       "    .dataframe thead th {\n",
       "        text-align: right;\n",
       "    }\n",
       "</style>\n",
       "<table border=\"1\" class=\"dataframe\">\n",
       "  <thead>\n",
       "    <tr style=\"text-align: right;\">\n",
       "      <th></th>\n",
       "      <th>IDF</th>\n",
       "    </tr>\n",
       "  </thead>\n",
       "  <tbody>\n",
       "    <tr>\n",
       "      <th>Delivery</th>\n",
       "      <td>0.693147</td>\n",
       "    </tr>\n",
       "    <tr>\n",
       "      <th>Shipment</th>\n",
       "      <td>0.287682</td>\n",
       "    </tr>\n",
       "    <tr>\n",
       "      <th>a</th>\n",
       "      <td>0.000000</td>\n",
       "    </tr>\n",
       "    <tr>\n",
       "      <th>arrived</th>\n",
       "      <td>0.287682</td>\n",
       "    </tr>\n",
       "    <tr>\n",
       "      <th>damaged</th>\n",
       "      <td>0.693147</td>\n",
       "    </tr>\n",
       "    <tr>\n",
       "      <th>fire</th>\n",
       "      <td>0.693147</td>\n",
       "    </tr>\n",
       "    <tr>\n",
       "      <th>gold</th>\n",
       "      <td>0.000000</td>\n",
       "    </tr>\n",
       "    <tr>\n",
       "      <th>in</th>\n",
       "      <td>0.000000</td>\n",
       "    </tr>\n",
       "    <tr>\n",
       "      <th>of</th>\n",
       "      <td>0.000000</td>\n",
       "    </tr>\n",
       "    <tr>\n",
       "      <th>silver</th>\n",
       "      <td>0.287682</td>\n",
       "    </tr>\n",
       "    <tr>\n",
       "      <th>truck</th>\n",
       "      <td>0.000000</td>\n",
       "    </tr>\n",
       "  </tbody>\n",
       "</table>\n",
       "</div>"
      ],
      "text/plain": [
       "               IDF\n",
       "Delivery  0.693147\n",
       "Shipment  0.287682\n",
       "a         0.000000\n",
       "arrived   0.287682\n",
       "damaged   0.693147\n",
       "fire      0.693147\n",
       "gold      0.000000\n",
       "in        0.000000\n",
       "of        0.000000\n",
       "silver    0.287682\n",
       "truck     0.000000"
      ]
     },
     "execution_count": 34,
     "metadata": {},
     "output_type": "execute_result"
    }
   ],
   "source": [
    "result = []\n",
    "for j in range(len(vocab)):\n",
    "    t = vocab[j]\n",
    "    result.append(idf(t))\n",
    "    \n",
    "idf_ = pd.DataFrame(result, index = vocab, columns = [\"IDF\"])\n",
    "idf_"
   ]
  },
  {
   "cell_type": "code",
   "execution_count": 38,
   "metadata": {},
   "outputs": [
    {
     "data": {
      "text/html": [
       "<div>\n",
       "<style scoped>\n",
       "    .dataframe tbody tr th:only-of-type {\n",
       "        vertical-align: middle;\n",
       "    }\n",
       "\n",
       "    .dataframe tbody tr th {\n",
       "        vertical-align: top;\n",
       "    }\n",
       "\n",
       "    .dataframe thead th {\n",
       "        text-align: right;\n",
       "    }\n",
       "</style>\n",
       "<table border=\"1\" class=\"dataframe\">\n",
       "  <thead>\n",
       "    <tr style=\"text-align: right;\">\n",
       "      <th></th>\n",
       "      <th>Delivery</th>\n",
       "      <th>Shipment</th>\n",
       "      <th>a</th>\n",
       "      <th>arrived</th>\n",
       "      <th>damaged</th>\n",
       "      <th>fire</th>\n",
       "      <th>gold</th>\n",
       "      <th>in</th>\n",
       "      <th>of</th>\n",
       "      <th>silver</th>\n",
       "      <th>truck</th>\n",
       "    </tr>\n",
       "  </thead>\n",
       "  <tbody>\n",
       "    <tr>\n",
       "      <th>0</th>\n",
       "      <td>0.000000</td>\n",
       "      <td>0.000000</td>\n",
       "      <td>0.0</td>\n",
       "      <td>0.000000</td>\n",
       "      <td>0.000000</td>\n",
       "      <td>0.000000</td>\n",
       "      <td>0.0</td>\n",
       "      <td>0.0</td>\n",
       "      <td>0.0</td>\n",
       "      <td>0.287682</td>\n",
       "      <td>0.0</td>\n",
       "    </tr>\n",
       "    <tr>\n",
       "      <th>1</th>\n",
       "      <td>0.000000</td>\n",
       "      <td>0.287682</td>\n",
       "      <td>0.0</td>\n",
       "      <td>0.000000</td>\n",
       "      <td>0.693147</td>\n",
       "      <td>0.693147</td>\n",
       "      <td>0.0</td>\n",
       "      <td>0.0</td>\n",
       "      <td>0.0</td>\n",
       "      <td>0.000000</td>\n",
       "      <td>0.0</td>\n",
       "    </tr>\n",
       "    <tr>\n",
       "      <th>2</th>\n",
       "      <td>0.693147</td>\n",
       "      <td>0.000000</td>\n",
       "      <td>0.0</td>\n",
       "      <td>0.287682</td>\n",
       "      <td>0.000000</td>\n",
       "      <td>0.000000</td>\n",
       "      <td>0.0</td>\n",
       "      <td>0.0</td>\n",
       "      <td>0.0</td>\n",
       "      <td>0.575364</td>\n",
       "      <td>0.0</td>\n",
       "    </tr>\n",
       "    <tr>\n",
       "      <th>3</th>\n",
       "      <td>0.000000</td>\n",
       "      <td>0.287682</td>\n",
       "      <td>0.0</td>\n",
       "      <td>0.287682</td>\n",
       "      <td>0.000000</td>\n",
       "      <td>0.000000</td>\n",
       "      <td>0.0</td>\n",
       "      <td>0.0</td>\n",
       "      <td>0.0</td>\n",
       "      <td>0.000000</td>\n",
       "      <td>0.0</td>\n",
       "    </tr>\n",
       "  </tbody>\n",
       "</table>\n",
       "</div>"
      ],
      "text/plain": [
       "   Delivery  Shipment    a   arrived   damaged      fire  gold   in   of  \\\n",
       "0  0.000000  0.000000  0.0  0.000000  0.000000  0.000000   0.0  0.0  0.0   \n",
       "1  0.000000  0.287682  0.0  0.000000  0.693147  0.693147   0.0  0.0  0.0   \n",
       "2  0.693147  0.000000  0.0  0.287682  0.000000  0.000000   0.0  0.0  0.0   \n",
       "3  0.000000  0.287682  0.0  0.287682  0.000000  0.000000   0.0  0.0  0.0   \n",
       "\n",
       "     silver  truck  \n",
       "0  0.287682    0.0  \n",
       "1  0.000000    0.0  \n",
       "2  0.575364    0.0  \n",
       "3  0.000000    0.0  "
      ]
     },
     "execution_count": 38,
     "metadata": {},
     "output_type": "execute_result"
    }
   ],
   "source": [
    "result = []\n",
    "for i in range(N):\n",
    "    result.append([])\n",
    "    d = docs[i]\n",
    "    for j in range(len(vocab)):\n",
    "        t = vocab[j]\n",
    "\n",
    "        result[-1].append(tfidf(t,d))\n",
    "\n",
    "tfidf_ = pd.DataFrame(result, columns = vocab)\n",
    "tfidf_"
   ]
  },
  {
   "cell_type": "markdown",
   "metadata": {},
   "source": [
    "## 2. sklearn을 이용한 DTM & TF-IDF실습"
   ]
  },
  {
   "cell_type": "markdown",
   "metadata": {},
   "source": [
    "#### CountVectorizer를 이용하여 DTM만들기\n",
    "> .fit_transform(corpus).toarray()  \n",
    ".vocabulary_"
   ]
  },
  {
   "cell_type": "code",
   "execution_count": 1,
   "metadata": {},
   "outputs": [
    {
     "name": "stdout",
     "output_type": "stream",
     "text": [
      "[[0 1 0 1 0 1 0 1 1]\n",
      " [0 0 1 0 0 0 0 1 0]\n",
      " [1 0 0 0 1 0 1 0 0]]\n",
      "{'you': 7, 'know': 1, 'want': 5, 'your': 8, 'love': 3, 'like': 2, 'what': 6, 'should': 4, 'do': 0}\n"
     ]
    }
   ],
   "source": [
    "from sklearn.feature_extraction.text import CountVectorizer\n",
    "\n",
    "corpus = [\n",
    "    'you know I want your love',\n",
    "    'I like you',\n",
    "    'what should I do',\n",
    "]\n",
    "\n",
    "vector = CountVectorizer()\n",
    "print(vector.fit_transform(corpus).toarray())\n",
    "print(vector.vocabulary_)"
   ]
  },
  {
   "cell_type": "code",
   "execution_count": 5,
   "metadata": {},
   "outputs": [
    {
     "data": {
      "text/plain": [
       "array([[0, 1, 0, 1, 0, 1, 0, 1, 1],\n",
       "       [0, 0, 1, 0, 0, 0, 0, 1, 0],\n",
       "       [1, 0, 0, 0, 1, 0, 1, 0, 0]], dtype=int64)"
      ]
     },
     "execution_count": 5,
     "metadata": {},
     "output_type": "execute_result"
    }
   ],
   "source": [
    "vector.fit_transform(corpus).toarray()"
   ]
  },
  {
   "cell_type": "code",
   "execution_count": 9,
   "metadata": {
    "scrolled": true
   },
   "outputs": [
    {
     "data": {
      "text/plain": [
       "{'you': 7,\n",
       " 'know': 1,\n",
       " 'want': 5,\n",
       " 'your': 8,\n",
       " 'love': 3,\n",
       " 'like': 2,\n",
       " 'what': 6,\n",
       " 'should': 4,\n",
       " 'do': 0}"
      ]
     },
     "execution_count": 9,
     "metadata": {},
     "output_type": "execute_result"
    }
   ],
   "source": [
    "vector.vocabulary_\n",
    "# do의 경우 세번째 문서에서만 등장했기 때문에 3행 1열의 값만 1이다."
   ]
  },
  {
   "cell_type": "markdown",
   "metadata": {},
   "source": [
    "#### TfidVectorizer 이용하여 TF-IDF만들기\n",
    "- TfidfVectorizer는 기본적으로 토큰화가 되어있지 않은 데이터를 입력으로 사용한다.\n",
    "- sklearn의 TF-IDF 식은 보편적 방식이 아닌, 조정된 식을 사용한다.\n",
    "    - IDF의 로그항 분자에 1을 더한다.\n",
    "    - 로그항에 1을 더한다.\n",
    "    - TF-IDF에 L2정규화를 해준다."
   ]
  },
  {
   "cell_type": "code",
   "execution_count": 2,
   "metadata": {
    "scrolled": true
   },
   "outputs": [
    {
     "name": "stdout",
     "output_type": "stream",
     "text": [
      "[[0.   0.47 0.   0.47 0.   0.47 0.   0.36 0.47]\n",
      " [0.   0.   0.8  0.   0.   0.   0.   0.61 0.  ]\n",
      " [0.58 0.   0.   0.   0.58 0.   0.58 0.   0.  ]]\n",
      "{'you': 7, 'know': 1, 'want': 5, 'your': 8, 'love': 3, 'like': 2, 'what': 6, 'should': 4, 'do': 0}\n"
     ]
    }
   ],
   "source": [
    "from sklearn.feature_extraction.text import TfidfVectorizer\n",
    "corpus = [\n",
    "    'you know I want your love',\n",
    "    'I like you',\n",
    "    'what should I do',\n",
    "    ]\n",
    "tfidfv = TfidfVectorizer()\n",
    "print(tfidfv.fit_transform(corpus).toarray().round(2))\n",
    "print(tfidfv.vocabulary_)\n",
    "\n",
    "#예시\n",
    "# vectorizer = TfidfVectorizer(stop_words='english', \n",
    "#                              max_features = 1000, \n",
    "#                              max_df = 0.5,\n",
    "#                              # vocabulary 만들때 document frequency가 설정한 값보다 높으면 무시한다.(디폴트 1.0)\n",
    "#                              smooth_idf = True)\n",
    "#                              # document frequencies에 1을 더한다. -> 0으로 나누는 것을 방지(디폴트 True)"
   ]
  },
  {
   "cell_type": "code",
   "execution_count": null,
   "metadata": {},
   "outputs": [],
   "source": []
  }
 ],
 "metadata": {
  "hide_input": false,
  "kernelspec": {
   "display_name": "Python 3",
   "language": "python",
   "name": "python3"
  },
  "language_info": {
   "codemirror_mode": {
    "name": "ipython",
    "version": 3
   },
   "file_extension": ".py",
   "mimetype": "text/x-python",
   "name": "python",
   "nbconvert_exporter": "python",
   "pygments_lexer": "ipython3",
   "version": "3.7.6"
  }
 },
 "nbformat": 4,
 "nbformat_minor": 4
}
