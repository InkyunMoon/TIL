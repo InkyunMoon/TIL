{
 "cells": [
  {
   "cell_type": "markdown",
   "metadata": {},
   "source": [
    "https://cleancode-ws.tistory.com/97"
   ]
  },
  {
   "cell_type": "markdown",
   "metadata": {},
   "source": [
    "# Mecab 설치\n",
    "### 1) c:/mecab 폴더를 생성한다."
   ]
  },
  {
   "cell_type": "markdown",
   "metadata": {},
   "source": [
    "### 2) mecab-ko-msvc 설치\n",
    "- https://github.com/Pusnow/mecab-ko-msvc/releases/tag/release-0.9.2-msvc-3\n",
    "- mecab-ko-msvc-x64 다운로드 후 압축 풀어서 mecab폴더에 넣는다.(사양에 따라 다름)"
   ]
  },
  {
   "cell_type": "markdown",
   "metadata": {},
   "source": [
    "### 3) mecab-ko-dic-msvc 설치\n",
    "- mecab-ko-dic-msvc.zip 다운로드 후 압출 풀어서 mecab폴더에 넣는다."
   ]
  },
  {
   "cell_type": "markdown",
   "metadata": {},
   "source": [
    "### 4) python wheel 설치\n",
    "- 파이썬 버전에 파일을 다운로드하여, 현재 주피터 노트북이 실행되고있는 폴더에 넣는다.\n",
    "- 파이썬 버전 확인방법: 프롬프트 실행 후 python --version 입력\n",
    "- 주피터 노트북에서 !pip install mecab_python-0.996_ko_0.9.2_msvc-cp36-cp36m-win_amd64.whl 입력하여 설치"
   ]
  },
  {
   "cell_type": "markdown",
   "metadata": {},
   "source": []
  },
  {
   "cell_type": "markdown",
   "metadata": {},
   "source": [
    "# konlpy 설치\n",
    "- konlpy를 mecab의 인터페이스로 사용할 것이다."
   ]
  },
  {
   "cell_type": "markdown",
   "metadata": {},
   "source": [
    "1) JPype1 다운로드하여 주피터 노트북이 실행되고있는 폴더에 넣는다.\n",
    "- https://www.lfd.uci.edu/~gohlke/pythonlibs/#jpype\n",
    "- 주피터 노트북에서 !pip install JPype1-1.0.2-cp36-cp36m-win_amd64.whl 입력하여 설치"
   ]
  },
  {
   "cell_type": "code",
   "execution_count": 2,
   "metadata": {},
   "outputs": [],
   "source": [
    "from konlpy.tag import Mecab"
   ]
  },
  {
   "cell_type": "markdown",
   "metadata": {},
   "source": [
    "생성한 mecab 폴더에 넣어준 C:\\mecab\\mecab-ko-dic 폴더를 konlpy에서 mecab 태그 안에 넣어주어야 한다.  \n",
    "C:\\Users\\<이용자 이름>\\anaconda3\\envs\\<아나콘다 환경 이름>\\Lib\\site-packages\\konlpy\\tag\\_mecab의 init함수의 dicpath 경로(_mecab파일을 연결프로그램으로 실행하여) 를 C:\\mecab\\mecab-ko-dic로 바꿔준다."
   ]
  },
  {
   "cell_type": "code",
   "execution_count": 3,
   "metadata": {},
   "outputs": [],
   "source": [
    "m = Mecab() # ()안에 경로를 지정해주지 않아도 정상적으로 실행된다."
   ]
  }
 ],
 "metadata": {
  "kernelspec": {
   "display_name": "Python 3",
   "language": "python",
   "name": "python3"
  },
  "language_info": {
   "codemirror_mode": {
    "name": "ipython",
    "version": 3
   },
   "file_extension": ".py",
   "mimetype": "text/x-python",
   "name": "python",
   "nbconvert_exporter": "python",
   "pygments_lexer": "ipython3",
   "version": "3.6.10"
  }
 },
 "nbformat": 4,
 "nbformat_minor": 4
}
