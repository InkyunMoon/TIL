{
 "cells": [
  {
   "cell_type": "markdown",
   "metadata": {},
   "source": [
    "- https://nlp.stanford.edu/projects/glove/에서 GLove.840B.300d.zip을 다운받아 압축을 푼다."
   ]
  },
  {
   "cell_type": "code",
   "execution_count": null,
   "metadata": {},
   "outputs": [],
   "source": [
    "vocab_size = len(word2idx) + 1\n",
    "emb_size = 300\n",
    "\n",
    "saveWeightEmbedding = True\n",
    "\n",
    "if saveWeightEmbedding:\n",
    "    with open('C:/inkyun/실습파일과 교재/5.자연어처리(실습파일)/dataset/weightEmbedding.pickle', 'wb') as f:\n",
    "        WE = pickle.load(f)\n",
    "else:\n",
    "    file = open('C:/data/glove/glove.840B.300d.txt', encoding='utf-8')\n",
    "    \n",
    "    GloVe = {}\n",
    "    for line in file:\n",
    "        wv = line.split()\n",
    "        word = ''.join(wv[:-300])\n",
    "        Glove[word] = np.asarray(wv[-300:], dtype=np.float32)\n",
    "    file.close()\n",
    "    \n",
    "    WE = np.zeros((vocab_size, emb_size))\n",
    "    for word, i in word2idx.items(): # word2idx는 분석에 사용할 사전\n",
    "        vec = GloVe.get(word)\n",
    "        if vec is not None:\n",
    "            WE[i] = vec\n",
    "            \n",
    "    with open('C:/inkyun/실습파일과 교재/5.자연어처리(실습파일)/dataset/weightEmbedding.pickle', 'wb') as f:\n",
    "        pickle.dump(WE, f, pickle.HIGHEST_PROTOCOL)        "
   ]
  }
 ],
 "metadata": {
  "kernelspec": {
   "display_name": "Python 3",
   "language": "python",
   "name": "python3"
  },
  "language_info": {
   "codemirror_mode": {
    "name": "ipython",
    "version": 3
   },
   "file_extension": ".py",
   "mimetype": "text/x-python",
   "name": "python",
   "nbconvert_exporter": "python",
   "pygments_lexer": "ipython3",
   "version": "3.7.6"
  }
 },
 "nbformat": 4,
 "nbformat_minor": 4
}
