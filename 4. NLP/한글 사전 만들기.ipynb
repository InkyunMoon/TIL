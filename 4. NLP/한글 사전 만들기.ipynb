{
 "cells": [
  {
   "cell_type": "markdown",
   "metadata": {},
   "source": [
    "- C:\\ProgramData\\Anaconda3\\Lib\\site-packages\\konlpy\\java 결로로 들어가서(환경에 따라 다를 수 있음) 새로운 디렉토리를 만든다. - (1)\n",
    "\n",
    "- open-korean-text-2.1.0.jar 파일 안에 사전 정보가 들어있다.\n",
    "\n",
    "- cmd를 실행시켜서 (1)의 디렉토리로 변경한 뒤, jar xvf ../open-korean-text-2.1.0.jar 입력하면 두 개의 폴더가 생성된다.\n"
   ]
  },
  {
   "cell_type": "markdown",
   "metadata": {},
   "source": [
    "![001.png](markdown-images/001.png)"
   ]
  },
  {
   "cell_type": "markdown",
   "metadata": {},
   "source": [
    "- 생성한 디렉토리에서 C:\\ProgramData\\Anaconda3\\Lib\\site-packages\\konlpy\\java\\aaa\\org\\openkoreantext\\processor\\util 까지 들어간다.\n",
    "\n",
    "- 이 디렉토리 안에 사전들이 들어가있다. 이곳에서 원하는 항목에 추가/제거하면 된다.\n",
    "\n",
    "- 위에 명령어로 jar를 풀었으므로 다시 묶어주어야 한다.(cvf)  \n",
    "C:\\ProgramData\\Anaconda3\\Lib\\site-packages\\konlpy\\java\\aaa>jar cvf open-korean-text-2.1.0.jar *  \n",
    "- 맨 뒤의 *는 모두를 뜻하는 와일드카드로, 하위 디렉토리의 모두를 묶는다는 뜻이다."
   ]
  },
  {
   "attachments": {},
   "cell_type": "markdown",
   "metadata": {},
   "source": [
    "![002.png](markdown-images/002.png)"
   ]
  },
  {
   "cell_type": "code",
   "execution_count": null,
   "metadata": {},
   "outputs": [],
   "source": []
  }
 ],
 "metadata": {
  "kernelspec": {
   "display_name": "Python 3",
   "language": "python",
   "name": "python3"
  },
  "language_info": {
   "codemirror_mode": {
    "name": "ipython",
    "version": 3
   },
   "file_extension": ".py",
   "mimetype": "text/x-python",
   "name": "python",
   "nbconvert_exporter": "python",
   "pygments_lexer": "ipython3",
   "version": "3.7.6"
  }
 },
 "nbformat": 4,
 "nbformat_minor": 4
}
