{
 "cells": [
  {
   "cell_type": "markdown",
   "metadata": {},
   "source": [
    "[딥 러닝을 위한 자연어 처리입문 문서를 요약한 자료입니다.(바로가기)](https://wikidocs.net/22660)\n",
    "\n",
    "# 워드 임베딩\n",
    "> 단어를 밀집 표현으로 변환하여 벡터로 만든다.\n",
    "\n",
    "워드 임베딩을 학습하기 전에 희소표현, 밀집표현, 워드 임베딩에 대해서 알아보자."
   ]
  },
  {
   "cell_type": "markdown",
   "metadata": {},
   "source": [
    "### 희소 표현(Sparse Prepresentation)\n",
    "\n",
    "- 원-핫 벡터들은 표현하고자 하는 단어의 인덱스만 1이고 나머지는 전부 0이다.\n",
    "이러한 벡터 표현은 공간적 낭비를 불러일으킨다. 희소표현의 일종인 DTM과 같은 경우에도 공간 낭비가 발생한다.\n",
    "- 이러한 원-핫 벡터는 단어의 의미를 담지 못한다.(유사성을 표현할 수 없다.)"
   ]
  },
  {
   "cell_type": "markdown",
   "metadata": {},
   "source": [
    "### 밀집표현(Dense Representation)\n",
    "\n",
    "- 희소 표현과 반대되는 개념\n",
    "- 사용자가 설정한 값으로 모든 단어의 벡터 표현의 차원을 맞춘다.  \n",
    "예) 10,000개의 단어가 있을 때 강아지(인덱스 5)란 단어를 표현하기 위해,  \n",
    "[0 0 0 0 0 1 0 0 0 0 ... ... 0] 과같이 표현했지만,  \n",
    "벡터표현의 차원을 128로 바꾸어  [0.2 1.8 1.1 -2.1 1.1 2.8 ... ... ]같이 표현\n",
    "-> 128차원"
   ]
  },
  {
   "cell_type": "markdown",
   "metadata": {},
   "source": [
    "### 워드 임베딩\n",
    "\n",
    "- 단어를 밀집 벡터의 형태로 표현하는 방법(임베딩 벡터)\n",
    "- 희소 표현에서 원-핫 벡터는 단어의 유사성을 표현할 수 없었다.\n",
    "    - **대안으로 단어의 의미를 여러 차원 공간에 벡터화한다.(분산표현)**\n",
    "- LSA, Word2Vec, FastText, Glove등의 방법이 있다."
   ]
  },
  {
   "cell_type": "markdown",
   "metadata": {},
   "source": [
    "### Word2Vec\n",
    "   - CBOW: 주변 단어로 **중간 단어** 예측\n",
    "   - Skip-Gram: 중간 단어로 **주변 단어** 예측\n",
    "\n",
    "#### 분산 표현(Distributed Representation)\n",
    "> 분포가설 가정(**'비슷한 위치에서 등장하는 단어들은 비슷한 의미를 가진다'**) 하에 만들어졌다.\n",
    "\n",
    "- 이와 같은 벡터들은 차원이 작다.(단어집합 크기일 필요가 없으므로)\n",
    "- 분산표현방법(단어의 의미를 여러 차원에 분산)은 단어 간 유사도를 계산할 수 있다."
   ]
  },
  {
   "attachments": {
    "image.png": {
     "image/png": "[encoded data removed]"
    }
   },
   "cell_type": "markdown",
   "metadata": {},
   "source": [
    "### CBOW(Continuous Bag of Words)\n",
    "예) The fat cat sat on the mat\n",
    "- 예측해야 하는 단어(sat)을 'center word'\n",
    "- 예측에 사용되는 단어를 'context word'라 한다.\n",
    "\n",
    "- 중심단어를 예측하기 위해 앞, 뒤로 몇 개의 단어를 볼지 결정했다면 이 범위를 Window라고 한다.\n",
    "\n",
    "![image.png](attachment:image.png)\n",
    "\n",
    "- 윈도우를 계속 움직여서 주변 단어와 중심 단어를 바꿔가며 데이터셋을 만든다.(슬라이딩 윈도우)\n",
    "\n",
    "![image.png](attachment:image.png)\n",
    "CBOW의 인공신경망을 간단히 도식화하면 위의 그림과 같다."
   ]
  },
  {
   "cell_type": "code",
   "execution_count": null,
   "metadata": {},
   "outputs": [],
   "source": []
  }
 ],
 "metadata": {
  "hide_input": false,
  "kernelspec": {
   "display_name": "Python 3",
   "language": "python",
   "name": "python3"
  },
  "language_info": {
   "codemirror_mode": {
    "name": "ipython",
    "version": 3
   },
   "file_extension": ".py",
   "mimetype": "text/x-python",
   "name": "python",
   "nbconvert_exporter": "python",
   "pygments_lexer": "ipython3",
   "version": "3.7.6"
  }
 },
 "nbformat": 4,
 "nbformat_minor": 4
}
