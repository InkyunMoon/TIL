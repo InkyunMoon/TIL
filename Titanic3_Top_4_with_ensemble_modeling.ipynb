{
  "nbformat": 4,
  "nbformat_minor": 0,
  "metadata": {
    "colab": {
      "name": "Titanic3-Top 4% with ensemble modeling",
      "provenance": [],
      "private_outputs": true,
      "collapsed_sections": [],
      "authorship_tag": "ABX9TyNJZVLAxji7V91P3/rbsLFu",
      "include_colab_link": true
    },
    "kernelspec": {
      "name": "python3",
      "display_name": "Python 3"
    }
  },
  "cells": [
    {
      "cell_type": "markdown",
      "metadata": {
        "id": "view-in-github",
        "colab_type": "text"
      },
      "source": [
        "<a href=\"https://colab.research.google.com/github/InkyunMoon/TIL/blob/master/Titanic3_Top_4_with_ensemble_modeling.ipynb\" target=\"_parent\"><img src=\"https://colab.research.google.com/assets/colab-badge.svg\" alt=\"Open In Colab\"/></a>"
      ]
    },
    {
      "cell_type": "code",
      "metadata": {
        "id": "BwL7cIz2iQco",
        "colab_type": "code",
        "colab": {}
      },
      "source": [
        "import io\n",
        "import pandas as pd\n",
        "from google.colab import files\n",
        "uploaded = files.upload()\n",
        "train = pd.read_csv(io.BytesIO(uploaded['train.csv']))"
      ],
      "execution_count": null,
      "outputs": []
    },
    {
      "cell_type": "code",
      "metadata": {
        "id": "3L_tPGJQiZy7",
        "colab_type": "code",
        "colab": {}
      },
      "source": [
        "uploaded = files.upload()\n",
        "test = pd.read_csv(io.BytesIO(uploaded['test.csv']))"
      ],
      "execution_count": null,
      "outputs": []
    },
    {
      "cell_type": "code",
      "metadata": {
        "id": "1Qv8gXZskMmk",
        "colab_type": "code",
        "colab": {}
      },
      "source": [
        "train.head"
      ],
      "execution_count": null,
      "outputs": []
    },
    {
      "cell_type": "code",
      "metadata": {
        "id": "KQCvuqIBoVed",
        "colab_type": "code",
        "colab": {}
      },
      "source": [
        "test.head"
      ],
      "execution_count": null,
      "outputs": []
    },
    {
      "cell_type": "code",
      "metadata": {
        "id": "jHLH8Y0Rkr71",
        "colab_type": "code",
        "colab": {}
      },
      "source": [
        "import pandas as pd\n",
        "import numpy as np\n",
        "import matplotlib.pyplot as plt\n",
        "import seaborn as sns\n",
        "%matplotlib inline\n",
        "\n",
        "from collections import Counter\n",
        "\n",
        "from sklearn.ensemble import RandomForestClassifier, AdaBoostClassifier, GradientBoostingClassifier, ExtraTreesClassifier, VotingClassifier\n",
        "from sklearn.discriminant_analysis import LinearDiscriminantAnalysis\n",
        "from sklearn.linear_model import LogisticRegression\n",
        "from sklearn.neighbors import KNeighborsClassifier\n",
        "from sklearn.tree import DecisionTreeClassifier\n",
        "from sklearn.neural_network import MLPClassifier\n",
        "from sklearn.svm import SVC\n",
        "from sklearn.model_selection import GridSearchCV, cross_val_score, StratifiedKFold, learning_curve\n",
        "\n",
        "sns.set(style='white', context='notebook', palette='deep')"
      ],
      "execution_count": null,
      "outputs": []
    },
    {
      "cell_type": "code",
      "metadata": {
        "id": "Mf2iFo8Sn40t",
        "colab_type": "code",
        "colab": {}
      },
      "source": [
        "def detect_outliers(df, n, features):\n",
        "  outlier_indices = []\n",
        "  for col in features:\n",
        "    Q1 = np.percentile(df[col],25)\n",
        "    Q3 = np.percentile(df[col],75)\n",
        "    IQR = Q3-Q1\n",
        "\n",
        "    outlier_list_col = df[(df[col] < Q1 - 1.5*IQR)|(df[col] > Q3 + 1.5*IQR)].index\n",
        "    outlier_indices.extend(outlier_list_col)\n",
        "  outlier_indices = Counter(outlier_indices)\n",
        "  multiple_outliers = list(k for k, v in outlier_indices.items() if v > n)\n",
        "  \n",
        "  return multiple_outliers\n",
        "\n",
        "Outliers_to_drop = detect_outliers(train,2,['Age','SibSp','Parch','Fare'])"
      ],
      "execution_count": null,
      "outputs": []
    },
    {
      "cell_type": "code",
      "metadata": {
        "id": "eQMdf2TWtXoh",
        "colab_type": "code",
        "colab": {}
      },
      "source": [
        "train.loc[Outliers_to_drop]"
      ],
      "execution_count": null,
      "outputs": []
    },
    {
      "cell_type": "code",
      "metadata": {
        "id": "OGr95V7Rw5mU",
        "colab_type": "code",
        "colab": {}
      },
      "source": [
        "train = train.drop(Outliers_to_drop, axis = 0).reset_index(drop=True)"
      ],
      "execution_count": null,
      "outputs": []
    },
    {
      "cell_type": "code",
      "metadata": {
        "id": "mODkUOB8xxGV",
        "colab_type": "code",
        "colab": {}
      },
      "source": [
        "train_len = len(train)\n",
        "dataset = pd.concat(objs=[train, test], axis=0).reset_index(drop=True)"
      ],
      "execution_count": null,
      "outputs": []
    },
    {
      "cell_type": "code",
      "metadata": {
        "id": "M-Fqk-8WyZs1",
        "colab_type": "code",
        "colab": {}
      },
      "source": [
        "dataset"
      ],
      "execution_count": null,
      "outputs": []
    },
    {
      "cell_type": "code",
      "metadata": {
        "id": "im2Ox0Buy2tk",
        "colab_type": "code",
        "colab": {}
      },
      "source": [
        "dataset = dataset.fillna(np.nan)\n",
        "\n",
        "dataset.isnull().sum()"
      ],
      "execution_count": null,
      "outputs": []
    },
    {
      "cell_type": "code",
      "metadata": {
        "id": "xOsX-0xZy_FW",
        "colab_type": "code",
        "colab": {}
      },
      "source": [
        "train.info()"
      ],
      "execution_count": null,
      "outputs": []
    },
    {
      "cell_type": "code",
      "metadata": {
        "id": "hCwealEEzXAd",
        "colab_type": "code",
        "colab": {}
      },
      "source": [
        "train.isnull().sum()"
      ],
      "execution_count": null,
      "outputs": []
    },
    {
      "cell_type": "code",
      "metadata": {
        "id": "ublBWbxozlV8",
        "colab_type": "code",
        "colab": {}
      },
      "source": [
        "train.describe(include='all')"
      ],
      "execution_count": null,
      "outputs": []
    },
    {
      "cell_type": "code",
      "metadata": {
        "id": "HMgpgs6kzwV9",
        "colab_type": "code",
        "colab": {}
      },
      "source": [
        "plt.figure(figsize=(12,8))\n",
        "g = sns.heatmap(train[['Survived','SibSp','Parch','Age','Fare']].corr(),annot=True,fmt='.2f',cmap='coolwarm')"
      ],
      "execution_count": null,
      "outputs": []
    },
    {
      "cell_type": "code",
      "metadata": {
        "id": "m9oI8xYz0sTu",
        "colab_type": "code",
        "colab": {}
      },
      "source": [
        "g = sns.factorplot(x='SibSp', y='Survived', data = train, kind='bar',size=6, palette = 'muted')\n",
        "g.despine(left=True)\n",
        "g = g.set_ylabels('survival probability')"
      ],
      "execution_count": null,
      "outputs": []
    },
    {
      "cell_type": "code",
      "metadata": {
        "id": "BYKaHsjj6ISy",
        "colab_type": "code",
        "colab": {}
      },
      "source": [
        "g  = sns.factorplot(x=\"Parch\",y=\"Survived\",data=train,kind=\"bar\", size = 6 , \n",
        "palette = \"muted\")\n",
        "g.despine(left=True)\n",
        "g = g.set_ylabels(\"survival probability\")"
      ],
      "execution_count": null,
      "outputs": []
    },
    {
      "cell_type": "code",
      "metadata": {
        "id": "fY-qSBll7sMb",
        "colab_type": "code",
        "colab": {}
      },
      "source": [
        "g = sns.FacetGrid(train, col = 'Survived')\n",
        "g = g.map(sns.distplot, 'Age')"
      ],
      "execution_count": null,
      "outputs": []
    },
    {
      "cell_type": "code",
      "metadata": {
        "id": "eXWtmbl88I1E",
        "colab_type": "code",
        "colab": {}
      },
      "source": [
        "g = sns.kdeplot(train['Age'][(train['Survived'] == 0) & (train['Age'].notnull())], color = 'Red', shade = True)\n",
        "g = sns.kdeplot(train['Age'][(train['Survived'] == 1) & (train['Age'].notnull())], color = 'blue', shade = True)\n",
        "g.set_xlabel('Age')\n",
        "g.set_ylabel('Frequency')\n",
        "g = g.legend(['Not Survived', 'Survived'])"
      ],
      "execution_count": null,
      "outputs": []
    },
    {
      "cell_type": "code",
      "metadata": {
        "id": "nt5WVjD__fiM",
        "colab_type": "code",
        "colab": {}
      },
      "source": [
        "dataset['Fare'].isnull().sum()"
      ],
      "execution_count": null,
      "outputs": []
    },
    {
      "cell_type": "code",
      "metadata": {
        "id": "LL46P6xdA5ah",
        "colab_type": "code",
        "colab": {}
      },
      "source": [
        "dataset['Fare'] = dataset['Fare'].fillna(dataset['Fare'].median())"
      ],
      "execution_count": null,
      "outputs": []
    },
    {
      "cell_type": "code",
      "metadata": {
        "id": "oVk-ic9MBEuM",
        "colab_type": "code",
        "colab": {}
      },
      "source": [
        "g = sns.distplot(dataset['Fare'], color = 'magenta', label = 'Skewness : %.2f'%(dataset['Fare'].skew()))\n",
        "g = g.legend(loc = 'best')"
      ],
      "execution_count": null,
      "outputs": []
    },
    {
      "cell_type": "code",
      "metadata": {
        "id": "jJ1QO_VWBd0e",
        "colab_type": "code",
        "colab": {}
      },
      "source": [
        "dataset['Fare'] = dataset['Fare'].map(lambda i: np.log(i) if i > 0 else 0)"
      ],
      "execution_count": null,
      "outputs": []
    },
    {
      "cell_type": "code",
      "metadata": {
        "id": "kU7LvTvSCCeg",
        "colab_type": "code",
        "colab": {}
      },
      "source": [
        "g = sns.distplot(dataset['Fare'], color='b', label = 'Skewness : %.2f'%(dataset['Fare'].skew()))\n",
        "g = g.legend(loc='best')"
      ],
      "execution_count": null,
      "outputs": []
    },
    {
      "cell_type": "code",
      "metadata": {
        "id": "O4xmC0rOCTqg",
        "colab_type": "code",
        "colab": {}
      },
      "source": [
        "g = sns.barplot(x='Sex', y = 'Survived', data =train)\n",
        "g = g.set_ylabel('Survival Probability')"
      ],
      "execution_count": null,
      "outputs": []
    },
    {
      "cell_type": "code",
      "metadata": {
        "id": "UnEdiI7RCnl1",
        "colab_type": "code",
        "colab": {}
      },
      "source": [
        "train[['Sex', 'Survived']].groupby('Sex').mean()"
      ],
      "execution_count": null,
      "outputs": []
    },
    {
      "cell_type": "code",
      "metadata": {
        "id": "3RtPbnnPC4sk",
        "colab_type": "code",
        "colab": {}
      },
      "source": [
        "g = sns.factorplot(x='Pclass',y='Survived', data = train, kind = 'bar', size = 6, palette = 'muted')\n",
        "g.despine(left=True)\n",
        "g = g.set_ylabels('Survival Probability')"
      ],
      "execution_count": null,
      "outputs": []
    },
    {
      "cell_type": "code",
      "metadata": {
        "id": "NF6YqzDDDRvp",
        "colab_type": "code",
        "colab": {}
      },
      "source": [
        "g = sns.factorplot(x = 'Pclass', y = 'Survived', hue = 'Sex', data = train, size = 6, kind = 'bar', palette = 'muted')\n",
        "g.despine(left=True)\n",
        "g = g.set_ylabels('Survival probability')"
      ],
      "execution_count": null,
      "outputs": []
    },
    {
      "cell_type": "code",
      "metadata": {
        "id": "4Epr9HZ_Dmpa",
        "colab_type": "code",
        "colab": {}
      },
      "source": [
        "dataset['Embarked'].isnull().sum()"
      ],
      "execution_count": null,
      "outputs": []
    },
    {
      "cell_type": "code",
      "metadata": {
        "id": "VpEEK8NoEGcP",
        "colab_type": "code",
        "colab": {}
      },
      "source": [
        "dataset['Embarked'].value_counts()"
      ],
      "execution_count": null,
      "outputs": []
    },
    {
      "cell_type": "code",
      "metadata": {
        "id": "X5r0xtWuEOCt",
        "colab_type": "code",
        "colab": {}
      },
      "source": [
        "dataset['Embarked'] = dataset['Embarked'].fillna('S')"
      ],
      "execution_count": null,
      "outputs": []
    },
    {
      "cell_type": "code",
      "metadata": {
        "id": "4XfBs62aELZ6",
        "colab_type": "code",
        "colab": {}
      },
      "source": [
        "g = sns.factorplot(x='Embarked', y = 'Survived', data = train, size = 6, kind = 'bar', palette='muted')\n",
        "g.despine(left=True)\n",
        "g = g.set_ylabels('Survival probability')"
      ],
      "execution_count": null,
      "outputs": []
    },
    {
      "cell_type": "code",
      "metadata": {
        "id": "O4XlcgS-Ei2-",
        "colab_type": "code",
        "colab": {}
      },
      "source": [
        "g = sns.factorplot('Pclass', col = 'Embarked', data=train, size = 6, kind = 'count' ,palette = 'muted')\n",
        "g.despine(left=True)\n",
        "g = g.set_ylabels('Counts')"
      ],
      "execution_count": null,
      "outputs": []
    },
    {
      "cell_type": "code",
      "metadata": {
        "id": "dfG0WYbhE8Xx",
        "colab_type": "code",
        "colab": {}
      },
      "source": [
        "g = sns.factorplot('Pclass', 'Survived',col = 'Embarked', hue = 'Sex' ,data=train, size = 6, palette = 'muted')\n",
        "g.despine(left=True)\n",
        "g = g.set_ylabels('Counts')"
      ],
      "execution_count": null,
      "outputs": []
    },
    {
      "cell_type": "code",
      "metadata": {
        "id": "HGTYX8JtE8UD",
        "colab_type": "code",
        "colab": {}
      },
      "source": [
        ""
      ],
      "execution_count": null,
      "outputs": []
    }
  ]
}