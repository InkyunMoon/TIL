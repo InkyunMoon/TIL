{
 "cells": [
  {
   "cell_type": "code",
   "execution_count": 2,
   "metadata": {},
   "outputs": [],
   "source": [
    "import re"
   ]
  },
  {
   "cell_type": "markdown",
   "metadata": {},
   "source": [
    "# 정규표현식\n",
    "\n",
    "출처: [점프 투 파이썬](https://wikidocs.net/4308#search)\n",
    "\n",
    "### 기초 메타문자\n",
    "\n",
    "##### `[ ]: 사이의 문자중 하나와 매치`\n",
    "\n",
    "- [abc] : a, b, c중 하나와 매치\n",
    "\n",
    "- [a-zA-Z] : 모든 알파벳\n",
    "\n",
    "- [0-9] : 모든 문자(=/d)\n",
    "\n",
    "[ ] 안의 두 문자 사이의 하이픈은 사이의 범위를 의미한다.\n",
    "\n",
    "###### 자주 사용하는 문자 클래스\n",
    "\n",
    "> \\d : 숫자와 매치== [0-9]\n",
    ">\n",
    "> \\D : 숫자가 아닌 것과 매치 == \\[^0-9]\n",
    ">\n",
    "> \\s : whitespace문자와 매치 == [ \\t\\n\\r\\f\\v]\n",
    ">\n",
    "> \\S : whitespace가 아닌 것과 매치. == [\\^ \\t\\n\\r\\f\\v]\n",
    ">\n",
    "> \\w : 문자+숫자와 매치 == [a-zA-Z0-9_]\n",
    ">\n",
    "> \\W : 문자+숫자가 아닌 문자와 매치==\\[^a-zA-Z0-9_]\n",
    "\n",
    "##### `.: 아무 문자 1개와 매치`\n",
    "\n",
    "- a.b : a와 b 사이에 들어가는 아무 문자 1개와 매치\n",
    "- a[.]b : a와 b 사이의 .(점)과 매치\n",
    "\n",
    "\n",
    "\n",
    "##### `* : *앞의 문자가 0번 이상 반복되는 경우 매치`\n",
    "\n",
    "- ca*t -> ct, cat, caaaaat과 모두 매치\n",
    "\n",
    "\n",
    "\n",
    "##### `+ : +앞의 문자가 1번 이상 반복되는 경우 매치`\n",
    "\n",
    "- ca+t -> cat, caaat은 매치되지만 ct는 매치되지 않음\n",
    "\n",
    "\n",
    "\n",
    "##### `{m} / {m,n} : 지정된 수만큼 반복되는 경우 매치`\n",
    "\n",
    "- ca{1}t -> cat만 매치(1번 반복)\n",
    "- ca{2,4}t -> caat, caaat, caaaat 매치(2~4번 반복)\n",
    "\n",
    "\n",
    "\n",
    "##### `? : ?앞의 문자가 있는경우, 없는경우 모두 매치`\n",
    "\n",
    "- ab?c -> abc, ac 모두 매치\n",
    "\n",
    "\n",
    "\n",
    "### 정규표현식 메서드\n",
    "\n",
    "##### `math` : 문자열의 처음부터 정규식과 매치되는지 조사\n",
    "\n",
    "##### `search` : 문자열의 전체를 검색.\n",
    "\n",
    "- 해당 조건이 발견되면 탐색을 종료한다.\n",
    "\n",
    "##### `findall` : [a-z]+ 정규식과 매치해서 리스트로 리턴\n",
    "\n",
    "- 해당 조건이 발견되어도 끝까지 탐색한다.\n",
    "\n",
    "##### `finditer` : findall과 동일하지만 반복가능한 객체를 리턴. 각 요소는 match객체를 포함\n",
    "\n",
    "\n",
    "\n",
    "### match 객체의 메서드\n",
    "\n",
    "만약 search 메서드를 사용했다면 start() 값은 다음과 같이 다르게 나올 것이다.\n",
    "\n",
    ">group() : 매치된 문자열을 보여준다\n",
    ">\n",
    ">start() : 매치된 문자열의 시작 위치를 리턴\n",
    ">\n",
    ">end() : 매치된 문장열의 끝 위치를 리턴\n",
    ">\n",
    ">span() : 매치된 문자열의 (시작, 끝)에 해당하는 튜플을 리턴\n",
    "\n",
    "\n",
    "\n",
    "**[모듈 단위로 수행하기]**\n",
    "\n",
    "re.compile을 사용하여 컴파일 된 객체로 그 이후의 작업을 수행했지만, re.match('[a-z]+', 'Python')과 같은 형태로 축약해서 사용할 수 있다.\n",
    "\n",
    "- 컴파일과 match 메서드를 한 번에 수행할 수 있다.\n",
    "\n",
    "-----\n",
    "\n",
    "## 컴파일 옵션\n",
    "\n",
    "정규식을 컴파일할 때 다음 옵션을 사용할 수 있다.\n",
    "\n",
    "##### DOTALL(S) - `.` 이 줄바꿈 문자를 포함하여 모든 문자와 매치할 수 있도록 한다.\n",
    "\n",
    "- any character 1개와 매치되는 .은 \\n과 매치되지 않는데, 이것과도 매치되게 설정하려면 compile시 re.DOTALL or re.S 옵션을 설정해야 한다.\n",
    "\n",
    "```python\n",
    "P = re.compile('a.b', re.S)\n",
    "m = p.match('a\\nb')\n",
    "```\n",
    "\n",
    "\n",
    "\n",
    "##### IGNORECASE(I) - 대소문자에 관계없이 매치할 수 있도록 한다.\n",
    "\n",
    "- 대소문자 구분 없이 매치를 수행할 때\n",
    "\n",
    "##### MULTILINE(M) - 여러줄과 매치할 수 있도록 한다. (`^`, `$` 메타문자의 사용과 관계가 있는 옵션이다)\n",
    "\n",
    "- re.compile(\"^python\\\\s\\\\w+\")처럼 python으로 시작하는 문자열을 추출하고자 하는 상황에서, 데이터로 주어진 문자열이 여러 줄에 걸쳐 구성되고 python으로 시작하는 라인이 많을 때, python으로 시작하는 각 라인을 추출하고 싶다면 MULTILINE 옵션을 설정한다.\n",
    "- 즉, ^, $ 옵션을 각 줄마다 적용해 주는 것.\n",
    "\n",
    "##### VERBOSE(X) - verbose 모드를 사용할 수 있도록 한다. (정규식을 보기 편하게 만들수 있고 주석등을 사용할 수 있게된다.)\n",
    "\n",
    "- 복잡한 정규식을 여러줄에 걸쳐서 입력할 수 있게 해준다. 여러줄에 걸쳐 주석을 달아줄 수 있다.\n",
    "\n",
    "\n",
    "\n",
    "## 하위표현식\n",
    "\n",
    "[참고한 사이트: 끝나지 않는 프로그래밍 일기](https://blog.hexabrain.net/203)\n",
    "\n",
    "> 특정 패턴, 표현식을 하나의 항목으로 처리하는 것\n",
    "\n",
    "- 소괄호를 사용해 표현을 하나로 처리한다.\n",
    "\n",
    "```python\n",
    "abc{2}\n",
    "> abcc\n",
    "\n",
    "(abc){2}\n",
    "> abcabc\n",
    "```\n",
    "\n",
    "- 소괄호로 항목을 묶어 처리했다.\n",
    "\n",
    "```python\n",
    "\\d{1,3}\\.\\d{1,3}\\.\\d{1,3}\\.\\d{1,3}\n",
    "# 위의 정규표현식은 다음과도 같다.\n",
    "(\\d{1,3}\\.){3}\\d{1,3}\n",
    "```\n",
    "\n",
    "\n",
    "\n",
    "## 그루핑 ()\n",
    "\n",
    "#### ()의 역할\n",
    "\n",
    "1. 그룹화 - 정규식의 여러 문자를 그룹으로 묶는 기능\n",
    "\n",
    "\n",
    "\n",
    "2. 캡처 - 정규식의 일부분에 해당하는 문자열에만 관심있을 때 그부분을 따로 빼서 캡쳐하는 기능"
   ]
  },
  {
   "cell_type": "markdown",
   "metadata": {},
   "source": [
    "### 1. 그루핑\n",
    "[YW & YY.님의 자료를 참조한 내용입니다.(바로가기)](https://greeksharifa.github.io/%EC%A0%95%EA%B7%9C%ED%91%9C%ED%98%84%EC%8B%9D(re)/2018/07/28/regex-usage-04-intermediate/)"
   ]
  },
  {
   "cell_type": "code",
   "execution_count": 3,
   "metadata": {},
   "outputs": [
    {
     "name": "stdout",
     "output_type": "stream",
     "text": [
      "['12', '12', '12', '12222']\n"
     ]
    }
   ],
   "source": [
    "print(re.findall('12+','12 1212 12222'))"
   ]
  },
  {
   "cell_type": "markdown",
   "metadata": {},
   "source": [
    "* 메타문자 +가 2에만 적용되었다. 이를 12 모두에 적용시키려면 소괄호 ()로 그룹화 시켜주면 된다."
   ]
  },
  {
   "cell_type": "code",
   "execution_count": 7,
   "metadata": {},
   "outputs": [
    {
     "name": "stdout",
     "output_type": "stream",
     "text": [
      "['12']\n",
      "<re.Match object; span=(0, 6), match='121212'>\n"
     ]
    }
   ],
   "source": [
    "print(re.findall('(12)+','121212'))\n",
    "print(re.match('(12)+','121212'))"
   ]
  },
  {
   "cell_type": "markdown",
   "metadata": {},
   "source": [
    "### 2. 캡처\n",
    "위의 결과에서 findall에서는 12만 출력하였는데, 이는 소괄호의 다른 기능인 캡처 때문이다.\n",
    "* 추출을 원하는 부분을 소괄호에 묶어 '12'만 출력하였다.\n",
    "* 예를들어 yyyy-mm-dd에서 월, 일만 따로 추출하고 싶은경우, 다음과 같이 사용한다."
   ]
  },
  {
   "cell_type": "code",
   "execution_count": 11,
   "metadata": {},
   "outputs": [
    {
     "name": "stdout",
     "output_type": "stream",
     "text": [
      "[('07', '37')]\n"
     ]
    }
   ],
   "source": [
    "print(re.findall('\\d{4}-(\\d\\d)-(\\d\\d)', '2020-07-37'))"
   ]
  },
  {
   "cell_type": "markdown",
   "metadata": {},
   "source": [
    "위의 예에서 7월 37일은 존재하지 않는 날짜인데, 위의 정규식은 숫자로만 처리하여 값을 그대로 리턴하였다. 이와같은 문제를 해결하기 위해서는 함수를 정규식에 적용해야 한다."
   ]
  },
  {
   "cell_type": "code",
   "execution_count": null,
   "metadata": {},
   "outputs": [],
   "source": []
  }
 ],
 "metadata": {
  "hide_input": false,
  "kernelspec": {
   "display_name": "Python 3",
   "language": "python",
   "name": "python3"
  },
  "language_info": {
   "codemirror_mode": {
    "name": "ipython",
    "version": 3
   },
   "file_extension": ".py",
   "mimetype": "text/x-python",
   "name": "python",
   "nbconvert_exporter": "python",
   "pygments_lexer": "ipython3",
   "version": "3.7.6"
  }
 },
 "nbformat": 4,
 "nbformat_minor": 4
}
