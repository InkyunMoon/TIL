{
 "cells": [
  {
   "cell_type": "code",
   "execution_count": 12,
   "metadata": {},
   "outputs": [],
   "source": [
    "from bs4 import BeautifulSoup\n",
    "import requests\n",
    "import numpy as np\n",
    "import pandas as pd"
   ]
  },
  {
   "cell_type": "code",
   "execution_count": 15,
   "metadata": {},
   "outputs": [
    {
     "data": {
      "text/plain": [
       "['https://ssl.pstatic.net/imgstock/upload/research/debenture/1598920361283.pdf',\n",
       " 'https://ssl.pstatic.net/imgstock/upload/research/debenture/1598919458640.pdf',\n",
       " 'https://ssl.pstatic.net/imgstock/upload/research/debenture/1598834166177.pdf',\n",
       " 'https://ssl.pstatic.net/imgstock/upload/research/debenture/1598834090618.pdf',\n",
       " 'https://ssl.pstatic.net/imgstock/upload/research/debenture/1598574763327.pdf',\n",
       " 'https://ssl.pstatic.net/imgstock/upload/research/debenture/1598574380797.pdf',\n",
       " 'https://ssl.pstatic.net/imgstock/upload/research/debenture/1598401605101.pdf',\n",
       " 'https://ssl.pstatic.net/imgstock/upload/research/debenture/1598315164570.pdf',\n",
       " 'https://ssl.pstatic.net/imgstock/upload/research/debenture/1598229135742.pdf',\n",
       " 'https://ssl.pstatic.net/imgstock/upload/research/debenture/1597969542299.pdf',\n",
       " 'https://ssl.pstatic.net/imgstock/upload/research/debenture/1597882283337.pdf',\n",
       " 'https://ssl.pstatic.net/imgstock/upload/research/debenture/1597796598959.pdf',\n",
       " 'https://ssl.pstatic.net/imgstock/upload/research/debenture/1597710099575.pdf',\n",
       " 'https://ssl.pstatic.net/imgstock/upload/research/debenture/1597277558728.pdf',\n",
       " 'https://ssl.pstatic.net/imgstock/upload/research/debenture/1597192517853.pdf',\n",
       " 'https://ssl.pstatic.net/imgstock/upload/research/debenture/1597192088730.pdf',\n",
       " 'https://ssl.pstatic.net/imgstock/upload/research/debenture/1597104892668.pdf',\n",
       " 'https://ssl.pstatic.net/imgstock/upload/research/debenture/1596673117537.pdf',\n",
       " 'https://ssl.pstatic.net/imgstock/upload/research/debenture/1596587379645.pdf',\n",
       " 'https://ssl.pstatic.net/imgstock/upload/research/debenture/1596500529256.pdf',\n",
       " 'https://ssl.pstatic.net/imgstock/upload/research/debenture/1596500037843.pdf',\n",
       " 'https://ssl.pstatic.net/imgstock/upload/research/debenture/1596155982914.pdf',\n",
       " 'https://ssl.pstatic.net/imgstock/upload/research/debenture/1596155411606.pdf',\n",
       " 'https://ssl.pstatic.net/imgstock/upload/research/debenture/1596069822780.pdf',\n",
       " 'https://ssl.pstatic.net/imgstock/upload/research/debenture/1595982486777.pdf',\n",
       " 'https://ssl.pstatic.net/imgstock/upload/research/debenture/1595895983761.pdf',\n",
       " 'https://ssl.pstatic.net/imgstock/upload/research/debenture/1595812801448.pdf',\n",
       " 'https://ssl.pstatic.net/imgstock/upload/research/debenture/1595551132820.pdf',\n",
       " 'https://ssl.pstatic.net/imgstock/upload/research/debenture/1595550590062.pdf',\n",
       " 'https://ssl.pstatic.net/imgstock/upload/research/debenture/1595377562785.pdf',\n",
       " 'https://ssl.pstatic.net/imgstock/upload/research/debenture/1595205128882.pdf',\n",
       " 'https://ssl.pstatic.net/imgstock/upload/research/debenture/1594947134511.pdf',\n",
       " 'https://ssl.pstatic.net/imgstock/upload/research/debenture/1594945897691.pdf',\n",
       " 'https://ssl.pstatic.net/imgstock/upload/research/debenture/1594858177174.pdf',\n",
       " 'https://ssl.pstatic.net/imgstock/upload/research/debenture/1594773162996.pdf',\n",
       " 'https://ssl.pstatic.net/imgstock/upload/research/debenture/1594772578176.pdf',\n",
       " 'https://ssl.pstatic.net/imgstock/upload/research/debenture/1594685992786.pdf',\n",
       " 'https://ssl.pstatic.net/imgstock/upload/research/debenture/1594600234934.pdf',\n",
       " 'https://ssl.pstatic.net/imgstock/upload/research/debenture/1594344329382.pdf',\n",
       " 'https://ssl.pstatic.net/imgstock/upload/research/debenture/1594342738474.pdf',\n",
       " 'https://ssl.pstatic.net/imgstock/upload/research/debenture/1594080872770.pdf',\n",
       " 'https://ssl.pstatic.net/imgstock/upload/research/debenture/1593995743225.pdf',\n",
       " 'https://ssl.pstatic.net/imgstock/upload/research/debenture/1593736951923.pdf',\n",
       " 'https://ssl.pstatic.net/imgstock/upload/research/debenture/1593735999791.pdf',\n",
       " 'https://ssl.pstatic.net/imgstock/upload/research/debenture/1593649839291.pdf',\n",
       " 'https://ssl.pstatic.net/imgstock/upload/research/debenture/1593563505428.pdf',\n",
       " 'https://ssl.pstatic.net/imgstock/upload/research/debenture/1593563467575.pdf',\n",
       " 'https://ssl.pstatic.net/imgstock/upload/research/debenture/1593476547969.pdf',\n",
       " 'https://ssl.pstatic.net/imgstock/upload/research/debenture/1593132894033.pdf',\n",
       " 'https://ssl.pstatic.net/imgstock/upload/research/debenture/1593132848040.pdf',\n",
       " 'https://ssl.pstatic.net/imgstock/upload/research/debenture/1593132151963.pdf',\n",
       " 'https://ssl.pstatic.net/imgstock/upload/research/debenture/1592958716574.pdf',\n",
       " 'https://ssl.pstatic.net/imgstock/upload/research/debenture/1592871715806.pdf',\n",
       " 'https://ssl.pstatic.net/imgstock/upload/research/debenture/1592786322785.pdf',\n",
       " 'https://ssl.pstatic.net/imgstock/upload/research/debenture/1592785394853.pdf',\n",
       " 'https://ssl.pstatic.net/imgstock/upload/research/debenture/1592526817224.pdf',\n",
       " 'https://ssl.pstatic.net/imgstock/upload/research/debenture/1592526669932.pdf',\n",
       " 'https://ssl.pstatic.net/imgstock/upload/research/debenture/1592439543080.pdf',\n",
       " 'https://ssl.pstatic.net/imgstock/upload/research/debenture/1592353466653.pdf',\n",
       " 'https://ssl.pstatic.net/imgstock/upload/research/debenture/1592352928159.pdf',\n",
       " 'https://ssl.pstatic.net/imgstock/upload/research/debenture/1592266757468.pdf',\n",
       " 'https://ssl.pstatic.net/imgstock/upload/research/debenture/1592181308326.pdf',\n",
       " 'https://ssl.pstatic.net/imgstock/upload/research/debenture/1591922391474.pdf',\n",
       " 'https://ssl.pstatic.net/imgstock/upload/research/debenture/1591921993464.pdf',\n",
       " 'https://ssl.pstatic.net/imgstock/upload/research/debenture/1591835691276.pdf',\n",
       " 'https://ssl.pstatic.net/imgstock/upload/research/debenture/1591835597335.pdf',\n",
       " 'https://ssl.pstatic.net/imgstock/upload/research/debenture/1591834496986.pdf',\n",
       " 'https://ssl.pstatic.net/imgstock/upload/research/debenture/1591748965119.pdf',\n",
       " 'https://ssl.pstatic.net/imgstock/upload/research/debenture/1591748904265.pdf',\n",
       " 'https://ssl.pstatic.net/imgstock/upload/research/debenture/1591661999224.pdf',\n",
       " 'https://ssl.pstatic.net/imgstock/upload/research/debenture/1591576745289.pdf',\n",
       " 'https://ssl.pstatic.net/imgstock/upload/research/debenture/1591576583254.pdf',\n",
       " 'https://ssl.pstatic.net/imgstock/upload/research/debenture/1591575678009.pdf',\n",
       " 'https://ssl.pstatic.net/imgstock/upload/research/debenture/1591316810205.pdf',\n",
       " 'https://ssl.pstatic.net/imgstock/upload/research/debenture/1591230514440.pdf',\n",
       " 'https://ssl.pstatic.net/imgstock/upload/research/debenture/1591146910906.pdf',\n",
       " 'https://ssl.pstatic.net/imgstock/upload/research/debenture/1591057378143.pdf',\n",
       " 'https://ssl.pstatic.net/imgstock/upload/research/debenture/1590711896954.pdf',\n",
       " 'https://ssl.pstatic.net/imgstock/upload/research/debenture/1590711603009.pdf',\n",
       " 'https://ssl.pstatic.net/imgstock/upload/research/debenture/1590711399541.pdf',\n",
       " 'https://ssl.pstatic.net/imgstock/upload/research/debenture/1590710823301.pdf',\n",
       " 'https://ssl.pstatic.net/imgstock/upload/research/debenture/1590628119829.pdf',\n",
       " 'https://ssl.pstatic.net/imgstock/upload/research/debenture/1590627613928.pdf',\n",
       " 'https://ssl.pstatic.net/imgstock/upload/research/debenture/1590541442378.pdf',\n",
       " 'https://ssl.pstatic.net/imgstock/upload/research/debenture/1590369514657.pdf',\n",
       " 'https://ssl.pstatic.net/imgstock/upload/research/debenture/1590108350553.pdf',\n",
       " 'https://ssl.pstatic.net/imgstock/upload/research/debenture/1589935161968.pdf',\n",
       " 'https://ssl.pstatic.net/imgstock/upload/research/debenture/1589934439813.pdf',\n",
       " 'https://ssl.pstatic.net/imgstock/upload/research/debenture/1589848042555.pdf',\n",
       " 'https://ssl.pstatic.net/imgstock/upload/research/debenture/1589847399483.pdf',\n",
       " 'https://ssl.pstatic.net/imgstock/upload/research/debenture/1589762770109.pdf',\n",
       " 'https://ssl.pstatic.net/imgstock/upload/research/debenture/1589418956285.pdf',\n",
       " 'https://ssl.pstatic.net/imgstock/upload/research/debenture/1589418221788.pdf',\n",
       " 'https://ssl.pstatic.net/imgstock/upload/research/debenture/1589418166375.pdf',\n",
       " 'https://ssl.pstatic.net/imgstock/upload/research/debenture/1589332404418.pdf',\n",
       " 'https://ssl.pstatic.net/imgstock/upload/research/debenture/1589244692230.pdf',\n",
       " 'https://ssl.pstatic.net/imgstock/upload/research/debenture/1589164519702.pdf',\n",
       " 'https://ssl.pstatic.net/imgstock/upload/research/debenture/1588811415569.pdf',\n",
       " 'https://ssl.pstatic.net/imgstock/upload/research/debenture/1588724997958.pdf',\n",
       " 'https://ssl.pstatic.net/imgstock/upload/research/debenture/1588552268062.pdf',\n",
       " 'https://ssl.pstatic.net/imgstock/upload/research/debenture/1588039177935.pdf',\n",
       " 'https://ssl.pstatic.net/imgstock/upload/research/debenture/1588037771788.pdf',\n",
       " 'https://ssl.pstatic.net/imgstock/upload/research/debenture/1588036249692.pdf',\n",
       " 'https://ssl.pstatic.net/imgstock/upload/research/debenture/1588035330187.pdf',\n",
       " 'https://ssl.pstatic.net/imgstock/upload/research/debenture/1588035296978.pdf',\n",
       " 'https://ssl.pstatic.net/imgstock/upload/research/debenture/1587950822864.pdf',\n",
       " 'https://ssl.pstatic.net/imgstock/upload/research/debenture/1587691071799.pdf',\n",
       " 'https://ssl.pstatic.net/imgstock/upload/research/debenture/1587604717674.pdf',\n",
       " 'https://ssl.pstatic.net/imgstock/upload/research/debenture/1587603310975.pdf',\n",
       " 'https://ssl.pstatic.net/imgstock/upload/research/debenture/1587515867944.pdf',\n",
       " 'https://ssl.pstatic.net/imgstock/upload/research/debenture/1587428720971.pdf',\n",
       " 'https://ssl.pstatic.net/imgstock/upload/research/debenture/1587360523186.pdf',\n",
       " 'https://ssl.pstatic.net/imgstock/upload/research/debenture/1587359323028.pdf',\n",
       " 'https://ssl.pstatic.net/imgstock/upload/research/debenture/1587351264645.pdf',\n",
       " 'https://ssl.pstatic.net/imgstock/upload/research/debenture/1587083553079.pdf',\n",
       " 'https://ssl.pstatic.net/imgstock/upload/research/debenture/1586997071882.pdf',\n",
       " 'https://ssl.pstatic.net/imgstock/upload/research/debenture/1586996521523.pdf',\n",
       " 'https://ssl.pstatic.net/imgstock/upload/research/debenture/1586823803747.pdf',\n",
       " 'https://ssl.pstatic.net/imgstock/upload/research/debenture/1586823258349.pdf',\n",
       " 'https://ssl.pstatic.net/imgstock/upload/research/debenture/1586739049516.pdf',\n",
       " 'https://ssl.pstatic.net/imgstock/upload/research/debenture/1586478875177.pdf',\n",
       " 'https://ssl.pstatic.net/imgstock/upload/research/debenture/1586478682738.pdf',\n",
       " 'https://ssl.pstatic.net/imgstock/upload/research/debenture/1586478544971.pdf',\n",
       " 'https://ssl.pstatic.net/imgstock/upload/research/debenture/1586478271049.pdf',\n",
       " 'https://ssl.pstatic.net/imgstock/upload/research/debenture/1586477703441.pdf',\n",
       " 'https://ssl.pstatic.net/imgstock/upload/research/debenture/1586391901564.pdf',\n",
       " 'https://ssl.pstatic.net/imgstock/upload/research/debenture/1586219629812.pdf',\n",
       " 'https://ssl.pstatic.net/imgstock/upload/research/debenture/1586218759705.pdf',\n",
       " 'https://ssl.pstatic.net/imgstock/upload/research/debenture/1586218410762.pdf',\n",
       " 'https://ssl.pstatic.net/imgstock/upload/research/debenture/1586133048312.pdf',\n",
       " 'https://ssl.pstatic.net/imgstock/upload/research/debenture/1586132468102.pdf',\n",
       " 'https://ssl.pstatic.net/imgstock/upload/research/debenture/1585873765667.pdf',\n",
       " 'https://ssl.pstatic.net/imgstock/upload/research/debenture/1585786455435.pdf',\n",
       " 'https://ssl.pstatic.net/imgstock/upload/research/debenture/1585701166742.pdf',\n",
       " 'https://ssl.pstatic.net/imgstock/upload/research/debenture/1585700591658.pdf',\n",
       " 'https://ssl.pstatic.net/imgstock/upload/research/debenture/1585615929426.pdf',\n",
       " 'https://ssl.pstatic.net/imgstock/upload/research/debenture/1585528754847.pdf',\n",
       " 'https://ssl.pstatic.net/imgstock/upload/research/debenture/1585528553013.pdf',\n",
       " 'https://ssl.pstatic.net/imgstock/upload/research/debenture/1585269475564.pdf',\n",
       " 'https://ssl.pstatic.net/imgstock/upload/research/debenture/1585268212724.pdf',\n",
       " 'https://ssl.pstatic.net/imgstock/upload/research/debenture/1585183863086.pdf',\n",
       " 'https://ssl.pstatic.net/imgstock/upload/research/debenture/1585096156252.pdf',\n",
       " 'https://ssl.pstatic.net/imgstock/upload/research/debenture/1585096123845.pdf',\n",
       " 'https://ssl.pstatic.net/imgstock/upload/research/debenture/1585008793143.pdf',\n",
       " 'https://ssl.pstatic.net/imgstock/upload/research/debenture/1584924192750.pdf',\n",
       " 'https://ssl.pstatic.net/imgstock/upload/research/debenture/1584923915373.pdf',\n",
       " 'https://ssl.pstatic.net/imgstock/upload/research/debenture/1584664975943.pdf',\n",
       " 'https://ssl.pstatic.net/imgstock/upload/research/debenture/1584664227860.pdf',\n",
       " 'https://ssl.pstatic.net/imgstock/upload/research/debenture/1584663561336.pdf',\n",
       " 'https://ssl.pstatic.net/imgstock/upload/research/debenture/1584577577714.pdf',\n",
       " 'https://ssl.pstatic.net/imgstock/upload/research/debenture/1584491504928.pdf',\n",
       " 'https://ssl.pstatic.net/imgstock/upload/research/debenture/1584405977394.pdf',\n",
       " 'https://ssl.pstatic.net/imgstock/upload/research/debenture/1584405626313.pdf',\n",
       " 'https://ssl.pstatic.net/imgstock/upload/research/debenture/1584405355440.pdf',\n",
       " 'https://ssl.pstatic.net/imgstock/upload/research/debenture/1584404951926.pdf',\n",
       " 'https://ssl.pstatic.net/imgstock/upload/research/debenture/1584404152039.pdf',\n",
       " 'https://ssl.pstatic.net/imgstock/upload/research/debenture/1584404043511.pdf',\n",
       " 'https://ssl.pstatic.net/imgstock/upload/research/debenture/1584317682573.pdf',\n",
       " 'https://ssl.pstatic.net/imgstock/upload/research/debenture/1584060836902.pdf',\n",
       " 'https://ssl.pstatic.net/imgstock/upload/research/debenture/1584060725206.pdf',\n",
       " 'https://ssl.pstatic.net/imgstock/upload/research/debenture/1584059526331.pdf',\n",
       " 'https://ssl.pstatic.net/imgstock/upload/research/debenture/1583973354463.pdf',\n",
       " 'https://ssl.pstatic.net/imgstock/upload/research/debenture/1583886435958.pdf',\n",
       " 'https://ssl.pstatic.net/imgstock/upload/research/debenture/1583800517330.pdf',\n",
       " 'https://ssl.pstatic.net/imgstock/upload/research/debenture/1583799799921.pdf',\n",
       " 'https://ssl.pstatic.net/imgstock/upload/research/debenture/1583799614187.pdf',\n",
       " 'https://ssl.pstatic.net/imgstock/upload/research/debenture/1583714533325.pdf',\n",
       " 'https://ssl.pstatic.net/imgstock/upload/research/debenture/1583713676011.pdf',\n",
       " 'https://ssl.pstatic.net/imgstock/upload/research/debenture/1583712933073.pdf',\n",
       " 'https://ssl.pstatic.net/imgstock/upload/research/debenture/1583712893346.pdf',\n",
       " 'https://ssl.pstatic.net/imgstock/upload/research/debenture/1583455869268.pdf',\n",
       " 'https://ssl.pstatic.net/imgstock/upload/research/debenture/1583369967115.pdf',\n",
       " 'https://ssl.pstatic.net/imgstock/upload/research/debenture/1583369487721.pdf',\n",
       " 'https://ssl.pstatic.net/imgstock/upload/research/debenture/1583284404349.pdf',\n",
       " 'https://ssl.pstatic.net/imgstock/upload/research/debenture/1583196667066.pdf',\n",
       " 'https://ssl.pstatic.net/imgstock/upload/research/debenture/1583116136536.pdf',\n",
       " 'https://ssl.pstatic.net/imgstock/upload/research/debenture/1582852425415.pdf',\n",
       " 'https://ssl.pstatic.net/imgstock/upload/research/debenture/1582767262823.pdf',\n",
       " 'https://ssl.pstatic.net/imgstock/upload/research/debenture/1582679838499.pdf',\n",
       " 'https://ssl.pstatic.net/imgstock/upload/research/debenture/1582593224618.pdf',\n",
       " 'https://ssl.pstatic.net/imgstock/upload/research/debenture/1582592131833.pdf',\n",
       " 'https://ssl.pstatic.net/imgstock/upload/research/debenture/1582508363449.pdf',\n",
       " 'https://ssl.pstatic.net/imgstock/upload/research/debenture/1582250830801.pdf',\n",
       " 'https://ssl.pstatic.net/imgstock/upload/research/debenture/1582248372338.pdf',\n",
       " 'https://ssl.pstatic.net/imgstock/upload/research/debenture/1582074251086.pdf',\n",
       " 'https://ssl.pstatic.net/imgstock/upload/research/debenture/1581906345246.pdf',\n",
       " 'https://ssl.pstatic.net/imgstock/upload/research/debenture/1581643816239.pdf',\n",
       " 'https://ssl.pstatic.net/imgstock/upload/research/debenture/1581469564540.pdf',\n",
       " 'https://ssl.pstatic.net/imgstock/upload/research/debenture/1581382465362.pdf',\n",
       " 'https://ssl.pstatic.net/imgstock/upload/research/debenture/1581300434223.pdf',\n",
       " 'https://ssl.pstatic.net/imgstock/upload/research/debenture/1581040421484.pdf',\n",
       " 'https://ssl.pstatic.net/imgstock/upload/research/debenture/1580954493611.pdf',\n",
       " 'https://ssl.pstatic.net/imgstock/upload/research/debenture/1580866953479.pdf',\n",
       " 'https://ssl.pstatic.net/imgstock/upload/research/debenture/1580777793896.pdf',\n",
       " 'https://ssl.pstatic.net/imgstock/upload/research/debenture/1580349031035.pdf',\n",
       " 'https://ssl.pstatic.net/imgstock/upload/research/debenture/1580348840788.pdf',\n",
       " 'https://ssl.pstatic.net/imgstock/upload/research/debenture/1580347877570.pdf',\n",
       " 'https://ssl.pstatic.net/imgstock/upload/research/debenture/1580346470804.pdf',\n",
       " 'https://ssl.pstatic.net/imgstock/upload/research/debenture/1580260708114.pdf',\n",
       " 'https://ssl.pstatic.net/imgstock/upload/research/debenture/1580175772556.pdf',\n",
       " 'https://ssl.pstatic.net/imgstock/upload/research/debenture/1580175608744.pdf',\n",
       " 'https://ssl.pstatic.net/imgstock/upload/research/debenture/1580173843097.pdf',\n",
       " 'https://ssl.pstatic.net/imgstock/upload/research/debenture/1579742478427.pdf',\n",
       " 'https://ssl.pstatic.net/imgstock/upload/research/debenture/1579656060563.pdf',\n",
       " 'https://ssl.pstatic.net/imgstock/upload/research/debenture/1579569250521.pdf',\n",
       " 'https://ssl.pstatic.net/imgstock/upload/research/debenture/1579484373569.pdf',\n",
       " 'https://ssl.pstatic.net/imgstock/upload/research/debenture/1579225160167.pdf',\n",
       " 'https://ssl.pstatic.net/imgstock/upload/research/debenture/1579224446796.pdf',\n",
       " 'https://ssl.pstatic.net/imgstock/upload/research/debenture/1579051022425.pdf',\n",
       " 'https://ssl.pstatic.net/imgstock/upload/research/debenture/1578880233345.pdf',\n",
       " 'https://ssl.pstatic.net/imgstock/upload/research/debenture/1578532603676.pdf',\n",
       " 'https://ssl.pstatic.net/imgstock/upload/research/debenture/1578532028632.pdf',\n",
       " 'https://ssl.pstatic.net/imgstock/upload/research/debenture/1578446999212.pdf',\n",
       " 'https://ssl.pstatic.net/imgstock/upload/research/debenture/1578272844701.pdf',\n",
       " 'https://ssl.pstatic.net/imgstock/upload/research/debenture/1578016019634.pdf',\n",
       " 'https://ssl.pstatic.net/imgstock/upload/research/debenture/1577928004737.pdf',\n",
       " 'https://ssl.pstatic.net/imgstock/upload/research/debenture/1577412023687.pdf',\n",
       " 'https://ssl.pstatic.net/imgstock/upload/research/debenture/1577323060447.pdf',\n",
       " 'https://ssl.pstatic.net/imgstock/upload/research/debenture/1576805440252.pdf',\n",
       " 'https://ssl.pstatic.net/imgstock/upload/research/debenture/1576804325203.pdf',\n",
       " 'https://ssl.pstatic.net/imgstock/upload/research/debenture/1576718476748.pdf',\n",
       " 'https://ssl.pstatic.net/imgstock/upload/research/debenture/1576460938332.pdf',\n",
       " 'https://ssl.pstatic.net/imgstock/upload/research/debenture/1576201448539.pdf',\n",
       " 'https://ssl.pstatic.net/imgstock/upload/research/debenture/1576201418511.pdf',\n",
       " 'https://ssl.pstatic.net/imgstock/upload/research/debenture/1576115603955.pdf',\n",
       " 'https://ssl.pstatic.net/imgstock/upload/research/debenture/1576115417393.pdf',\n",
       " 'https://ssl.pstatic.net/imgstock/upload/research/debenture/1576114137697.pdf',\n",
       " 'https://ssl.pstatic.net/imgstock/upload/research/debenture/1576113832009.pdf',\n",
       " 'https://ssl.pstatic.net/imgstock/upload/research/debenture/1576027064428.pdf',\n",
       " 'https://ssl.pstatic.net/imgstock/upload/research/debenture/1576027020015.pdf',\n",
       " 'https://ssl.pstatic.net/imgstock/upload/research/debenture/1575596274928.pdf',\n",
       " 'https://ssl.pstatic.net/imgstock/upload/research/debenture/1575596184531.pdf',\n",
       " 'https://ssl.pstatic.net/imgstock/upload/research/debenture/1575508920891.pdf',\n",
       " 'https://ssl.pstatic.net/imgstock/upload/research/debenture/1575508098447.pdf',\n",
       " 'https://ssl.pstatic.net/imgstock/upload/research/debenture/1575423637583.pdf',\n",
       " 'https://ssl.pstatic.net/imgstock/upload/research/debenture/1575335422995.pdf',\n",
       " 'https://ssl.pstatic.net/imgstock/upload/research/debenture/1575251584610.pdf',\n",
       " 'https://ssl.pstatic.net/imgstock/upload/research/debenture/1574992714315.pdf',\n",
       " 'https://ssl.pstatic.net/imgstock/upload/research/debenture/1574904989394.pdf',\n",
       " 'https://ssl.pstatic.net/imgstock/upload/research/debenture/1574818870938.pdf',\n",
       " 'https://ssl.pstatic.net/imgstock/upload/research/debenture/1574818746717.pdf',\n",
       " 'https://ssl.pstatic.net/imgstock/upload/research/debenture/1574647029939.pdf',\n",
       " 'https://ssl.pstatic.net/imgstock/upload/research/debenture/1574299837164.pdf',\n",
       " 'https://ssl.pstatic.net/imgstock/upload/research/debenture/1574212847314.pdf',\n",
       " 'https://ssl.pstatic.net/imgstock/upload/research/debenture/1573695817941.pdf',\n",
       " 'https://ssl.pstatic.net/imgstock/upload/research/debenture/1573608384037.pdf',\n",
       " 'https://ssl.pstatic.net/imgstock/upload/research/debenture/1573522293934.pdf',\n",
       " 'https://ssl.pstatic.net/imgstock/upload/research/debenture/1573437691555.pdf',\n",
       " 'https://ssl.pstatic.net/imgstock/upload/research/debenture/1573004702360.pdf',\n",
       " 'https://ssl.pstatic.net/imgstock/upload/research/debenture/1573003676855.pdf',\n",
       " 'https://ssl.pstatic.net/imgstock/upload/research/debenture/1572918513185.pdf',\n",
       " 'https://ssl.pstatic.net/imgstock/upload/research/debenture/1572832402120.pdf',\n",
       " 'https://ssl.pstatic.net/imgstock/upload/research/debenture/1572829926536.pdf',\n",
       " 'https://ssl.pstatic.net/imgstock/upload/research/debenture/1572571510780.pdf',\n",
       " 'https://ssl.pstatic.net/imgstock/upload/research/debenture/1572487492989.pdf',\n",
       " 'https://ssl.pstatic.net/imgstock/upload/research/debenture/1572485539625.pdf',\n",
       " 'https://ssl.pstatic.net/imgstock/upload/research/debenture/1572399194984.pdf',\n",
       " 'https://ssl.pstatic.net/imgstock/upload/research/debenture/1572315211737.pdf',\n",
       " 'https://ssl.pstatic.net/imgstock/upload/research/debenture/1572313190837.pdf',\n",
       " 'https://ssl.pstatic.net/imgstock/upload/research/debenture/1572313145929.pdf',\n",
       " 'https://ssl.pstatic.net/imgstock/upload/research/debenture/1572228762172.pdf',\n",
       " 'https://ssl.pstatic.net/imgstock/upload/research/debenture/1572228549528.pdf',\n",
       " 'https://ssl.pstatic.net/imgstock/upload/research/debenture/1572227389757.pdf',\n",
       " 'https://ssl.pstatic.net/imgstock/upload/research/debenture/1571967101780.pdf',\n",
       " 'https://ssl.pstatic.net/imgstock/upload/research/debenture/1571795521350.pdf',\n",
       " 'https://ssl.pstatic.net/imgstock/upload/research/debenture/1571622670052.pdf',\n",
       " 'https://ssl.pstatic.net/imgstock/upload/research/debenture/1571621753776.pdf',\n",
       " 'https://ssl.pstatic.net/imgstock/upload/research/debenture/1571276140535.pdf',\n",
       " 'https://ssl.pstatic.net/imgstock/upload/research/debenture/1571275435442.pdf',\n",
       " 'https://ssl.pstatic.net/imgstock/upload/research/debenture/1571274656272.pdf',\n",
       " 'https://ssl.pstatic.net/imgstock/upload/research/debenture/1571188886450.pdf',\n",
       " 'https://ssl.pstatic.net/imgstock/upload/research/debenture/1571102629712.pdf',\n",
       " 'https://ssl.pstatic.net/imgstock/upload/research/debenture/1571017172552.pdf',\n",
       " 'https://ssl.pstatic.net/imgstock/upload/research/debenture/1571015584988.pdf',\n",
       " 'https://ssl.pstatic.net/imgstock/upload/research/debenture/1570670453125.pdf',\n",
       " 'https://ssl.pstatic.net/imgstock/upload/research/debenture/1570151676639.pdf',\n",
       " 'https://ssl.pstatic.net/imgstock/upload/research/debenture/1569980158489.pdf',\n",
       " 'https://ssl.pstatic.net/imgstock/upload/research/debenture/1569808034284.pdf',\n",
       " 'https://ssl.pstatic.net/imgstock/upload/research/debenture/1569548768126.pdf',\n",
       " 'https://ssl.pstatic.net/imgstock/upload/research/debenture/1569460945560.pdf',\n",
       " 'https://ssl.pstatic.net/imgstock/upload/research/debenture/1569460437457.pdf',\n",
       " 'https://ssl.pstatic.net/imgstock/upload/research/debenture/1569374763779.pdf',\n",
       " 'https://ssl.pstatic.net/imgstock/upload/research/debenture/1569288515256.pdf',\n",
       " 'https://ssl.pstatic.net/imgstock/upload/research/debenture/1569202826549.pdf',\n",
       " 'https://ssl.pstatic.net/imgstock/upload/research/debenture/1568858533216.pdf',\n",
       " 'https://ssl.pstatic.net/imgstock/upload/research/debenture/1568858226748.pdf',\n",
       " 'https://ssl.pstatic.net/imgstock/upload/research/debenture/1568856154254.pdf',\n",
       " 'https://ssl.pstatic.net/imgstock/upload/research/debenture/1568856126856.pdf',\n",
       " 'https://ssl.pstatic.net/imgstock/upload/research/debenture/1568770164621.pdf',\n",
       " 'https://ssl.pstatic.net/imgstock/upload/research/debenture/1568682726386.pdf',\n",
       " 'https://ssl.pstatic.net/imgstock/upload/research/debenture/1568598372263.pdf',\n",
       " 'https://ssl.pstatic.net/imgstock/upload/research/debenture/1568596192898.pdf',\n",
       " 'https://ssl.pstatic.net/imgstock/upload/research/debenture/1568165959192.pdf',\n",
       " 'https://ssl.pstatic.net/imgstock/upload/research/debenture/1567734726173.pdf',\n",
       " 'https://ssl.pstatic.net/imgstock/upload/research/debenture/1567647282826.pdf',\n",
       " 'https://ssl.pstatic.net/imgstock/upload/research/debenture/1567560652004.pdf',\n",
       " 'https://ssl.pstatic.net/imgstock/upload/research/debenture/1567473980418.pdf',\n",
       " 'https://ssl.pstatic.net/imgstock/upload/research/debenture/1567042227952.pdf',\n",
       " 'https://ssl.pstatic.net/imgstock/upload/research/debenture/1566956648306.pdf',\n",
       " 'https://ssl.pstatic.net/imgstock/upload/research/debenture/1566954504411.pdf',\n",
       " 'https://ssl.pstatic.net/imgstock/upload/research/debenture/1566870638931.pdf',\n",
       " 'https://ssl.pstatic.net/imgstock/upload/research/debenture/1566785219493.pdf',\n",
       " 'https://ssl.pstatic.net/imgstock/upload/research/debenture/1566531123078.pdf',\n",
       " 'https://ssl.pstatic.net/imgstock/upload/research/debenture/1566528661044.pdf',\n",
       " 'https://ssl.pstatic.net/imgstock/upload/research/debenture/1566351038505.pdf',\n",
       " 'https://ssl.pstatic.net/imgstock/upload/research/debenture/1566178817815.pdf',\n",
       " 'https://ssl.pstatic.net/imgstock/upload/research/debenture/1565920703266.pdf',\n",
       " 'https://ssl.pstatic.net/imgstock/upload/research/debenture/1565747547940.pdf',\n",
       " 'https://ssl.pstatic.net/imgstock/upload/research/debenture/1565746235785.pdf',\n",
       " 'https://ssl.pstatic.net/imgstock/upload/research/debenture/1565659876046.pdf',\n",
       " 'https://ssl.pstatic.net/imgstock/upload/research/debenture/1565573975190.pdf',\n",
       " 'https://ssl.pstatic.net/imgstock/upload/research/debenture/1565229180372.pdf',\n",
       " 'https://ssl.pstatic.net/imgstock/upload/research/debenture/1564968905938.pdf',\n",
       " 'https://ssl.pstatic.net/imgstock/upload/research/debenture/1564624033804.pdf',\n",
       " 'https://ssl.pstatic.net/imgstock/upload/research/debenture/1564622828050.pdf',\n",
       " 'https://ssl.pstatic.net/imgstock/upload/research/debenture/1564537642936.pdf',\n",
       " 'https://ssl.pstatic.net/imgstock/upload/research/debenture/1564537601312.pdf',\n",
       " 'https://ssl.pstatic.net/imgstock/upload/research/debenture/1564450314339.pdf',\n",
       " 'https://ssl.pstatic.net/imgstock/upload/research/debenture/1564366794799.pdf',\n",
       " 'https://ssl.pstatic.net/imgstock/upload/research/debenture/1564366135177.pdf',\n",
       " 'https://ssl.pstatic.net/imgstock/upload/research/debenture/1563931901015.pdf',\n",
       " 'https://ssl.pstatic.net/imgstock/upload/research/debenture/1563764238678.pdf',\n",
       " 'https://ssl.pstatic.net/imgstock/upload/research/debenture/1563501406244.pdf',\n",
       " 'https://ssl.pstatic.net/imgstock/upload/research/debenture/1563501386595.pdf',\n",
       " 'https://ssl.pstatic.net/imgstock/upload/research/debenture/1563499132227.pdf',\n",
       " 'https://ssl.pstatic.net/imgstock/upload/research/debenture/1563413256305.pdf',\n",
       " 'https://ssl.pstatic.net/imgstock/upload/research/debenture/1563155575143.pdf',\n",
       " 'https://ssl.pstatic.net/imgstock/upload/research/debenture/1563155015123.pdf',\n",
       " 'https://ssl.pstatic.net/imgstock/upload/research/debenture/1562721613116.pdf',\n",
       " 'https://ssl.pstatic.net/imgstock/upload/research/debenture/1562634658596.pdf',\n",
       " 'https://ssl.pstatic.net/imgstock/upload/research/debenture/1562031250296.pdf',\n",
       " 'https://ssl.pstatic.net/imgstock/upload/research/debenture/1561947286411.pdf',\n",
       " 'https://ssl.pstatic.net/imgstock/upload/research/debenture/1561598797505.pdf',\n",
       " 'https://ssl.pstatic.net/imgstock/upload/research/debenture/1561512845757.pdf',\n",
       " 'https://ssl.pstatic.net/imgstock/upload/research/debenture/1561512262087.pdf',\n",
       " 'https://ssl.pstatic.net/imgstock/upload/research/debenture/1561427062366.pdf',\n",
       " 'https://ssl.pstatic.net/imgstock/upload/research/debenture/1561339871050.pdf',\n",
       " 'https://ssl.pstatic.net/imgstock/upload/research/debenture/1560995572271.pdf',\n",
       " 'https://ssl.pstatic.net/imgstock/upload/research/debenture/1560995082146.pdf',\n",
       " 'https://ssl.pstatic.net/imgstock/upload/research/debenture/1560907855579.pdf',\n",
       " 'https://ssl.pstatic.net/imgstock/upload/research/debenture/1560735735621.pdf',\n",
       " 'https://ssl.pstatic.net/imgstock/upload/research/debenture/1560483770555.pdf',\n",
       " 'https://ssl.pstatic.net/imgstock/upload/research/debenture/1560388869420.pdf',\n",
       " 'https://ssl.pstatic.net/imgstock/upload/research/debenture/1560136359125.pdf',\n",
       " 'https://ssl.pstatic.net/imgstock/upload/research/debenture/1560136199105.pdf',\n",
       " 'https://ssl.pstatic.net/imgstock/upload/research/debenture/1559874541830.pdf',\n",
       " 'https://ssl.pstatic.net/imgstock/upload/research/debenture/1559698481022.pdf',\n",
       " 'https://ssl.pstatic.net/imgstock/upload/research/debenture/1559092249894.pdf',\n",
       " 'https://ssl.pstatic.net/imgstock/upload/research/debenture/1558661092128.pdf',\n",
       " 'https://ssl.pstatic.net/imgstock/upload/research/debenture/1557885377253.pdf',\n",
       " 'https://ssl.pstatic.net/imgstock/upload/research/debenture/1557885305651.pdf',\n",
       " 'https://ssl.pstatic.net/imgstock/upload/research/debenture/1557798989848.pdf',\n",
       " 'https://ssl.pstatic.net/imgstock/upload/research/debenture/1557366089266.pdf',\n",
       " 'https://ssl.pstatic.net/imgstock/upload/research/debenture/1557278993213.pdf',\n",
       " 'https://ssl.pstatic.net/imgstock/upload/research/debenture/1556594179101.pdf',\n",
       " 'https://ssl.pstatic.net/imgstock/upload/research/debenture/1556247096150.pdf',\n",
       " 'https://ssl.pstatic.net/imgstock/upload/research/debenture/1556245207698.pdf',\n",
       " 'https://ssl.pstatic.net/imgstock/upload/research/debenture/1555903517353.pdf',\n",
       " 'https://ssl.pstatic.net/imgstock/upload/research/debenture/1555641615985.pdf',\n",
       " 'https://ssl.pstatic.net/imgstock/upload/research/debenture/1555639183019.pdf',\n",
       " 'https://ssl.pstatic.net/imgstock/upload/research/debenture/1555035012125.pdf',\n",
       " 'https://ssl.pstatic.net/imgstock/upload/research/debenture/1554864188051.pdf',\n",
       " 'https://ssl.pstatic.net/imgstock/upload/research/debenture/1554780595037.pdf',\n",
       " 'https://ssl.pstatic.net/imgstock/upload/research/debenture/1554430534681.pdf',\n",
       " 'https://ssl.pstatic.net/imgstock/upload/research/debenture/1554344433138.pdf',\n",
       " 'https://ssl.pstatic.net/imgstock/upload/research/debenture/1553837706955.pdf',\n",
       " 'https://ssl.pstatic.net/imgstock/upload/research/debenture/1553581466234.pdf',\n",
       " 'https://ssl.pstatic.net/imgstock/upload/research/debenture/1553480104786.pdf',\n",
       " 'https://ssl.pstatic.net/imgstock/upload/research/debenture/1553223046502.pdf',\n",
       " 'https://ssl.pstatic.net/imgstock/upload/research/debenture/1553221925515.pdf',\n",
       " 'https://ssl.pstatic.net/imgstock/upload/research/debenture/1552874556607.pdf',\n",
       " 'https://ssl.pstatic.net/imgstock/upload/research/debenture/1552617271574.pdf',\n",
       " 'https://ssl.pstatic.net/imgstock/upload/research/debenture/1552440239861.pdf',\n",
       " 'https://ssl.pstatic.net/imgstock/upload/research/debenture/1552266961071.pdf',\n",
       " 'https://ssl.pstatic.net/imgstock/upload/research/debenture/1552011652016.pdf',\n",
       " 'https://ssl.pstatic.net/imgstock/upload/research/debenture/1551752219336.pdf',\n",
       " 'https://ssl.pstatic.net/imgstock/upload/research/debenture/1551670473638.pdf',\n",
       " 'https://ssl.pstatic.net/imgstock/upload/research/debenture/1551670398969.pdf',\n",
       " 'https://ssl.pstatic.net/imgstock/upload/research/debenture/1551143521587.pdf',\n",
       " 'https://ssl.pstatic.net/imgstock/upload/research/debenture/1551142769267.pdf',\n",
       " 'https://ssl.pstatic.net/imgstock/upload/research/debenture/1550803916587.pdf',\n",
       " 'https://ssl.pstatic.net/imgstock/upload/research/debenture/1550802640822.pdf',\n",
       " 'https://ssl.pstatic.net/imgstock/upload/research/debenture/1550627659845.pdf',\n",
       " 'https://ssl.pstatic.net/imgstock/upload/research/debenture/1550112737520.pdf',\n",
       " 'https://ssl.pstatic.net/imgstock/upload/research/debenture/1550025162018.pdf',\n",
       " 'https://ssl.pstatic.net/imgstock/upload/research/debenture/1550025840336.pdf',\n",
       " 'https://ssl.pstatic.net/imgstock/upload/research/debenture/1549855735291.pdf',\n",
       " 'https://ssl.pstatic.net/imgstock/upload/research/debenture/1549591451639.pdf',\n",
       " 'https://ssl.pstatic.net/imgstock/upload/research/debenture/1549506123794.pdf',\n",
       " 'https://ssl.pstatic.net/imgstock/upload/research/debenture/1548989142864.pdf',\n",
       " 'https://ssl.pstatic.net/imgstock/upload/research/debenture/1548818998250.pdf',\n",
       " 'https://ssl.pstatic.net/imgstock/upload/research/debenture/1548383768631.pdf',\n",
       " 'https://ssl.pstatic.net/imgstock/upload/research/debenture/1548382489241.pdf',\n",
       " 'https://ssl.pstatic.net/imgstock/upload/research/debenture/1548210764083.pdf',\n",
       " 'https://ssl.pstatic.net/imgstock/upload/research/debenture/1548035158915.pdf',\n",
       " 'https://ssl.pstatic.net/imgstock/upload/research/debenture/1547780613088.pdf',\n",
       " 'https://ssl.pstatic.net/imgstock/upload/research/debenture/1547779211553.pdf',\n",
       " 'https://ssl.pstatic.net/imgstock/upload/research/debenture/1547779758167.pdf',\n",
       " 'https://ssl.pstatic.net/imgstock/upload/research/debenture/1547434501329.pdf',\n",
       " 'https://ssl.pstatic.net/imgstock/upload/research/debenture/1547430263133.pdf',\n",
       " 'https://ssl.pstatic.net/imgstock/upload/research/debenture/1547174215639.pdf',\n",
       " 'https://ssl.pstatic.net/imgstock/upload/research/debenture/1547198645388.pdf',\n",
       " 'https://ssl.pstatic.net/imgstock/upload/research/debenture/1547000144970.pdf',\n",
       " 'https://ssl.pstatic.net/imgstock/upload/research/debenture/1547000059271.pdf',\n",
       " 'https://ssl.pstatic.net/imgstock/upload/research/debenture/1546912308795.pdf',\n",
       " 'https://ssl.pstatic.net/imgstock/upload/research/debenture/1546827784943.pdf',\n",
       " 'https://ssl.pstatic.net/imgstock/upload/research/debenture/1546570826930.pdf',\n",
       " 'https://ssl.pstatic.net/imgstock/upload/research/debenture/1546568921952.pdf',\n",
       " 'https://ssl.pstatic.net/imgstock/upload/research/debenture/1546483219685.pdf',\n",
       " 'https://ssl.pstatic.net/imgstock/upload/research/debenture/1546423870693.pdf',\n",
       " 'https://ssl.pstatic.net/imgstock/upload/research/debenture/1546396387867.pdf',\n",
       " 'https://ssl.pstatic.net/imgstock/upload/research/debenture/1545963236469.pdf',\n",
       " 'https://ssl.pstatic.net/imgstock/upload/research/debenture/1545616735376.pdf',\n",
       " 'https://ssl.pstatic.net/imgstock/upload/research/debenture/1545358983817.pdf',\n",
       " 'https://ssl.pstatic.net/imgstock/upload/research/debenture/1545186821673.pdf',\n",
       " 'https://ssl.pstatic.net/imgstock/upload/research/debenture/1544754464348.pdf',\n",
       " 'https://ssl.pstatic.net/imgstock/upload/research/debenture/1544580128793.pdf',\n",
       " 'https://ssl.pstatic.net/imgstock/upload/research/debenture/1544580106582.pdf',\n",
       " 'https://ssl.pstatic.net/imgstock/upload/research/debenture/1544174365410.pdf',\n",
       " 'https://ssl.pstatic.net/imgstock/upload/research/debenture/1544147858677.pdf',\n",
       " 'https://ssl.pstatic.net/imgstock/upload/research/debenture/1544147814233.pdf',\n",
       " 'https://ssl.pstatic.net/imgstock/upload/research/debenture/1543978890194.pdf',\n",
       " 'https://ssl.pstatic.net/imgstock/upload/research/debenture/1543978869676.pdf',\n",
       " 'https://ssl.pstatic.net/imgstock/upload/research/debenture/1543804180981.pdf',\n",
       " 'https://ssl.pstatic.net/imgstock/upload/research/debenture/1543802689816.pdf',\n",
       " 'https://ssl.pstatic.net/imgstock/upload/research/debenture/1543547061101.pdf',\n",
       " 'https://ssl.pstatic.net/imgstock/upload/research/debenture/1543285173753.pdf',\n",
       " 'https://ssl.pstatic.net/imgstock/upload/research/debenture/1543195868468.pdf',\n",
       " 'https://ssl.pstatic.net/imgstock/upload/research/debenture/1542941578543.pdf',\n",
       " 'https://ssl.pstatic.net/imgstock/upload/research/debenture/1542335745515.pdf',\n",
       " 'https://ssl.pstatic.net/imgstock/upload/research/debenture/1542335709349.pdf',\n",
       " 'https://ssl.pstatic.net/imgstock/upload/research/debenture/1541732759868.pdf',\n",
       " 'https://ssl.pstatic.net/imgstock/upload/research/debenture/1541732477740.pdf',\n",
       " 'https://ssl.pstatic.net/imgstock/upload/research/debenture/1541732254314.pdf',\n",
       " 'https://ssl.pstatic.net/imgstock/upload/research/debenture/1541731663078.pdf',\n",
       " 'https://ssl.pstatic.net/imgstock/upload/research/debenture/1541130369035.pdf',\n",
       " 'https://ssl.pstatic.net/imgstock/upload/research/debenture/1541128686576.pdf',\n",
       " 'https://ssl.pstatic.net/imgstock/upload/research/debenture/1541040371531.pdf',\n",
       " 'https://ssl.pstatic.net/imgstock/upload/research/debenture/1540953943077.pdf',\n",
       " 'https://ssl.pstatic.net/imgstock/upload/research/debenture/1540951869248.pdf',\n",
       " 'https://ssl.pstatic.net/imgstock/upload/research/debenture/1540864992981.pdf',\n",
       " 'https://ssl.pstatic.net/imgstock/upload/research/debenture/1540864909655.pdf',\n",
       " 'https://ssl.pstatic.net/imgstock/upload/research/debenture/1540864207723.pdf',\n",
       " 'https://ssl.pstatic.net/imgstock/upload/research/debenture/1540522321058.pdf',\n",
       " 'https://ssl.pstatic.net/imgstock/upload/research/debenture/1540345562900.pdf',\n",
       " 'https://ssl.pstatic.net/imgstock/upload/research/debenture/1539916510909.pdf',\n",
       " 'https://ssl.pstatic.net/imgstock/upload/research/debenture/1539916762456.pdf',\n",
       " 'https://ssl.pstatic.net/imgstock/upload/research/debenture/1539916152168.pdf',\n",
       " 'https://ssl.pstatic.net/imgstock/upload/research/debenture/1539915413963.pdf',\n",
       " 'https://ssl.pstatic.net/imgstock/upload/research/debenture/1539740802955.pdf',\n",
       " 'https://ssl.pstatic.net/imgstock/upload/research/debenture/1539656855111.pdf',\n",
       " 'https://ssl.pstatic.net/imgstock/upload/research/debenture/1539312240962.pdf',\n",
       " 'https://ssl.pstatic.net/imgstock/upload/research/debenture/1539136501153.pdf',\n",
       " 'https://ssl.pstatic.net/imgstock/upload/research/debenture/1538708160225.pdf',\n",
       " 'https://ssl.pstatic.net/imgstock/upload/research/debenture/1538705256496.pdf',\n",
       " 'https://ssl.pstatic.net/imgstock/upload/research/debenture/1538621638982.pdf',\n",
       " 'https://ssl.pstatic.net/imgstock/upload/research/debenture/1538102031623.pdf',\n",
       " 'https://ssl.pstatic.net/imgstock/upload/research/debenture/1537496876552.pdf',\n",
       " 'https://ssl.pstatic.net/imgstock/upload/research/debenture/1537407842225.pdf',\n",
       " 'https://ssl.pstatic.net/imgstock/upload/research/debenture/1537407802536.pdf',\n",
       " 'https://ssl.pstatic.net/imgstock/upload/research/debenture/1537323435859.pdf',\n",
       " 'https://ssl.pstatic.net/imgstock/upload/research/debenture/1537323372046.pdf',\n",
       " 'https://ssl.pstatic.net/imgstock/upload/research/debenture/1536892721123.pdf',\n",
       " 'https://ssl.pstatic.net/imgstock/upload/research/debenture/1536890267070.pdf',\n",
       " 'https://ssl.pstatic.net/imgstock/upload/research/debenture/1536888644535.pdf',\n",
       " 'https://ssl.pstatic.net/imgstock/upload/research/debenture/1536805094401.pdf',\n",
       " 'https://ssl.pstatic.net/imgstock/upload/research/debenture/1536719453451.pdf',\n",
       " 'https://ssl.pstatic.net/imgstock/upload/research/debenture/1536719357556.pdf',\n",
       " 'https://ssl.pstatic.net/imgstock/upload/research/debenture/1536287876824.pdf',\n",
       " 'https://ssl.pstatic.net/imgstock/upload/research/debenture/1535941137425.pdf',\n",
       " 'https://ssl.pstatic.net/imgstock/upload/research/debenture/1535508617986.pdf',\n",
       " 'https://ssl.pstatic.net/imgstock/upload/research/debenture/1535331769586.pdf',\n",
       " 'https://ssl.pstatic.net/imgstock/upload/research/debenture/1535075694779.pdf',\n",
       " 'https://ssl.pstatic.net/imgstock/upload/research/debenture/1535075670653.pdf',\n",
       " 'https://ssl.pstatic.net/imgstock/upload/research/debenture/1535075193049.pdf',\n",
       " 'https://ssl.pstatic.net/imgstock/upload/research/debenture/1534904292032.pdf',\n",
       " 'https://ssl.pstatic.net/imgstock/upload/research/debenture/1534904269199.pdf',\n",
       " 'https://ssl.pstatic.net/imgstock/upload/research/debenture/1534729547948.pdf',\n",
       " 'https://ssl.pstatic.net/imgstock/upload/research/debenture/1534475160985.pdf',\n",
       " 'https://ssl.pstatic.net/imgstock/upload/research/debenture/1534473063229.pdf',\n",
       " 'https://ssl.pstatic.net/imgstock/upload/research/debenture/1534124774972.pdf',\n",
       " 'https://ssl.pstatic.net/imgstock/upload/research/debenture/1533868829031.pdf',\n",
       " 'https://ssl.pstatic.net/imgstock/upload/research/debenture/1533694586691.pdf',\n",
       " 'https://ssl.pstatic.net/imgstock/upload/research/debenture/1533694560070.pdf',\n",
       " 'https://ssl.pstatic.net/imgstock/upload/research/debenture/1533517929687.pdf',\n",
       " 'https://ssl.pstatic.net/imgstock/upload/research/debenture/1533265816208.pdf',\n",
       " 'https://ssl.pstatic.net/imgstock/upload/research/debenture/1533265789834.pdf',\n",
       " 'https://ssl.pstatic.net/imgstock/upload/research/debenture/1533174588350.pdf',\n",
       " 'https://ssl.pstatic.net/imgstock/upload/research/debenture/1533096039647.pdf',\n",
       " 'https://ssl.pstatic.net/imgstock/upload/research/debenture/1533090031487.pdf',\n",
       " 'https://ssl.pstatic.net/imgstock/upload/research/debenture/1532927022986.pdf',\n",
       " 'https://ssl.pstatic.net/imgstock/upload/research/debenture/1532915670174.pdf',\n",
       " 'https://ssl.pstatic.net/imgstock/upload/research/debenture/1532670068595.pdf',\n",
       " 'https://ssl.pstatic.net/imgstock/upload/research/debenture/1532575061216.pdf',\n",
       " 'https://ssl.pstatic.net/imgstock/upload/research/debenture/1532308941964.pdf',\n",
       " 'https://ssl.pstatic.net/imgstock/upload/research/debenture/1532053222737.pdf',\n",
       " 'https://ssl.pstatic.net/imgstock/upload/research/debenture/1531967118717.pdf',\n",
       " 'https://ssl.pstatic.net/imgstock/upload/research/debenture/1531879230915.pdf',\n",
       " 'https://ssl.pstatic.net/imgstock/upload/research/debenture/1531879208954.pdf',\n",
       " 'https://ssl.pstatic.net/imgstock/upload/research/debenture/1531449384022.pdf',\n",
       " 'https://ssl.pstatic.net/imgstock/upload/research/debenture/1531448831379.pdf',\n",
       " 'https://ssl.pstatic.net/imgstock/upload/research/debenture/1531447694474.pdf',\n",
       " 'https://ssl.pstatic.net/imgstock/upload/research/debenture/1531444682243.pdf',\n",
       " 'https://ssl.pstatic.net/imgstock/upload/research/debenture/1531363472237.pdf',\n",
       " 'https://ssl.pstatic.net/imgstock/upload/research/debenture/1531274195921.pdf',\n",
       " 'https://ssl.pstatic.net/imgstock/upload/research/debenture/1531274176796.pdf',\n",
       " 'https://ssl.pstatic.net/imgstock/upload/research/debenture/1531272475484.pdf',\n",
       " 'https://ssl.pstatic.net/imgstock/upload/research/debenture/1530841893407.pdf',\n",
       " 'https://ssl.pstatic.net/imgstock/upload/research/debenture/1530673140825.pdf',\n",
       " 'https://ssl.pstatic.net/imgstock/upload/research/debenture/1530673120274.pdf',\n",
       " 'https://ssl.pstatic.net/imgstock/upload/research/debenture/1530238056232.pdf',\n",
       " 'https://ssl.pstatic.net/imgstock/upload/research/debenture/1530066038425.pdf',\n",
       " 'https://ssl.pstatic.net/imgstock/upload/research/debenture/1530065929521.pdf',\n",
       " 'https://ssl.pstatic.net/imgstock/upload/research/debenture/1530065906868.pdf',\n",
       " 'https://ssl.pstatic.net/imgstock/upload/research/debenture/1529979996420.pdf',\n",
       " 'https://ssl.pstatic.net/imgstock/upload/research/debenture/1529891486814.pdf',\n",
       " 'https://ssl.pstatic.net/imgstock/upload/research/debenture/1529636769374.pdf',\n",
       " 'https://ssl.pstatic.net/imgstock/upload/research/debenture/1529462547368.pdf',\n",
       " 'https://ssl.pstatic.net/imgstock/upload/research/debenture/1529462480458.pdf',\n",
       " 'https://ssl.pstatic.net/imgstock/upload/research/debenture/1529461273660.pdf',\n",
       " 'https://ssl.pstatic.net/imgstock/upload/research/debenture/1529286666155.pdf',\n",
       " 'https://ssl.pstatic.net/imgstock/upload/research/debenture/1529029845965.pdf',\n",
       " 'https://ssl.pstatic.net/imgstock/upload/research/debenture/1529027520784.pdf',\n",
       " 'https://ssl.pstatic.net/imgstock/upload/research/debenture/1528943493525.pdf',\n",
       " 'https://ssl.pstatic.net/imgstock/upload/research/debenture/1528943076090.pdf',\n",
       " 'https://ssl.pstatic.net/imgstock/upload/research/debenture/1528942133125.pdf',\n",
       " 'https://ssl.pstatic.net/imgstock/upload/research/debenture/1528683602714.pdf',\n",
       " 'https://ssl.pstatic.net/imgstock/upload/research/debenture/1528681317586.pdf',\n",
       " 'https://ssl.pstatic.net/imgstock/upload/research/debenture/1528422093444.pdf',\n",
       " 'https://ssl.pstatic.net/imgstock/upload/research/debenture/1528420924660.pdf',\n",
       " 'https://ssl.pstatic.net/imgstock/upload/research/debenture/1528165964263.pdf',\n",
       " 'https://ssl.pstatic.net/imgstock/upload/research/debenture/1528163497678.pdf',\n",
       " 'https://ssl.pstatic.net/imgstock/upload/research/debenture/1528088852847.pdf',\n",
       " 'https://ssl.pstatic.net/imgstock/upload/research/debenture/1528077360913.pdf',\n",
       " 'https://ssl.pstatic.net/imgstock/upload/research/debenture/1527823951753.pdf',\n",
       " 'https://ssl.pstatic.net/imgstock/upload/research/debenture/1527822071841.pdf',\n",
       " 'https://ssl.pstatic.net/imgstock/upload/research/debenture/1527732965778.pdf',\n",
       " 'https://ssl.pstatic.net/imgstock/upload/research/debenture/1527645589219.pdf',\n",
       " 'https://ssl.pstatic.net/imgstock/upload/research/debenture/1527645553902.pdf',\n",
       " 'https://ssl.pstatic.net/imgstock/upload/research/debenture/1527471912757.pdf',\n",
       " 'https://ssl.pstatic.net/imgstock/upload/research/debenture/1527217314927.pdf',\n",
       " 'https://ssl.pstatic.net/imgstock/upload/research/debenture/1527215719226.pdf',\n",
       " 'https://ssl.pstatic.net/imgstock/upload/research/debenture/1527212720384.pdf',\n",
       " 'https://ssl.pstatic.net/imgstock/upload/research/debenture/1527041122643.pdf',\n",
       " 'https://ssl.pstatic.net/imgstock/upload/research/debenture/1527041093940.pdf',\n",
       " 'https://ssl.pstatic.net/imgstock/upload/research/debenture/1526868778695.pdf',\n",
       " 'https://ssl.pstatic.net/imgstock/upload/research/debenture/1526867739799.pdf',\n",
       " 'https://ssl.pstatic.net/imgstock/upload/research/debenture/1526865069348.pdf',\n",
       " 'https://ssl.pstatic.net/imgstock/upload/research/debenture/1526609022671.pdf',\n",
       " 'https://ssl.pstatic.net/imgstock/upload/research/debenture/1526448671012.pdf',\n",
       " 'https://ssl.pstatic.net/imgstock/upload/research/debenture/1526448601879.pdf',\n",
       " 'https://ssl.pstatic.net/imgstock/upload/research/debenture/1526365232415.pdf',\n",
       " 'https://ssl.pstatic.net/imgstock/upload/research/debenture/1526277780704.pdf',\n",
       " 'https://ssl.pstatic.net/imgstock/upload/research/debenture/1526264267583.pdf',\n",
       " 'https://ssl.pstatic.net/imgstock/upload/research/debenture/1526262063382.pdf',\n",
       " 'https://ssl.pstatic.net/imgstock/upload/research/debenture/1526019870600.pdf',\n",
       " 'https://ssl.pstatic.net/imgstock/upload/research/debenture/1525834455835.pdf',\n",
       " 'https://ssl.pstatic.net/imgstock/upload/research/debenture/1525756030649.pdf',\n",
       " 'https://ssl.pstatic.net/imgstock/upload/research/debenture/1525745857981.pdf',\n",
       " 'https://ssl.pstatic.net/imgstock/upload/research/debenture/1525398675961.pdf',\n",
       " 'https://ssl.pstatic.net/imgstock/upload/research/debenture/1525317966416.pdf',\n",
       " 'https://ssl.pstatic.net/imgstock/upload/research/debenture/1525312615096.pdf',\n",
       " 'https://ssl.pstatic.net/imgstock/upload/research/debenture/1525053137208.pdf',\n",
       " 'https://ssl.pstatic.net/imgstock/upload/research/debenture/1525052471576.pdf',\n",
       " 'https://ssl.pstatic.net/imgstock/upload/research/debenture/1524808026041.pdf',\n",
       " 'https://ssl.pstatic.net/imgstock/upload/research/debenture/1524626078476.pdf',\n",
       " 'https://ssl.pstatic.net/imgstock/upload/research/debenture/1524626055079.pdf',\n",
       " 'https://ssl.pstatic.net/imgstock/upload/research/debenture/1524625992432.pdf',\n",
       " 'https://ssl.pstatic.net/imgstock/upload/research/debenture/1524463774613.pdf',\n",
       " 'https://ssl.pstatic.net/imgstock/upload/research/debenture/1524448825598.pdf',\n",
       " 'https://ssl.pstatic.net/imgstock/upload/research/debenture/1524448342279.pdf',\n",
       " 'https://ssl.pstatic.net/imgstock/upload/research/debenture/1524191126482.pdf',\n",
       " 'https://ssl.pstatic.net/imgstock/upload/research/debenture/1524106665677.pdf',\n",
       " 'http://imgstock.naver.com/upload/research/debenture/1524017068313.pdf',\n",
       " 'http://imgstock.naver.com/upload/research/debenture/1524017047683.pdf',\n",
       " 'http://imgstock.naver.com/upload/research/debenture/1523844893191.pdf',\n",
       " 'http://imgstock.naver.com/upload/research/debenture/1523585027890.pdf',\n",
       " 'http://imgstock.naver.com/upload/research/debenture/1523584279600.pdf',\n",
       " 'http://imgstock.naver.com/upload/research/debenture/1523583250175.pdf',\n",
       " 'http://imgstock.naver.com/upload/research/debenture/1523410641330.pdf',\n",
       " 'http://imgstock.naver.com/upload/research/debenture/1523410616808.pdf',\n",
       " 'http://imgstock.naver.com/upload/research/debenture/1523238695843.pdf',\n",
       " 'http://imgstock.naver.com/upload/research/debenture/1523237571011.pdf',\n",
       " 'http://imgstock.naver.com/upload/research/debenture/1522983323293.pdf',\n",
       " 'http://imgstock.naver.com/upload/research/debenture/1522805685915.pdf',\n",
       " 'http://imgstock.naver.com/upload/research/debenture/1522636663501.pdf',\n",
       " 'http://imgstock.naver.com/upload/research/debenture/1522634858335.pdf',\n",
       " 'http://imgstock.naver.com/upload/research/debenture/1522375883746.pdf',\n",
       " 'http://imgstock.naver.com/upload/research/debenture/1522374128240.pdf',\n",
       " 'http://imgstock.naver.com/upload/research/debenture/1522203463332.pdf',\n",
       " 'http://imgstock.naver.com/upload/research/debenture/1522203422158.pdf',\n",
       " 'http://imgstock.naver.com/upload/research/debenture/1522203342115.pdf',\n",
       " 'http://imgstock.naver.com/upload/research/debenture/1522030461473.pdf',\n",
       " 'http://imgstock.naver.com/upload/research/debenture/1522029161437.pdf',\n",
       " 'http://imgstock.naver.com/upload/research/debenture/1521773695314.pdf',\n",
       " 'http://imgstock.naver.com/upload/research/debenture/1521684331817.pdf',\n",
       " 'http://imgstock.naver.com/upload/research/debenture/1521683482443.pdf',\n",
       " 'http://imgstock.naver.com/upload/research/debenture/1521599018095.pdf',\n",
       " 'http://imgstock.naver.com/upload/research/debenture/1521598981682.pdf',\n",
       " 'http://imgstock.naver.com/upload/research/debenture/1521598858064.pdf',\n",
       " 'http://imgstock.naver.com/upload/research/debenture/1521424217627.pdf',\n",
       " 'http://imgstock.naver.com/upload/research/debenture/1521423872743.pdf',\n",
       " 'http://imgstock.naver.com/upload/research/debenture/1521423828036.pdf',\n",
       " 'http://imgstock.naver.com/upload/research/debenture/1521166753602.pdf',\n",
       " 'http://imgstock.naver.com/upload/research/debenture/1520993526065.pdf',\n",
       " 'http://imgstock.naver.com/upload/research/debenture/1520993431592.pdf',\n",
       " 'http://imgstock.naver.com/upload/research/debenture/1520993240394.pdf',\n",
       " 'http://imgstock.naver.com/upload/research/debenture/1520817599421.pdf',\n",
       " 'http://imgstock.naver.com/upload/research/debenture/1520817550063.pdf',\n",
       " 'http://imgstock.naver.com/upload/research/debenture/1520817272372.pdf',\n",
       " 'http://imgstock.naver.com/upload/research/debenture/1520817215884.pdf',\n",
       " 'http://imgstock.naver.com/upload/research/debenture/1520566273913.pdf',\n",
       " 'http://imgstock.naver.com/upload/research/debenture/1520557828906.pdf',\n",
       " 'http://imgstock.naver.com/upload/research/debenture/1520389221421.pdf',\n",
       " 'http://imgstock.naver.com/upload/research/debenture/1520217225924.pdf',\n",
       " 'http://imgstock.naver.com/upload/research/debenture/1520215200385.pdf',\n",
       " 'http://imgstock.naver.com/upload/research/debenture/1520214288137.pdf',\n",
       " 'http://imgstock.naver.com/upload/research/debenture/1519955325616.pdf',\n",
       " 'http://imgstock.naver.com/upload/research/debenture/1519786200220.pdf',\n",
       " 'http://imgstock.naver.com/upload/research/debenture/1519786095140.pdf',\n",
       " 'http://imgstock.naver.com/upload/research/debenture/1519696369727.pdf',\n",
       " 'http://imgstock.naver.com/upload/research/debenture/1519610024778.pdf',\n",
       " 'http://imgstock.naver.com/upload/research/debenture/1519609817213.pdf',\n",
       " 'http://imgstock.naver.com/upload/research/debenture/1519362408256.pdf',\n",
       " 'http://imgstock.naver.com/upload/research/debenture/1519354108834.pdf',\n",
       " 'http://imgstock.naver.com/upload/research/debenture/1519265104277.pdf',\n",
       " 'http://imgstock.naver.com/upload/research/debenture/1519178501151.pdf',\n",
       " 'http://imgstock.naver.com/upload/research/debenture/1519178475913.pdf',\n",
       " 'http://imgstock.naver.com/upload/research/debenture/1519178367100.pdf',\n",
       " 'http://imgstock.naver.com/upload/research/debenture/1519175879903.pdf',\n",
       " 'http://imgstock.naver.com/upload/research/debenture/1519004220323.pdf',\n",
       " 'http://imgstock.naver.com/upload/research/debenture/1518579595449.pdf',\n",
       " 'http://imgstock.naver.com/upload/research/debenture/1518577013870.pdf',\n",
       " 'http://imgstock.naver.com/upload/research/debenture/1518401436785.pdf',\n",
       " 'http://imgstock.naver.com/upload/research/debenture/1518401071308.pdf',\n",
       " 'http://imgstock.naver.com/upload/research/debenture/1518400957843.pdf',\n",
       " 'http://imgstock.naver.com/upload/research/debenture/1518145190132.pdf',\n",
       " 'http://imgstock.naver.com/upload/research/debenture/1518139369923.pdf',\n",
       " 'http://imgstock.naver.com/upload/research/debenture/1517970244882.pdf',\n",
       " 'http://imgstock.naver.com/upload/research/debenture/1517970189053.pdf',\n",
       " 'http://imgstock.naver.com/upload/research/debenture/1517798746914.pdf',\n",
       " 'http://imgstock.naver.com/upload/research/debenture/1517797001762.pdf',\n",
       " 'http://imgstock.naver.com/upload/research/debenture/1517795287026.pdf',\n",
       " 'http://imgstock.naver.com/upload/research/debenture/1517795016780.pdf',\n",
       " 'http://imgstock.naver.com/upload/research/debenture/1517794575704.pdf',\n",
       " 'http://imgstock.naver.com/upload/research/debenture/1517794152144.pdf',\n",
       " 'http://imgstock.naver.com/upload/research/debenture/1517543955038.pdf',\n",
       " 'http://imgstock.naver.com/upload/research/debenture/1517543802118.pdf',\n",
       " 'http://imgstock.naver.com/upload/research/debenture/1517457208949.pdf',\n",
       " 'http://imgstock.naver.com/upload/research/debenture/1517457169546.pdf',\n",
       " 'http://imgstock.naver.com/upload/research/debenture/1517457024108.pdf',\n",
       " 'http://imgstock.naver.com/upload/research/debenture/1517453676816.pdf',\n",
       " 'http://imgstock.naver.com/upload/research/debenture/1517450068159.pdf',\n",
       " 'http://imgstock.naver.com/upload/research/debenture/1517364869965.pdf',\n",
       " 'http://imgstock.naver.com/upload/research/debenture/1517280512037.pdf',\n",
       " 'http://imgstock.naver.com/upload/research/debenture/1517190634020.pdf',\n",
       " 'http://imgstock.naver.com/upload/research/debenture/1517190058717.pdf',\n",
       " 'http://imgstock.naver.com/upload/research/debenture/1517189904231.pdf',\n",
       " 'http://imgstock.naver.com/upload/research/debenture/1516943376584.pdf',\n",
       " 'http://imgstock.naver.com/upload/research/debenture/1516937489682.pdf',\n",
       " 'http://imgstock.naver.com/upload/research/debenture/1516770146727.pdf',\n",
       " 'http://imgstock.naver.com/upload/research/debenture/1516765661872.pdf',\n",
       " 'http://imgstock.naver.com/upload/research/debenture/1516761322137.pdf',\n",
       " 'http://imgstock.naver.com/upload/research/debenture/1516761227539.pdf',\n",
       " 'http://imgstock.naver.com/upload/research/debenture/1516759929032.pdf',\n",
       " 'http://imgstock.naver.com/upload/research/debenture/1516674228602.pdf',\n",
       " 'http://imgstock.naver.com/upload/research/debenture/1516584744361.pdf',\n",
       " 'http://imgstock.naver.com/upload/research/debenture/1516328476203.pdf',\n",
       " 'http://imgstock.naver.com/upload/research/debenture/1516155477552.pdf',\n",
       " 'http://imgstock.naver.com/upload/research/debenture/1516155178552.pdf',\n",
       " 'http://imgstock.naver.com/upload/research/debenture/1515982028858.pdf',\n",
       " 'http://imgstock.naver.com/upload/research/debenture/1515981402971.pdf',\n",
       " 'http://imgstock.naver.com/upload/research/debenture/1515981355712.pdf',\n",
       " 'http://imgstock.naver.com/upload/research/debenture/1515980552792.pdf',\n",
       " 'http://imgstock.naver.com/upload/research/debenture/1515725946004.pdf',\n",
       " 'http://imgstock.naver.com/upload/research/debenture/1515723378410.pdf',\n",
       " 'http://imgstock.naver.com/upload/research/debenture/1515638077025.pdf',\n",
       " 'http://imgstock.naver.com/upload/research/debenture/1515637985383.pdf',\n",
       " 'http://imgstock.naver.com/upload/research/debenture/1515637156568.pdf',\n",
       " 'http://imgstock.naver.com/upload/research/debenture/1515552376504.pdf',\n",
       " 'http://imgstock.naver.com/upload/research/debenture/1515549293334.pdf',\n",
       " 'http://imgstock.naver.com/upload/research/debenture/1515376765971.pdf',\n",
       " 'http://imgstock.naver.com/upload/research/debenture/1515376690619.pdf',\n",
       " 'http://imgstock.naver.com/upload/research/debenture/1515118565099.pdf',\n",
       " 'http://imgstock.naver.com/upload/research/debenture/1515031815744.pdf',\n",
       " 'http://imgstock.naver.com/upload/research/debenture/1514946177865.pdf',\n",
       " 'http://imgstock.naver.com/upload/research/debenture/1514944923424.pdf',\n",
       " 'http://imgstock.naver.com/upload/research/debenture/1514862476342.pdf',\n",
       " 'http://imgstock.naver.com/upload/research/debenture/1515138222996.pdf',\n",
       " 'http://imgstock.naver.com/upload/research/debenture/1514339254450.pdf',\n",
       " 'http://imgstock.naver.com/upload/research/debenture/1514252144509.pdf',\n",
       " 'http://imgstock.naver.com/upload/research/debenture/1513734929105.pdf',\n",
       " 'http://imgstock.naver.com/upload/research/debenture/1513733575212.pdf',\n",
       " 'http://imgstock.naver.com/upload/research/debenture/1513560615141.pdf',\n",
       " 'http://imgstock.naver.com/upload/research/debenture/1513303183819.pdf',\n",
       " 'http://imgstock.naver.com/upload/research/debenture/1513302272756.pdf',\n",
       " 'http://imgstock.naver.com/upload/research/debenture/1513231547466.pdf',\n",
       " 'http://imgstock.naver.com/upload/research/debenture/1513216121339.pdf',\n",
       " 'http://imgstock.naver.com/upload/research/debenture/1513129304346.pdf',\n",
       " 'http://imgstock.naver.com/upload/research/debenture/1512696828269.pdf',\n",
       " 'http://imgstock.naver.com/upload/research/debenture/1512611345675.pdf',\n",
       " 'http://imgstock.naver.com/upload/research/debenture/1512525889409.pdf',\n",
       " 'http://imgstock.naver.com/upload/research/debenture/1512352538538.pdf',\n",
       " 'http://imgstock.naver.com/upload/research/debenture/1512352341052.pdf',\n",
       " 'http://imgstock.naver.com/upload/research/debenture/1512106459130.pdf',\n",
       " 'http://imgstock.naver.com/upload/research/debenture/1512106155114.pdf',\n",
       " 'http://imgstock.naver.com/upload/research/debenture/1512105801382.pdf',\n",
       " 'http://imgstock.naver.com/upload/research/debenture/1512092225571.pdf',\n",
       " 'http://imgstock.naver.com/upload/research/debenture/1512007294369.pdf',\n",
       " 'http://imgstock.naver.com/upload/research/debenture/1512005568380.pdf',\n",
       " 'http://imgstock.naver.com/upload/research/debenture/1511933628397.pdf',\n",
       " 'http://imgstock.naver.com/upload/research/debenture/1511920891694.pdf',\n",
       " 'http://imgstock.naver.com/upload/research/debenture/1511848176718.pdf',\n",
       " 'http://imgstock.naver.com/upload/research/debenture/1511751771960.pdf',\n",
       " 'http://imgstock.naver.com/upload/research/debenture/1511750259160.pdf',\n",
       " 'http://imgstock.naver.com/upload/research/debenture/1511401850869.pdf',\n",
       " 'http://imgstock.naver.com/upload/research/debenture/1511328990475.pdf',\n",
       " 'http://imgstock.naver.com/upload/research/debenture/1511328840807.pdf',\n",
       " 'http://imgstock.naver.com/upload/research/debenture/1511328077413.pdf',\n",
       " 'http://imgstock.naver.com/upload/research/debenture/1511229411728.pdf',\n",
       " 'http://imgstock.naver.com/upload/research/debenture/1511229368106.pdf',\n",
       " 'http://imgstock.naver.com/upload/research/debenture/1511157089154.pdf',\n",
       " 'http://imgstock.naver.com/upload/research/debenture/1511141790676.pdf',\n",
       " 'http://imgstock.naver.com/upload/research/debenture/1510883606847.pdf',\n",
       " 'http://imgstock.naver.com/upload/research/debenture/1510883282891.pdf',\n",
       " 'http://imgstock.naver.com/upload/research/debenture/1510882803952.pdf',\n",
       " 'http://imgstock.naver.com/upload/research/debenture/1510882772025.pdf',\n",
       " 'http://imgstock.naver.com/upload/research/debenture/1510796895243.pdf',\n",
       " 'http://imgstock.naver.com/upload/research/debenture/1510724701937.pdf',\n",
       " 'http://imgstock.naver.com/upload/research/debenture/1510722963971.pdf',\n",
       " 'http://imgstock.naver.com/upload/research/debenture/1510641647705.pdf',\n",
       " 'http://imgstock.naver.com/upload/research/debenture/1510640934722.pdf',\n",
       " 'http://imgstock.naver.com/upload/research/debenture/1510640065769.pdf',\n",
       " 'http://imgstock.naver.com/upload/research/debenture/1510640025333.pdf',\n",
       " 'http://imgstock.naver.com/upload/research/debenture/1510639990785.pdf',\n",
       " 'http://imgstock.naver.com/upload/research/debenture/1510624246637.pdf',\n",
       " 'http://imgstock.naver.com/upload/research/debenture/1510550531695.pdf',\n",
       " 'http://imgstock.naver.com/upload/research/debenture/1510539429993.pdf',\n",
       " 'http://imgstock.naver.com/upload/research/debenture/1510292042867.pdf',\n",
       " 'http://imgstock.naver.com/upload/research/debenture/1510291775998.pdf',\n",
       " 'http://imgstock.naver.com/upload/research/debenture/1510206691674.pdf',\n",
       " 'http://imgstock.naver.com/upload/research/debenture/1510119420086.pdf',\n",
       " 'http://imgstock.naver.com/upload/research/debenture/1510105918360.pdf',\n",
       " 'http://imgstock.naver.com/upload/research/debenture/1510033270350.pdf',\n",
       " 'http://imgstock.naver.com/upload/research/debenture/1509947633362.pdf',\n",
       " 'http://imgstock.naver.com/upload/research/debenture/1509946331059.pdf',\n",
       " 'http://imgstock.naver.com/upload/research/debenture/1509932728081.pdf',\n",
       " 'http://imgstock.naver.com/upload/research/debenture/1509932655145.pdf',\n",
       " 'http://imgstock.naver.com/upload/research/debenture/1509679353696.pdf',\n",
       " 'http://imgstock.naver.com/upload/research/debenture/1509674577532.pdf',\n",
       " 'http://imgstock.naver.com/upload/research/debenture/1509673062982.pdf',\n",
       " 'http://imgstock.naver.com/upload/research/debenture/1509602607828.pdf',\n",
       " 'http://imgstock.naver.com/upload/research/debenture/1509601732565.pdf',\n",
       " 'http://imgstock.naver.com/upload/research/debenture/1509600797729.pdf',\n",
       " 'http://imgstock.naver.com/upload/research/debenture/1509599344121.pdf',\n",
       " 'http://imgstock.naver.com/upload/research/debenture/1509586342418.pdf',\n",
       " 'http://imgstock.naver.com/upload/research/debenture/1509521786770.pdf',\n",
       " 'http://imgstock.naver.com/upload/research/debenture/1509432955441.pdf',\n",
       " 'http://imgstock.naver.com/upload/research/debenture/1509432913609.pdf',\n",
       " 'http://imgstock.naver.com/upload/research/debenture/1509327536238.pdf',\n",
       " 'http://imgstock.naver.com/upload/research/debenture/1509327363311.pdf',\n",
       " 'http://imgstock.naver.com/upload/research/debenture/1509326897301.pdf',\n",
       " 'http://imgstock.naver.com/upload/research/debenture/1509090166506.pdf',\n",
       " 'http://imgstock.naver.com/upload/research/debenture/1509089735442.pdf',\n",
       " 'http://imgstock.naver.com/upload/research/debenture/1509085710011.pdf',\n",
       " 'http://imgstock.naver.com/upload/research/debenture/1509081473237.pdf',\n",
       " 'http://imgstock.naver.com/upload/research/debenture/1508995292129.pdf',\n",
       " 'http://imgstock.naver.com/upload/research/debenture/1508909402639.pdf',\n",
       " 'http://imgstock.naver.com/upload/research/debenture/1508824140824.pdf',\n",
       " 'http://imgstock.naver.com/upload/research/debenture/1508809993498.pdf',\n",
       " 'http://imgstock.naver.com/upload/research/debenture/1508809313480.pdf',\n",
       " 'http://imgstock.naver.com/upload/research/debenture/1508808663930.pdf',\n",
       " 'http://imgstock.naver.com/upload/research/debenture/1508723732333.pdf',\n",
       " 'http://imgstock.naver.com/upload/research/debenture/1508722684598.pdf',\n",
       " 'http://imgstock.naver.com/upload/research/debenture/1508722585248.pdf',\n",
       " 'http://imgstock.naver.com/upload/research/debenture/1508722153759.pdf',\n",
       " 'http://imgstock.naver.com/upload/research/debenture/1508477865628.pdf',\n",
       " 'http://imgstock.naver.com/upload/research/debenture/1508477100761.pdf',\n",
       " 'http://imgstock.naver.com/upload/research/debenture/1508476402455.pdf',\n",
       " 'http://imgstock.naver.com/upload/research/debenture/1508464742318.pdf',\n",
       " 'http://imgstock.naver.com/upload/research/debenture/1508464283898.pdf',\n",
       " 'http://imgstock.naver.com/upload/research/debenture/1508304738549.pdf',\n",
       " 'http://imgstock.naver.com/upload/research/debenture/1508132033981.pdf',\n",
       " 'http://imgstock.naver.com/upload/research/debenture/1508117959134.pdf',\n",
       " 'http://imgstock.naver.com/upload/research/debenture/1507859688627.pdf',\n",
       " 'http://imgstock.naver.com/upload/research/debenture/1507857943473.pdf',\n",
       " 'http://imgstock.naver.com/upload/research/debenture/1507686886208.pdf',\n",
       " 'http://imgstock.naver.com/upload/research/debenture/1507619123153.pdf',\n",
       " 'http://imgstock.naver.com/upload/research/debenture/1507616772736.pdf',\n",
       " 'http://imgstock.naver.com/upload/research/debenture/1507599555943.pdf',\n",
       " 'http://imgstock.naver.com/upload/research/debenture/1506649555494.pdf',\n",
       " 'http://imgstock.naver.com/upload/research/debenture/1506562152193.pdf',\n",
       " 'http://imgstock.naver.com/upload/research/debenture/1506489701508.pdf',\n",
       " 'http://imgstock.naver.com/upload/research/debenture/1506489672661.pdf',\n",
       " 'http://imgstock.naver.com/upload/research/debenture/1506402617923.pdf',\n",
       " 'http://imgstock.naver.com/upload/research/debenture/1506390703593.pdf',\n",
       " 'http://imgstock.naver.com/upload/research/debenture/1506315979342.pdf',\n",
       " 'http://imgstock.naver.com/upload/research/debenture/1506303330398.pdf',\n",
       " 'http://imgstock.naver.com/upload/research/debenture/1506052085367.pdf',\n",
       " 'http://imgstock.naver.com/upload/research/debenture/1505959504226.pdf',\n",
       " 'http://imgstock.naver.com/upload/research/debenture/1505958012466.pdf',\n",
       " 'http://imgstock.naver.com/upload/research/debenture/1505885114623.pdf',\n",
       " 'http://imgstock.naver.com/upload/research/debenture/1505698534229.pdf',\n",
       " 'http://imgstock.naver.com/upload/research/debenture/1505698368300.pdf',\n",
       " 'http://imgstock.naver.com/upload/research/debenture/1505354286558.pdf',\n",
       " 'http://imgstock.naver.com/upload/research/debenture/1505353894711.pdf',\n",
       " 'http://imgstock.naver.com/upload/research/debenture/1505267285982.pdf',\n",
       " 'http://imgstock.naver.com/upload/research/debenture/1505109829169.pdf',\n",
       " 'http://imgstock.naver.com/upload/research/debenture/1505109246255.pdf',\n",
       " 'http://imgstock.naver.com/upload/research/debenture/1505109041319.pdf',\n",
       " 'http://imgstock.naver.com/upload/research/debenture/1505108274679.pdf',\n",
       " 'http://imgstock.naver.com/upload/research/debenture/1505094505963.pdf',\n",
       " 'http://imgstock.naver.com/upload/research/debenture/1505094210650.pdf',\n",
       " 'http://imgstock.naver.com/upload/research/debenture/1505093908921.pdf',\n",
       " 'http://imgstock.naver.com/upload/research/debenture/1504836019658.pdf',\n",
       " 'http://imgstock.naver.com/upload/research/debenture/1504835012618.pdf',\n",
       " 'http://imgstock.naver.com/upload/research/debenture/1504834892079.pdf',\n",
       " 'http://imgstock.naver.com/upload/research/debenture/1504749025828.pdf',\n",
       " 'http://imgstock.naver.com/upload/research/debenture/1504589754638.pdf',\n",
       " 'http://imgstock.naver.com/upload/research/debenture/1504505287611.pdf',\n",
       " 'http://imgstock.naver.com/upload/research/debenture/1504489199160.pdf',\n",
       " 'http://imgstock.naver.com/upload/research/debenture/1504242896833.pdf',\n",
       " 'http://imgstock.naver.com/upload/research/debenture/1504230451479.pdf',\n",
       " 'http://imgstock.naver.com/upload/research/debenture/1504229573356.pdf',\n",
       " 'http://imgstock.naver.com/upload/research/debenture/1504070774870.pdf',\n",
       " 'http://imgstock.naver.com/upload/research/debenture/1504058716316.pdf',\n",
       " 'http://imgstock.naver.com/upload/research/debenture/1503972204118.pdf',\n",
       " 'http://imgstock.naver.com/upload/research/debenture/1503897750852.pdf',\n",
       " 'http://imgstock.naver.com/upload/research/debenture/1503885161392.pdf',\n",
       " 'http://imgstock.naver.com/upload/research/debenture/1503885105775.pdf',\n",
       " 'http://imgstock.naver.com/upload/research/debenture/1503885000242.pdf',\n",
       " 'http://imgstock.naver.com/upload/research/debenture/1503884949322.pdf',\n",
       " 'http://imgstock.naver.com/upload/research/debenture/1503632001053.pdf',\n",
       " 'http://imgstock.naver.com/upload/research/debenture/1503465144983.pdf',\n",
       " 'http://imgstock.naver.com/upload/research/debenture/1503378582829.pdf',\n",
       " 'http://imgstock.naver.com/upload/research/debenture/1503292682749.pdf',\n",
       " 'http://imgstock.naver.com/upload/research/debenture/1503292286014.pdf',\n",
       " 'http://imgstock.naver.com/upload/research/debenture/1503279718315.pdf',\n",
       " 'http://imgstock.naver.com/upload/research/debenture/1503279555189.pdf',\n",
       " 'http://imgstock.naver.com/upload/research/debenture/1503033299370.pdf',\n",
       " 'http://imgstock.naver.com/upload/research/debenture/1503020611299.pdf',\n",
       " 'http://imgstock.naver.com/upload/research/debenture/1502863474482.pdf',\n",
       " 'http://imgstock.naver.com/upload/research/debenture/1502863448343.pdf',\n",
       " 'http://imgstock.naver.com/upload/research/debenture/1502692362025.pdf',\n",
       " 'http://imgstock.naver.com/upload/research/debenture/1502689516347.pdf',\n",
       " 'http://imgstock.naver.com/upload/research/debenture/1502675408127.pdf',\n",
       " 'http://imgstock.naver.com/upload/research/debenture/1502416711799.pdf',\n",
       " 'http://imgstock.naver.com/upload/research/debenture/1502256357688.pdf',\n",
       " 'http://imgstock.naver.com/upload/research/debenture/1502254995083.pdf',\n",
       " 'http://imgstock.naver.com/upload/research/debenture/1502169642656.pdf',\n",
       " 'http://imgstock.naver.com/upload/research/debenture/1502071230395.pdf',\n",
       " 'http://imgstock.naver.com/upload/research/debenture/1502070011586.pdf',\n",
       " 'http://imgstock.naver.com/upload/research/debenture/1502069538523.pdf',\n",
       " 'http://imgstock.naver.com/upload/research/debenture/1501810939216.pdf',\n",
       " 'http://imgstock.naver.com/upload/research/debenture/1501810689195.pdf',\n",
       " 'http://imgstock.naver.com/upload/research/debenture/1501558404746.pdf',\n",
       " 'http://imgstock.naver.com/upload/research/debenture/1501466030977.pdf',\n",
       " 'http://imgstock.naver.com/upload/research/debenture/1501465137497.pdf',\n",
       " 'http://imgstock.naver.com/upload/research/debenture/1501465097780.pdf',\n",
       " 'http://imgstock.naver.com/upload/research/debenture/1501223479693.pdf',\n",
       " 'http://imgstock.naver.com/upload/research/debenture/1501115292270.pdf',\n",
       " 'http://imgstock.naver.com/upload/research/debenture/1501114647217.pdf',\n",
       " 'http://imgstock.naver.com/upload/research/debenture/1501047602770.pdf',\n",
       " 'http://imgstock.naver.com/upload/research/debenture/1501033933820.pdf',\n",
       " 'http://imgstock.naver.com/upload/research/debenture/1501033558121.pdf',\n",
       " 'http://imgstock.naver.com/upload/research/debenture/1500947273470.pdf',\n",
       " 'http://imgstock.naver.com/upload/research/debenture/1500873311150.pdf',\n",
       " 'http://imgstock.naver.com/upload/research/debenture/1500873068610.pdf',\n",
       " 'http://imgstock.naver.com/upload/research/debenture/1500867667953.pdf',\n",
       " 'http://imgstock.naver.com/upload/research/debenture/1500861066912.pdf',\n",
       " 'http://imgstock.naver.com/upload/research/debenture/1500860679631.pdf',\n",
       " 'http://imgstock.naver.com/upload/research/debenture/1500860515218.pdf',\n",
       " 'http://imgstock.naver.com/upload/research/debenture/1500614263561.pdf',\n",
       " 'http://imgstock.naver.com/upload/research/debenture/1500613523004.pdf',\n",
       " 'http://imgstock.naver.com/upload/research/debenture/1500606701779.pdf',\n",
       " 'http://imgstock.naver.com/upload/research/debenture/1500606661898.pdf',\n",
       " 'http://imgstock.naver.com/upload/research/debenture/1500269148043.pdf',\n",
       " 'http://imgstock.naver.com/upload/research/debenture/1500256037902.pdf',\n",
       " 'http://imgstock.naver.com/upload/research/debenture/1500255893162.pdf',\n",
       " 'http://imgstock.naver.com/upload/research/debenture/1499997746113.pdf',\n",
       " 'http://imgstock.naver.com/upload/research/debenture/1499997303289.pdf',\n",
       " 'http://imgstock.naver.com/upload/research/debenture/1499997039356.pdf',\n",
       " 'http://imgstock.naver.com/upload/research/debenture/1499996639083.pdf',\n",
       " 'http://imgstock.naver.com/upload/research/debenture/1499996307641.pdf',\n",
       " 'http://imgstock.naver.com/upload/research/debenture/1499996133788.pdf',\n",
       " 'http://imgstock.naver.com/upload/research/debenture/1499910515366.pdf',\n",
       " 'http://imgstock.naver.com/upload/research/debenture/1499836373323.pdf',\n",
       " 'http://imgstock.naver.com/upload/research/debenture/1499664808563.pdf',\n",
       " 'http://imgstock.naver.com/upload/research/debenture/1499663541807.pdf',\n",
       " 'http://imgstock.naver.com/upload/research/debenture/1499651496062.pdf',\n",
       " 'http://imgstock.naver.com/upload/research/debenture/1499651185053.pdf',\n",
       " 'http://imgstock.naver.com/upload/research/debenture/1499651135797.pdf',\n",
       " 'http://imgstock.naver.com/upload/research/debenture/1499393017136.pdf',\n",
       " 'http://imgstock.naver.com/upload/research/debenture/1499236892095.pdf',\n",
       " 'http://imgstock.naver.com/upload/research/debenture/1499234514654.pdf',\n",
       " 'http://imgstock.naver.com/upload/research/debenture/1499060775332.pdf',\n",
       " 'http://imgstock.naver.com/upload/research/debenture/1499058383263.pdf',\n",
       " 'http://imgstock.naver.com/upload/research/debenture/1499047362896.pdf',\n",
       " 'http://imgstock.naver.com/upload/research/debenture/1499046553167.pdf',\n",
       " 'http://imgstock.naver.com/upload/research/debenture/1499046505350.pdf',\n",
       " 'http://imgstock.naver.com/upload/research/debenture/1498702463328.pdf',\n",
       " 'http://imgstock.naver.com/upload/research/debenture/1498700847309.pdf',\n",
       " 'http://imgstock.naver.com/upload/research/debenture/1498455313639.pdf',\n",
       " 'http://imgstock.naver.com/upload/research/debenture/1498454748770.pdf',\n",
       " 'http://imgstock.naver.com/upload/research/debenture/1498441364359.pdf',\n",
       " 'http://imgstock.naver.com/upload/research/debenture/1498441241580.pdf',\n",
       " 'http://imgstock.naver.com/upload/research/debenture/1498441182823.pdf',\n",
       " 'http://imgstock.naver.com/upload/research/debenture/1498189865076.pdf',\n",
       " 'http://imgstock.naver.com/upload/research/debenture/1498109641430.pdf',\n",
       " 'http://imgstock.naver.com/upload/research/debenture/1498009629040.pdf',\n",
       " 'http://imgstock.naver.com/upload/research/debenture/1497923752824.pdf',\n",
       " 'http://imgstock.naver.com/upload/research/debenture/1497923567764.pdf',\n",
       " 'http://imgstock.naver.com/upload/research/debenture/1497850049394.pdf',\n",
       " 'http://imgstock.naver.com/upload/research/debenture/1497849224877.pdf',\n",
       " 'http://imgstock.naver.com/upload/research/debenture/1497836391901.pdf',\n",
       " 'http://imgstock.naver.com/upload/research/debenture/1497503366634.pdf',\n",
       " 'http://imgstock.naver.com/upload/research/debenture/1497492391060.pdf',\n",
       " 'http://imgstock.naver.com/upload/research/debenture/1497491322698.pdf',\n",
       " 'http://imgstock.naver.com/upload/research/debenture/1497491238618.pdf',\n",
       " 'http://imgstock.naver.com/upload/research/debenture/1497404638434.pdf',\n",
       " 'http://imgstock.naver.com/upload/research/debenture/1497317593849.pdf',\n",
       " 'http://imgstock.naver.com/upload/research/debenture/1497317367851.pdf',\n",
       " 'http://imgstock.naver.com/upload/research/debenture/1497244235170.pdf',\n",
       " 'http://imgstock.naver.com/upload/research/debenture/1497232733032.pdf',\n",
       " 'http://imgstock.naver.com/upload/research/debenture/1497231753258.pdf',\n",
       " 'http://imgstock.naver.com/upload/research/debenture/1497231619906.pdf',\n",
       " 'http://imgstock.naver.com/upload/research/debenture/1496984874168.pdf',\n",
       " 'http://imgstock.naver.com/upload/research/debenture/1496973060143.pdf',\n",
       " 'http://imgstock.naver.com/upload/research/debenture/1496972569740.pdf',\n",
       " 'http://imgstock.naver.com/upload/research/debenture/1496813713366.pdf',\n",
       " 'http://imgstock.naver.com/upload/research/debenture/1496639842003.pdf',\n",
       " 'http://imgstock.naver.com/upload/research/debenture/1496627631851.pdf',\n",
       " 'http://imgstock.naver.com/upload/research/debenture/1496627337292.pdf',\n",
       " 'http://imgstock.naver.com/upload/research/debenture/1496627286136.pdf',\n",
       " 'http://imgstock.naver.com/upload/research/debenture/1496627005959.pdf',\n",
       " 'http://imgstock.naver.com/upload/research/debenture/1496367221651.pdf',\n",
       " 'http://imgstock.naver.com/upload/research/debenture/1496297389973.pdf',\n",
       " 'http://imgstock.naver.com/upload/research/debenture/1496195291000.pdf',\n",
       " 'http://imgstock.naver.com/upload/research/debenture/1496108516078.pdf',\n",
       " 'http://imgstock.naver.com/upload/research/debenture/1496045294824.pdf',\n",
       " 'http://imgstock.naver.com/upload/research/debenture/1496022643699.pdf',\n",
       " 'http://imgstock.naver.com/upload/research/debenture/1496021278529.pdf',\n",
       " 'http://imgstock.naver.com/upload/research/debenture/1496021242685.pdf',\n",
       " 'http://imgstock.naver.com/upload/research/debenture/1495777367388.pdf',\n",
       " 'http://imgstock.naver.com/upload/research/debenture/1495776978827.pdf',\n",
       " 'http://imgstock.naver.com/upload/research/debenture/1495764410829.pdf',\n",
       " 'http://imgstock.naver.com/upload/research/debenture/1495763945078.pdf',\n",
       " 'http://imgstock.naver.com/upload/research/debenture/1495763379112.pdf',\n",
       " 'http://imgstock.naver.com/upload/research/debenture/1495678271687.pdf',\n",
       " 'http://imgstock.naver.com/upload/research/debenture/1495591213312.pdf',\n",
       " 'http://imgstock.naver.com/upload/research/debenture/1495430875400.pdf',\n",
       " 'http://imgstock.naver.com/upload/research/debenture/1495416924483.pdf',\n",
       " 'http://imgstock.naver.com/upload/research/debenture/1495416761855.pdf',\n",
       " 'http://imgstock.naver.com/upload/research/debenture/1495164891952.pdf',\n",
       " 'http://imgstock.naver.com/upload/research/debenture/1495159254901.pdf',\n",
       " 'http://imgstock.naver.com/upload/research/debenture/1495158812757.pdf',\n",
       " 'http://imgstock.naver.com/upload/research/debenture/1494992215654.pdf',\n",
       " 'http://imgstock.naver.com/upload/research/debenture/1494992056681.pdf',\n",
       " 'http://imgstock.naver.com/upload/research/debenture/1494914665429.pdf',\n",
       " 'http://imgstock.naver.com/upload/research/debenture/1494827537981.pdf',\n",
       " 'http://imgstock.naver.com/upload/research/debenture/1494812450771.pdf',\n",
       " 'http://imgstock.naver.com/upload/research/debenture/1494812151896.pdf',\n",
       " 'http://imgstock.naver.com/upload/research/debenture/1494554842869.pdf',\n",
       " 'http://imgstock.naver.com/upload/research/debenture/1494480657788.pdf',\n",
       " 'http://imgstock.naver.com/upload/research/debenture/1494479247960.pdf',\n",
       " 'http://imgstock.naver.com/upload/research/debenture/1494392841019.pdf',\n",
       " 'http://imgstock.naver.com/upload/research/debenture/1494220599571.pdf',\n",
       " 'http://imgstock.naver.com/upload/research/debenture/1494220102642.pdf',\n",
       " 'http://imgstock.naver.com/upload/research/debenture/1494220041239.pdf',\n",
       " 'http://imgstock.naver.com/upload/research/debenture/1493863668478.pdf',\n",
       " 'http://imgstock.naver.com/upload/research/debenture/1493366371981.pdf',\n",
       " 'http://imgstock.naver.com/upload/research/debenture/1493351316913.pdf',\n",
       " 'http://imgstock.naver.com/upload/research/debenture/1493351280382.pdf',\n",
       " 'http://imgstock.naver.com/upload/research/debenture/1493274792325.pdf',\n",
       " 'http://imgstock.naver.com/upload/research/debenture/1493271665617.pdf',\n",
       " 'http://imgstock.naver.com/upload/research/debenture/1493258697963.pdf',\n",
       " 'http://imgstock.naver.com/upload/research/debenture/1493183586935.pdf',\n",
       " 'http://imgstock.naver.com/upload/research/debenture/1493090326599.pdf',\n",
       " 'http://imgstock.naver.com/upload/research/debenture/1493011700453.pdf',\n",
       " 'http://imgstock.naver.com/upload/research/debenture/1493011065256.pdf',\n",
       " 'http://imgstock.naver.com/upload/research/debenture/1492998426488.pdf',\n",
       " 'http://imgstock.naver.com/upload/research/debenture/1492998248825.pdf',\n",
       " 'http://imgstock.naver.com/upload/research/debenture/1492997840601.pdf',\n",
       " 'http://imgstock.naver.com/upload/research/debenture/1492652530872.pdf',\n",
       " 'http://imgstock.naver.com/upload/research/debenture/1492571358297.pdf',\n",
       " 'http://imgstock.naver.com/upload/research/debenture/1492407535663.pdf',\n",
       " 'http://imgstock.naver.com/upload/research/debenture/1492406829985.pdf',\n",
       " 'http://imgstock.naver.com/upload/research/debenture/1492398732126.pdf',\n",
       " 'http://imgstock.naver.com/upload/research/debenture/1492398656422.pdf',\n",
       " 'http://imgstock.naver.com/upload/research/debenture/1492398475667.pdf',\n",
       " 'http://imgstock.naver.com/upload/research/debenture/1492397914621.pdf',\n",
       " 'http://imgstock.naver.com/upload/research/debenture/1492140660271.pdf',\n",
       " 'http://imgstock.naver.com/upload/research/debenture/1492140119689.pdf',\n",
       " 'http://imgstock.naver.com/upload/research/debenture/1492140066665.pdf',\n",
       " 'http://imgstock.naver.com/upload/research/debenture/1492139481629.pdf',\n",
       " 'http://imgstock.naver.com/upload/research/debenture/1492138704665.pdf',\n",
       " 'http://imgstock.naver.com/upload/research/debenture/1491795431732.pdf',\n",
       " 'http://imgstock.naver.com/upload/research/debenture/1491788032083.pdf',\n",
       " 'http://imgstock.naver.com/upload/research/debenture/1491787776094.pdf',\n",
       " 'http://imgstock.naver.com/upload/research/debenture/1491536499833.pdf',\n",
       " ...]"
      ]
     },
     "execution_count": 15,
     "metadata": {},
     "output_type": "execute_result"
    }
   ],
   "source": [
    "#URL을 가져온다.\n",
    "\n",
    "url = 'https://finance.naver.com/research/debenture_list.nhn'\n",
    "\n",
    "max_page = 127\n",
    "\n",
    "urls = []\n",
    "for page in np.arange(1,max_page+1):\n",
    "    params = {\n",
    "    'searchType':'writeDate',\n",
    "    'writeFromDate':'2007-05-01',\n",
    "    'writeToDate':'2020-12-31',\n",
    "    'page':page\n",
    "    }\n",
    "    resp = requests.get(url,params)\n",
    "    soup = BeautifulSoup(resp.text)\n",
    "    \n",
    "    for tag in soup.select('table.type_1 td.file a[href]'):\n",
    "        urls.append(tag.get('href'))\n",
    "        \n",
    "urls"
   ]
  },
  {
   "cell_type": "code",
   "execution_count": 3,
   "metadata": {},
   "outputs": [],
   "source": [
    "# !pip install tika\n",
    "from tika import parser\n",
    "\n",
    "# raw = parser.from_file('C:/Users/user/Documents/test.pdf')\n",
    "# raw['content']"
   ]
  },
  {
   "cell_type": "code",
   "execution_count": 16,
   "metadata": {},
   "outputs": [
    {
     "name": "stderr",
     "output_type": "stream",
     "text": [
      "2020-09-01 10:11:32,554 [MainThread  ] [INFO ]  Retrieving https://ssl.pstatic.net/imgstock/upload/research/debenture/1598920361283.pdf to C:\\Users\\user\\AppData\\Local\\Temp/imgstock-upload-research-debenture-1598920361283.pdf.\n"
     ]
    },
    {
     "name": "stdout",
     "output_type": "stream",
     "text": [
      "3786\n"
     ]
    },
    {
     "name": "stderr",
     "output_type": "stream",
     "text": [
      "2020-09-01 10:11:33,270 [MainThread  ] [INFO ]  Retrieving https://ssl.pstatic.net/imgstock/upload/research/debenture/1598919458640.pdf to C:\\Users\\user\\AppData\\Local\\Temp/imgstock-upload-research-debenture-1598919458640.pdf.\n"
     ]
    },
    {
     "name": "stdout",
     "output_type": "stream",
     "text": [
      "1\n",
      "2\n"
     ]
    },
    {
     "name": "stderr",
     "output_type": "stream",
     "text": [
      "2020-09-01 10:11:33,456 [MainThread  ] [INFO ]  Retrieving https://ssl.pstatic.net/imgstock/upload/research/debenture/1598834166177.pdf to C:\\Users\\user\\AppData\\Local\\Temp/imgstock-upload-research-debenture-1598834166177.pdf.\n",
      "2020-09-01 10:11:33,795 [MainThread  ] [INFO ]  Retrieving https://ssl.pstatic.net/imgstock/upload/research/debenture/1598834090618.pdf to C:\\Users\\user\\AppData\\Local\\Temp/imgstock-upload-research-debenture-1598834090618.pdf.\n"
     ]
    },
    {
     "name": "stdout",
     "output_type": "stream",
     "text": [
      "3\n"
     ]
    },
    {
     "name": "stderr",
     "output_type": "stream",
     "text": [
      "2020-09-01 10:11:34,752 [MainThread  ] [INFO ]  Retrieving https://ssl.pstatic.net/imgstock/upload/research/debenture/1598574763327.pdf to C:\\Users\\user\\AppData\\Local\\Temp/imgstock-upload-research-debenture-1598574763327.pdf.\n"
     ]
    },
    {
     "name": "stdout",
     "output_type": "stream",
     "text": [
      "4\n"
     ]
    },
    {
     "name": "stderr",
     "output_type": "stream",
     "text": [
      "2020-09-01 10:11:35,174 [MainThread  ] [INFO ]  Retrieving https://ssl.pstatic.net/imgstock/upload/research/debenture/1598574380797.pdf to C:\\Users\\user\\AppData\\Local\\Temp/imgstock-upload-research-debenture-1598574380797.pdf.\n"
     ]
    },
    {
     "name": "stdout",
     "output_type": "stream",
     "text": [
      "5\n"
     ]
    },
    {
     "name": "stderr",
     "output_type": "stream",
     "text": [
      "2020-09-01 10:11:35,630 [MainThread  ] [INFO ]  Retrieving https://ssl.pstatic.net/imgstock/upload/research/debenture/1598401605101.pdf to C:\\Users\\user\\AppData\\Local\\Temp/imgstock-upload-research-debenture-1598401605101.pdf.\n"
     ]
    },
    {
     "name": "stdout",
     "output_type": "stream",
     "text": [
      "6\n"
     ]
    },
    {
     "name": "stderr",
     "output_type": "stream",
     "text": [
      "2020-09-01 10:11:36,443 [MainThread  ] [INFO ]  Retrieving https://ssl.pstatic.net/imgstock/upload/research/debenture/1598315164570.pdf to C:\\Users\\user\\AppData\\Local\\Temp/imgstock-upload-research-debenture-1598315164570.pdf.\n"
     ]
    },
    {
     "name": "stdout",
     "output_type": "stream",
     "text": [
      "7\n"
     ]
    },
    {
     "name": "stderr",
     "output_type": "stream",
     "text": [
      "2020-09-01 10:11:36,727 [MainThread  ] [INFO ]  Retrieving https://ssl.pstatic.net/imgstock/upload/research/debenture/1598229135742.pdf to C:\\Users\\user\\AppData\\Local\\Temp/imgstock-upload-research-debenture-1598229135742.pdf.\n"
     ]
    },
    {
     "name": "stdout",
     "output_type": "stream",
     "text": [
      "8\n"
     ]
    },
    {
     "name": "stderr",
     "output_type": "stream",
     "text": [
      "2020-09-01 10:11:37,096 [MainThread  ] [INFO ]  Retrieving https://ssl.pstatic.net/imgstock/upload/research/debenture/1597969542299.pdf to C:\\Users\\user\\AppData\\Local\\Temp/imgstock-upload-research-debenture-1597969542299.pdf.\n"
     ]
    },
    {
     "name": "stdout",
     "output_type": "stream",
     "text": [
      "9\n"
     ]
    },
    {
     "name": "stderr",
     "output_type": "stream",
     "text": [
      "2020-09-01 10:11:37,565 [MainThread  ] [INFO ]  Retrieving https://ssl.pstatic.net/imgstock/upload/research/debenture/1597882283337.pdf to C:\\Users\\user\\AppData\\Local\\Temp/imgstock-upload-research-debenture-1597882283337.pdf.\n"
     ]
    },
    {
     "name": "stdout",
     "output_type": "stream",
     "text": [
      "10\n"
     ]
    },
    {
     "name": "stderr",
     "output_type": "stream",
     "text": [
      "2020-09-01 10:11:37,856 [MainThread  ] [INFO ]  Retrieving https://ssl.pstatic.net/imgstock/upload/research/debenture/1597796598959.pdf to C:\\Users\\user\\AppData\\Local\\Temp/imgstock-upload-research-debenture-1597796598959.pdf.\n"
     ]
    },
    {
     "name": "stdout",
     "output_type": "stream",
     "text": [
      "11\n"
     ]
    },
    {
     "name": "stderr",
     "output_type": "stream",
     "text": [
      "2020-09-01 10:11:38,595 [MainThread  ] [INFO ]  Retrieving https://ssl.pstatic.net/imgstock/upload/research/debenture/1597710099575.pdf to C:\\Users\\user\\AppData\\Local\\Temp/imgstock-upload-research-debenture-1597710099575.pdf.\n"
     ]
    },
    {
     "name": "stdout",
     "output_type": "stream",
     "text": [
      "12\n"
     ]
    },
    {
     "name": "stderr",
     "output_type": "stream",
     "text": [
      "2020-09-01 10:11:39,710 [MainThread  ] [INFO ]  Retrieving https://ssl.pstatic.net/imgstock/upload/research/debenture/1597277558728.pdf to C:\\Users\\user\\AppData\\Local\\Temp/imgstock-upload-research-debenture-1597277558728.pdf.\n"
     ]
    },
    {
     "name": "stdout",
     "output_type": "stream",
     "text": [
      "13\n"
     ]
    },
    {
     "name": "stderr",
     "output_type": "stream",
     "text": [
      "2020-09-01 10:11:39,974 [MainThread  ] [INFO ]  Retrieving https://ssl.pstatic.net/imgstock/upload/research/debenture/1597192517853.pdf to C:\\Users\\user\\AppData\\Local\\Temp/imgstock-upload-research-debenture-1597192517853.pdf.\n",
      "2020-09-01 10:11:40,060 [MainThread  ] [INFO ]  Retrieving https://ssl.pstatic.net/imgstock/upload/research/debenture/1597192088730.pdf to C:\\Users\\user\\AppData\\Local\\Temp/imgstock-upload-research-debenture-1597192088730.pdf.\n"
     ]
    },
    {
     "name": "stdout",
     "output_type": "stream",
     "text": [
      "14\n",
      "15\n"
     ]
    },
    {
     "name": "stderr",
     "output_type": "stream",
     "text": [
      "2020-09-01 10:11:40,316 [MainThread  ] [INFO ]  Retrieving https://ssl.pstatic.net/imgstock/upload/research/debenture/1597104892668.pdf to C:\\Users\\user\\AppData\\Local\\Temp/imgstock-upload-research-debenture-1597104892668.pdf.\n"
     ]
    },
    {
     "name": "stdout",
     "output_type": "stream",
     "text": [
      "16\n"
     ]
    },
    {
     "name": "stderr",
     "output_type": "stream",
     "text": [
      "2020-09-01 10:11:40,672 [MainThread  ] [INFO ]  Retrieving https://ssl.pstatic.net/imgstock/upload/research/debenture/1596673117537.pdf to C:\\Users\\user\\AppData\\Local\\Temp/imgstock-upload-research-debenture-1596673117537.pdf.\n"
     ]
    },
    {
     "name": "stdout",
     "output_type": "stream",
     "text": [
      "17\n"
     ]
    },
    {
     "name": "stderr",
     "output_type": "stream",
     "text": [
      "2020-09-01 10:11:41,197 [MainThread  ] [INFO ]  Retrieving https://ssl.pstatic.net/imgstock/upload/research/debenture/1596587379645.pdf to C:\\Users\\user\\AppData\\Local\\Temp/imgstock-upload-research-debenture-1596587379645.pdf.\n"
     ]
    },
    {
     "name": "stdout",
     "output_type": "stream",
     "text": [
      "18\n"
     ]
    },
    {
     "name": "stderr",
     "output_type": "stream",
     "text": [
      "2020-09-01 10:11:42,126 [MainThread  ] [INFO ]  Retrieving https://ssl.pstatic.net/imgstock/upload/research/debenture/1596500529256.pdf to C:\\Users\\user\\AppData\\Local\\Temp/imgstock-upload-research-debenture-1596500529256.pdf.\n"
     ]
    },
    {
     "name": "stdout",
     "output_type": "stream",
     "text": [
      "19\n"
     ]
    },
    {
     "name": "stderr",
     "output_type": "stream",
     "text": [
      "2020-09-01 10:11:42,497 [MainThread  ] [INFO ]  Retrieving https://ssl.pstatic.net/imgstock/upload/research/debenture/1596500037843.pdf to C:\\Users\\user\\AppData\\Local\\Temp/imgstock-upload-research-debenture-1596500037843.pdf.\n"
     ]
    },
    {
     "name": "stdout",
     "output_type": "stream",
     "text": [
      "20\n"
     ]
    },
    {
     "name": "stderr",
     "output_type": "stream",
     "text": [
      "2020-09-01 10:11:42,920 [MainThread  ] [INFO ]  Retrieving https://ssl.pstatic.net/imgstock/upload/research/debenture/1596155982914.pdf to C:\\Users\\user\\AppData\\Local\\Temp/imgstock-upload-research-debenture-1596155982914.pdf.\n"
     ]
    },
    {
     "name": "stdout",
     "output_type": "stream",
     "text": [
      "21\n"
     ]
    },
    {
     "name": "stderr",
     "output_type": "stream",
     "text": [
      "2020-09-01 10:11:43,336 [MainThread  ] [INFO ]  Retrieving https://ssl.pstatic.net/imgstock/upload/research/debenture/1596155411606.pdf to C:\\Users\\user\\AppData\\Local\\Temp/imgstock-upload-research-debenture-1596155411606.pdf.\n"
     ]
    },
    {
     "name": "stdout",
     "output_type": "stream",
     "text": [
      "22\n"
     ]
    },
    {
     "name": "stderr",
     "output_type": "stream",
     "text": [
      "2020-09-01 10:11:44,107 [MainThread  ] [INFO ]  Retrieving https://ssl.pstatic.net/imgstock/upload/research/debenture/1596069822780.pdf to C:\\Users\\user\\AppData\\Local\\Temp/imgstock-upload-research-debenture-1596069822780.pdf.\n"
     ]
    },
    {
     "name": "stdout",
     "output_type": "stream",
     "text": [
      "23\n"
     ]
    },
    {
     "name": "stderr",
     "output_type": "stream",
     "text": [
      "2020-09-01 10:11:44,552 [MainThread  ] [INFO ]  Retrieving https://ssl.pstatic.net/imgstock/upload/research/debenture/1595982486777.pdf to C:\\Users\\user\\AppData\\Local\\Temp/imgstock-upload-research-debenture-1595982486777.pdf.\n"
     ]
    },
    {
     "name": "stdout",
     "output_type": "stream",
     "text": [
      "24\n"
     ]
    },
    {
     "name": "stderr",
     "output_type": "stream",
     "text": [
      "2020-09-01 10:11:45,426 [MainThread  ] [INFO ]  Retrieving https://ssl.pstatic.net/imgstock/upload/research/debenture/1595895983761.pdf to C:\\Users\\user\\AppData\\Local\\Temp/imgstock-upload-research-debenture-1595895983761.pdf.\n"
     ]
    },
    {
     "name": "stdout",
     "output_type": "stream",
     "text": [
      "25\n"
     ]
    },
    {
     "name": "stderr",
     "output_type": "stream",
     "text": [
      "2020-09-01 10:11:46,239 [MainThread  ] [INFO ]  Retrieving https://ssl.pstatic.net/imgstock/upload/research/debenture/1595812801448.pdf to C:\\Users\\user\\AppData\\Local\\Temp/imgstock-upload-research-debenture-1595812801448.pdf.\n"
     ]
    },
    {
     "name": "stdout",
     "output_type": "stream",
     "text": [
      "26\n"
     ]
    },
    {
     "name": "stderr",
     "output_type": "stream",
     "text": [
      "2020-09-01 10:11:46,567 [MainThread  ] [INFO ]  Retrieving https://ssl.pstatic.net/imgstock/upload/research/debenture/1595551132820.pdf to C:\\Users\\user\\AppData\\Local\\Temp/imgstock-upload-research-debenture-1595551132820.pdf.\n"
     ]
    },
    {
     "name": "stdout",
     "output_type": "stream",
     "text": [
      "27\n"
     ]
    },
    {
     "name": "stderr",
     "output_type": "stream",
     "text": [
      "2020-09-01 10:11:46,964 [MainThread  ] [INFO ]  Retrieving https://ssl.pstatic.net/imgstock/upload/research/debenture/1595550590062.pdf to C:\\Users\\user\\AppData\\Local\\Temp/imgstock-upload-research-debenture-1595550590062.pdf.\n"
     ]
    },
    {
     "name": "stdout",
     "output_type": "stream",
     "text": [
      "28\n"
     ]
    },
    {
     "name": "stderr",
     "output_type": "stream",
     "text": [
      "2020-09-01 10:11:47,220 [MainThread  ] [INFO ]  Retrieving https://ssl.pstatic.net/imgstock/upload/research/debenture/1595377562785.pdf to C:\\Users\\user\\AppData\\Local\\Temp/imgstock-upload-research-debenture-1595377562785.pdf.\n"
     ]
    },
    {
     "name": "stdout",
     "output_type": "stream",
     "text": [
      "29\n"
     ]
    },
    {
     "name": "stderr",
     "output_type": "stream",
     "text": [
      "2020-09-01 10:11:48,087 [MainThread  ] [INFO ]  Retrieving https://ssl.pstatic.net/imgstock/upload/research/debenture/1595205128882.pdf to C:\\Users\\user\\AppData\\Local\\Temp/imgstock-upload-research-debenture-1595205128882.pdf.\n"
     ]
    },
    {
     "name": "stdout",
     "output_type": "stream",
     "text": [
      "30\n"
     ]
    },
    {
     "name": "stderr",
     "output_type": "stream",
     "text": [
      "2020-09-01 10:11:48,370 [MainThread  ] [INFO ]  Retrieving https://ssl.pstatic.net/imgstock/upload/research/debenture/1594947134511.pdf to C:\\Users\\user\\AppData\\Local\\Temp/imgstock-upload-research-debenture-1594947134511.pdf.\n"
     ]
    },
    {
     "name": "stdout",
     "output_type": "stream",
     "text": [
      "31\n"
     ]
    },
    {
     "name": "stderr",
     "output_type": "stream",
     "text": [
      "2020-09-01 10:11:48,824 [MainThread  ] [INFO ]  Retrieving https://ssl.pstatic.net/imgstock/upload/research/debenture/1594945897691.pdf to C:\\Users\\user\\AppData\\Local\\Temp/imgstock-upload-research-debenture-1594945897691.pdf.\n"
     ]
    },
    {
     "name": "stdout",
     "output_type": "stream",
     "text": [
      "32\n"
     ]
    },
    {
     "name": "stderr",
     "output_type": "stream",
     "text": [
      "2020-09-01 10:11:49,419 [MainThread  ] [INFO ]  Retrieving https://ssl.pstatic.net/imgstock/upload/research/debenture/1594858177174.pdf to C:\\Users\\user\\AppData\\Local\\Temp/imgstock-upload-research-debenture-1594858177174.pdf.\n"
     ]
    },
    {
     "name": "stdout",
     "output_type": "stream",
     "text": [
      "33\n"
     ]
    },
    {
     "name": "stderr",
     "output_type": "stream",
     "text": [
      "2020-09-01 10:11:49,618 [MainThread  ] [INFO ]  Retrieving https://ssl.pstatic.net/imgstock/upload/research/debenture/1594773162996.pdf to C:\\Users\\user\\AppData\\Local\\Temp/imgstock-upload-research-debenture-1594773162996.pdf.\n",
      "2020-09-01 10:11:49,705 [MainThread  ] [INFO ]  Retrieving https://ssl.pstatic.net/imgstock/upload/research/debenture/1594772578176.pdf to C:\\Users\\user\\AppData\\Local\\Temp/imgstock-upload-research-debenture-1594772578176.pdf.\n"
     ]
    },
    {
     "name": "stdout",
     "output_type": "stream",
     "text": [
      "34\n",
      "35\n"
     ]
    },
    {
     "name": "stderr",
     "output_type": "stream",
     "text": [
      "2020-09-01 10:11:50,473 [MainThread  ] [INFO ]  Retrieving https://ssl.pstatic.net/imgstock/upload/research/debenture/1594685992786.pdf to C:\\Users\\user\\AppData\\Local\\Temp/imgstock-upload-research-debenture-1594685992786.pdf.\n"
     ]
    },
    {
     "name": "stdout",
     "output_type": "stream",
     "text": [
      "36\n"
     ]
    },
    {
     "name": "stderr",
     "output_type": "stream",
     "text": [
      "2020-09-01 10:11:50,824 [MainThread  ] [INFO ]  Retrieving https://ssl.pstatic.net/imgstock/upload/research/debenture/1594600234934.pdf to C:\\Users\\user\\AppData\\Local\\Temp/imgstock-upload-research-debenture-1594600234934.pdf.\n"
     ]
    },
    {
     "name": "stdout",
     "output_type": "stream",
     "text": [
      "37\n"
     ]
    },
    {
     "name": "stderr",
     "output_type": "stream",
     "text": [
      "2020-09-01 10:11:51,196 [MainThread  ] [INFO ]  Retrieving https://ssl.pstatic.net/imgstock/upload/research/debenture/1594344329382.pdf to C:\\Users\\user\\AppData\\Local\\Temp/imgstock-upload-research-debenture-1594344329382.pdf.\n"
     ]
    },
    {
     "name": "stdout",
     "output_type": "stream",
     "text": [
      "38\n"
     ]
    },
    {
     "name": "stderr",
     "output_type": "stream",
     "text": [
      "2020-09-01 10:11:51,570 [MainThread  ] [INFO ]  Retrieving https://ssl.pstatic.net/imgstock/upload/research/debenture/1594342738474.pdf to C:\\Users\\user\\AppData\\Local\\Temp/imgstock-upload-research-debenture-1594342738474.pdf.\n"
     ]
    },
    {
     "name": "stdout",
     "output_type": "stream",
     "text": [
      "39\n"
     ]
    },
    {
     "name": "stderr",
     "output_type": "stream",
     "text": [
      "2020-09-01 10:11:52,146 [MainThread  ] [INFO ]  Retrieving https://ssl.pstatic.net/imgstock/upload/research/debenture/1594080872770.pdf to C:\\Users\\user\\AppData\\Local\\Temp/imgstock-upload-research-debenture-1594080872770.pdf.\n"
     ]
    },
    {
     "name": "stdout",
     "output_type": "stream",
     "text": [
      "40\n"
     ]
    },
    {
     "name": "stderr",
     "output_type": "stream",
     "text": [
      "2020-09-01 10:11:52,627 [MainThread  ] [INFO ]  Retrieving https://ssl.pstatic.net/imgstock/upload/research/debenture/1593995743225.pdf to C:\\Users\\user\\AppData\\Local\\Temp/imgstock-upload-research-debenture-1593995743225.pdf.\n"
     ]
    },
    {
     "name": "stdout",
     "output_type": "stream",
     "text": [
      "41\n"
     ]
    },
    {
     "name": "stderr",
     "output_type": "stream",
     "text": [
      "2020-09-01 10:11:53,018 [MainThread  ] [INFO ]  Retrieving https://ssl.pstatic.net/imgstock/upload/research/debenture/1593736951923.pdf to C:\\Users\\user\\AppData\\Local\\Temp/imgstock-upload-research-debenture-1593736951923.pdf.\n"
     ]
    },
    {
     "name": "stdout",
     "output_type": "stream",
     "text": [
      "42\n"
     ]
    },
    {
     "name": "stderr",
     "output_type": "stream",
     "text": [
      "2020-09-01 10:11:53,408 [MainThread  ] [INFO ]  Retrieving https://ssl.pstatic.net/imgstock/upload/research/debenture/1593735999791.pdf to C:\\Users\\user\\AppData\\Local\\Temp/imgstock-upload-research-debenture-1593735999791.pdf.\n"
     ]
    },
    {
     "name": "stdout",
     "output_type": "stream",
     "text": [
      "43\n"
     ]
    },
    {
     "name": "stderr",
     "output_type": "stream",
     "text": [
      "2020-09-01 10:11:53,926 [MainThread  ] [INFO ]  Retrieving https://ssl.pstatic.net/imgstock/upload/research/debenture/1593649839291.pdf to C:\\Users\\user\\AppData\\Local\\Temp/imgstock-upload-research-debenture-1593649839291.pdf.\n"
     ]
    },
    {
     "name": "stdout",
     "output_type": "stream",
     "text": [
      "44\n"
     ]
    },
    {
     "name": "stderr",
     "output_type": "stream",
     "text": [
      "2020-09-01 10:11:54,191 [MainThread  ] [INFO ]  Retrieving https://ssl.pstatic.net/imgstock/upload/research/debenture/1593563505428.pdf to C:\\Users\\user\\AppData\\Local\\Temp/imgstock-upload-research-debenture-1593563505428.pdf.\n"
     ]
    },
    {
     "name": "stdout",
     "output_type": "stream",
     "text": [
      "45\n"
     ]
    },
    {
     "name": "stderr",
     "output_type": "stream",
     "text": [
      "2020-09-01 10:11:55,185 [MainThread  ] [INFO ]  Retrieving https://ssl.pstatic.net/imgstock/upload/research/debenture/1593563467575.pdf to C:\\Users\\user\\AppData\\Local\\Temp/imgstock-upload-research-debenture-1593563467575.pdf.\n"
     ]
    },
    {
     "name": "stdout",
     "output_type": "stream",
     "text": [
      "46\n"
     ]
    },
    {
     "name": "stderr",
     "output_type": "stream",
     "text": [
      "2020-09-01 10:11:55,668 [MainThread  ] [INFO ]  Retrieving https://ssl.pstatic.net/imgstock/upload/research/debenture/1593476547969.pdf to C:\\Users\\user\\AppData\\Local\\Temp/imgstock-upload-research-debenture-1593476547969.pdf.\n"
     ]
    },
    {
     "name": "stdout",
     "output_type": "stream",
     "text": [
      "47\n"
     ]
    },
    {
     "name": "stderr",
     "output_type": "stream",
     "text": [
      "2020-09-01 10:11:56,125 [MainThread  ] [INFO ]  Retrieving https://ssl.pstatic.net/imgstock/upload/research/debenture/1593132894033.pdf to C:\\Users\\user\\AppData\\Local\\Temp/imgstock-upload-research-debenture-1593132894033.pdf.\n"
     ]
    },
    {
     "name": "stdout",
     "output_type": "stream",
     "text": [
      "48\n"
     ]
    },
    {
     "name": "stderr",
     "output_type": "stream",
     "text": [
      "2020-09-01 10:11:56,505 [MainThread  ] [INFO ]  Retrieving https://ssl.pstatic.net/imgstock/upload/research/debenture/1593132848040.pdf to C:\\Users\\user\\AppData\\Local\\Temp/imgstock-upload-research-debenture-1593132848040.pdf.\n"
     ]
    },
    {
     "name": "stdout",
     "output_type": "stream",
     "text": [
      "49\n"
     ]
    },
    {
     "name": "stderr",
     "output_type": "stream",
     "text": [
      "2020-09-01 10:11:56,938 [MainThread  ] [INFO ]  Retrieving https://ssl.pstatic.net/imgstock/upload/research/debenture/1593132151963.pdf to C:\\Users\\user\\AppData\\Local\\Temp/imgstock-upload-research-debenture-1593132151963.pdf.\n"
     ]
    },
    {
     "name": "stdout",
     "output_type": "stream",
     "text": [
      "50\n"
     ]
    },
    {
     "name": "stderr",
     "output_type": "stream",
     "text": [
      "2020-09-01 10:11:57,640 [MainThread  ] [INFO ]  Retrieving https://ssl.pstatic.net/imgstock/upload/research/debenture/1592958716574.pdf to C:\\Users\\user\\AppData\\Local\\Temp/imgstock-upload-research-debenture-1592958716574.pdf.\n"
     ]
    },
    {
     "name": "stdout",
     "output_type": "stream",
     "text": [
      "51\n"
     ]
    },
    {
     "name": "stderr",
     "output_type": "stream",
     "text": [
      "2020-09-01 10:11:58,664 [MainThread  ] [INFO ]  Retrieving https://ssl.pstatic.net/imgstock/upload/research/debenture/1592871715806.pdf to C:\\Users\\user\\AppData\\Local\\Temp/imgstock-upload-research-debenture-1592871715806.pdf.\n"
     ]
    },
    {
     "name": "stdout",
     "output_type": "stream",
     "text": [
      "52\n"
     ]
    },
    {
     "name": "stderr",
     "output_type": "stream",
     "text": [
      "2020-09-01 10:11:59,106 [MainThread  ] [INFO ]  Retrieving https://ssl.pstatic.net/imgstock/upload/research/debenture/1592786322785.pdf to C:\\Users\\user\\AppData\\Local\\Temp/imgstock-upload-research-debenture-1592786322785.pdf.\n"
     ]
    },
    {
     "name": "stdout",
     "output_type": "stream",
     "text": [
      "53\n"
     ]
    },
    {
     "name": "stderr",
     "output_type": "stream",
     "text": [
      "2020-09-01 10:11:59,442 [MainThread  ] [INFO ]  Retrieving https://ssl.pstatic.net/imgstock/upload/research/debenture/1592785394853.pdf to C:\\Users\\user\\AppData\\Local\\Temp/imgstock-upload-research-debenture-1592785394853.pdf.\n"
     ]
    },
    {
     "name": "stdout",
     "output_type": "stream",
     "text": [
      "54\n"
     ]
    },
    {
     "name": "stderr",
     "output_type": "stream",
     "text": [
      "2020-09-01 10:12:00,500 [MainThread  ] [INFO ]  Retrieving https://ssl.pstatic.net/imgstock/upload/research/debenture/1592526817224.pdf to C:\\Users\\user\\AppData\\Local\\Temp/imgstock-upload-research-debenture-1592526817224.pdf.\n"
     ]
    },
    {
     "name": "stdout",
     "output_type": "stream",
     "text": [
      "55\n"
     ]
    },
    {
     "name": "stderr",
     "output_type": "stream",
     "text": [
      "2020-09-01 10:12:00,752 [MainThread  ] [INFO ]  Retrieving https://ssl.pstatic.net/imgstock/upload/research/debenture/1592526669932.pdf to C:\\Users\\user\\AppData\\Local\\Temp/imgstock-upload-research-debenture-1592526669932.pdf.\n"
     ]
    },
    {
     "name": "stdout",
     "output_type": "stream",
     "text": [
      "56\n"
     ]
    },
    {
     "name": "stderr",
     "output_type": "stream",
     "text": [
      "2020-09-01 10:12:01,127 [MainThread  ] [INFO ]  Retrieving https://ssl.pstatic.net/imgstock/upload/research/debenture/1592439543080.pdf to C:\\Users\\user\\AppData\\Local\\Temp/imgstock-upload-research-debenture-1592439543080.pdf.\n"
     ]
    },
    {
     "name": "stdout",
     "output_type": "stream",
     "text": [
      "57\n"
     ]
    },
    {
     "name": "stderr",
     "output_type": "stream",
     "text": [
      "2020-09-01 10:12:01,628 [MainThread  ] [INFO ]  Retrieving https://ssl.pstatic.net/imgstock/upload/research/debenture/1592353466653.pdf to C:\\Users\\user\\AppData\\Local\\Temp/imgstock-upload-research-debenture-1592353466653.pdf.\n"
     ]
    },
    {
     "name": "stdout",
     "output_type": "stream",
     "text": [
      "58\n"
     ]
    },
    {
     "name": "stderr",
     "output_type": "stream",
     "text": [
      "2020-09-01 10:12:02,579 [MainThread  ] [INFO ]  Retrieving https://ssl.pstatic.net/imgstock/upload/research/debenture/1592352928159.pdf to C:\\Users\\user\\AppData\\Local\\Temp/imgstock-upload-research-debenture-1592352928159.pdf.\n",
      "2020-09-01 10:12:02,760 [MainThread  ] [INFO ]  Retrieving https://ssl.pstatic.net/imgstock/upload/research/debenture/1592266757468.pdf to C:\\Users\\user\\AppData\\Local\\Temp/imgstock-upload-research-debenture-1592266757468.pdf.\n"
     ]
    },
    {
     "name": "stdout",
     "output_type": "stream",
     "text": [
      "59\n",
      "60\n"
     ]
    },
    {
     "name": "stderr",
     "output_type": "stream",
     "text": [
      "2020-09-01 10:12:03,226 [MainThread  ] [INFO ]  Retrieving https://ssl.pstatic.net/imgstock/upload/research/debenture/1592181308326.pdf to C:\\Users\\user\\AppData\\Local\\Temp/imgstock-upload-research-debenture-1592181308326.pdf.\n"
     ]
    },
    {
     "name": "stdout",
     "output_type": "stream",
     "text": [
      "61\n"
     ]
    },
    {
     "name": "stderr",
     "output_type": "stream",
     "text": [
      "2020-09-01 10:12:03,572 [MainThread  ] [INFO ]  Retrieving https://ssl.pstatic.net/imgstock/upload/research/debenture/1591922391474.pdf to C:\\Users\\user\\AppData\\Local\\Temp/imgstock-upload-research-debenture-1591922391474.pdf.\n"
     ]
    },
    {
     "name": "stdout",
     "output_type": "stream",
     "text": [
      "62\n"
     ]
    },
    {
     "name": "stderr",
     "output_type": "stream",
     "text": [
      "2020-09-01 10:12:04,015 [MainThread  ] [INFO ]  Retrieving https://ssl.pstatic.net/imgstock/upload/research/debenture/1591921993464.pdf to C:\\Users\\user\\AppData\\Local\\Temp/imgstock-upload-research-debenture-1591921993464.pdf.\n"
     ]
    },
    {
     "name": "stdout",
     "output_type": "stream",
     "text": [
      "63\n"
     ]
    },
    {
     "name": "stderr",
     "output_type": "stream",
     "text": [
      "2020-09-01 10:12:04,306 [MainThread  ] [INFO ]  Retrieving https://ssl.pstatic.net/imgstock/upload/research/debenture/1591835691276.pdf to C:\\Users\\user\\AppData\\Local\\Temp/imgstock-upload-research-debenture-1591835691276.pdf.\n",
      "2020-09-01 10:12:04,404 [MainThread  ] [INFO ]  Retrieving https://ssl.pstatic.net/imgstock/upload/research/debenture/1591835597335.pdf to C:\\Users\\user\\AppData\\Local\\Temp/imgstock-upload-research-debenture-1591835597335.pdf.\n"
     ]
    },
    {
     "name": "stdout",
     "output_type": "stream",
     "text": [
      "64\n",
      "65\n"
     ]
    },
    {
     "name": "stderr",
     "output_type": "stream",
     "text": [
      "2020-09-01 10:12:04,539 [MainThread  ] [INFO ]  Retrieving https://ssl.pstatic.net/imgstock/upload/research/debenture/1591834496986.pdf to C:\\Users\\user\\AppData\\Local\\Temp/imgstock-upload-research-debenture-1591834496986.pdf.\n",
      "2020-09-01 10:12:04,692 [MainThread  ] [INFO ]  Retrieving https://ssl.pstatic.net/imgstock/upload/research/debenture/1591748965119.pdf to C:\\Users\\user\\AppData\\Local\\Temp/imgstock-upload-research-debenture-1591748965119.pdf.\n"
     ]
    },
    {
     "name": "stdout",
     "output_type": "stream",
     "text": [
      "66\n",
      "67\n"
     ]
    },
    {
     "name": "stderr",
     "output_type": "stream",
     "text": [
      "2020-09-01 10:12:05,514 [MainThread  ] [INFO ]  Retrieving https://ssl.pstatic.net/imgstock/upload/research/debenture/1591748904265.pdf to C:\\Users\\user\\AppData\\Local\\Temp/imgstock-upload-research-debenture-1591748904265.pdf.\n"
     ]
    },
    {
     "name": "stdout",
     "output_type": "stream",
     "text": [
      "68\n"
     ]
    },
    {
     "name": "stderr",
     "output_type": "stream",
     "text": [
      "2020-09-01 10:12:06,107 [MainThread  ] [INFO ]  Retrieving https://ssl.pstatic.net/imgstock/upload/research/debenture/1591661999224.pdf to C:\\Users\\user\\AppData\\Local\\Temp/imgstock-upload-research-debenture-1591661999224.pdf.\n"
     ]
    },
    {
     "name": "stdout",
     "output_type": "stream",
     "text": [
      "69\n"
     ]
    },
    {
     "name": "stderr",
     "output_type": "stream",
     "text": [
      "2020-09-01 10:12:06,579 [MainThread  ] [INFO ]  Retrieving https://ssl.pstatic.net/imgstock/upload/research/debenture/1591576745289.pdf to C:\\Users\\user\\AppData\\Local\\Temp/imgstock-upload-research-debenture-1591576745289.pdf.\n",
      "2020-09-01 10:12:06,673 [MainThread  ] [INFO ]  Retrieving https://ssl.pstatic.net/imgstock/upload/research/debenture/1591576583254.pdf to C:\\Users\\user\\AppData\\Local\\Temp/imgstock-upload-research-debenture-1591576583254.pdf.\n"
     ]
    },
    {
     "name": "stdout",
     "output_type": "stream",
     "text": [
      "70\n",
      "71\n"
     ]
    },
    {
     "name": "stderr",
     "output_type": "stream",
     "text": [
      "2020-09-01 10:12:06,966 [MainThread  ] [INFO ]  Retrieving https://ssl.pstatic.net/imgstock/upload/research/debenture/1591575678009.pdf to C:\\Users\\user\\AppData\\Local\\Temp/imgstock-upload-research-debenture-1591575678009.pdf.\n"
     ]
    },
    {
     "name": "stdout",
     "output_type": "stream",
     "text": [
      "72\n"
     ]
    },
    {
     "name": "stderr",
     "output_type": "stream",
     "text": [
      "2020-09-01 10:12:07,920 [MainThread  ] [INFO ]  Retrieving https://ssl.pstatic.net/imgstock/upload/research/debenture/1591316810205.pdf to C:\\Users\\user\\AppData\\Local\\Temp/imgstock-upload-research-debenture-1591316810205.pdf.\n"
     ]
    },
    {
     "name": "stdout",
     "output_type": "stream",
     "text": [
      "73\n"
     ]
    },
    {
     "name": "stderr",
     "output_type": "stream",
     "text": [
      "2020-09-01 10:12:08,296 [MainThread  ] [INFO ]  Retrieving https://ssl.pstatic.net/imgstock/upload/research/debenture/1591230514440.pdf to C:\\Users\\user\\AppData\\Local\\Temp/imgstock-upload-research-debenture-1591230514440.pdf.\n"
     ]
    },
    {
     "name": "stdout",
     "output_type": "stream",
     "text": [
      "74\n"
     ]
    },
    {
     "name": "stderr",
     "output_type": "stream",
     "text": [
      "2020-09-01 10:12:08,894 [MainThread  ] [INFO ]  Retrieving https://ssl.pstatic.net/imgstock/upload/research/debenture/1591146910906.pdf to C:\\Users\\user\\AppData\\Local\\Temp/imgstock-upload-research-debenture-1591146910906.pdf.\n"
     ]
    },
    {
     "name": "stdout",
     "output_type": "stream",
     "text": [
      "75\n"
     ]
    },
    {
     "name": "stderr",
     "output_type": "stream",
     "text": [
      "2020-09-01 10:12:09,812 [MainThread  ] [INFO ]  Retrieving https://ssl.pstatic.net/imgstock/upload/research/debenture/1591057378143.pdf to C:\\Users\\user\\AppData\\Local\\Temp/imgstock-upload-research-debenture-1591057378143.pdf.\n"
     ]
    },
    {
     "name": "stdout",
     "output_type": "stream",
     "text": [
      "76\n"
     ]
    },
    {
     "name": "stderr",
     "output_type": "stream",
     "text": [
      "2020-09-01 10:12:10,301 [MainThread  ] [INFO ]  Retrieving https://ssl.pstatic.net/imgstock/upload/research/debenture/1590711896954.pdf to C:\\Users\\user\\AppData\\Local\\Temp/imgstock-upload-research-debenture-1590711896954.pdf.\n"
     ]
    },
    {
     "name": "stdout",
     "output_type": "stream",
     "text": [
      "77\n"
     ]
    },
    {
     "name": "stderr",
     "output_type": "stream",
     "text": [
      "2020-09-01 10:12:11,147 [MainThread  ] [INFO ]  Retrieving https://ssl.pstatic.net/imgstock/upload/research/debenture/1590711603009.pdf to C:\\Users\\user\\AppData\\Local\\Temp/imgstock-upload-research-debenture-1590711603009.pdf.\n"
     ]
    },
    {
     "name": "stdout",
     "output_type": "stream",
     "text": [
      "78\n"
     ]
    },
    {
     "name": "stderr",
     "output_type": "stream",
     "text": [
      "2020-09-01 10:12:11,461 [MainThread  ] [INFO ]  Retrieving https://ssl.pstatic.net/imgstock/upload/research/debenture/1590711399541.pdf to C:\\Users\\user\\AppData\\Local\\Temp/imgstock-upload-research-debenture-1590711399541.pdf.\n"
     ]
    },
    {
     "name": "stdout",
     "output_type": "stream",
     "text": [
      "79\n"
     ]
    },
    {
     "name": "stderr",
     "output_type": "stream",
     "text": [
      "2020-09-01 10:12:11,933 [MainThread  ] [INFO ]  Retrieving https://ssl.pstatic.net/imgstock/upload/research/debenture/1590710823301.pdf to C:\\Users\\user\\AppData\\Local\\Temp/imgstock-upload-research-debenture-1590710823301.pdf.\n"
     ]
    },
    {
     "name": "stdout",
     "output_type": "stream",
     "text": [
      "80\n"
     ]
    },
    {
     "name": "stderr",
     "output_type": "stream",
     "text": [
      "2020-09-01 10:12:12,132 [MainThread  ] [INFO ]  Retrieving https://ssl.pstatic.net/imgstock/upload/research/debenture/1590628119829.pdf to C:\\Users\\user\\AppData\\Local\\Temp/imgstock-upload-research-debenture-1590628119829.pdf.\n"
     ]
    },
    {
     "name": "stdout",
     "output_type": "stream",
     "text": [
      "81\n"
     ]
    },
    {
     "name": "stderr",
     "output_type": "stream",
     "text": [
      "2020-09-01 10:12:12,476 [MainThread  ] [INFO ]  Retrieving https://ssl.pstatic.net/imgstock/upload/research/debenture/1590627613928.pdf to C:\\Users\\user\\AppData\\Local\\Temp/imgstock-upload-research-debenture-1590627613928.pdf.\n"
     ]
    },
    {
     "name": "stdout",
     "output_type": "stream",
     "text": [
      "82\n"
     ]
    },
    {
     "name": "stderr",
     "output_type": "stream",
     "text": [
      "2020-09-01 10:12:13,173 [MainThread  ] [INFO ]  Retrieving https://ssl.pstatic.net/imgstock/upload/research/debenture/1590541442378.pdf to C:\\Users\\user\\AppData\\Local\\Temp/imgstock-upload-research-debenture-1590541442378.pdf.\n"
     ]
    },
    {
     "name": "stdout",
     "output_type": "stream",
     "text": [
      "83\n"
     ]
    },
    {
     "name": "stderr",
     "output_type": "stream",
     "text": [
      "2020-09-01 10:12:14,167 [MainThread  ] [INFO ]  Retrieving https://ssl.pstatic.net/imgstock/upload/research/debenture/1590369514657.pdf to C:\\Users\\user\\AppData\\Local\\Temp/imgstock-upload-research-debenture-1590369514657.pdf.\n"
     ]
    },
    {
     "name": "stdout",
     "output_type": "stream",
     "text": [
      "84\n"
     ]
    },
    {
     "name": "stderr",
     "output_type": "stream",
     "text": [
      "2020-09-01 10:12:14,495 [MainThread  ] [INFO ]  Retrieving https://ssl.pstatic.net/imgstock/upload/research/debenture/1590108350553.pdf to C:\\Users\\user\\AppData\\Local\\Temp/imgstock-upload-research-debenture-1590108350553.pdf.\n"
     ]
    },
    {
     "name": "stdout",
     "output_type": "stream",
     "text": [
      "85\n"
     ]
    },
    {
     "name": "stderr",
     "output_type": "stream",
     "text": [
      "2020-09-01 10:12:14,862 [MainThread  ] [INFO ]  Retrieving https://ssl.pstatic.net/imgstock/upload/research/debenture/1589935161968.pdf to C:\\Users\\user\\AppData\\Local\\Temp/imgstock-upload-research-debenture-1589935161968.pdf.\n"
     ]
    },
    {
     "name": "stdout",
     "output_type": "stream",
     "text": [
      "86\n"
     ]
    },
    {
     "name": "stderr",
     "output_type": "stream",
     "text": [
      "2020-09-01 10:12:15,117 [MainThread  ] [INFO ]  Retrieving https://ssl.pstatic.net/imgstock/upload/research/debenture/1589934439813.pdf to C:\\Users\\user\\AppData\\Local\\Temp/imgstock-upload-research-debenture-1589934439813.pdf.\n"
     ]
    },
    {
     "name": "stdout",
     "output_type": "stream",
     "text": [
      "87\n"
     ]
    },
    {
     "name": "stderr",
     "output_type": "stream",
     "text": [
      "2020-09-01 10:12:15,963 [MainThread  ] [INFO ]  Retrieving https://ssl.pstatic.net/imgstock/upload/research/debenture/1589848042555.pdf to C:\\Users\\user\\AppData\\Local\\Temp/imgstock-upload-research-debenture-1589848042555.pdf.\n"
     ]
    },
    {
     "name": "stdout",
     "output_type": "stream",
     "text": [
      "88\n"
     ]
    },
    {
     "name": "stderr",
     "output_type": "stream",
     "text": [
      "2020-09-01 10:12:16,578 [MainThread  ] [INFO ]  Retrieving https://ssl.pstatic.net/imgstock/upload/research/debenture/1589847399483.pdf to C:\\Users\\user\\AppData\\Local\\Temp/imgstock-upload-research-debenture-1589847399483.pdf.\n"
     ]
    },
    {
     "name": "stdout",
     "output_type": "stream",
     "text": [
      "89\n"
     ]
    },
    {
     "name": "stderr",
     "output_type": "stream",
     "text": [
      "2020-09-01 10:12:17,019 [MainThread  ] [INFO ]  Retrieving https://ssl.pstatic.net/imgstock/upload/research/debenture/1589762770109.pdf to C:\\Users\\user\\AppData\\Local\\Temp/imgstock-upload-research-debenture-1589762770109.pdf.\n"
     ]
    },
    {
     "name": "stdout",
     "output_type": "stream",
     "text": [
      "90\n"
     ]
    },
    {
     "name": "stderr",
     "output_type": "stream",
     "text": [
      "2020-09-01 10:12:17,405 [MainThread  ] [INFO ]  Retrieving https://ssl.pstatic.net/imgstock/upload/research/debenture/1589418956285.pdf to C:\\Users\\user\\AppData\\Local\\Temp/imgstock-upload-research-debenture-1589418956285.pdf.\n",
      "2020-09-01 10:12:17,484 [MainThread  ] [INFO ]  Retrieving https://ssl.pstatic.net/imgstock/upload/research/debenture/1589418221788.pdf to C:\\Users\\user\\AppData\\Local\\Temp/imgstock-upload-research-debenture-1589418221788.pdf.\n"
     ]
    },
    {
     "name": "stdout",
     "output_type": "stream",
     "text": [
      "91\n",
      "92\n"
     ]
    },
    {
     "name": "stderr",
     "output_type": "stream",
     "text": [
      "2020-09-01 10:12:17,993 [MainThread  ] [INFO ]  Retrieving https://ssl.pstatic.net/imgstock/upload/research/debenture/1589418166375.pdf to C:\\Users\\user\\AppData\\Local\\Temp/imgstock-upload-research-debenture-1589418166375.pdf.\n"
     ]
    },
    {
     "name": "stdout",
     "output_type": "stream",
     "text": [
      "93\n"
     ]
    },
    {
     "name": "stderr",
     "output_type": "stream",
     "text": [
      "2020-09-01 10:12:19,993 [MainThread  ] [INFO ]  Retrieving https://ssl.pstatic.net/imgstock/upload/research/debenture/1589332404418.pdf to C:\\Users\\user\\AppData\\Local\\Temp/imgstock-upload-research-debenture-1589332404418.pdf.\n",
      "2020-09-01 10:12:20,108 [MainThread  ] [INFO ]  Retrieving https://ssl.pstatic.net/imgstock/upload/research/debenture/1589244692230.pdf to C:\\Users\\user\\AppData\\Local\\Temp/imgstock-upload-research-debenture-1589244692230.pdf.\n"
     ]
    },
    {
     "name": "stdout",
     "output_type": "stream",
     "text": [
      "94\n",
      "95\n"
     ]
    },
    {
     "name": "stderr",
     "output_type": "stream",
     "text": [
      "2020-09-01 10:12:20,677 [MainThread  ] [INFO ]  Retrieving https://ssl.pstatic.net/imgstock/upload/research/debenture/1589164519702.pdf to C:\\Users\\user\\AppData\\Local\\Temp/imgstock-upload-research-debenture-1589164519702.pdf.\n"
     ]
    },
    {
     "name": "stdout",
     "output_type": "stream",
     "text": [
      "96\n"
     ]
    },
    {
     "name": "stderr",
     "output_type": "stream",
     "text": [
      "2020-09-01 10:12:20,964 [MainThread  ] [INFO ]  Retrieving https://ssl.pstatic.net/imgstock/upload/research/debenture/1588811415569.pdf to C:\\Users\\user\\AppData\\Local\\Temp/imgstock-upload-research-debenture-1588811415569.pdf.\n"
     ]
    },
    {
     "name": "stdout",
     "output_type": "stream",
     "text": [
      "97\n"
     ]
    },
    {
     "name": "stderr",
     "output_type": "stream",
     "text": [
      "2020-09-01 10:12:21,251 [MainThread  ] [INFO ]  Retrieving https://ssl.pstatic.net/imgstock/upload/research/debenture/1588724997958.pdf to C:\\Users\\user\\AppData\\Local\\Temp/imgstock-upload-research-debenture-1588724997958.pdf.\n"
     ]
    },
    {
     "name": "stdout",
     "output_type": "stream",
     "text": [
      "98\n"
     ]
    },
    {
     "name": "stderr",
     "output_type": "stream",
     "text": [
      "2020-09-01 10:12:22,000 [MainThread  ] [INFO ]  Retrieving https://ssl.pstatic.net/imgstock/upload/research/debenture/1588552268062.pdf to C:\\Users\\user\\AppData\\Local\\Temp/imgstock-upload-research-debenture-1588552268062.pdf.\n"
     ]
    },
    {
     "name": "stdout",
     "output_type": "stream",
     "text": [
      "99\n"
     ]
    },
    {
     "name": "stderr",
     "output_type": "stream",
     "text": [
      "2020-09-01 10:12:22,980 [MainThread  ] [INFO ]  Retrieving https://ssl.pstatic.net/imgstock/upload/research/debenture/1588039177935.pdf to C:\\Users\\user\\AppData\\Local\\Temp/imgstock-upload-research-debenture-1588039177935.pdf.\n"
     ]
    },
    {
     "name": "stdout",
     "output_type": "stream",
     "text": [
      "100\n"
     ]
    },
    {
     "name": "stderr",
     "output_type": "stream",
     "text": [
      "2020-09-01 10:12:23,487 [MainThread  ] [INFO ]  Retrieving https://ssl.pstatic.net/imgstock/upload/research/debenture/1588037771788.pdf to C:\\Users\\user\\AppData\\Local\\Temp/imgstock-upload-research-debenture-1588037771788.pdf.\n"
     ]
    },
    {
     "name": "stdout",
     "output_type": "stream",
     "text": [
      "101\n"
     ]
    },
    {
     "name": "stderr",
     "output_type": "stream",
     "text": [
      "2020-09-01 10:12:24,555 [MainThread  ] [INFO ]  Retrieving https://ssl.pstatic.net/imgstock/upload/research/debenture/1588036249692.pdf to C:\\Users\\user\\AppData\\Local\\Temp/imgstock-upload-research-debenture-1588036249692.pdf.\n"
     ]
    },
    {
     "name": "stdout",
     "output_type": "stream",
     "text": [
      "102\n"
     ]
    },
    {
     "name": "stderr",
     "output_type": "stream",
     "text": [
      "2020-09-01 10:12:24,878 [MainThread  ] [INFO ]  Retrieving https://ssl.pstatic.net/imgstock/upload/research/debenture/1588035330187.pdf to C:\\Users\\user\\AppData\\Local\\Temp/imgstock-upload-research-debenture-1588035330187.pdf.\n"
     ]
    },
    {
     "name": "stdout",
     "output_type": "stream",
     "text": [
      "103\n"
     ]
    },
    {
     "name": "stderr",
     "output_type": "stream",
     "text": [
      "2020-09-01 10:12:25,306 [MainThread  ] [INFO ]  Retrieving https://ssl.pstatic.net/imgstock/upload/research/debenture/1588035296978.pdf to C:\\Users\\user\\AppData\\Local\\Temp/imgstock-upload-research-debenture-1588035296978.pdf.\n"
     ]
    },
    {
     "name": "stdout",
     "output_type": "stream",
     "text": [
      "104\n",
      "105\n"
     ]
    },
    {
     "name": "stderr",
     "output_type": "stream",
     "text": [
      "2020-09-01 10:12:25,493 [MainThread  ] [INFO ]  Retrieving https://ssl.pstatic.net/imgstock/upload/research/debenture/1587950822864.pdf to C:\\Users\\user\\AppData\\Local\\Temp/imgstock-upload-research-debenture-1587950822864.pdf.\n",
      "2020-09-01 10:12:26,028 [MainThread  ] [INFO ]  Retrieving https://ssl.pstatic.net/imgstock/upload/research/debenture/1587691071799.pdf to C:\\Users\\user\\AppData\\Local\\Temp/imgstock-upload-research-debenture-1587691071799.pdf.\n"
     ]
    },
    {
     "name": "stdout",
     "output_type": "stream",
     "text": [
      "106\n"
     ]
    },
    {
     "name": "stderr",
     "output_type": "stream",
     "text": [
      "2020-09-01 10:12:26,417 [MainThread  ] [INFO ]  Retrieving https://ssl.pstatic.net/imgstock/upload/research/debenture/1587604717674.pdf to C:\\Users\\user\\AppData\\Local\\Temp/imgstock-upload-research-debenture-1587604717674.pdf.\n",
      "2020-09-01 10:12:26,487 [MainThread  ] [INFO ]  Retrieving https://ssl.pstatic.net/imgstock/upload/research/debenture/1587603310975.pdf to C:\\Users\\user\\AppData\\Local\\Temp/imgstock-upload-research-debenture-1587603310975.pdf.\n"
     ]
    },
    {
     "name": "stdout",
     "output_type": "stream",
     "text": [
      "107\n",
      "108\n"
     ]
    },
    {
     "name": "stderr",
     "output_type": "stream",
     "text": [
      "2020-09-01 10:12:27,076 [MainThread  ] [INFO ]  Retrieving https://ssl.pstatic.net/imgstock/upload/research/debenture/1587515867944.pdf to C:\\Users\\user\\AppData\\Local\\Temp/imgstock-upload-research-debenture-1587515867944.pdf.\n"
     ]
    },
    {
     "name": "stdout",
     "output_type": "stream",
     "text": [
      "109\n"
     ]
    },
    {
     "name": "stderr",
     "output_type": "stream",
     "text": [
      "2020-09-01 10:12:28,084 [MainThread  ] [INFO ]  Retrieving https://ssl.pstatic.net/imgstock/upload/research/debenture/1587428720971.pdf to C:\\Users\\user\\AppData\\Local\\Temp/imgstock-upload-research-debenture-1587428720971.pdf.\n"
     ]
    },
    {
     "name": "stdout",
     "output_type": "stream",
     "text": [
      "110\n"
     ]
    },
    {
     "name": "stderr",
     "output_type": "stream",
     "text": [
      "2020-09-01 10:12:28,794 [MainThread  ] [INFO ]  Retrieving https://ssl.pstatic.net/imgstock/upload/research/debenture/1587360523186.pdf to C:\\Users\\user\\AppData\\Local\\Temp/imgstock-upload-research-debenture-1587360523186.pdf.\n",
      "2020-09-01 10:12:28,921 [MainThread  ] [INFO ]  Retrieving https://ssl.pstatic.net/imgstock/upload/research/debenture/1587359323028.pdf to C:\\Users\\user\\AppData\\Local\\Temp/imgstock-upload-research-debenture-1587359323028.pdf.\n"
     ]
    },
    {
     "name": "stdout",
     "output_type": "stream",
     "text": [
      "111\n",
      "112\n"
     ]
    },
    {
     "name": "stderr",
     "output_type": "stream",
     "text": [
      "2020-09-01 10:12:29,237 [MainThread  ] [INFO ]  Retrieving https://ssl.pstatic.net/imgstock/upload/research/debenture/1587351264645.pdf to C:\\Users\\user\\AppData\\Local\\Temp/imgstock-upload-research-debenture-1587351264645.pdf.\n"
     ]
    },
    {
     "name": "stdout",
     "output_type": "stream",
     "text": [
      "113\n"
     ]
    },
    {
     "name": "stderr",
     "output_type": "stream",
     "text": [
      "2020-09-01 10:12:30,077 [MainThread  ] [INFO ]  Retrieving https://ssl.pstatic.net/imgstock/upload/research/debenture/1587083553079.pdf to C:\\Users\\user\\AppData\\Local\\Temp/imgstock-upload-research-debenture-1587083553079.pdf.\n",
      "2020-09-01 10:12:30,210 [MainThread  ] [INFO ]  Retrieving https://ssl.pstatic.net/imgstock/upload/research/debenture/1586997071882.pdf to C:\\Users\\user\\AppData\\Local\\Temp/imgstock-upload-research-debenture-1586997071882.pdf.\n"
     ]
    },
    {
     "name": "stdout",
     "output_type": "stream",
     "text": [
      "114\n",
      "115\n"
     ]
    },
    {
     "name": "stderr",
     "output_type": "stream",
     "text": [
      "2020-09-01 10:12:30,414 [MainThread  ] [INFO ]  Retrieving https://ssl.pstatic.net/imgstock/upload/research/debenture/1586996521523.pdf to C:\\Users\\user\\AppData\\Local\\Temp/imgstock-upload-research-debenture-1586996521523.pdf.\n"
     ]
    },
    {
     "name": "stdout",
     "output_type": "stream",
     "text": [
      "116\n"
     ]
    },
    {
     "name": "stderr",
     "output_type": "stream",
     "text": [
      "2020-09-01 10:12:31,175 [MainThread  ] [INFO ]  Retrieving https://ssl.pstatic.net/imgstock/upload/research/debenture/1586823803747.pdf to C:\\Users\\user\\AppData\\Local\\Temp/imgstock-upload-research-debenture-1586823803747.pdf.\n"
     ]
    },
    {
     "name": "stdout",
     "output_type": "stream",
     "text": [
      "117\n"
     ]
    },
    {
     "name": "stderr",
     "output_type": "stream",
     "text": [
      "2020-09-01 10:12:31,623 [MainThread  ] [INFO ]  Retrieving https://ssl.pstatic.net/imgstock/upload/research/debenture/1586823258349.pdf to C:\\Users\\user\\AppData\\Local\\Temp/imgstock-upload-research-debenture-1586823258349.pdf.\n"
     ]
    },
    {
     "name": "stdout",
     "output_type": "stream",
     "text": [
      "118\n"
     ]
    },
    {
     "name": "stderr",
     "output_type": "stream",
     "text": [
      "2020-09-01 10:12:32,429 [MainThread  ] [INFO ]  Retrieving https://ssl.pstatic.net/imgstock/upload/research/debenture/1586739049516.pdf to C:\\Users\\user\\AppData\\Local\\Temp/imgstock-upload-research-debenture-1586739049516.pdf.\n"
     ]
    },
    {
     "name": "stdout",
     "output_type": "stream",
     "text": [
      "119\n"
     ]
    },
    {
     "name": "stderr",
     "output_type": "stream",
     "text": [
      "2020-09-01 10:12:32,705 [MainThread  ] [INFO ]  Retrieving https://ssl.pstatic.net/imgstock/upload/research/debenture/1586478875177.pdf to C:\\Users\\user\\AppData\\Local\\Temp/imgstock-upload-research-debenture-1586478875177.pdf.\n"
     ]
    },
    {
     "name": "stdout",
     "output_type": "stream",
     "text": [
      "120\n"
     ]
    },
    {
     "name": "stderr",
     "output_type": "stream",
     "text": [
      "2020-09-01 10:12:33,107 [MainThread  ] [INFO ]  Retrieving https://ssl.pstatic.net/imgstock/upload/research/debenture/1586478682738.pdf to C:\\Users\\user\\AppData\\Local\\Temp/imgstock-upload-research-debenture-1586478682738.pdf.\n"
     ]
    },
    {
     "name": "stdout",
     "output_type": "stream",
     "text": [
      "121\n"
     ]
    },
    {
     "name": "stderr",
     "output_type": "stream",
     "text": [
      "2020-09-01 10:12:33,367 [MainThread  ] [INFO ]  Retrieving https://ssl.pstatic.net/imgstock/upload/research/debenture/1586478544971.pdf to C:\\Users\\user\\AppData\\Local\\Temp/imgstock-upload-research-debenture-1586478544971.pdf.\n"
     ]
    },
    {
     "name": "stdout",
     "output_type": "stream",
     "text": [
      "122\n"
     ]
    },
    {
     "name": "stderr",
     "output_type": "stream",
     "text": [
      "2020-09-01 10:12:33,603 [MainThread  ] [INFO ]  Retrieving https://ssl.pstatic.net/imgstock/upload/research/debenture/1586478271049.pdf to C:\\Users\\user\\AppData\\Local\\Temp/imgstock-upload-research-debenture-1586478271049.pdf.\n"
     ]
    },
    {
     "name": "stdout",
     "output_type": "stream",
     "text": [
      "123\n"
     ]
    },
    {
     "name": "stderr",
     "output_type": "stream",
     "text": [
      "2020-09-01 10:12:34,066 [MainThread  ] [INFO ]  Retrieving https://ssl.pstatic.net/imgstock/upload/research/debenture/1586477703441.pdf to C:\\Users\\user\\AppData\\Local\\Temp/imgstock-upload-research-debenture-1586477703441.pdf.\n",
      "2020-09-01 10:12:34,223 [MainThread  ] [INFO ]  Retrieving https://ssl.pstatic.net/imgstock/upload/research/debenture/1586391901564.pdf to C:\\Users\\user\\AppData\\Local\\Temp/imgstock-upload-research-debenture-1586391901564.pdf.\n"
     ]
    },
    {
     "name": "stdout",
     "output_type": "stream",
     "text": [
      "124\n",
      "125\n"
     ]
    },
    {
     "name": "stderr",
     "output_type": "stream",
     "text": [
      "2020-09-01 10:12:34,969 [MainThread  ] [INFO ]  Retrieving https://ssl.pstatic.net/imgstock/upload/research/debenture/1586219629812.pdf to C:\\Users\\user\\AppData\\Local\\Temp/imgstock-upload-research-debenture-1586219629812.pdf.\n"
     ]
    },
    {
     "name": "stdout",
     "output_type": "stream",
     "text": [
      "126\n"
     ]
    },
    {
     "name": "stderr",
     "output_type": "stream",
     "text": [
      "2020-09-01 10:12:35,753 [MainThread  ] [INFO ]  Retrieving https://ssl.pstatic.net/imgstock/upload/research/debenture/1586218759705.pdf to C:\\Users\\user\\AppData\\Local\\Temp/imgstock-upload-research-debenture-1586218759705.pdf.\n"
     ]
    },
    {
     "name": "stdout",
     "output_type": "stream",
     "text": [
      "127\n"
     ]
    },
    {
     "name": "stderr",
     "output_type": "stream",
     "text": [
      "2020-09-01 10:12:36,198 [MainThread  ] [INFO ]  Retrieving https://ssl.pstatic.net/imgstock/upload/research/debenture/1586218410762.pdf to C:\\Users\\user\\AppData\\Local\\Temp/imgstock-upload-research-debenture-1586218410762.pdf.\n"
     ]
    },
    {
     "name": "stdout",
     "output_type": "stream",
     "text": [
      "128\n"
     ]
    },
    {
     "name": "stderr",
     "output_type": "stream",
     "text": [
      "2020-09-01 10:12:36,464 [MainThread  ] [INFO ]  Retrieving https://ssl.pstatic.net/imgstock/upload/research/debenture/1586133048312.pdf to C:\\Users\\user\\AppData\\Local\\Temp/imgstock-upload-research-debenture-1586133048312.pdf.\n"
     ]
    },
    {
     "name": "stdout",
     "output_type": "stream",
     "text": [
      "129\n"
     ]
    },
    {
     "name": "stderr",
     "output_type": "stream",
     "text": [
      "2020-09-01 10:12:37,042 [MainThread  ] [INFO ]  Retrieving https://ssl.pstatic.net/imgstock/upload/research/debenture/1586132468102.pdf to C:\\Users\\user\\AppData\\Local\\Temp/imgstock-upload-research-debenture-1586132468102.pdf.\n"
     ]
    },
    {
     "name": "stdout",
     "output_type": "stream",
     "text": [
      "130\n"
     ]
    },
    {
     "name": "stderr",
     "output_type": "stream",
     "text": [
      "2020-09-01 10:12:38,214 [MainThread  ] [INFO ]  Retrieving https://ssl.pstatic.net/imgstock/upload/research/debenture/1585873765667.pdf to C:\\Users\\user\\AppData\\Local\\Temp/imgstock-upload-research-debenture-1585873765667.pdf.\n"
     ]
    },
    {
     "name": "stdout",
     "output_type": "stream",
     "text": [
      "131\n"
     ]
    },
    {
     "name": "stderr",
     "output_type": "stream",
     "text": [
      "2020-09-01 10:12:38,718 [MainThread  ] [INFO ]  Retrieving https://ssl.pstatic.net/imgstock/upload/research/debenture/1585786455435.pdf to C:\\Users\\user\\AppData\\Local\\Temp/imgstock-upload-research-debenture-1585786455435.pdf.\n",
      "2020-09-01 10:12:38,818 [MainThread  ] [INFO ]  Retrieving https://ssl.pstatic.net/imgstock/upload/research/debenture/1585701166742.pdf to C:\\Users\\user\\AppData\\Local\\Temp/imgstock-upload-research-debenture-1585701166742.pdf.\n"
     ]
    },
    {
     "name": "stdout",
     "output_type": "stream",
     "text": [
      "132\n",
      "133\n"
     ]
    },
    {
     "name": "stderr",
     "output_type": "stream",
     "text": [
      "2020-09-01 10:12:39,293 [MainThread  ] [INFO ]  Retrieving https://ssl.pstatic.net/imgstock/upload/research/debenture/1585700591658.pdf to C:\\Users\\user\\AppData\\Local\\Temp/imgstock-upload-research-debenture-1585700591658.pdf.\n"
     ]
    },
    {
     "name": "stdout",
     "output_type": "stream",
     "text": [
      "134\n"
     ]
    },
    {
     "name": "stderr",
     "output_type": "stream",
     "text": [
      "2020-09-01 10:12:40,100 [MainThread  ] [INFO ]  Retrieving https://ssl.pstatic.net/imgstock/upload/research/debenture/1585615929426.pdf to C:\\Users\\user\\AppData\\Local\\Temp/imgstock-upload-research-debenture-1585615929426.pdf.\n"
     ]
    },
    {
     "name": "stdout",
     "output_type": "stream",
     "text": [
      "135\n"
     ]
    },
    {
     "name": "stderr",
     "output_type": "stream",
     "text": [
      "2020-09-01 10:12:40,574 [MainThread  ] [INFO ]  Retrieving https://ssl.pstatic.net/imgstock/upload/research/debenture/1585528754847.pdf to C:\\Users\\user\\AppData\\Local\\Temp/imgstock-upload-research-debenture-1585528754847.pdf.\n"
     ]
    },
    {
     "name": "stdout",
     "output_type": "stream",
     "text": [
      "136\n"
     ]
    },
    {
     "name": "stderr",
     "output_type": "stream",
     "text": [
      "2020-09-01 10:12:40,869 [MainThread  ] [INFO ]  Retrieving https://ssl.pstatic.net/imgstock/upload/research/debenture/1585528553013.pdf to C:\\Users\\user\\AppData\\Local\\Temp/imgstock-upload-research-debenture-1585528553013.pdf.\n"
     ]
    },
    {
     "name": "stdout",
     "output_type": "stream",
     "text": [
      "137\n"
     ]
    },
    {
     "name": "stderr",
     "output_type": "stream",
     "text": [
      "2020-09-01 10:12:41,765 [MainThread  ] [INFO ]  Retrieving https://ssl.pstatic.net/imgstock/upload/research/debenture/1585269475564.pdf to C:\\Users\\user\\AppData\\Local\\Temp/imgstock-upload-research-debenture-1585269475564.pdf.\n"
     ]
    },
    {
     "name": "stdout",
     "output_type": "stream",
     "text": [
      "138\n"
     ]
    },
    {
     "name": "stderr",
     "output_type": "stream",
     "text": [
      "2020-09-01 10:12:42,036 [MainThread  ] [INFO ]  Retrieving https://ssl.pstatic.net/imgstock/upload/research/debenture/1585268212724.pdf to C:\\Users\\user\\AppData\\Local\\Temp/imgstock-upload-research-debenture-1585268212724.pdf.\n",
      "2020-09-01 10:12:42,146 [MainThread  ] [INFO ]  Retrieving https://ssl.pstatic.net/imgstock/upload/research/debenture/1585183863086.pdf to C:\\Users\\user\\AppData\\Local\\Temp/imgstock-upload-research-debenture-1585183863086.pdf.\n"
     ]
    },
    {
     "name": "stdout",
     "output_type": "stream",
     "text": [
      "139\n",
      "140\n"
     ]
    },
    {
     "name": "stderr",
     "output_type": "stream",
     "text": [
      "2020-09-01 10:12:42,601 [MainThread  ] [INFO ]  Retrieving https://ssl.pstatic.net/imgstock/upload/research/debenture/1585096156252.pdf to C:\\Users\\user\\AppData\\Local\\Temp/imgstock-upload-research-debenture-1585096156252.pdf.\n"
     ]
    },
    {
     "name": "stdout",
     "output_type": "stream",
     "text": [
      "141\n"
     ]
    },
    {
     "name": "stderr",
     "output_type": "stream",
     "text": [
      "2020-09-01 10:12:43,398 [MainThread  ] [INFO ]  Retrieving https://ssl.pstatic.net/imgstock/upload/research/debenture/1585096123845.pdf to C:\\Users\\user\\AppData\\Local\\Temp/imgstock-upload-research-debenture-1585096123845.pdf.\n"
     ]
    },
    {
     "name": "stdout",
     "output_type": "stream",
     "text": [
      "142\n"
     ]
    },
    {
     "name": "stderr",
     "output_type": "stream",
     "text": [
      "2020-09-01 10:12:43,726 [MainThread  ] [INFO ]  Retrieving https://ssl.pstatic.net/imgstock/upload/research/debenture/1585008793143.pdf to C:\\Users\\user\\AppData\\Local\\Temp/imgstock-upload-research-debenture-1585008793143.pdf.\n"
     ]
    },
    {
     "name": "stdout",
     "output_type": "stream",
     "text": [
      "143\n"
     ]
    },
    {
     "name": "stderr",
     "output_type": "stream",
     "text": [
      "2020-09-01 10:12:44,381 [MainThread  ] [INFO ]  Retrieving https://ssl.pstatic.net/imgstock/upload/research/debenture/1584924192750.pdf to C:\\Users\\user\\AppData\\Local\\Temp/imgstock-upload-research-debenture-1584924192750.pdf.\n",
      "2020-09-01 10:12:44,523 [MainThread  ] [INFO ]  Retrieving https://ssl.pstatic.net/imgstock/upload/research/debenture/1584923915373.pdf to C:\\Users\\user\\AppData\\Local\\Temp/imgstock-upload-research-debenture-1584923915373.pdf.\n"
     ]
    },
    {
     "name": "stdout",
     "output_type": "stream",
     "text": [
      "144\n",
      "145\n"
     ]
    },
    {
     "name": "stderr",
     "output_type": "stream",
     "text": [
      "2020-09-01 10:12:44,860 [MainThread  ] [INFO ]  Retrieving https://ssl.pstatic.net/imgstock/upload/research/debenture/1584664975943.pdf to C:\\Users\\user\\AppData\\Local\\Temp/imgstock-upload-research-debenture-1584664975943.pdf.\n"
     ]
    },
    {
     "name": "stdout",
     "output_type": "stream",
     "text": [
      "146\n"
     ]
    },
    {
     "name": "stderr",
     "output_type": "stream",
     "text": [
      "2020-09-01 10:12:46,313 [MainThread  ] [INFO ]  Retrieving https://ssl.pstatic.net/imgstock/upload/research/debenture/1584664227860.pdf to C:\\Users\\user\\AppData\\Local\\Temp/imgstock-upload-research-debenture-1584664227860.pdf.\n"
     ]
    },
    {
     "name": "stdout",
     "output_type": "stream",
     "text": [
      "147\n"
     ]
    },
    {
     "name": "stderr",
     "output_type": "stream",
     "text": [
      "2020-09-01 10:12:46,635 [MainThread  ] [INFO ]  Retrieving https://ssl.pstatic.net/imgstock/upload/research/debenture/1584663561336.pdf to C:\\Users\\user\\AppData\\Local\\Temp/imgstock-upload-research-debenture-1584663561336.pdf.\n",
      "2020-09-01 10:12:46,742 [MainThread  ] [INFO ]  Retrieving https://ssl.pstatic.net/imgstock/upload/research/debenture/1584577577714.pdf to C:\\Users\\user\\AppData\\Local\\Temp/imgstock-upload-research-debenture-1584577577714.pdf.\n"
     ]
    },
    {
     "name": "stdout",
     "output_type": "stream",
     "text": [
      "148\n",
      "149\n"
     ]
    },
    {
     "name": "stderr",
     "output_type": "stream",
     "text": [
      "2020-09-01 10:12:47,095 [MainThread  ] [INFO ]  Retrieving https://ssl.pstatic.net/imgstock/upload/research/debenture/1584491504928.pdf to C:\\Users\\user\\AppData\\Local\\Temp/imgstock-upload-research-debenture-1584491504928.pdf.\n"
     ]
    },
    {
     "name": "stdout",
     "output_type": "stream",
     "text": [
      "150\n"
     ]
    },
    {
     "name": "stderr",
     "output_type": "stream",
     "text": [
      "2020-09-01 10:12:47,966 [MainThread  ] [INFO ]  Retrieving https://ssl.pstatic.net/imgstock/upload/research/debenture/1584405977394.pdf to C:\\Users\\user\\AppData\\Local\\Temp/imgstock-upload-research-debenture-1584405977394.pdf.\n"
     ]
    },
    {
     "name": "stdout",
     "output_type": "stream",
     "text": [
      "151\n",
      "152\n"
     ]
    },
    {
     "name": "stderr",
     "output_type": "stream",
     "text": [
      "2020-09-01 10:12:48,143 [MainThread  ] [INFO ]  Retrieving https://ssl.pstatic.net/imgstock/upload/research/debenture/1584405626313.pdf to C:\\Users\\user\\AppData\\Local\\Temp/imgstock-upload-research-debenture-1584405626313.pdf.\n",
      "2020-09-01 10:12:48,399 [MainThread  ] [INFO ]  Retrieving https://ssl.pstatic.net/imgstock/upload/research/debenture/1584405355440.pdf to C:\\Users\\user\\AppData\\Local\\Temp/imgstock-upload-research-debenture-1584405355440.pdf.\n"
     ]
    },
    {
     "name": "stdout",
     "output_type": "stream",
     "text": [
      "153\n",
      "154\n"
     ]
    },
    {
     "name": "stderr",
     "output_type": "stream",
     "text": [
      "2020-09-01 10:12:48,597 [MainThread  ] [INFO ]  Retrieving https://ssl.pstatic.net/imgstock/upload/research/debenture/1584404951926.pdf to C:\\Users\\user\\AppData\\Local\\Temp/imgstock-upload-research-debenture-1584404951926.pdf.\n",
      "2020-09-01 10:12:49,449 [MainThread  ] [INFO ]  Retrieving https://ssl.pstatic.net/imgstock/upload/research/debenture/1584404152039.pdf to C:\\Users\\user\\AppData\\Local\\Temp/imgstock-upload-research-debenture-1584404152039.pdf.\n",
      "2020-09-01 10:12:49,619 [MainThread  ] [INFO ]  Retrieving https://ssl.pstatic.net/imgstock/upload/research/debenture/1584404043511.pdf to C:\\Users\\user\\AppData\\Local\\Temp/imgstock-upload-research-debenture-1584404043511.pdf.\n"
     ]
    },
    {
     "name": "stdout",
     "output_type": "stream",
     "text": [
      "155\n",
      "156\n"
     ]
    },
    {
     "name": "stderr",
     "output_type": "stream",
     "text": [
      "2020-09-01 10:12:49,760 [MainThread  ] [INFO ]  Retrieving https://ssl.pstatic.net/imgstock/upload/research/debenture/1584317682573.pdf to C:\\Users\\user\\AppData\\Local\\Temp/imgstock-upload-research-debenture-1584317682573.pdf.\n",
      "2020-09-01 10:12:49,908 [MainThread  ] [INFO ]  Retrieving https://ssl.pstatic.net/imgstock/upload/research/debenture/1584060836902.pdf to C:\\Users\\user\\AppData\\Local\\Temp/imgstock-upload-research-debenture-1584060836902.pdf.\n"
     ]
    },
    {
     "name": "stdout",
     "output_type": "stream",
     "text": [
      "157\n",
      "158\n"
     ]
    },
    {
     "name": "stderr",
     "output_type": "stream",
     "text": [
      "2020-09-01 10:12:50,102 [MainThread  ] [INFO ]  Retrieving https://ssl.pstatic.net/imgstock/upload/research/debenture/1584060725206.pdf to C:\\Users\\user\\AppData\\Local\\Temp/imgstock-upload-research-debenture-1584060725206.pdf.\n"
     ]
    },
    {
     "name": "stdout",
     "output_type": "stream",
     "text": [
      "159\n"
     ]
    },
    {
     "name": "stderr",
     "output_type": "stream",
     "text": [
      "2020-09-01 10:12:50,469 [MainThread  ] [INFO ]  Retrieving https://ssl.pstatic.net/imgstock/upload/research/debenture/1584059526331.pdf to C:\\Users\\user\\AppData\\Local\\Temp/imgstock-upload-research-debenture-1584059526331.pdf.\n"
     ]
    },
    {
     "name": "stdout",
     "output_type": "stream",
     "text": [
      "160\n"
     ]
    },
    {
     "name": "stderr",
     "output_type": "stream",
     "text": [
      "2020-09-01 10:12:50,687 [MainThread  ] [INFO ]  Retrieving https://ssl.pstatic.net/imgstock/upload/research/debenture/1583973354463.pdf to C:\\Users\\user\\AppData\\Local\\Temp/imgstock-upload-research-debenture-1583973354463.pdf.\n"
     ]
    },
    {
     "name": "stdout",
     "output_type": "stream",
     "text": [
      "161\n"
     ]
    },
    {
     "name": "stderr",
     "output_type": "stream",
     "text": [
      "2020-09-01 10:12:51,261 [MainThread  ] [INFO ]  Retrieving https://ssl.pstatic.net/imgstock/upload/research/debenture/1583886435958.pdf to C:\\Users\\user\\AppData\\Local\\Temp/imgstock-upload-research-debenture-1583886435958.pdf.\n"
     ]
    },
    {
     "name": "stdout",
     "output_type": "stream",
     "text": [
      "162\n"
     ]
    },
    {
     "name": "stderr",
     "output_type": "stream",
     "text": [
      "2020-09-01 10:12:52,405 [MainThread  ] [INFO ]  Retrieving https://ssl.pstatic.net/imgstock/upload/research/debenture/1583800517330.pdf to C:\\Users\\user\\AppData\\Local\\Temp/imgstock-upload-research-debenture-1583800517330.pdf.\n"
     ]
    },
    {
     "name": "stdout",
     "output_type": "stream",
     "text": [
      "163\n"
     ]
    },
    {
     "name": "stderr",
     "output_type": "stream",
     "text": [
      "2020-09-01 10:12:52,799 [MainThread  ] [INFO ]  Retrieving https://ssl.pstatic.net/imgstock/upload/research/debenture/1583799799921.pdf to C:\\Users\\user\\AppData\\Local\\Temp/imgstock-upload-research-debenture-1583799799921.pdf.\n"
     ]
    },
    {
     "name": "stdout",
     "output_type": "stream",
     "text": [
      "164\n"
     ]
    },
    {
     "name": "stderr",
     "output_type": "stream",
     "text": [
      "2020-09-01 10:12:53,225 [MainThread  ] [INFO ]  Retrieving https://ssl.pstatic.net/imgstock/upload/research/debenture/1583799614187.pdf to C:\\Users\\user\\AppData\\Local\\Temp/imgstock-upload-research-debenture-1583799614187.pdf.\n"
     ]
    },
    {
     "name": "stdout",
     "output_type": "stream",
     "text": [
      "165\n"
     ]
    },
    {
     "name": "stderr",
     "output_type": "stream",
     "text": [
      "2020-09-01 10:12:53,605 [MainThread  ] [INFO ]  Retrieving https://ssl.pstatic.net/imgstock/upload/research/debenture/1583714533325.pdf to C:\\Users\\user\\AppData\\Local\\Temp/imgstock-upload-research-debenture-1583714533325.pdf.\n"
     ]
    },
    {
     "name": "stdout",
     "output_type": "stream",
     "text": [
      "166\n"
     ]
    },
    {
     "name": "stderr",
     "output_type": "stream",
     "text": [
      "2020-09-01 10:12:53,873 [MainThread  ] [INFO ]  Retrieving https://ssl.pstatic.net/imgstock/upload/research/debenture/1583713676011.pdf to C:\\Users\\user\\AppData\\Local\\Temp/imgstock-upload-research-debenture-1583713676011.pdf.\n"
     ]
    },
    {
     "name": "stdout",
     "output_type": "stream",
     "text": [
      "167\n"
     ]
    },
    {
     "name": "stderr",
     "output_type": "stream",
     "text": [
      "2020-09-01 10:12:54,284 [MainThread  ] [INFO ]  Retrieving https://ssl.pstatic.net/imgstock/upload/research/debenture/1583712933073.pdf to C:\\Users\\user\\AppData\\Local\\Temp/imgstock-upload-research-debenture-1583712933073.pdf.\n"
     ]
    },
    {
     "name": "stdout",
     "output_type": "stream",
     "text": [
      "168\n"
     ]
    },
    {
     "name": "stderr",
     "output_type": "stream",
     "text": [
      "2020-09-01 10:12:54,623 [MainThread  ] [INFO ]  Retrieving https://ssl.pstatic.net/imgstock/upload/research/debenture/1583712893346.pdf to C:\\Users\\user\\AppData\\Local\\Temp/imgstock-upload-research-debenture-1583712893346.pdf.\n"
     ]
    },
    {
     "name": "stdout",
     "output_type": "stream",
     "text": [
      "169\n"
     ]
    },
    {
     "name": "stderr",
     "output_type": "stream",
     "text": [
      "2020-09-01 10:12:55,721 [MainThread  ] [INFO ]  Retrieving https://ssl.pstatic.net/imgstock/upload/research/debenture/1583455869268.pdf to C:\\Users\\user\\AppData\\Local\\Temp/imgstock-upload-research-debenture-1583455869268.pdf.\n"
     ]
    },
    {
     "name": "stdout",
     "output_type": "stream",
     "text": [
      "170\n"
     ]
    },
    {
     "name": "stderr",
     "output_type": "stream",
     "text": [
      "2020-09-01 10:12:56,103 [MainThread  ] [INFO ]  Retrieving https://ssl.pstatic.net/imgstock/upload/research/debenture/1583369967115.pdf to C:\\Users\\user\\AppData\\Local\\Temp/imgstock-upload-research-debenture-1583369967115.pdf.\n",
      "2020-09-01 10:12:56,258 [MainThread  ] [INFO ]  Retrieving https://ssl.pstatic.net/imgstock/upload/research/debenture/1583369487721.pdf to C:\\Users\\user\\AppData\\Local\\Temp/imgstock-upload-research-debenture-1583369487721.pdf.\n"
     ]
    },
    {
     "name": "stdout",
     "output_type": "stream",
     "text": [
      "171\n",
      "172\n"
     ]
    },
    {
     "name": "stderr",
     "output_type": "stream",
     "text": [
      "2020-09-01 10:12:56,824 [MainThread  ] [INFO ]  Retrieving https://ssl.pstatic.net/imgstock/upload/research/debenture/1583284404349.pdf to C:\\Users\\user\\AppData\\Local\\Temp/imgstock-upload-research-debenture-1583284404349.pdf.\n"
     ]
    },
    {
     "name": "stdout",
     "output_type": "stream",
     "text": [
      "173\n"
     ]
    },
    {
     "name": "stderr",
     "output_type": "stream",
     "text": [
      "2020-09-01 10:12:57,602 [MainThread  ] [INFO ]  Retrieving https://ssl.pstatic.net/imgstock/upload/research/debenture/1583196667066.pdf to C:\\Users\\user\\AppData\\Local\\Temp/imgstock-upload-research-debenture-1583196667066.pdf.\n"
     ]
    },
    {
     "name": "stdout",
     "output_type": "stream",
     "text": [
      "174\n"
     ]
    },
    {
     "name": "stderr",
     "output_type": "stream",
     "text": [
      "2020-09-01 10:12:58,046 [MainThread  ] [INFO ]  Retrieving https://ssl.pstatic.net/imgstock/upload/research/debenture/1583116136536.pdf to C:\\Users\\user\\AppData\\Local\\Temp/imgstock-upload-research-debenture-1583116136536.pdf.\n"
     ]
    },
    {
     "name": "stdout",
     "output_type": "stream",
     "text": [
      "175\n"
     ]
    },
    {
     "name": "stderr",
     "output_type": "stream",
     "text": [
      "2020-09-01 10:12:58,386 [MainThread  ] [INFO ]  Retrieving https://ssl.pstatic.net/imgstock/upload/research/debenture/1582852425415.pdf to C:\\Users\\user\\AppData\\Local\\Temp/imgstock-upload-research-debenture-1582852425415.pdf.\n"
     ]
    },
    {
     "name": "stdout",
     "output_type": "stream",
     "text": [
      "176\n"
     ]
    },
    {
     "name": "stderr",
     "output_type": "stream",
     "text": [
      "2020-09-01 10:12:58,720 [MainThread  ] [INFO ]  Retrieving https://ssl.pstatic.net/imgstock/upload/research/debenture/1582767262823.pdf to C:\\Users\\user\\AppData\\Local\\Temp/imgstock-upload-research-debenture-1582767262823.pdf.\n"
     ]
    },
    {
     "name": "stdout",
     "output_type": "stream",
     "text": [
      "177\n"
     ]
    },
    {
     "name": "stderr",
     "output_type": "stream",
     "text": [
      "2020-09-01 10:12:59,212 [MainThread  ] [INFO ]  Retrieving https://ssl.pstatic.net/imgstock/upload/research/debenture/1582679838499.pdf to C:\\Users\\user\\AppData\\Local\\Temp/imgstock-upload-research-debenture-1582679838499.pdf.\n"
     ]
    },
    {
     "name": "stdout",
     "output_type": "stream",
     "text": [
      "178\n"
     ]
    },
    {
     "name": "stderr",
     "output_type": "stream",
     "text": [
      "2020-09-01 10:12:59,992 [MainThread  ] [INFO ]  Retrieving https://ssl.pstatic.net/imgstock/upload/research/debenture/1582593224618.pdf to C:\\Users\\user\\AppData\\Local\\Temp/imgstock-upload-research-debenture-1582593224618.pdf.\n"
     ]
    },
    {
     "name": "stdout",
     "output_type": "stream",
     "text": [
      "179\n"
     ]
    },
    {
     "name": "stderr",
     "output_type": "stream",
     "text": [
      "2020-09-01 10:13:00,318 [MainThread  ] [INFO ]  Retrieving https://ssl.pstatic.net/imgstock/upload/research/debenture/1582592131833.pdf to C:\\Users\\user\\AppData\\Local\\Temp/imgstock-upload-research-debenture-1582592131833.pdf.\n"
     ]
    },
    {
     "name": "stdout",
     "output_type": "stream",
     "text": [
      "180\n"
     ]
    },
    {
     "name": "stderr",
     "output_type": "stream",
     "text": [
      "2020-09-01 10:13:00,789 [MainThread  ] [INFO ]  Retrieving https://ssl.pstatic.net/imgstock/upload/research/debenture/1582508363449.pdf to C:\\Users\\user\\AppData\\Local\\Temp/imgstock-upload-research-debenture-1582508363449.pdf.\n"
     ]
    },
    {
     "name": "stdout",
     "output_type": "stream",
     "text": [
      "181\n"
     ]
    },
    {
     "name": "stderr",
     "output_type": "stream",
     "text": [
      "2020-09-01 10:13:01,104 [MainThread  ] [INFO ]  Retrieving https://ssl.pstatic.net/imgstock/upload/research/debenture/1582250830801.pdf to C:\\Users\\user\\AppData\\Local\\Temp/imgstock-upload-research-debenture-1582250830801.pdf.\n"
     ]
    },
    {
     "name": "stdout",
     "output_type": "stream",
     "text": [
      "182\n"
     ]
    },
    {
     "name": "stderr",
     "output_type": "stream",
     "text": [
      "2020-09-01 10:13:01,333 [MainThread  ] [INFO ]  Retrieving https://ssl.pstatic.net/imgstock/upload/research/debenture/1582248372338.pdf to C:\\Users\\user\\AppData\\Local\\Temp/imgstock-upload-research-debenture-1582248372338.pdf.\n"
     ]
    },
    {
     "name": "stdout",
     "output_type": "stream",
     "text": [
      "183\n"
     ]
    },
    {
     "name": "stderr",
     "output_type": "stream",
     "text": [
      "2020-09-01 10:13:01,975 [MainThread  ] [INFO ]  Retrieving https://ssl.pstatic.net/imgstock/upload/research/debenture/1582074251086.pdf to C:\\Users\\user\\AppData\\Local\\Temp/imgstock-upload-research-debenture-1582074251086.pdf.\n"
     ]
    },
    {
     "name": "stdout",
     "output_type": "stream",
     "text": [
      "184\n"
     ]
    },
    {
     "name": "stderr",
     "output_type": "stream",
     "text": [
      "2020-09-01 10:13:02,742 [MainThread  ] [INFO ]  Retrieving https://ssl.pstatic.net/imgstock/upload/research/debenture/1581906345246.pdf to C:\\Users\\user\\AppData\\Local\\Temp/imgstock-upload-research-debenture-1581906345246.pdf.\n"
     ]
    },
    {
     "name": "stdout",
     "output_type": "stream",
     "text": [
      "185\n"
     ]
    },
    {
     "name": "stderr",
     "output_type": "stream",
     "text": [
      "2020-09-01 10:13:03,017 [MainThread  ] [INFO ]  Retrieving https://ssl.pstatic.net/imgstock/upload/research/debenture/1581643816239.pdf to C:\\Users\\user\\AppData\\Local\\Temp/imgstock-upload-research-debenture-1581643816239.pdf.\n"
     ]
    },
    {
     "name": "stdout",
     "output_type": "stream",
     "text": [
      "186\n"
     ]
    },
    {
     "name": "stderr",
     "output_type": "stream",
     "text": [
      "2020-09-01 10:13:03,362 [MainThread  ] [INFO ]  Retrieving https://ssl.pstatic.net/imgstock/upload/research/debenture/1581469564540.pdf to C:\\Users\\user\\AppData\\Local\\Temp/imgstock-upload-research-debenture-1581469564540.pdf.\n"
     ]
    },
    {
     "name": "stdout",
     "output_type": "stream",
     "text": [
      "187\n"
     ]
    },
    {
     "name": "stderr",
     "output_type": "stream",
     "text": [
      "2020-09-01 10:13:04,099 [MainThread  ] [INFO ]  Retrieving https://ssl.pstatic.net/imgstock/upload/research/debenture/1581382465362.pdf to C:\\Users\\user\\AppData\\Local\\Temp/imgstock-upload-research-debenture-1581382465362.pdf.\n"
     ]
    },
    {
     "name": "stdout",
     "output_type": "stream",
     "text": [
      "188\n"
     ]
    },
    {
     "name": "stderr",
     "output_type": "stream",
     "text": [
      "2020-09-01 10:13:04,621 [MainThread  ] [INFO ]  Retrieving https://ssl.pstatic.net/imgstock/upload/research/debenture/1581300434223.pdf to C:\\Users\\user\\AppData\\Local\\Temp/imgstock-upload-research-debenture-1581300434223.pdf.\n"
     ]
    },
    {
     "name": "stdout",
     "output_type": "stream",
     "text": [
      "189\n"
     ]
    },
    {
     "name": "stderr",
     "output_type": "stream",
     "text": [
      "2020-09-01 10:13:04,967 [MainThread  ] [INFO ]  Retrieving https://ssl.pstatic.net/imgstock/upload/research/debenture/1581040421484.pdf to C:\\Users\\user\\AppData\\Local\\Temp/imgstock-upload-research-debenture-1581040421484.pdf.\n"
     ]
    },
    {
     "name": "stdout",
     "output_type": "stream",
     "text": [
      "190\n"
     ]
    },
    {
     "name": "stderr",
     "output_type": "stream",
     "text": [
      "2020-09-01 10:13:05,305 [MainThread  ] [INFO ]  Retrieving https://ssl.pstatic.net/imgstock/upload/research/debenture/1580954493611.pdf to C:\\Users\\user\\AppData\\Local\\Temp/imgstock-upload-research-debenture-1580954493611.pdf.\n"
     ]
    },
    {
     "name": "stdout",
     "output_type": "stream",
     "text": [
      "191\n"
     ]
    },
    {
     "name": "stderr",
     "output_type": "stream",
     "text": [
      "2020-09-01 10:13:05,565 [MainThread  ] [INFO ]  Retrieving https://ssl.pstatic.net/imgstock/upload/research/debenture/1580866953479.pdf to C:\\Users\\user\\AppData\\Local\\Temp/imgstock-upload-research-debenture-1580866953479.pdf.\n"
     ]
    },
    {
     "name": "stdout",
     "output_type": "stream",
     "text": [
      "192\n"
     ]
    },
    {
     "name": "stderr",
     "output_type": "stream",
     "text": [
      "2020-09-01 10:13:06,277 [MainThread  ] [INFO ]  Retrieving https://ssl.pstatic.net/imgstock/upload/research/debenture/1580777793896.pdf to C:\\Users\\user\\AppData\\Local\\Temp/imgstock-upload-research-debenture-1580777793896.pdf.\n"
     ]
    },
    {
     "name": "stdout",
     "output_type": "stream",
     "text": [
      "193\n"
     ]
    },
    {
     "name": "stderr",
     "output_type": "stream",
     "text": [
      "2020-09-01 10:13:06,785 [MainThread  ] [INFO ]  Retrieving https://ssl.pstatic.net/imgstock/upload/research/debenture/1580349031035.pdf to C:\\Users\\user\\AppData\\Local\\Temp/imgstock-upload-research-debenture-1580349031035.pdf.\n",
      "2020-09-01 10:13:06,888 [MainThread  ] [INFO ]  Retrieving https://ssl.pstatic.net/imgstock/upload/research/debenture/1580348840788.pdf to C:\\Users\\user\\AppData\\Local\\Temp/imgstock-upload-research-debenture-1580348840788.pdf.\n"
     ]
    },
    {
     "name": "stdout",
     "output_type": "stream",
     "text": [
      "194\n",
      "195\n"
     ]
    },
    {
     "name": "stderr",
     "output_type": "stream",
     "text": [
      "2020-09-01 10:13:07,048 [MainThread  ] [INFO ]  Retrieving https://ssl.pstatic.net/imgstock/upload/research/debenture/1580347877570.pdf to C:\\Users\\user\\AppData\\Local\\Temp/imgstock-upload-research-debenture-1580347877570.pdf.\n"
     ]
    },
    {
     "name": "stdout",
     "output_type": "stream",
     "text": [
      "196\n"
     ]
    },
    {
     "name": "stderr",
     "output_type": "stream",
     "text": [
      "2020-09-01 10:13:07,414 [MainThread  ] [INFO ]  Retrieving https://ssl.pstatic.net/imgstock/upload/research/debenture/1580346470804.pdf to C:\\Users\\user\\AppData\\Local\\Temp/imgstock-upload-research-debenture-1580346470804.pdf.\n"
     ]
    },
    {
     "name": "stdout",
     "output_type": "stream",
     "text": [
      "197\n"
     ]
    },
    {
     "name": "stderr",
     "output_type": "stream",
     "text": [
      "2020-09-01 10:13:07,630 [MainThread  ] [INFO ]  Retrieving https://ssl.pstatic.net/imgstock/upload/research/debenture/1580260708114.pdf to C:\\Users\\user\\AppData\\Local\\Temp/imgstock-upload-research-debenture-1580260708114.pdf.\n"
     ]
    },
    {
     "name": "stdout",
     "output_type": "stream",
     "text": [
      "198\n"
     ]
    },
    {
     "name": "stderr",
     "output_type": "stream",
     "text": [
      "2020-09-01 10:13:08,450 [MainThread  ] [INFO ]  Retrieving https://ssl.pstatic.net/imgstock/upload/research/debenture/1580175772556.pdf to C:\\Users\\user\\AppData\\Local\\Temp/imgstock-upload-research-debenture-1580175772556.pdf.\n"
     ]
    },
    {
     "name": "stdout",
     "output_type": "stream",
     "text": [
      "199\n"
     ]
    },
    {
     "name": "stderr",
     "output_type": "stream",
     "text": [
      "2020-09-01 10:13:08,794 [MainThread  ] [INFO ]  Retrieving https://ssl.pstatic.net/imgstock/upload/research/debenture/1580175608744.pdf to C:\\Users\\user\\AppData\\Local\\Temp/imgstock-upload-research-debenture-1580175608744.pdf.\n"
     ]
    },
    {
     "name": "stdout",
     "output_type": "stream",
     "text": [
      "200\n"
     ]
    },
    {
     "name": "stderr",
     "output_type": "stream",
     "text": [
      "2020-09-01 10:13:09,313 [MainThread  ] [INFO ]  Retrieving https://ssl.pstatic.net/imgstock/upload/research/debenture/1580173843097.pdf to C:\\Users\\user\\AppData\\Local\\Temp/imgstock-upload-research-debenture-1580173843097.pdf.\n"
     ]
    },
    {
     "name": "stdout",
     "output_type": "stream",
     "text": [
      "201\n"
     ]
    },
    {
     "name": "stderr",
     "output_type": "stream",
     "text": [
      "2020-09-01 10:13:09,805 [MainThread  ] [INFO ]  Retrieving https://ssl.pstatic.net/imgstock/upload/research/debenture/1579742478427.pdf to C:\\Users\\user\\AppData\\Local\\Temp/imgstock-upload-research-debenture-1579742478427.pdf.\n"
     ]
    },
    {
     "name": "stdout",
     "output_type": "stream",
     "text": [
      "202\n"
     ]
    },
    {
     "name": "stderr",
     "output_type": "stream",
     "text": [
      "2020-09-01 10:13:10,372 [MainThread  ] [INFO ]  Retrieving https://ssl.pstatic.net/imgstock/upload/research/debenture/1579656060563.pdf to C:\\Users\\user\\AppData\\Local\\Temp/imgstock-upload-research-debenture-1579656060563.pdf.\n"
     ]
    },
    {
     "name": "stdout",
     "output_type": "stream",
     "text": [
      "203\n"
     ]
    },
    {
     "name": "stderr",
     "output_type": "stream",
     "text": [
      "2020-09-01 10:13:11,096 [MainThread  ] [INFO ]  Retrieving https://ssl.pstatic.net/imgstock/upload/research/debenture/1579569250521.pdf to C:\\Users\\user\\AppData\\Local\\Temp/imgstock-upload-research-debenture-1579569250521.pdf.\n"
     ]
    },
    {
     "name": "stdout",
     "output_type": "stream",
     "text": [
      "204\n"
     ]
    },
    {
     "name": "stderr",
     "output_type": "stream",
     "text": [
      "2020-09-01 10:13:11,663 [MainThread  ] [INFO ]  Retrieving https://ssl.pstatic.net/imgstock/upload/research/debenture/1579484373569.pdf to C:\\Users\\user\\AppData\\Local\\Temp/imgstock-upload-research-debenture-1579484373569.pdf.\n"
     ]
    },
    {
     "name": "stdout",
     "output_type": "stream",
     "text": [
      "205\n",
      "206\n"
     ]
    },
    {
     "name": "stderr",
     "output_type": "stream",
     "text": [
      "2020-09-01 10:13:11,869 [MainThread  ] [INFO ]  Retrieving https://ssl.pstatic.net/imgstock/upload/research/debenture/1579225160167.pdf to C:\\Users\\user\\AppData\\Local\\Temp/imgstock-upload-research-debenture-1579225160167.pdf.\n",
      "2020-09-01 10:13:12,228 [MainThread  ] [INFO ]  Retrieving https://ssl.pstatic.net/imgstock/upload/research/debenture/1579224446796.pdf to C:\\Users\\user\\AppData\\Local\\Temp/imgstock-upload-research-debenture-1579224446796.pdf.\n"
     ]
    },
    {
     "name": "stdout",
     "output_type": "stream",
     "text": [
      "207\n"
     ]
    },
    {
     "name": "stderr",
     "output_type": "stream",
     "text": [
      "2020-09-01 10:13:12,504 [MainThread  ] [INFO ]  Retrieving https://ssl.pstatic.net/imgstock/upload/research/debenture/1579051022425.pdf to C:\\Users\\user\\AppData\\Local\\Temp/imgstock-upload-research-debenture-1579051022425.pdf.\n"
     ]
    },
    {
     "name": "stdout",
     "output_type": "stream",
     "text": [
      "208\n"
     ]
    },
    {
     "name": "stderr",
     "output_type": "stream",
     "text": [
      "2020-09-01 10:13:13,279 [MainThread  ] [INFO ]  Retrieving https://ssl.pstatic.net/imgstock/upload/research/debenture/1578880233345.pdf to C:\\Users\\user\\AppData\\Local\\Temp/imgstock-upload-research-debenture-1578880233345.pdf.\n"
     ]
    },
    {
     "name": "stdout",
     "output_type": "stream",
     "text": [
      "209\n"
     ]
    },
    {
     "name": "stderr",
     "output_type": "stream",
     "text": [
      "2020-09-01 10:13:13,534 [MainThread  ] [INFO ]  Retrieving https://ssl.pstatic.net/imgstock/upload/research/debenture/1578532603676.pdf to C:\\Users\\user\\AppData\\Local\\Temp/imgstock-upload-research-debenture-1578532603676.pdf.\n"
     ]
    },
    {
     "name": "stdout",
     "output_type": "stream",
     "text": [
      "210\n"
     ]
    },
    {
     "name": "stderr",
     "output_type": "stream",
     "text": [
      "2020-09-01 10:13:13,980 [MainThread  ] [INFO ]  Retrieving https://ssl.pstatic.net/imgstock/upload/research/debenture/1578532028632.pdf to C:\\Users\\user\\AppData\\Local\\Temp/imgstock-upload-research-debenture-1578532028632.pdf.\n"
     ]
    },
    {
     "name": "stdout",
     "output_type": "stream",
     "text": [
      "211\n"
     ]
    },
    {
     "name": "stderr",
     "output_type": "stream",
     "text": [
      "2020-09-01 10:13:14,183 [MainThread  ] [INFO ]  Retrieving https://ssl.pstatic.net/imgstock/upload/research/debenture/1578446999212.pdf to C:\\Users\\user\\AppData\\Local\\Temp/imgstock-upload-research-debenture-1578446999212.pdf.\n"
     ]
    },
    {
     "name": "stdout",
     "output_type": "stream",
     "text": [
      "212\n"
     ]
    },
    {
     "name": "stderr",
     "output_type": "stream",
     "text": [
      "2020-09-01 10:13:14,933 [MainThread  ] [INFO ]  Retrieving https://ssl.pstatic.net/imgstock/upload/research/debenture/1578272844701.pdf to C:\\Users\\user\\AppData\\Local\\Temp/imgstock-upload-research-debenture-1578272844701.pdf.\n"
     ]
    },
    {
     "name": "stdout",
     "output_type": "stream",
     "text": [
      "213\n"
     ]
    },
    {
     "name": "stderr",
     "output_type": "stream",
     "text": [
      "2020-09-01 10:13:15,594 [MainThread  ] [INFO ]  Retrieving https://ssl.pstatic.net/imgstock/upload/research/debenture/1578016019634.pdf to C:\\Users\\user\\AppData\\Local\\Temp/imgstock-upload-research-debenture-1578016019634.pdf.\n",
      "2020-09-01 10:13:15,677 [MainThread  ] [INFO ]  Retrieving https://ssl.pstatic.net/imgstock/upload/research/debenture/1577928004737.pdf to C:\\Users\\user\\AppData\\Local\\Temp/imgstock-upload-research-debenture-1577928004737.pdf.\n"
     ]
    },
    {
     "name": "stdout",
     "output_type": "stream",
     "text": [
      "214\n",
      "215\n"
     ]
    },
    {
     "name": "stderr",
     "output_type": "stream",
     "text": [
      "2020-09-01 10:13:16,049 [MainThread  ] [INFO ]  Retrieving https://ssl.pstatic.net/imgstock/upload/research/debenture/1577412023687.pdf to C:\\Users\\user\\AppData\\Local\\Temp/imgstock-upload-research-debenture-1577412023687.pdf.\n"
     ]
    },
    {
     "name": "stdout",
     "output_type": "stream",
     "text": [
      "216\n"
     ]
    },
    {
     "name": "stderr",
     "output_type": "stream",
     "text": [
      "2020-09-01 10:13:16,966 [MainThread  ] [INFO ]  Retrieving https://ssl.pstatic.net/imgstock/upload/research/debenture/1577323060447.pdf to C:\\Users\\user\\AppData\\Local\\Temp/imgstock-upload-research-debenture-1577323060447.pdf.\n"
     ]
    },
    {
     "name": "stdout",
     "output_type": "stream",
     "text": [
      "217\n"
     ]
    },
    {
     "name": "stderr",
     "output_type": "stream",
     "text": [
      "2020-09-01 10:13:17,218 [MainThread  ] [INFO ]  Retrieving https://ssl.pstatic.net/imgstock/upload/research/debenture/1576805440252.pdf to C:\\Users\\user\\AppData\\Local\\Temp/imgstock-upload-research-debenture-1576805440252.pdf.\n"
     ]
    },
    {
     "name": "stdout",
     "output_type": "stream",
     "text": [
      "218\n"
     ]
    },
    {
     "name": "stderr",
     "output_type": "stream",
     "text": [
      "2020-09-01 10:13:17,557 [MainThread  ] [INFO ]  Retrieving https://ssl.pstatic.net/imgstock/upload/research/debenture/1576804325203.pdf to C:\\Users\\user\\AppData\\Local\\Temp/imgstock-upload-research-debenture-1576804325203.pdf.\n"
     ]
    },
    {
     "name": "stdout",
     "output_type": "stream",
     "text": [
      "219\n"
     ]
    },
    {
     "name": "stderr",
     "output_type": "stream",
     "text": [
      "2020-09-01 10:13:17,754 [MainThread  ] [INFO ]  Retrieving https://ssl.pstatic.net/imgstock/upload/research/debenture/1576718476748.pdf to C:\\Users\\user\\AppData\\Local\\Temp/imgstock-upload-research-debenture-1576718476748.pdf.\n"
     ]
    },
    {
     "name": "stdout",
     "output_type": "stream",
     "text": [
      "220\n"
     ]
    },
    {
     "name": "stderr",
     "output_type": "stream",
     "text": [
      "2020-09-01 10:13:18,001 [MainThread  ] [INFO ]  Retrieving https://ssl.pstatic.net/imgstock/upload/research/debenture/1576460938332.pdf to C:\\Users\\user\\AppData\\Local\\Temp/imgstock-upload-research-debenture-1576460938332.pdf.\n"
     ]
    },
    {
     "name": "stdout",
     "output_type": "stream",
     "text": [
      "221\n"
     ]
    },
    {
     "name": "stderr",
     "output_type": "stream",
     "text": [
      "2020-09-01 10:13:18,570 [MainThread  ] [INFO ]  Retrieving https://ssl.pstatic.net/imgstock/upload/research/debenture/1576201448539.pdf to C:\\Users\\user\\AppData\\Local\\Temp/imgstock-upload-research-debenture-1576201448539.pdf.\n"
     ]
    },
    {
     "name": "stdout",
     "output_type": "stream",
     "text": [
      "222\n"
     ]
    },
    {
     "name": "stderr",
     "output_type": "stream",
     "text": [
      "2020-09-01 10:13:18,895 [MainThread  ] [INFO ]  Retrieving https://ssl.pstatic.net/imgstock/upload/research/debenture/1576201418511.pdf to C:\\Users\\user\\AppData\\Local\\Temp/imgstock-upload-research-debenture-1576201418511.pdf.\n"
     ]
    },
    {
     "name": "stdout",
     "output_type": "stream",
     "text": [
      "223\n",
      "224\n"
     ]
    },
    {
     "name": "stderr",
     "output_type": "stream",
     "text": [
      "2020-09-01 10:13:19,091 [MainThread  ] [INFO ]  Retrieving https://ssl.pstatic.net/imgstock/upload/research/debenture/1576115603955.pdf to C:\\Users\\user\\AppData\\Local\\Temp/imgstock-upload-research-debenture-1576115603955.pdf.\n",
      "2020-09-01 10:13:19,201 [MainThread  ] [INFO ]  Retrieving https://ssl.pstatic.net/imgstock/upload/research/debenture/1576115417393.pdf to C:\\Users\\user\\AppData\\Local\\Temp/imgstock-upload-research-debenture-1576115417393.pdf.\n"
     ]
    },
    {
     "name": "stdout",
     "output_type": "stream",
     "text": [
      "225\n"
     ]
    },
    {
     "name": "stderr",
     "output_type": "stream",
     "text": [
      "2020-09-01 10:13:19,527 [MainThread  ] [INFO ]  Retrieving https://ssl.pstatic.net/imgstock/upload/research/debenture/1576114137697.pdf to C:\\Users\\user\\AppData\\Local\\Temp/imgstock-upload-research-debenture-1576114137697.pdf.\n"
     ]
    },
    {
     "name": "stdout",
     "output_type": "stream",
     "text": [
      "226\n"
     ]
    },
    {
     "name": "stderr",
     "output_type": "stream",
     "text": [
      "2020-09-01 10:13:19,999 [MainThread  ] [INFO ]  Retrieving https://ssl.pstatic.net/imgstock/upload/research/debenture/1576113832009.pdf to C:\\Users\\user\\AppData\\Local\\Temp/imgstock-upload-research-debenture-1576113832009.pdf.\n"
     ]
    },
    {
     "name": "stdout",
     "output_type": "stream",
     "text": [
      "227\n"
     ]
    },
    {
     "name": "stderr",
     "output_type": "stream",
     "text": [
      "2020-09-01 10:13:20,273 [MainThread  ] [INFO ]  Retrieving https://ssl.pstatic.net/imgstock/upload/research/debenture/1576027064428.pdf to C:\\Users\\user\\AppData\\Local\\Temp/imgstock-upload-research-debenture-1576027064428.pdf.\n"
     ]
    },
    {
     "name": "stdout",
     "output_type": "stream",
     "text": [
      "228\n"
     ]
    },
    {
     "name": "stderr",
     "output_type": "stream",
     "text": [
      "2020-09-01 10:13:20,903 [MainThread  ] [INFO ]  Retrieving https://ssl.pstatic.net/imgstock/upload/research/debenture/1576027020015.pdf to C:\\Users\\user\\AppData\\Local\\Temp/imgstock-upload-research-debenture-1576027020015.pdf.\n"
     ]
    },
    {
     "name": "stdout",
     "output_type": "stream",
     "text": [
      "229\n"
     ]
    },
    {
     "name": "stderr",
     "output_type": "stream",
     "text": [
      "2020-09-01 10:13:21,202 [MainThread  ] [INFO ]  Retrieving https://ssl.pstatic.net/imgstock/upload/research/debenture/1575596274928.pdf to C:\\Users\\user\\AppData\\Local\\Temp/imgstock-upload-research-debenture-1575596274928.pdf.\n"
     ]
    },
    {
     "name": "stdout",
     "output_type": "stream",
     "text": [
      "230\n",
      "231\n"
     ]
    },
    {
     "name": "stderr",
     "output_type": "stream",
     "text": [
      "2020-09-01 10:13:21,388 [MainThread  ] [INFO ]  Retrieving https://ssl.pstatic.net/imgstock/upload/research/debenture/1575596184531.pdf to C:\\Users\\user\\AppData\\Local\\Temp/imgstock-upload-research-debenture-1575596184531.pdf.\n",
      "2020-09-01 10:13:21,710 [MainThread  ] [INFO ]  Retrieving https://ssl.pstatic.net/imgstock/upload/research/debenture/1575508920891.pdf to C:\\Users\\user\\AppData\\Local\\Temp/imgstock-upload-research-debenture-1575508920891.pdf.\n"
     ]
    },
    {
     "name": "stdout",
     "output_type": "stream",
     "text": [
      "232\n"
     ]
    },
    {
     "name": "stderr",
     "output_type": "stream",
     "text": [
      "2020-09-01 10:13:22,134 [MainThread  ] [INFO ]  Retrieving https://ssl.pstatic.net/imgstock/upload/research/debenture/1575508098447.pdf to C:\\Users\\user\\AppData\\Local\\Temp/imgstock-upload-research-debenture-1575508098447.pdf.\n",
      "2020-09-01 10:13:22,278 [MainThread  ] [INFO ]  Retrieving https://ssl.pstatic.net/imgstock/upload/research/debenture/1575423637583.pdf to C:\\Users\\user\\AppData\\Local\\Temp/imgstock-upload-research-debenture-1575423637583.pdf.\n"
     ]
    },
    {
     "name": "stdout",
     "output_type": "stream",
     "text": [
      "233\n",
      "234\n"
     ]
    },
    {
     "name": "stderr",
     "output_type": "stream",
     "text": [
      "2020-09-01 10:13:22,561 [MainThread  ] [INFO ]  Retrieving https://ssl.pstatic.net/imgstock/upload/research/debenture/1575335422995.pdf to C:\\Users\\user\\AppData\\Local\\Temp/imgstock-upload-research-debenture-1575335422995.pdf.\n"
     ]
    },
    {
     "name": "stdout",
     "output_type": "stream",
     "text": [
      "235\n"
     ]
    },
    {
     "name": "stderr",
     "output_type": "stream",
     "text": [
      "2020-09-01 10:13:22,812 [MainThread  ] [INFO ]  Retrieving https://ssl.pstatic.net/imgstock/upload/research/debenture/1575251584610.pdf to C:\\Users\\user\\AppData\\Local\\Temp/imgstock-upload-research-debenture-1575251584610.pdf.\n"
     ]
    },
    {
     "name": "stdout",
     "output_type": "stream",
     "text": [
      "236\n"
     ]
    },
    {
     "name": "stderr",
     "output_type": "stream",
     "text": [
      "2020-09-01 10:13:23,126 [MainThread  ] [INFO ]  Retrieving https://ssl.pstatic.net/imgstock/upload/research/debenture/1574992714315.pdf to C:\\Users\\user\\AppData\\Local\\Temp/imgstock-upload-research-debenture-1574992714315.pdf.\n"
     ]
    },
    {
     "name": "stdout",
     "output_type": "stream",
     "text": [
      "237\n"
     ]
    },
    {
     "name": "stderr",
     "output_type": "stream",
     "text": [
      "2020-09-01 10:13:23,928 [MainThread  ] [INFO ]  Retrieving https://ssl.pstatic.net/imgstock/upload/research/debenture/1574904989394.pdf to C:\\Users\\user\\AppData\\Local\\Temp/imgstock-upload-research-debenture-1574904989394.pdf.\n"
     ]
    },
    {
     "name": "stdout",
     "output_type": "stream",
     "text": [
      "238\n"
     ]
    },
    {
     "name": "stderr",
     "output_type": "stream",
     "text": [
      "2020-09-01 10:13:24,361 [MainThread  ] [INFO ]  Retrieving https://ssl.pstatic.net/imgstock/upload/research/debenture/1574818870938.pdf to C:\\Users\\user\\AppData\\Local\\Temp/imgstock-upload-research-debenture-1574818870938.pdf.\n"
     ]
    },
    {
     "name": "stdout",
     "output_type": "stream",
     "text": [
      "239\n"
     ]
    },
    {
     "name": "stderr",
     "output_type": "stream",
     "text": [
      "2020-09-01 10:13:25,082 [MainThread  ] [INFO ]  Retrieving https://ssl.pstatic.net/imgstock/upload/research/debenture/1574818746717.pdf to C:\\Users\\user\\AppData\\Local\\Temp/imgstock-upload-research-debenture-1574818746717.pdf.\n"
     ]
    },
    {
     "name": "stdout",
     "output_type": "stream",
     "text": [
      "240\n"
     ]
    },
    {
     "name": "stderr",
     "output_type": "stream",
     "text": [
      "2020-09-01 10:13:25,338 [MainThread  ] [INFO ]  Retrieving https://ssl.pstatic.net/imgstock/upload/research/debenture/1574647029939.pdf to C:\\Users\\user\\AppData\\Local\\Temp/imgstock-upload-research-debenture-1574647029939.pdf.\n"
     ]
    },
    {
     "name": "stdout",
     "output_type": "stream",
     "text": [
      "241\n"
     ]
    },
    {
     "name": "stderr",
     "output_type": "stream",
     "text": [
      "2020-09-01 10:13:25,584 [MainThread  ] [INFO ]  Retrieving https://ssl.pstatic.net/imgstock/upload/research/debenture/1574299837164.pdf to C:\\Users\\user\\AppData\\Local\\Temp/imgstock-upload-research-debenture-1574299837164.pdf.\n"
     ]
    },
    {
     "name": "stdout",
     "output_type": "stream",
     "text": [
      "242\n"
     ]
    },
    {
     "name": "stderr",
     "output_type": "stream",
     "text": [
      "2020-09-01 10:13:26,111 [MainThread  ] [INFO ]  Retrieving https://ssl.pstatic.net/imgstock/upload/research/debenture/1574212847314.pdf to C:\\Users\\user\\AppData\\Local\\Temp/imgstock-upload-research-debenture-1574212847314.pdf.\n"
     ]
    },
    {
     "name": "stdout",
     "output_type": "stream",
     "text": [
      "243\n"
     ]
    },
    {
     "name": "stderr",
     "output_type": "stream",
     "text": [
      "2020-09-01 10:13:26,836 [MainThread  ] [INFO ]  Retrieving https://ssl.pstatic.net/imgstock/upload/research/debenture/1573695817941.pdf to C:\\Users\\user\\AppData\\Local\\Temp/imgstock-upload-research-debenture-1573695817941.pdf.\n"
     ]
    },
    {
     "name": "stdout",
     "output_type": "stream",
     "text": [
      "244\n"
     ]
    },
    {
     "name": "stderr",
     "output_type": "stream",
     "text": [
      "2020-09-01 10:13:27,224 [MainThread  ] [INFO ]  Retrieving https://ssl.pstatic.net/imgstock/upload/research/debenture/1573608384037.pdf to C:\\Users\\user\\AppData\\Local\\Temp/imgstock-upload-research-debenture-1573608384037.pdf.\n"
     ]
    },
    {
     "name": "stdout",
     "output_type": "stream",
     "text": [
      "245\n"
     ]
    },
    {
     "name": "stderr",
     "output_type": "stream",
     "text": [
      "2020-09-01 10:13:27,823 [MainThread  ] [INFO ]  Retrieving https://ssl.pstatic.net/imgstock/upload/research/debenture/1573522293934.pdf to C:\\Users\\user\\AppData\\Local\\Temp/imgstock-upload-research-debenture-1573522293934.pdf.\n"
     ]
    },
    {
     "name": "stdout",
     "output_type": "stream",
     "text": [
      "246\n"
     ]
    },
    {
     "name": "stderr",
     "output_type": "stream",
     "text": [
      "2020-09-01 10:13:28,180 [MainThread  ] [INFO ]  Retrieving https://ssl.pstatic.net/imgstock/upload/research/debenture/1573437691555.pdf to C:\\Users\\user\\AppData\\Local\\Temp/imgstock-upload-research-debenture-1573437691555.pdf.\n"
     ]
    },
    {
     "name": "stdout",
     "output_type": "stream",
     "text": [
      "247\n"
     ]
    },
    {
     "name": "stderr",
     "output_type": "stream",
     "text": [
      "2020-09-01 10:13:28,475 [MainThread  ] [INFO ]  Retrieving https://ssl.pstatic.net/imgstock/upload/research/debenture/1573004702360.pdf to C:\\Users\\user\\AppData\\Local\\Temp/imgstock-upload-research-debenture-1573004702360.pdf.\n",
      "2020-09-01 10:13:28,650 [MainThread  ] [INFO ]  Retrieving https://ssl.pstatic.net/imgstock/upload/research/debenture/1573003676855.pdf to C:\\Users\\user\\AppData\\Local\\Temp/imgstock-upload-research-debenture-1573003676855.pdf.\n"
     ]
    },
    {
     "name": "stdout",
     "output_type": "stream",
     "text": [
      "248\n",
      "249\n"
     ]
    },
    {
     "name": "stderr",
     "output_type": "stream",
     "text": [
      "2020-09-01 10:13:29,345 [MainThread  ] [INFO ]  Retrieving https://ssl.pstatic.net/imgstock/upload/research/debenture/1572918513185.pdf to C:\\Users\\user\\AppData\\Local\\Temp/imgstock-upload-research-debenture-1572918513185.pdf.\n"
     ]
    },
    {
     "name": "stdout",
     "output_type": "stream",
     "text": [
      "250\n"
     ]
    },
    {
     "name": "stderr",
     "output_type": "stream",
     "text": [
      "2020-09-01 10:13:30,419 [MainThread  ] [INFO ]  Retrieving https://ssl.pstatic.net/imgstock/upload/research/debenture/1572832402120.pdf to C:\\Users\\user\\AppData\\Local\\Temp/imgstock-upload-research-debenture-1572832402120.pdf.\n"
     ]
    },
    {
     "name": "stdout",
     "output_type": "stream",
     "text": [
      "251\n"
     ]
    },
    {
     "name": "stderr",
     "output_type": "stream",
     "text": [
      "2020-09-01 10:13:30,684 [MainThread  ] [INFO ]  Retrieving https://ssl.pstatic.net/imgstock/upload/research/debenture/1572829926536.pdf to C:\\Users\\user\\AppData\\Local\\Temp/imgstock-upload-research-debenture-1572829926536.pdf.\n"
     ]
    },
    {
     "name": "stdout",
     "output_type": "stream",
     "text": [
      "252\n"
     ]
    },
    {
     "name": "stderr",
     "output_type": "stream",
     "text": [
      "2020-09-01 10:13:31,448 [MainThread  ] [INFO ]  Retrieving https://ssl.pstatic.net/imgstock/upload/research/debenture/1572571510780.pdf to C:\\Users\\user\\AppData\\Local\\Temp/imgstock-upload-research-debenture-1572571510780.pdf.\n"
     ]
    },
    {
     "name": "stdout",
     "output_type": "stream",
     "text": [
      "253\n"
     ]
    },
    {
     "name": "stderr",
     "output_type": "stream",
     "text": [
      "2020-09-01 10:13:31,864 [MainThread  ] [INFO ]  Retrieving https://ssl.pstatic.net/imgstock/upload/research/debenture/1572487492989.pdf to C:\\Users\\user\\AppData\\Local\\Temp/imgstock-upload-research-debenture-1572487492989.pdf.\n",
      "2020-09-01 10:13:31,975 [MainThread  ] [INFO ]  Retrieving https://ssl.pstatic.net/imgstock/upload/research/debenture/1572485539625.pdf to C:\\Users\\user\\AppData\\Local\\Temp/imgstock-upload-research-debenture-1572485539625.pdf.\n"
     ]
    },
    {
     "name": "stdout",
     "output_type": "stream",
     "text": [
      "254\n",
      "255\n"
     ]
    },
    {
     "name": "stderr",
     "output_type": "stream",
     "text": [
      "2020-09-01 10:13:33,682 [MainThread  ] [INFO ]  Retrieving https://ssl.pstatic.net/imgstock/upload/research/debenture/1572399194984.pdf to C:\\Users\\user\\AppData\\Local\\Temp/imgstock-upload-research-debenture-1572399194984.pdf.\n"
     ]
    },
    {
     "name": "stdout",
     "output_type": "stream",
     "text": [
      "256\n"
     ]
    },
    {
     "name": "stderr",
     "output_type": "stream",
     "text": [
      "2020-09-01 10:13:34,501 [MainThread  ] [INFO ]  Retrieving https://ssl.pstatic.net/imgstock/upload/research/debenture/1572315211737.pdf to C:\\Users\\user\\AppData\\Local\\Temp/imgstock-upload-research-debenture-1572315211737.pdf.\n"
     ]
    },
    {
     "name": "stdout",
     "output_type": "stream",
     "text": [
      "257\n"
     ]
    },
    {
     "name": "stderr",
     "output_type": "stream",
     "text": [
      "2020-09-01 10:13:35,245 [MainThread  ] [INFO ]  Retrieving https://ssl.pstatic.net/imgstock/upload/research/debenture/1572313190837.pdf to C:\\Users\\user\\AppData\\Local\\Temp/imgstock-upload-research-debenture-1572313190837.pdf.\n"
     ]
    },
    {
     "name": "stdout",
     "output_type": "stream",
     "text": [
      "258\n"
     ]
    },
    {
     "name": "stderr",
     "output_type": "stream",
     "text": [
      "2020-09-01 10:13:35,878 [MainThread  ] [INFO ]  Retrieving https://ssl.pstatic.net/imgstock/upload/research/debenture/1572313145929.pdf to C:\\Users\\user\\AppData\\Local\\Temp/imgstock-upload-research-debenture-1572313145929.pdf.\n"
     ]
    },
    {
     "name": "stdout",
     "output_type": "stream",
     "text": [
      "259\n"
     ]
    },
    {
     "name": "stderr",
     "output_type": "stream",
     "text": [
      "2020-09-01 10:13:36,276 [MainThread  ] [INFO ]  Retrieving https://ssl.pstatic.net/imgstock/upload/research/debenture/1572228762172.pdf to C:\\Users\\user\\AppData\\Local\\Temp/imgstock-upload-research-debenture-1572228762172.pdf.\n"
     ]
    },
    {
     "name": "stdout",
     "output_type": "stream",
     "text": [
      "260\n"
     ]
    },
    {
     "name": "stderr",
     "output_type": "stream",
     "text": [
      "2020-09-01 10:13:36,534 [MainThread  ] [INFO ]  Retrieving https://ssl.pstatic.net/imgstock/upload/research/debenture/1572228549528.pdf to C:\\Users\\user\\AppData\\Local\\Temp/imgstock-upload-research-debenture-1572228549528.pdf.\n"
     ]
    },
    {
     "name": "stdout",
     "output_type": "stream",
     "text": [
      "261\n"
     ]
    },
    {
     "name": "stderr",
     "output_type": "stream",
     "text": [
      "2020-09-01 10:13:36,986 [MainThread  ] [INFO ]  Retrieving https://ssl.pstatic.net/imgstock/upload/research/debenture/1572227389757.pdf to C:\\Users\\user\\AppData\\Local\\Temp/imgstock-upload-research-debenture-1572227389757.pdf.\n"
     ]
    },
    {
     "name": "stdout",
     "output_type": "stream",
     "text": [
      "262\n"
     ]
    },
    {
     "name": "stderr",
     "output_type": "stream",
     "text": [
      "2020-09-01 10:13:37,412 [MainThread  ] [INFO ]  Retrieving https://ssl.pstatic.net/imgstock/upload/research/debenture/1571967101780.pdf to C:\\Users\\user\\AppData\\Local\\Temp/imgstock-upload-research-debenture-1571967101780.pdf.\n",
      "2020-09-01 10:13:37,544 [MainThread  ] [INFO ]  Retrieving https://ssl.pstatic.net/imgstock/upload/research/debenture/1571795521350.pdf to C:\\Users\\user\\AppData\\Local\\Temp/imgstock-upload-research-debenture-1571795521350.pdf.\n"
     ]
    },
    {
     "name": "stdout",
     "output_type": "stream",
     "text": [
      "263\n",
      "264\n"
     ]
    },
    {
     "name": "stderr",
     "output_type": "stream",
     "text": [
      "2020-09-01 10:13:37,732 [MainThread  ] [INFO ]  Retrieving https://ssl.pstatic.net/imgstock/upload/research/debenture/1571622670052.pdf to C:\\Users\\user\\AppData\\Local\\Temp/imgstock-upload-research-debenture-1571622670052.pdf.\n"
     ]
    },
    {
     "name": "stdout",
     "output_type": "stream",
     "text": [
      "265\n"
     ]
    },
    {
     "name": "stderr",
     "output_type": "stream",
     "text": [
      "2020-09-01 10:13:37,965 [MainThread  ] [INFO ]  Retrieving https://ssl.pstatic.net/imgstock/upload/research/debenture/1571621753776.pdf to C:\\Users\\user\\AppData\\Local\\Temp/imgstock-upload-research-debenture-1571621753776.pdf.\n"
     ]
    },
    {
     "name": "stdout",
     "output_type": "stream",
     "text": [
      "266\n"
     ]
    },
    {
     "name": "stderr",
     "output_type": "stream",
     "text": [
      "2020-09-01 10:13:38,279 [MainThread  ] [INFO ]  Retrieving https://ssl.pstatic.net/imgstock/upload/research/debenture/1571276140535.pdf to C:\\Users\\user\\AppData\\Local\\Temp/imgstock-upload-research-debenture-1571276140535.pdf.\n"
     ]
    },
    {
     "name": "stdout",
     "output_type": "stream",
     "text": [
      "267\n"
     ]
    },
    {
     "name": "stderr",
     "output_type": "stream",
     "text": [
      "2020-09-01 10:13:38,637 [MainThread  ] [INFO ]  Retrieving https://ssl.pstatic.net/imgstock/upload/research/debenture/1571275435442.pdf to C:\\Users\\user\\AppData\\Local\\Temp/imgstock-upload-research-debenture-1571275435442.pdf.\n"
     ]
    },
    {
     "name": "stdout",
     "output_type": "stream",
     "text": [
      "268\n"
     ]
    },
    {
     "name": "stderr",
     "output_type": "stream",
     "text": [
      "2020-09-01 10:13:39,098 [MainThread  ] [INFO ]  Retrieving https://ssl.pstatic.net/imgstock/upload/research/debenture/1571274656272.pdf to C:\\Users\\user\\AppData\\Local\\Temp/imgstock-upload-research-debenture-1571274656272.pdf.\n",
      "2020-09-01 10:13:39,252 [MainThread  ] [INFO ]  Retrieving https://ssl.pstatic.net/imgstock/upload/research/debenture/1571188886450.pdf to C:\\Users\\user\\AppData\\Local\\Temp/imgstock-upload-research-debenture-1571188886450.pdf.\n"
     ]
    },
    {
     "name": "stdout",
     "output_type": "stream",
     "text": [
      "269\n",
      "270\n"
     ]
    },
    {
     "name": "stderr",
     "output_type": "stream",
     "text": [
      "2020-09-01 10:13:40,114 [MainThread  ] [INFO ]  Retrieving https://ssl.pstatic.net/imgstock/upload/research/debenture/1571102629712.pdf to C:\\Users\\user\\AppData\\Local\\Temp/imgstock-upload-research-debenture-1571102629712.pdf.\n"
     ]
    },
    {
     "name": "stdout",
     "output_type": "stream",
     "text": [
      "271\n"
     ]
    },
    {
     "name": "stderr",
     "output_type": "stream",
     "text": [
      "2020-09-01 10:13:40,326 [MainThread  ] [INFO ]  Retrieving https://ssl.pstatic.net/imgstock/upload/research/debenture/1571017172552.pdf to C:\\Users\\user\\AppData\\Local\\Temp/imgstock-upload-research-debenture-1571017172552.pdf.\n"
     ]
    },
    {
     "name": "stdout",
     "output_type": "stream",
     "text": [
      "272\n"
     ]
    },
    {
     "name": "stderr",
     "output_type": "stream",
     "text": [
      "2020-09-01 10:13:40,595 [MainThread  ] [INFO ]  Retrieving https://ssl.pstatic.net/imgstock/upload/research/debenture/1571015584988.pdf to C:\\Users\\user\\AppData\\Local\\Temp/imgstock-upload-research-debenture-1571015584988.pdf.\n",
      "2020-09-01 10:13:40,745 [MainThread  ] [INFO ]  Retrieving https://ssl.pstatic.net/imgstock/upload/research/debenture/1570670453125.pdf to C:\\Users\\user\\AppData\\Local\\Temp/imgstock-upload-research-debenture-1570670453125.pdf.\n"
     ]
    },
    {
     "name": "stdout",
     "output_type": "stream",
     "text": [
      "273\n",
      "274\n"
     ]
    },
    {
     "name": "stderr",
     "output_type": "stream",
     "text": [
      "2020-09-01 10:13:41,483 [MainThread  ] [INFO ]  Retrieving https://ssl.pstatic.net/imgstock/upload/research/debenture/1570151676639.pdf to C:\\Users\\user\\AppData\\Local\\Temp/imgstock-upload-research-debenture-1570151676639.pdf.\n"
     ]
    },
    {
     "name": "stdout",
     "output_type": "stream",
     "text": [
      "275\n"
     ]
    },
    {
     "name": "stderr",
     "output_type": "stream",
     "text": [
      "2020-09-01 10:13:41,912 [MainThread  ] [INFO ]  Retrieving https://ssl.pstatic.net/imgstock/upload/research/debenture/1569980158489.pdf to C:\\Users\\user\\AppData\\Local\\Temp/imgstock-upload-research-debenture-1569980158489.pdf.\n"
     ]
    },
    {
     "name": "stdout",
     "output_type": "stream",
     "text": [
      "276\n",
      "277\n"
     ]
    },
    {
     "name": "stderr",
     "output_type": "stream",
     "text": [
      "2020-09-01 10:13:42,110 [MainThread  ] [INFO ]  Retrieving https://ssl.pstatic.net/imgstock/upload/research/debenture/1569808034284.pdf to C:\\Users\\user\\AppData\\Local\\Temp/imgstock-upload-research-debenture-1569808034284.pdf.\n",
      "2020-09-01 10:13:42,364 [MainThread  ] [INFO ]  Retrieving https://ssl.pstatic.net/imgstock/upload/research/debenture/1569548768126.pdf to C:\\Users\\user\\AppData\\Local\\Temp/imgstock-upload-research-debenture-1569548768126.pdf.\n"
     ]
    },
    {
     "name": "stdout",
     "output_type": "stream",
     "text": [
      "278\n"
     ]
    },
    {
     "name": "stderr",
     "output_type": "stream",
     "text": [
      "2020-09-01 10:13:43,748 [MainThread  ] [INFO ]  Retrieving https://ssl.pstatic.net/imgstock/upload/research/debenture/1569460945560.pdf to C:\\Users\\user\\AppData\\Local\\Temp/imgstock-upload-research-debenture-1569460945560.pdf.\n"
     ]
    },
    {
     "name": "stdout",
     "output_type": "stream",
     "text": [
      "279\n"
     ]
    },
    {
     "name": "stderr",
     "output_type": "stream",
     "text": [
      "2020-09-01 10:13:44,129 [MainThread  ] [INFO ]  Retrieving https://ssl.pstatic.net/imgstock/upload/research/debenture/1569460437457.pdf to C:\\Users\\user\\AppData\\Local\\Temp/imgstock-upload-research-debenture-1569460437457.pdf.\n"
     ]
    },
    {
     "name": "stdout",
     "output_type": "stream",
     "text": [
      "280\n"
     ]
    },
    {
     "name": "stderr",
     "output_type": "stream",
     "text": [
      "2020-09-01 10:13:45,278 [MainThread  ] [INFO ]  Retrieving https://ssl.pstatic.net/imgstock/upload/research/debenture/1569374763779.pdf to C:\\Users\\user\\AppData\\Local\\Temp/imgstock-upload-research-debenture-1569374763779.pdf.\n"
     ]
    },
    {
     "name": "stdout",
     "output_type": "stream",
     "text": [
      "281\n"
     ]
    },
    {
     "name": "stderr",
     "output_type": "stream",
     "text": [
      "2020-09-01 10:13:46,179 [MainThread  ] [INFO ]  Retrieving https://ssl.pstatic.net/imgstock/upload/research/debenture/1569288515256.pdf to C:\\Users\\user\\AppData\\Local\\Temp/imgstock-upload-research-debenture-1569288515256.pdf.\n"
     ]
    },
    {
     "name": "stdout",
     "output_type": "stream",
     "text": [
      "282\n"
     ]
    },
    {
     "name": "stderr",
     "output_type": "stream",
     "text": [
      "2020-09-01 10:13:46,559 [MainThread  ] [INFO ]  Retrieving https://ssl.pstatic.net/imgstock/upload/research/debenture/1569202826549.pdf to C:\\Users\\user\\AppData\\Local\\Temp/imgstock-upload-research-debenture-1569202826549.pdf.\n"
     ]
    },
    {
     "name": "stdout",
     "output_type": "stream",
     "text": [
      "283\n"
     ]
    },
    {
     "name": "stderr",
     "output_type": "stream",
     "text": [
      "2020-09-01 10:13:47,109 [MainThread  ] [INFO ]  Retrieving https://ssl.pstatic.net/imgstock/upload/research/debenture/1568858533216.pdf to C:\\Users\\user\\AppData\\Local\\Temp/imgstock-upload-research-debenture-1568858533216.pdf.\n",
      "2020-09-01 10:13:47,203 [MainThread  ] [INFO ]  Retrieving https://ssl.pstatic.net/imgstock/upload/research/debenture/1568858226748.pdf to C:\\Users\\user\\AppData\\Local\\Temp/imgstock-upload-research-debenture-1568858226748.pdf.\n"
     ]
    },
    {
     "name": "stdout",
     "output_type": "stream",
     "text": [
      "284\n",
      "285\n"
     ]
    },
    {
     "name": "stderr",
     "output_type": "stream",
     "text": [
      "2020-09-01 10:13:47,385 [MainThread  ] [INFO ]  Retrieving https://ssl.pstatic.net/imgstock/upload/research/debenture/1568856154254.pdf to C:\\Users\\user\\AppData\\Local\\Temp/imgstock-upload-research-debenture-1568856154254.pdf.\n"
     ]
    },
    {
     "name": "stdout",
     "output_type": "stream",
     "text": [
      "286\n"
     ]
    },
    {
     "name": "stderr",
     "output_type": "stream",
     "text": [
      "2020-09-01 10:13:47,770 [MainThread  ] [INFO ]  Retrieving https://ssl.pstatic.net/imgstock/upload/research/debenture/1568856126856.pdf to C:\\Users\\user\\AppData\\Local\\Temp/imgstock-upload-research-debenture-1568856126856.pdf.\n"
     ]
    },
    {
     "name": "stdout",
     "output_type": "stream",
     "text": [
      "287\n"
     ]
    },
    {
     "name": "stderr",
     "output_type": "stream",
     "text": [
      "2020-09-01 10:13:48,070 [MainThread  ] [INFO ]  Retrieving https://ssl.pstatic.net/imgstock/upload/research/debenture/1568770164621.pdf to C:\\Users\\user\\AppData\\Local\\Temp/imgstock-upload-research-debenture-1568770164621.pdf.\n"
     ]
    },
    {
     "name": "stdout",
     "output_type": "stream",
     "text": [
      "288\n"
     ]
    },
    {
     "name": "stderr",
     "output_type": "stream",
     "text": [
      "2020-09-01 10:13:48,477 [MainThread  ] [INFO ]  Retrieving https://ssl.pstatic.net/imgstock/upload/research/debenture/1568682726386.pdf to C:\\Users\\user\\AppData\\Local\\Temp/imgstock-upload-research-debenture-1568682726386.pdf.\n"
     ]
    },
    {
     "name": "stdout",
     "output_type": "stream",
     "text": [
      "289\n"
     ]
    },
    {
     "name": "stderr",
     "output_type": "stream",
     "text": [
      "2020-09-01 10:13:49,025 [MainThread  ] [INFO ]  Retrieving https://ssl.pstatic.net/imgstock/upload/research/debenture/1568598372263.pdf to C:\\Users\\user\\AppData\\Local\\Temp/imgstock-upload-research-debenture-1568598372263.pdf.\n"
     ]
    },
    {
     "name": "stdout",
     "output_type": "stream",
     "text": [
      "290\n"
     ]
    },
    {
     "name": "stderr",
     "output_type": "stream",
     "text": [
      "2020-09-01 10:13:49,262 [MainThread  ] [INFO ]  Retrieving https://ssl.pstatic.net/imgstock/upload/research/debenture/1568596192898.pdf to C:\\Users\\user\\AppData\\Local\\Temp/imgstock-upload-research-debenture-1568596192898.pdf.\n",
      "2020-09-01 10:13:49,416 [MainThread  ] [INFO ]  Retrieving https://ssl.pstatic.net/imgstock/upload/research/debenture/1568165959192.pdf to C:\\Users\\user\\AppData\\Local\\Temp/imgstock-upload-research-debenture-1568165959192.pdf.\n"
     ]
    },
    {
     "name": "stdout",
     "output_type": "stream",
     "text": [
      "291\n",
      "292\n"
     ]
    },
    {
     "name": "stderr",
     "output_type": "stream",
     "text": [
      "2020-09-01 10:13:49,949 [MainThread  ] [INFO ]  Retrieving https://ssl.pstatic.net/imgstock/upload/research/debenture/1567734726173.pdf to C:\\Users\\user\\AppData\\Local\\Temp/imgstock-upload-research-debenture-1567734726173.pdf.\n"
     ]
    },
    {
     "name": "stdout",
     "output_type": "stream",
     "text": [
      "293\n"
     ]
    },
    {
     "name": "stderr",
     "output_type": "stream",
     "text": [
      "2020-09-01 10:13:50,724 [MainThread  ] [INFO ]  Retrieving https://ssl.pstatic.net/imgstock/upload/research/debenture/1567647282826.pdf to C:\\Users\\user\\AppData\\Local\\Temp/imgstock-upload-research-debenture-1567647282826.pdf.\n"
     ]
    },
    {
     "name": "stdout",
     "output_type": "stream",
     "text": [
      "294\n"
     ]
    },
    {
     "name": "stderr",
     "output_type": "stream",
     "text": [
      "2020-09-01 10:13:51,094 [MainThread  ] [INFO ]  Retrieving https://ssl.pstatic.net/imgstock/upload/research/debenture/1567560652004.pdf to C:\\Users\\user\\AppData\\Local\\Temp/imgstock-upload-research-debenture-1567560652004.pdf.\n"
     ]
    },
    {
     "name": "stdout",
     "output_type": "stream",
     "text": [
      "295\n"
     ]
    },
    {
     "name": "stderr",
     "output_type": "stream",
     "text": [
      "2020-09-01 10:13:51,779 [MainThread  ] [INFO ]  Retrieving https://ssl.pstatic.net/imgstock/upload/research/debenture/1567473980418.pdf to C:\\Users\\user\\AppData\\Local\\Temp/imgstock-upload-research-debenture-1567473980418.pdf.\n"
     ]
    },
    {
     "name": "stdout",
     "output_type": "stream",
     "text": [
      "296\n"
     ]
    },
    {
     "name": "stderr",
     "output_type": "stream",
     "text": [
      "2020-09-01 10:13:52,156 [MainThread  ] [INFO ]  Retrieving https://ssl.pstatic.net/imgstock/upload/research/debenture/1567042227952.pdf to C:\\Users\\user\\AppData\\Local\\Temp/imgstock-upload-research-debenture-1567042227952.pdf.\n"
     ]
    },
    {
     "name": "stdout",
     "output_type": "stream",
     "text": [
      "297\n"
     ]
    },
    {
     "name": "stderr",
     "output_type": "stream",
     "text": [
      "2020-09-01 10:13:52,746 [MainThread  ] [INFO ]  Retrieving https://ssl.pstatic.net/imgstock/upload/research/debenture/1566956648306.pdf to C:\\Users\\user\\AppData\\Local\\Temp/imgstock-upload-research-debenture-1566956648306.pdf.\n"
     ]
    },
    {
     "name": "stdout",
     "output_type": "stream",
     "text": [
      "298\n"
     ]
    },
    {
     "name": "stderr",
     "output_type": "stream",
     "text": [
      "2020-09-01 10:13:53,484 [MainThread  ] [INFO ]  Retrieving https://ssl.pstatic.net/imgstock/upload/research/debenture/1566954504411.pdf to C:\\Users\\user\\AppData\\Local\\Temp/imgstock-upload-research-debenture-1566954504411.pdf.\n"
     ]
    },
    {
     "name": "stdout",
     "output_type": "stream",
     "text": [
      "299\n"
     ]
    },
    {
     "name": "stderr",
     "output_type": "stream",
     "text": [
      "2020-09-01 10:13:53,827 [MainThread  ] [INFO ]  Retrieving https://ssl.pstatic.net/imgstock/upload/research/debenture/1566870638931.pdf to C:\\Users\\user\\AppData\\Local\\Temp/imgstock-upload-research-debenture-1566870638931.pdf.\n"
     ]
    },
    {
     "name": "stdout",
     "output_type": "stream",
     "text": [
      "300\n"
     ]
    },
    {
     "name": "stderr",
     "output_type": "stream",
     "text": [
      "2020-09-01 10:13:54,156 [MainThread  ] [INFO ]  Retrieving https://ssl.pstatic.net/imgstock/upload/research/debenture/1566785219493.pdf to C:\\Users\\user\\AppData\\Local\\Temp/imgstock-upload-research-debenture-1566785219493.pdf.\n"
     ]
    },
    {
     "name": "stdout",
     "output_type": "stream",
     "text": [
      "301\n"
     ]
    },
    {
     "name": "stderr",
     "output_type": "stream",
     "text": [
      "2020-09-01 10:13:54,678 [MainThread  ] [INFO ]  Retrieving https://ssl.pstatic.net/imgstock/upload/research/debenture/1566531123078.pdf to C:\\Users\\user\\AppData\\Local\\Temp/imgstock-upload-research-debenture-1566531123078.pdf.\n"
     ]
    },
    {
     "name": "stdout",
     "output_type": "stream",
     "text": [
      "302\n"
     ]
    },
    {
     "name": "stderr",
     "output_type": "stream",
     "text": [
      "2020-09-01 10:13:54,985 [MainThread  ] [INFO ]  Retrieving https://ssl.pstatic.net/imgstock/upload/research/debenture/1566528661044.pdf to C:\\Users\\user\\AppData\\Local\\Temp/imgstock-upload-research-debenture-1566528661044.pdf.\n"
     ]
    },
    {
     "name": "stdout",
     "output_type": "stream",
     "text": [
      "303\n"
     ]
    },
    {
     "name": "stderr",
     "output_type": "stream",
     "text": [
      "2020-09-01 10:13:55,488 [MainThread  ] [INFO ]  Retrieving https://ssl.pstatic.net/imgstock/upload/research/debenture/1566351038505.pdf to C:\\Users\\user\\AppData\\Local\\Temp/imgstock-upload-research-debenture-1566351038505.pdf.\n"
     ]
    },
    {
     "name": "stdout",
     "output_type": "stream",
     "text": [
      "304\n"
     ]
    },
    {
     "name": "stderr",
     "output_type": "stream",
     "text": [
      "2020-09-01 10:13:56,262 [MainThread  ] [INFO ]  Retrieving https://ssl.pstatic.net/imgstock/upload/research/debenture/1566178817815.pdf to C:\\Users\\user\\AppData\\Local\\Temp/imgstock-upload-research-debenture-1566178817815.pdf.\n"
     ]
    },
    {
     "name": "stdout",
     "output_type": "stream",
     "text": [
      "305\n"
     ]
    },
    {
     "name": "stderr",
     "output_type": "stream",
     "text": [
      "2020-09-01 10:13:56,835 [MainThread  ] [INFO ]  Retrieving https://ssl.pstatic.net/imgstock/upload/research/debenture/1565920703266.pdf to C:\\Users\\user\\AppData\\Local\\Temp/imgstock-upload-research-debenture-1565920703266.pdf.\n",
      "2020-09-01 10:13:56,960 [MainThread  ] [INFO ]  Retrieving https://ssl.pstatic.net/imgstock/upload/research/debenture/1565747547940.pdf to C:\\Users\\user\\AppData\\Local\\Temp/imgstock-upload-research-debenture-1565747547940.pdf.\n"
     ]
    },
    {
     "name": "stdout",
     "output_type": "stream",
     "text": [
      "306\n",
      "307\n"
     ]
    },
    {
     "name": "stderr",
     "output_type": "stream",
     "text": [
      "2020-09-01 10:13:57,266 [MainThread  ] [INFO ]  Retrieving https://ssl.pstatic.net/imgstock/upload/research/debenture/1565746235785.pdf to C:\\Users\\user\\AppData\\Local\\Temp/imgstock-upload-research-debenture-1565746235785.pdf.\n"
     ]
    },
    {
     "name": "stdout",
     "output_type": "stream",
     "text": [
      "308\n"
     ]
    },
    {
     "name": "stderr",
     "output_type": "stream",
     "text": [
      "2020-09-01 10:13:57,903 [MainThread  ] [INFO ]  Retrieving https://ssl.pstatic.net/imgstock/upload/research/debenture/1565659876046.pdf to C:\\Users\\user\\AppData\\Local\\Temp/imgstock-upload-research-debenture-1565659876046.pdf.\n"
     ]
    },
    {
     "name": "stdout",
     "output_type": "stream",
     "text": [
      "309\n"
     ]
    },
    {
     "name": "stderr",
     "output_type": "stream",
     "text": [
      "2020-09-01 10:13:58,327 [MainThread  ] [INFO ]  Retrieving https://ssl.pstatic.net/imgstock/upload/research/debenture/1565573975190.pdf to C:\\Users\\user\\AppData\\Local\\Temp/imgstock-upload-research-debenture-1565573975190.pdf.\n"
     ]
    },
    {
     "name": "stdout",
     "output_type": "stream",
     "text": [
      "310\n"
     ]
    },
    {
     "name": "stderr",
     "output_type": "stream",
     "text": [
      "2020-09-01 10:13:58,728 [MainThread  ] [INFO ]  Retrieving https://ssl.pstatic.net/imgstock/upload/research/debenture/1565229180372.pdf to C:\\Users\\user\\AppData\\Local\\Temp/imgstock-upload-research-debenture-1565229180372.pdf.\n"
     ]
    },
    {
     "name": "stdout",
     "output_type": "stream",
     "text": [
      "311\n"
     ]
    },
    {
     "name": "stderr",
     "output_type": "stream",
     "text": [
      "2020-09-01 10:13:58,974 [MainThread  ] [INFO ]  Retrieving https://ssl.pstatic.net/imgstock/upload/research/debenture/1564968905938.pdf to C:\\Users\\user\\AppData\\Local\\Temp/imgstock-upload-research-debenture-1564968905938.pdf.\n"
     ]
    },
    {
     "name": "stdout",
     "output_type": "stream",
     "text": [
      "312\n"
     ]
    },
    {
     "name": "stderr",
     "output_type": "stream",
     "text": [
      "2020-09-01 10:14:00,029 [MainThread  ] [INFO ]  Retrieving https://ssl.pstatic.net/imgstock/upload/research/debenture/1564624033804.pdf to C:\\Users\\user\\AppData\\Local\\Temp/imgstock-upload-research-debenture-1564624033804.pdf.\n"
     ]
    },
    {
     "name": "stdout",
     "output_type": "stream",
     "text": [
      "313\n"
     ]
    },
    {
     "name": "stderr",
     "output_type": "stream",
     "text": [
      "2020-09-01 10:14:00,362 [MainThread  ] [INFO ]  Retrieving https://ssl.pstatic.net/imgstock/upload/research/debenture/1564622828050.pdf to C:\\Users\\user\\AppData\\Local\\Temp/imgstock-upload-research-debenture-1564622828050.pdf.\n"
     ]
    },
    {
     "name": "stdout",
     "output_type": "stream",
     "text": [
      "314\n"
     ]
    },
    {
     "name": "stderr",
     "output_type": "stream",
     "text": [
      "2020-09-01 10:14:00,633 [MainThread  ] [INFO ]  Retrieving https://ssl.pstatic.net/imgstock/upload/research/debenture/1564537642936.pdf to C:\\Users\\user\\AppData\\Local\\Temp/imgstock-upload-research-debenture-1564537642936.pdf.\n"
     ]
    },
    {
     "name": "stdout",
     "output_type": "stream",
     "text": [
      "315\n"
     ]
    },
    {
     "name": "stderr",
     "output_type": "stream",
     "text": [
      "2020-09-01 10:14:01,317 [MainThread  ] [INFO ]  Retrieving https://ssl.pstatic.net/imgstock/upload/research/debenture/1564537601312.pdf to C:\\Users\\user\\AppData\\Local\\Temp/imgstock-upload-research-debenture-1564537601312.pdf.\n"
     ]
    },
    {
     "name": "stdout",
     "output_type": "stream",
     "text": [
      "316\n"
     ]
    },
    {
     "name": "stderr",
     "output_type": "stream",
     "text": [
      "2020-09-01 10:14:01,541 [MainThread  ] [INFO ]  Retrieving https://ssl.pstatic.net/imgstock/upload/research/debenture/1564450314339.pdf to C:\\Users\\user\\AppData\\Local\\Temp/imgstock-upload-research-debenture-1564450314339.pdf.\n"
     ]
    },
    {
     "name": "stdout",
     "output_type": "stream",
     "text": [
      "317\n"
     ]
    },
    {
     "name": "stderr",
     "output_type": "stream",
     "text": [
      "2020-09-01 10:14:02,298 [MainThread  ] [INFO ]  Retrieving https://ssl.pstatic.net/imgstock/upload/research/debenture/1564366794799.pdf to C:\\Users\\user\\AppData\\Local\\Temp/imgstock-upload-research-debenture-1564366794799.pdf.\n"
     ]
    },
    {
     "name": "stdout",
     "output_type": "stream",
     "text": [
      "318\n"
     ]
    },
    {
     "name": "stderr",
     "output_type": "stream",
     "text": [
      "2020-09-01 10:14:03,263 [MainThread  ] [INFO ]  Retrieving https://ssl.pstatic.net/imgstock/upload/research/debenture/1564366135177.pdf to C:\\Users\\user\\AppData\\Local\\Temp/imgstock-upload-research-debenture-1564366135177.pdf.\n"
     ]
    },
    {
     "name": "stdout",
     "output_type": "stream",
     "text": [
      "319\n"
     ]
    },
    {
     "name": "stderr",
     "output_type": "stream",
     "text": [
      "2020-09-01 10:14:03,858 [MainThread  ] [INFO ]  Retrieving https://ssl.pstatic.net/imgstock/upload/research/debenture/1563931901015.pdf to C:\\Users\\user\\AppData\\Local\\Temp/imgstock-upload-research-debenture-1563931901015.pdf.\n"
     ]
    },
    {
     "name": "stdout",
     "output_type": "stream",
     "text": [
      "320\n"
     ]
    },
    {
     "name": "stderr",
     "output_type": "stream",
     "text": [
      "2020-09-01 10:14:04,751 [MainThread  ] [INFO ]  Retrieving https://ssl.pstatic.net/imgstock/upload/research/debenture/1563764238678.pdf to C:\\Users\\user\\AppData\\Local\\Temp/imgstock-upload-research-debenture-1563764238678.pdf.\n"
     ]
    },
    {
     "name": "stdout",
     "output_type": "stream",
     "text": [
      "321\n"
     ]
    },
    {
     "name": "stderr",
     "output_type": "stream",
     "text": [
      "2020-09-01 10:14:04,993 [MainThread  ] [INFO ]  Retrieving https://ssl.pstatic.net/imgstock/upload/research/debenture/1563501406244.pdf to C:\\Users\\user\\AppData\\Local\\Temp/imgstock-upload-research-debenture-1563501406244.pdf.\n"
     ]
    },
    {
     "name": "stdout",
     "output_type": "stream",
     "text": [
      "322\n"
     ]
    },
    {
     "name": "stderr",
     "output_type": "stream",
     "text": [
      "2020-09-01 10:14:05,412 [MainThread  ] [INFO ]  Retrieving https://ssl.pstatic.net/imgstock/upload/research/debenture/1563501386595.pdf to C:\\Users\\user\\AppData\\Local\\Temp/imgstock-upload-research-debenture-1563501386595.pdf.\n"
     ]
    },
    {
     "name": "stdout",
     "output_type": "stream",
     "text": [
      "323\n"
     ]
    },
    {
     "name": "stderr",
     "output_type": "stream",
     "text": [
      "2020-09-01 10:14:05,780 [MainThread  ] [INFO ]  Retrieving https://ssl.pstatic.net/imgstock/upload/research/debenture/1563499132227.pdf to C:\\Users\\user\\AppData\\Local\\Temp/imgstock-upload-research-debenture-1563499132227.pdf.\n"
     ]
    },
    {
     "name": "stdout",
     "output_type": "stream",
     "text": [
      "324\n",
      "325"
     ]
    },
    {
     "name": "stderr",
     "output_type": "stream",
     "text": [
      "2020-09-01 10:14:05,960 [MainThread  ] [INFO ]  Retrieving https://ssl.pstatic.net/imgstock/upload/research/debenture/1563413256305.pdf to C:\\Users\\user\\AppData\\Local\\Temp/imgstock-upload-research-debenture-1563413256305.pdf.\n"
     ]
    },
    {
     "name": "stdout",
     "output_type": "stream",
     "text": [
      "\n"
     ]
    },
    {
     "name": "stderr",
     "output_type": "stream",
     "text": [
      "2020-09-01 10:14:06,425 [MainThread  ] [INFO ]  Retrieving https://ssl.pstatic.net/imgstock/upload/research/debenture/1563155575143.pdf to C:\\Users\\user\\AppData\\Local\\Temp/imgstock-upload-research-debenture-1563155575143.pdf.\n"
     ]
    },
    {
     "name": "stdout",
     "output_type": "stream",
     "text": [
      "326\n"
     ]
    },
    {
     "name": "stderr",
     "output_type": "stream",
     "text": [
      "2020-09-01 10:14:06,978 [MainThread  ] [INFO ]  Retrieving https://ssl.pstatic.net/imgstock/upload/research/debenture/1563155015123.pdf to C:\\Users\\user\\AppData\\Local\\Temp/imgstock-upload-research-debenture-1563155015123.pdf.\n"
     ]
    },
    {
     "name": "stdout",
     "output_type": "stream",
     "text": [
      "327\n"
     ]
    },
    {
     "name": "stderr",
     "output_type": "stream",
     "text": [
      "2020-09-01 10:14:07,427 [MainThread  ] [INFO ]  Retrieving https://ssl.pstatic.net/imgstock/upload/research/debenture/1562721613116.pdf to C:\\Users\\user\\AppData\\Local\\Temp/imgstock-upload-research-debenture-1562721613116.pdf.\n"
     ]
    },
    {
     "name": "stdout",
     "output_type": "stream",
     "text": [
      "328\n"
     ]
    },
    {
     "name": "stderr",
     "output_type": "stream",
     "text": [
      "2020-09-01 10:14:08,336 [MainThread  ] [INFO ]  Retrieving https://ssl.pstatic.net/imgstock/upload/research/debenture/1562634658596.pdf to C:\\Users\\user\\AppData\\Local\\Temp/imgstock-upload-research-debenture-1562634658596.pdf.\n"
     ]
    },
    {
     "name": "stdout",
     "output_type": "stream",
     "text": [
      "329\n"
     ]
    },
    {
     "name": "stderr",
     "output_type": "stream",
     "text": [
      "2020-09-01 10:14:08,647 [MainThread  ] [INFO ]  Retrieving https://ssl.pstatic.net/imgstock/upload/research/debenture/1562031250296.pdf to C:\\Users\\user\\AppData\\Local\\Temp/imgstock-upload-research-debenture-1562031250296.pdf.\n"
     ]
    },
    {
     "name": "stdout",
     "output_type": "stream",
     "text": [
      "330\n"
     ]
    },
    {
     "name": "stderr",
     "output_type": "stream",
     "text": [
      "2020-09-01 10:14:09,004 [MainThread  ] [INFO ]  Retrieving https://ssl.pstatic.net/imgstock/upload/research/debenture/1561947286411.pdf to C:\\Users\\user\\AppData\\Local\\Temp/imgstock-upload-research-debenture-1561947286411.pdf.\n"
     ]
    },
    {
     "name": "stdout",
     "output_type": "stream",
     "text": [
      "331\n"
     ]
    },
    {
     "name": "stderr",
     "output_type": "stream",
     "text": [
      "2020-09-01 10:14:09,359 [MainThread  ] [INFO ]  Retrieving https://ssl.pstatic.net/imgstock/upload/research/debenture/1561598797505.pdf to C:\\Users\\user\\AppData\\Local\\Temp/imgstock-upload-research-debenture-1561598797505.pdf.\n"
     ]
    },
    {
     "name": "stdout",
     "output_type": "stream",
     "text": [
      "332\n"
     ]
    },
    {
     "name": "stderr",
     "output_type": "stream",
     "text": [
      "2020-09-01 10:14:09,703 [MainThread  ] [INFO ]  Retrieving https://ssl.pstatic.net/imgstock/upload/research/debenture/1561512845757.pdf to C:\\Users\\user\\AppData\\Local\\Temp/imgstock-upload-research-debenture-1561512845757.pdf.\n"
     ]
    },
    {
     "name": "stdout",
     "output_type": "stream",
     "text": [
      "333\n"
     ]
    },
    {
     "name": "stderr",
     "output_type": "stream",
     "text": [
      "2020-09-01 10:14:10,686 [MainThread  ] [INFO ]  Retrieving https://ssl.pstatic.net/imgstock/upload/research/debenture/1561512262087.pdf to C:\\Users\\user\\AppData\\Local\\Temp/imgstock-upload-research-debenture-1561512262087.pdf.\n"
     ]
    },
    {
     "name": "stdout",
     "output_type": "stream",
     "text": [
      "334\n"
     ]
    },
    {
     "name": "stderr",
     "output_type": "stream",
     "text": [
      "2020-09-01 10:14:11,490 [MainThread  ] [INFO ]  Retrieving https://ssl.pstatic.net/imgstock/upload/research/debenture/1561427062366.pdf to C:\\Users\\user\\AppData\\Local\\Temp/imgstock-upload-research-debenture-1561427062366.pdf.\n"
     ]
    },
    {
     "name": "stdout",
     "output_type": "stream",
     "text": [
      "335\n"
     ]
    },
    {
     "name": "stderr",
     "output_type": "stream",
     "text": [
      "2020-09-01 10:14:12,375 [MainThread  ] [INFO ]  Retrieving https://ssl.pstatic.net/imgstock/upload/research/debenture/1561339871050.pdf to C:\\Users\\user\\AppData\\Local\\Temp/imgstock-upload-research-debenture-1561339871050.pdf.\n"
     ]
    },
    {
     "name": "stdout",
     "output_type": "stream",
     "text": [
      "336\n"
     ]
    },
    {
     "name": "stderr",
     "output_type": "stream",
     "text": [
      "2020-09-01 10:14:12,722 [MainThread  ] [INFO ]  Retrieving https://ssl.pstatic.net/imgstock/upload/research/debenture/1560995572271.pdf to C:\\Users\\user\\AppData\\Local\\Temp/imgstock-upload-research-debenture-1560995572271.pdf.\n"
     ]
    },
    {
     "name": "stdout",
     "output_type": "stream",
     "text": [
      "337\n"
     ]
    },
    {
     "name": "stderr",
     "output_type": "stream",
     "text": [
      "2020-09-01 10:14:12,955 [MainThread  ] [INFO ]  Retrieving https://ssl.pstatic.net/imgstock/upload/research/debenture/1560995082146.pdf to C:\\Users\\user\\AppData\\Local\\Temp/imgstock-upload-research-debenture-1560995082146.pdf.\n"
     ]
    },
    {
     "name": "stdout",
     "output_type": "stream",
     "text": [
      "338\n"
     ]
    },
    {
     "name": "stderr",
     "output_type": "stream",
     "text": [
      "2020-09-01 10:14:13,406 [MainThread  ] [INFO ]  Retrieving https://ssl.pstatic.net/imgstock/upload/research/debenture/1560907855579.pdf to C:\\Users\\user\\AppData\\Local\\Temp/imgstock-upload-research-debenture-1560907855579.pdf.\n"
     ]
    },
    {
     "name": "stdout",
     "output_type": "stream",
     "text": [
      "339\n"
     ]
    },
    {
     "name": "stderr",
     "output_type": "stream",
     "text": [
      "2020-09-01 10:14:14,259 [MainThread  ] [INFO ]  Retrieving https://ssl.pstatic.net/imgstock/upload/research/debenture/1560735735621.pdf to C:\\Users\\user\\AppData\\Local\\Temp/imgstock-upload-research-debenture-1560735735621.pdf.\n"
     ]
    },
    {
     "name": "stdout",
     "output_type": "stream",
     "text": [
      "340\n"
     ]
    },
    {
     "name": "stderr",
     "output_type": "stream",
     "text": [
      "2020-09-01 10:14:14,844 [MainThread  ] [INFO ]  Retrieving https://ssl.pstatic.net/imgstock/upload/research/debenture/1560483770555.pdf to C:\\Users\\user\\AppData\\Local\\Temp/imgstock-upload-research-debenture-1560483770555.pdf.\n"
     ]
    },
    {
     "name": "stdout",
     "output_type": "stream",
     "text": [
      "341\n"
     ]
    },
    {
     "name": "stderr",
     "output_type": "stream",
     "text": [
      "2020-09-01 10:14:15,217 [MainThread  ] [INFO ]  Retrieving https://ssl.pstatic.net/imgstock/upload/research/debenture/1560388869420.pdf to C:\\Users\\user\\AppData\\Local\\Temp/imgstock-upload-research-debenture-1560388869420.pdf.\n"
     ]
    },
    {
     "name": "stdout",
     "output_type": "stream",
     "text": [
      "342\n"
     ]
    },
    {
     "name": "stderr",
     "output_type": "stream",
     "text": [
      "2020-09-01 10:14:15,557 [MainThread  ] [INFO ]  Retrieving https://ssl.pstatic.net/imgstock/upload/research/debenture/1560136359125.pdf to C:\\Users\\user\\AppData\\Local\\Temp/imgstock-upload-research-debenture-1560136359125.pdf.\n",
      "2020-09-01 10:14:15,708 [MainThread  ] [INFO ]  Retrieving https://ssl.pstatic.net/imgstock/upload/research/debenture/1560136199105.pdf to C:\\Users\\user\\AppData\\Local\\Temp/imgstock-upload-research-debenture-1560136199105.pdf.\n"
     ]
    },
    {
     "name": "stdout",
     "output_type": "stream",
     "text": [
      "343\n",
      "344\n"
     ]
    },
    {
     "name": "stderr",
     "output_type": "stream",
     "text": [
      "2020-09-01 10:14:15,890 [MainThread  ] [INFO ]  Retrieving https://ssl.pstatic.net/imgstock/upload/research/debenture/1559874541830.pdf to C:\\Users\\user\\AppData\\Local\\Temp/imgstock-upload-research-debenture-1559874541830.pdf.\n"
     ]
    },
    {
     "name": "stdout",
     "output_type": "stream",
     "text": [
      "345\n"
     ]
    },
    {
     "name": "stderr",
     "output_type": "stream",
     "text": [
      "2020-09-01 10:14:16,307 [MainThread  ] [INFO ]  Retrieving https://ssl.pstatic.net/imgstock/upload/research/debenture/1559698481022.pdf to C:\\Users\\user\\AppData\\Local\\Temp/imgstock-upload-research-debenture-1559698481022.pdf.\n"
     ]
    },
    {
     "name": "stdout",
     "output_type": "stream",
     "text": [
      "346\n"
     ]
    },
    {
     "name": "stderr",
     "output_type": "stream",
     "text": [
      "2020-09-01 10:14:17,024 [MainThread  ] [INFO ]  Retrieving https://ssl.pstatic.net/imgstock/upload/research/debenture/1559092249894.pdf to C:\\Users\\user\\AppData\\Local\\Temp/imgstock-upload-research-debenture-1559092249894.pdf.\n"
     ]
    },
    {
     "name": "stdout",
     "output_type": "stream",
     "text": [
      "347\n"
     ]
    },
    {
     "name": "stderr",
     "output_type": "stream",
     "text": [
      "2020-09-01 10:14:17,915 [MainThread  ] [INFO ]  Retrieving https://ssl.pstatic.net/imgstock/upload/research/debenture/1558661092128.pdf to C:\\Users\\user\\AppData\\Local\\Temp/imgstock-upload-research-debenture-1558661092128.pdf.\n"
     ]
    },
    {
     "name": "stdout",
     "output_type": "stream",
     "text": [
      "348\n"
     ]
    },
    {
     "name": "stderr",
     "output_type": "stream",
     "text": [
      "2020-09-01 10:14:18,326 [MainThread  ] [INFO ]  Retrieving https://ssl.pstatic.net/imgstock/upload/research/debenture/1557885377253.pdf to C:\\Users\\user\\AppData\\Local\\Temp/imgstock-upload-research-debenture-1557885377253.pdf.\n"
     ]
    },
    {
     "name": "stdout",
     "output_type": "stream",
     "text": [
      "349\n"
     ]
    },
    {
     "name": "stderr",
     "output_type": "stream",
     "text": [
      "2020-09-01 10:14:19,082 [MainThread  ] [INFO ]  Retrieving https://ssl.pstatic.net/imgstock/upload/research/debenture/1557885305651.pdf to C:\\Users\\user\\AppData\\Local\\Temp/imgstock-upload-research-debenture-1557885305651.pdf.\n"
     ]
    },
    {
     "name": "stdout",
     "output_type": "stream",
     "text": [
      "350\n"
     ]
    },
    {
     "name": "stderr",
     "output_type": "stream",
     "text": [
      "2020-09-01 10:14:19,489 [MainThread  ] [INFO ]  Retrieving https://ssl.pstatic.net/imgstock/upload/research/debenture/1557798989848.pdf to C:\\Users\\user\\AppData\\Local\\Temp/imgstock-upload-research-debenture-1557798989848.pdf.\n"
     ]
    },
    {
     "name": "stdout",
     "output_type": "stream",
     "text": [
      "351\n"
     ]
    },
    {
     "name": "stderr",
     "output_type": "stream",
     "text": [
      "2020-09-01 10:14:19,885 [MainThread  ] [INFO ]  Retrieving https://ssl.pstatic.net/imgstock/upload/research/debenture/1557366089266.pdf to C:\\Users\\user\\AppData\\Local\\Temp/imgstock-upload-research-debenture-1557366089266.pdf.\n",
      "2020-09-01 10:14:20,033 [MainThread  ] [INFO ]  Retrieving https://ssl.pstatic.net/imgstock/upload/research/debenture/1557278993213.pdf to C:\\Users\\user\\AppData\\Local\\Temp/imgstock-upload-research-debenture-1557278993213.pdf.\n"
     ]
    },
    {
     "name": "stdout",
     "output_type": "stream",
     "text": [
      "352\n",
      "353\n"
     ]
    },
    {
     "name": "stderr",
     "output_type": "stream",
     "text": [
      "2020-09-01 10:14:20,947 [MainThread  ] [INFO ]  Retrieving https://ssl.pstatic.net/imgstock/upload/research/debenture/1556594179101.pdf to C:\\Users\\user\\AppData\\Local\\Temp/imgstock-upload-research-debenture-1556594179101.pdf.\n"
     ]
    },
    {
     "name": "stdout",
     "output_type": "stream",
     "text": [
      "354\n"
     ]
    },
    {
     "name": "stderr",
     "output_type": "stream",
     "text": [
      "2020-09-01 10:14:21,564 [MainThread  ] [INFO ]  Retrieving https://ssl.pstatic.net/imgstock/upload/research/debenture/1556247096150.pdf to C:\\Users\\user\\AppData\\Local\\Temp/imgstock-upload-research-debenture-1556247096150.pdf.\n"
     ]
    },
    {
     "name": "stdout",
     "output_type": "stream",
     "text": [
      "355\n"
     ]
    },
    {
     "name": "stderr",
     "output_type": "stream",
     "text": [
      "2020-09-01 10:14:21,922 [MainThread  ] [INFO ]  Retrieving https://ssl.pstatic.net/imgstock/upload/research/debenture/1556245207698.pdf to C:\\Users\\user\\AppData\\Local\\Temp/imgstock-upload-research-debenture-1556245207698.pdf.\n"
     ]
    },
    {
     "name": "stdout",
     "output_type": "stream",
     "text": [
      "356\n"
     ]
    },
    {
     "name": "stderr",
     "output_type": "stream",
     "text": [
      "2020-09-01 10:14:22,295 [MainThread  ] [INFO ]  Retrieving https://ssl.pstatic.net/imgstock/upload/research/debenture/1555903517353.pdf to C:\\Users\\user\\AppData\\Local\\Temp/imgstock-upload-research-debenture-1555903517353.pdf.\n",
      "2020-09-01 10:14:22,406 [MainThread  ] [INFO ]  Retrieving https://ssl.pstatic.net/imgstock/upload/research/debenture/1555641615985.pdf to C:\\Users\\user\\AppData\\Local\\Temp/imgstock-upload-research-debenture-1555641615985.pdf.\n"
     ]
    },
    {
     "name": "stdout",
     "output_type": "stream",
     "text": [
      "357\n",
      "358\n"
     ]
    },
    {
     "name": "stderr",
     "output_type": "stream",
     "text": [
      "2020-09-01 10:14:22,804 [MainThread  ] [INFO ]  Retrieving https://ssl.pstatic.net/imgstock/upload/research/debenture/1555639183019.pdf to C:\\Users\\user\\AppData\\Local\\Temp/imgstock-upload-research-debenture-1555639183019.pdf.\n"
     ]
    },
    {
     "name": "stdout",
     "output_type": "stream",
     "text": [
      "359\n"
     ]
    },
    {
     "name": "stderr",
     "output_type": "stream",
     "text": [
      "2020-09-01 10:14:23,242 [MainThread  ] [INFO ]  Retrieving https://ssl.pstatic.net/imgstock/upload/research/debenture/1555035012125.pdf to C:\\Users\\user\\AppData\\Local\\Temp/imgstock-upload-research-debenture-1555035012125.pdf.\n"
     ]
    },
    {
     "name": "stdout",
     "output_type": "stream",
     "text": [
      "360\n"
     ]
    },
    {
     "name": "stderr",
     "output_type": "stream",
     "text": [
      "2020-09-01 10:14:23,590 [MainThread  ] [INFO ]  Retrieving https://ssl.pstatic.net/imgstock/upload/research/debenture/1554864188051.pdf to C:\\Users\\user\\AppData\\Local\\Temp/imgstock-upload-research-debenture-1554864188051.pdf.\n"
     ]
    },
    {
     "name": "stdout",
     "output_type": "stream",
     "text": [
      "361\n"
     ]
    },
    {
     "name": "stderr",
     "output_type": "stream",
     "text": [
      "2020-09-01 10:14:24,196 [MainThread  ] [INFO ]  Retrieving https://ssl.pstatic.net/imgstock/upload/research/debenture/1554780595037.pdf to C:\\Users\\user\\AppData\\Local\\Temp/imgstock-upload-research-debenture-1554780595037.pdf.\n",
      "2020-09-01 10:14:24,327 [MainThread  ] [INFO ]  Retrieving https://ssl.pstatic.net/imgstock/upload/research/debenture/1554430534681.pdf to C:\\Users\\user\\AppData\\Local\\Temp/imgstock-upload-research-debenture-1554430534681.pdf.\n"
     ]
    },
    {
     "name": "stdout",
     "output_type": "stream",
     "text": [
      "362\n",
      "363\n"
     ]
    },
    {
     "name": "stderr",
     "output_type": "stream",
     "text": [
      "2020-09-01 10:14:24,767 [MainThread  ] [INFO ]  Retrieving https://ssl.pstatic.net/imgstock/upload/research/debenture/1554344433138.pdf to C:\\Users\\user\\AppData\\Local\\Temp/imgstock-upload-research-debenture-1554344433138.pdf.\n"
     ]
    },
    {
     "name": "stdout",
     "output_type": "stream",
     "text": [
      "364\n"
     ]
    },
    {
     "name": "stderr",
     "output_type": "stream",
     "text": [
      "2020-09-01 10:14:25,807 [MainThread  ] [INFO ]  Retrieving https://ssl.pstatic.net/imgstock/upload/research/debenture/1553837706955.pdf to C:\\Users\\user\\AppData\\Local\\Temp/imgstock-upload-research-debenture-1553837706955.pdf.\n"
     ]
    },
    {
     "name": "stdout",
     "output_type": "stream",
     "text": [
      "365\n"
     ]
    },
    {
     "name": "stderr",
     "output_type": "stream",
     "text": [
      "2020-09-01 10:14:26,205 [MainThread  ] [INFO ]  Retrieving https://ssl.pstatic.net/imgstock/upload/research/debenture/1553581466234.pdf to C:\\Users\\user\\AppData\\Local\\Temp/imgstock-upload-research-debenture-1553581466234.pdf.\n"
     ]
    },
    {
     "name": "stdout",
     "output_type": "stream",
     "text": [
      "366\n"
     ]
    },
    {
     "name": "stderr",
     "output_type": "stream",
     "text": [
      "2020-09-01 10:14:27,499 [MainThread  ] [INFO ]  Retrieving https://ssl.pstatic.net/imgstock/upload/research/debenture/1553480104786.pdf to C:\\Users\\user\\AppData\\Local\\Temp/imgstock-upload-research-debenture-1553480104786.pdf.\n",
      "2020-09-01 10:14:27,601 [MainThread  ] [INFO ]  Retrieving https://ssl.pstatic.net/imgstock/upload/research/debenture/1553223046502.pdf to C:\\Users\\user\\AppData\\Local\\Temp/imgstock-upload-research-debenture-1553223046502.pdf.\n"
     ]
    },
    {
     "name": "stdout",
     "output_type": "stream",
     "text": [
      "367\n",
      "368\n"
     ]
    },
    {
     "name": "stderr",
     "output_type": "stream",
     "text": [
      "2020-09-01 10:14:27,961 [MainThread  ] [INFO ]  Retrieving https://ssl.pstatic.net/imgstock/upload/research/debenture/1553221925515.pdf to C:\\Users\\user\\AppData\\Local\\Temp/imgstock-upload-research-debenture-1553221925515.pdf.\n"
     ]
    },
    {
     "name": "stdout",
     "output_type": "stream",
     "text": [
      "369\n"
     ]
    },
    {
     "name": "stderr",
     "output_type": "stream",
     "text": [
      "2020-09-01 10:14:28,316 [MainThread  ] [INFO ]  Retrieving https://ssl.pstatic.net/imgstock/upload/research/debenture/1552874556607.pdf to C:\\Users\\user\\AppData\\Local\\Temp/imgstock-upload-research-debenture-1552874556607.pdf.\n"
     ]
    },
    {
     "name": "stdout",
     "output_type": "stream",
     "text": [
      "370\n"
     ]
    },
    {
     "name": "stderr",
     "output_type": "stream",
     "text": [
      "2020-09-01 10:14:28,665 [MainThread  ] [INFO ]  Retrieving https://ssl.pstatic.net/imgstock/upload/research/debenture/1552617271574.pdf to C:\\Users\\user\\AppData\\Local\\Temp/imgstock-upload-research-debenture-1552617271574.pdf.\n"
     ]
    },
    {
     "name": "stdout",
     "output_type": "stream",
     "text": [
      "371\n"
     ]
    },
    {
     "name": "stderr",
     "output_type": "stream",
     "text": [
      "2020-09-01 10:14:28,998 [MainThread  ] [INFO ]  Retrieving https://ssl.pstatic.net/imgstock/upload/research/debenture/1552440239861.pdf to C:\\Users\\user\\AppData\\Local\\Temp/imgstock-upload-research-debenture-1552440239861.pdf.\n"
     ]
    },
    {
     "name": "stdout",
     "output_type": "stream",
     "text": [
      "372\n"
     ]
    },
    {
     "name": "stderr",
     "output_type": "stream",
     "text": [
      "2020-09-01 10:14:29,847 [MainThread  ] [INFO ]  Retrieving https://ssl.pstatic.net/imgstock/upload/research/debenture/1552266961071.pdf to C:\\Users\\user\\AppData\\Local\\Temp/imgstock-upload-research-debenture-1552266961071.pdf.\n"
     ]
    },
    {
     "name": "stdout",
     "output_type": "stream",
     "text": [
      "373\n"
     ]
    },
    {
     "name": "stderr",
     "output_type": "stream",
     "text": [
      "2020-09-01 10:14:30,136 [MainThread  ] [INFO ]  Retrieving https://ssl.pstatic.net/imgstock/upload/research/debenture/1552011652016.pdf to C:\\Users\\user\\AppData\\Local\\Temp/imgstock-upload-research-debenture-1552011652016.pdf.\n"
     ]
    },
    {
     "name": "stdout",
     "output_type": "stream",
     "text": [
      "374\n"
     ]
    },
    {
     "name": "stderr",
     "output_type": "stream",
     "text": [
      "2020-09-01 10:14:30,465 [MainThread  ] [INFO ]  Retrieving https://ssl.pstatic.net/imgstock/upload/research/debenture/1551752219336.pdf to C:\\Users\\user\\AppData\\Local\\Temp/imgstock-upload-research-debenture-1551752219336.pdf.\n"
     ]
    },
    {
     "name": "stdout",
     "output_type": "stream",
     "text": [
      "375\n"
     ]
    },
    {
     "name": "stderr",
     "output_type": "stream",
     "text": [
      "2020-09-01 10:14:31,914 [MainThread  ] [INFO ]  Retrieving https://ssl.pstatic.net/imgstock/upload/research/debenture/1551670473638.pdf to C:\\Users\\user\\AppData\\Local\\Temp/imgstock-upload-research-debenture-1551670473638.pdf.\n"
     ]
    },
    {
     "name": "stdout",
     "output_type": "stream",
     "text": [
      "376\n",
      "377\n"
     ]
    },
    {
     "name": "stderr",
     "output_type": "stream",
     "text": [
      "2020-09-01 10:14:32,100 [MainThread  ] [INFO ]  Retrieving https://ssl.pstatic.net/imgstock/upload/research/debenture/1551670398969.pdf to C:\\Users\\user\\AppData\\Local\\Temp/imgstock-upload-research-debenture-1551670398969.pdf.\n",
      "2020-09-01 10:14:32,407 [MainThread  ] [INFO ]  Retrieving https://ssl.pstatic.net/imgstock/upload/research/debenture/1551143521587.pdf to C:\\Users\\user\\AppData\\Local\\Temp/imgstock-upload-research-debenture-1551143521587.pdf.\n"
     ]
    },
    {
     "name": "stdout",
     "output_type": "stream",
     "text": [
      "378\n"
     ]
    },
    {
     "name": "stderr",
     "output_type": "stream",
     "text": [
      "2020-09-01 10:14:33,376 [MainThread  ] [INFO ]  Retrieving https://ssl.pstatic.net/imgstock/upload/research/debenture/1551142769267.pdf to C:\\Users\\user\\AppData\\Local\\Temp/imgstock-upload-research-debenture-1551142769267.pdf.\n"
     ]
    },
    {
     "name": "stdout",
     "output_type": "stream",
     "text": [
      "379\n"
     ]
    },
    {
     "name": "stderr",
     "output_type": "stream",
     "text": [
      "2020-09-01 10:14:33,723 [MainThread  ] [INFO ]  Retrieving https://ssl.pstatic.net/imgstock/upload/research/debenture/1550803916587.pdf to C:\\Users\\user\\AppData\\Local\\Temp/imgstock-upload-research-debenture-1550803916587.pdf.\n"
     ]
    },
    {
     "name": "stdout",
     "output_type": "stream",
     "text": [
      "380\n"
     ]
    },
    {
     "name": "stderr",
     "output_type": "stream",
     "text": [
      "2020-09-01 10:14:34,150 [MainThread  ] [INFO ]  Retrieving https://ssl.pstatic.net/imgstock/upload/research/debenture/1550802640822.pdf to C:\\Users\\user\\AppData\\Local\\Temp/imgstock-upload-research-debenture-1550802640822.pdf.\n"
     ]
    },
    {
     "name": "stdout",
     "output_type": "stream",
     "text": [
      "381\n"
     ]
    },
    {
     "name": "stderr",
     "output_type": "stream",
     "text": [
      "2020-09-01 10:14:34,532 [MainThread  ] [INFO ]  Retrieving https://ssl.pstatic.net/imgstock/upload/research/debenture/1550627659845.pdf to C:\\Users\\user\\AppData\\Local\\Temp/imgstock-upload-research-debenture-1550627659845.pdf.\n"
     ]
    },
    {
     "name": "stdout",
     "output_type": "stream",
     "text": [
      "382\n"
     ]
    },
    {
     "name": "stderr",
     "output_type": "stream",
     "text": [
      "2020-09-01 10:14:35,322 [MainThread  ] [INFO ]  Retrieving https://ssl.pstatic.net/imgstock/upload/research/debenture/1550112737520.pdf to C:\\Users\\user\\AppData\\Local\\Temp/imgstock-upload-research-debenture-1550112737520.pdf.\n"
     ]
    },
    {
     "name": "stdout",
     "output_type": "stream",
     "text": [
      "383\n"
     ]
    },
    {
     "name": "stderr",
     "output_type": "stream",
     "text": [
      "2020-09-01 10:14:35,631 [MainThread  ] [INFO ]  Retrieving https://ssl.pstatic.net/imgstock/upload/research/debenture/1550025162018.pdf to C:\\Users\\user\\AppData\\Local\\Temp/imgstock-upload-research-debenture-1550025162018.pdf.\n"
     ]
    },
    {
     "name": "stdout",
     "output_type": "stream",
     "text": [
      "384\n"
     ]
    },
    {
     "name": "stderr",
     "output_type": "stream",
     "text": [
      "2020-09-01 10:14:36,363 [MainThread  ] [INFO ]  Retrieving https://ssl.pstatic.net/imgstock/upload/research/debenture/1550025840336.pdf to C:\\Users\\user\\AppData\\Local\\Temp/imgstock-upload-research-debenture-1550025840336.pdf.\n"
     ]
    },
    {
     "name": "stdout",
     "output_type": "stream",
     "text": [
      "385\n"
     ]
    },
    {
     "name": "stderr",
     "output_type": "stream",
     "text": [
      "2020-09-01 10:14:36,984 [MainThread  ] [INFO ]  Retrieving https://ssl.pstatic.net/imgstock/upload/research/debenture/1549855735291.pdf to C:\\Users\\user\\AppData\\Local\\Temp/imgstock-upload-research-debenture-1549855735291.pdf.\n",
      "2020-09-01 10:14:37,120 [MainThread  ] [INFO ]  Retrieving https://ssl.pstatic.net/imgstock/upload/research/debenture/1549591451639.pdf to C:\\Users\\user\\AppData\\Local\\Temp/imgstock-upload-research-debenture-1549591451639.pdf.\n"
     ]
    },
    {
     "name": "stdout",
     "output_type": "stream",
     "text": [
      "386\n",
      "387\n"
     ]
    },
    {
     "name": "stderr",
     "output_type": "stream",
     "text": [
      "2020-09-01 10:14:37,529 [MainThread  ] [INFO ]  Retrieving https://ssl.pstatic.net/imgstock/upload/research/debenture/1549506123794.pdf to C:\\Users\\user\\AppData\\Local\\Temp/imgstock-upload-research-debenture-1549506123794.pdf.\n"
     ]
    },
    {
     "name": "stdout",
     "output_type": "stream",
     "text": [
      "388\n"
     ]
    },
    {
     "name": "stderr",
     "output_type": "stream",
     "text": [
      "2020-09-01 10:14:38,144 [MainThread  ] [INFO ]  Retrieving https://ssl.pstatic.net/imgstock/upload/research/debenture/1548989142864.pdf to C:\\Users\\user\\AppData\\Local\\Temp/imgstock-upload-research-debenture-1548989142864.pdf.\n"
     ]
    },
    {
     "name": "stdout",
     "output_type": "stream",
     "text": [
      "389\n"
     ]
    },
    {
     "name": "stderr",
     "output_type": "stream",
     "text": [
      "2020-09-01 10:14:38,507 [MainThread  ] [INFO ]  Retrieving https://ssl.pstatic.net/imgstock/upload/research/debenture/1548818998250.pdf to C:\\Users\\user\\AppData\\Local\\Temp/imgstock-upload-research-debenture-1548818998250.pdf.\n"
     ]
    },
    {
     "name": "stdout",
     "output_type": "stream",
     "text": [
      "390\n"
     ]
    },
    {
     "name": "stderr",
     "output_type": "stream",
     "text": [
      "2020-09-01 10:14:38,876 [MainThread  ] [INFO ]  Retrieving https://ssl.pstatic.net/imgstock/upload/research/debenture/1548383768631.pdf to C:\\Users\\user\\AppData\\Local\\Temp/imgstock-upload-research-debenture-1548383768631.pdf.\n"
     ]
    },
    {
     "name": "stdout",
     "output_type": "stream",
     "text": [
      "391\n"
     ]
    },
    {
     "name": "stderr",
     "output_type": "stream",
     "text": [
      "2020-09-01 10:14:39,226 [MainThread  ] [INFO ]  Retrieving https://ssl.pstatic.net/imgstock/upload/research/debenture/1548382489241.pdf to C:\\Users\\user\\AppData\\Local\\Temp/imgstock-upload-research-debenture-1548382489241.pdf.\n"
     ]
    },
    {
     "name": "stdout",
     "output_type": "stream",
     "text": [
      "392\n"
     ]
    },
    {
     "name": "stderr",
     "output_type": "stream",
     "text": [
      "2020-09-01 10:14:39,533 [MainThread  ] [INFO ]  Retrieving https://ssl.pstatic.net/imgstock/upload/research/debenture/1548210764083.pdf to C:\\Users\\user\\AppData\\Local\\Temp/imgstock-upload-research-debenture-1548210764083.pdf.\n"
     ]
    },
    {
     "name": "stdout",
     "output_type": "stream",
     "text": [
      "393\n"
     ]
    },
    {
     "name": "stderr",
     "output_type": "stream",
     "text": [
      "2020-09-01 10:14:40,486 [MainThread  ] [INFO ]  Retrieving https://ssl.pstatic.net/imgstock/upload/research/debenture/1548035158915.pdf to C:\\Users\\user\\AppData\\Local\\Temp/imgstock-upload-research-debenture-1548035158915.pdf.\n"
     ]
    },
    {
     "name": "stdout",
     "output_type": "stream",
     "text": [
      "394\n"
     ]
    },
    {
     "name": "stderr",
     "output_type": "stream",
     "text": [
      "2020-09-01 10:14:40,892 [MainThread  ] [INFO ]  Retrieving https://ssl.pstatic.net/imgstock/upload/research/debenture/1547780613088.pdf to C:\\Users\\user\\AppData\\Local\\Temp/imgstock-upload-research-debenture-1547780613088.pdf.\n"
     ]
    },
    {
     "name": "stdout",
     "output_type": "stream",
     "text": [
      "395\n"
     ]
    },
    {
     "name": "stderr",
     "output_type": "stream",
     "text": [
      "2020-09-01 10:14:41,232 [MainThread  ] [INFO ]  Retrieving https://ssl.pstatic.net/imgstock/upload/research/debenture/1547779211553.pdf to C:\\Users\\user\\AppData\\Local\\Temp/imgstock-upload-research-debenture-1547779211553.pdf.\n"
     ]
    },
    {
     "name": "stdout",
     "output_type": "stream",
     "text": [
      "396\n"
     ]
    },
    {
     "name": "stderr",
     "output_type": "stream",
     "text": [
      "2020-09-01 10:14:41,635 [MainThread  ] [INFO ]  Retrieving https://ssl.pstatic.net/imgstock/upload/research/debenture/1547779758167.pdf to C:\\Users\\user\\AppData\\Local\\Temp/imgstock-upload-research-debenture-1547779758167.pdf.\n"
     ]
    },
    {
     "name": "stdout",
     "output_type": "stream",
     "text": [
      "397\n"
     ]
    },
    {
     "name": "stderr",
     "output_type": "stream",
     "text": [
      "2020-09-01 10:14:41,969 [MainThread  ] [INFO ]  Retrieving https://ssl.pstatic.net/imgstock/upload/research/debenture/1547434501329.pdf to C:\\Users\\user\\AppData\\Local\\Temp/imgstock-upload-research-debenture-1547434501329.pdf.\n"
     ]
    },
    {
     "name": "stdout",
     "output_type": "stream",
     "text": [
      "398\n"
     ]
    },
    {
     "name": "stderr",
     "output_type": "stream",
     "text": [
      "2020-09-01 10:14:42,311 [MainThread  ] [INFO ]  Retrieving https://ssl.pstatic.net/imgstock/upload/research/debenture/1547430263133.pdf to C:\\Users\\user\\AppData\\Local\\Temp/imgstock-upload-research-debenture-1547430263133.pdf.\n"
     ]
    },
    {
     "name": "stdout",
     "output_type": "stream",
     "text": [
      "399\n"
     ]
    },
    {
     "name": "stderr",
     "output_type": "stream",
     "text": [
      "2020-09-01 10:14:42,519 [MainThread  ] [INFO ]  Retrieving https://ssl.pstatic.net/imgstock/upload/research/debenture/1547174215639.pdf to C:\\Users\\user\\AppData\\Local\\Temp/imgstock-upload-research-debenture-1547174215639.pdf.\n"
     ]
    },
    {
     "name": "stdout",
     "output_type": "stream",
     "text": [
      "400\n"
     ]
    },
    {
     "name": "stderr",
     "output_type": "stream",
     "text": [
      "2020-09-01 10:14:43,141 [MainThread  ] [INFO ]  Retrieving https://ssl.pstatic.net/imgstock/upload/research/debenture/1547198645388.pdf to C:\\Users\\user\\AppData\\Local\\Temp/imgstock-upload-research-debenture-1547198645388.pdf.\n"
     ]
    },
    {
     "name": "stdout",
     "output_type": "stream",
     "text": [
      "401\n"
     ]
    },
    {
     "name": "stderr",
     "output_type": "stream",
     "text": [
      "2020-09-01 10:14:43,700 [MainThread  ] [INFO ]  Retrieving https://ssl.pstatic.net/imgstock/upload/research/debenture/1547000144970.pdf to C:\\Users\\user\\AppData\\Local\\Temp/imgstock-upload-research-debenture-1547000144970.pdf.\n"
     ]
    },
    {
     "name": "stdout",
     "output_type": "stream",
     "text": [
      "402\n"
     ]
    },
    {
     "name": "stderr",
     "output_type": "stream",
     "text": [
      "2020-09-01 10:14:44,369 [MainThread  ] [INFO ]  Retrieving https://ssl.pstatic.net/imgstock/upload/research/debenture/1547000059271.pdf to C:\\Users\\user\\AppData\\Local\\Temp/imgstock-upload-research-debenture-1547000059271.pdf.\n"
     ]
    },
    {
     "name": "stdout",
     "output_type": "stream",
     "text": [
      "403\n"
     ]
    },
    {
     "name": "stderr",
     "output_type": "stream",
     "text": [
      "2020-09-01 10:14:44,685 [MainThread  ] [INFO ]  Retrieving https://ssl.pstatic.net/imgstock/upload/research/debenture/1546912308795.pdf to C:\\Users\\user\\AppData\\Local\\Temp/imgstock-upload-research-debenture-1546912308795.pdf.\n"
     ]
    },
    {
     "name": "stdout",
     "output_type": "stream",
     "text": [
      "404\n"
     ]
    },
    {
     "name": "stderr",
     "output_type": "stream",
     "text": [
      "2020-09-01 10:14:45,295 [MainThread  ] [INFO ]  Retrieving https://ssl.pstatic.net/imgstock/upload/research/debenture/1546827784943.pdf to C:\\Users\\user\\AppData\\Local\\Temp/imgstock-upload-research-debenture-1546827784943.pdf.\n",
      "2020-09-01 10:14:45,387 [MainThread  ] [INFO ]  Retrieving https://ssl.pstatic.net/imgstock/upload/research/debenture/1546570826930.pdf to C:\\Users\\user\\AppData\\Local\\Temp/imgstock-upload-research-debenture-1546570826930.pdf.\n"
     ]
    },
    {
     "name": "stdout",
     "output_type": "stream",
     "text": [
      "405\n",
      "406\n"
     ]
    },
    {
     "name": "stderr",
     "output_type": "stream",
     "text": [
      "2020-09-01 10:14:45,701 [MainThread  ] [INFO ]  Retrieving https://ssl.pstatic.net/imgstock/upload/research/debenture/1546568921952.pdf to C:\\Users\\user\\AppData\\Local\\Temp/imgstock-upload-research-debenture-1546568921952.pdf.\n"
     ]
    },
    {
     "name": "stdout",
     "output_type": "stream",
     "text": [
      "407\n"
     ]
    },
    {
     "name": "stderr",
     "output_type": "stream",
     "text": [
      "2020-09-01 10:14:46,130 [MainThread  ] [INFO ]  Retrieving https://ssl.pstatic.net/imgstock/upload/research/debenture/1546483219685.pdf to C:\\Users\\user\\AppData\\Local\\Temp/imgstock-upload-research-debenture-1546483219685.pdf.\n"
     ]
    },
    {
     "name": "stdout",
     "output_type": "stream",
     "text": [
      "408\n"
     ]
    },
    {
     "name": "stderr",
     "output_type": "stream",
     "text": [
      "2020-09-01 10:14:46,499 [MainThread  ] [INFO ]  Retrieving https://ssl.pstatic.net/imgstock/upload/research/debenture/1546423870693.pdf to C:\\Users\\user\\AppData\\Local\\Temp/imgstock-upload-research-debenture-1546423870693.pdf.\n"
     ]
    },
    {
     "name": "stdout",
     "output_type": "stream",
     "text": [
      "409\n"
     ]
    },
    {
     "name": "stderr",
     "output_type": "stream",
     "text": [
      "2020-09-01 10:14:47,241 [MainThread  ] [INFO ]  Retrieving https://ssl.pstatic.net/imgstock/upload/research/debenture/1546396387867.pdf to C:\\Users\\user\\AppData\\Local\\Temp/imgstock-upload-research-debenture-1546396387867.pdf.\n"
     ]
    },
    {
     "name": "stdout",
     "output_type": "stream",
     "text": [
      "410\n"
     ]
    },
    {
     "name": "stderr",
     "output_type": "stream",
     "text": [
      "2020-09-01 10:14:47,609 [MainThread  ] [INFO ]  Retrieving https://ssl.pstatic.net/imgstock/upload/research/debenture/1545963236469.pdf to C:\\Users\\user\\AppData\\Local\\Temp/imgstock-upload-research-debenture-1545963236469.pdf.\n"
     ]
    },
    {
     "name": "stdout",
     "output_type": "stream",
     "text": [
      "411\n"
     ]
    },
    {
     "name": "stderr",
     "output_type": "stream",
     "text": [
      "2020-09-01 10:14:47,863 [MainThread  ] [INFO ]  Retrieving https://ssl.pstatic.net/imgstock/upload/research/debenture/1545616735376.pdf to C:\\Users\\user\\AppData\\Local\\Temp/imgstock-upload-research-debenture-1545616735376.pdf.\n"
     ]
    },
    {
     "name": "stdout",
     "output_type": "stream",
     "text": [
      "412\n"
     ]
    },
    {
     "name": "stderr",
     "output_type": "stream",
     "text": [
      "2020-09-01 10:14:48,250 [MainThread  ] [INFO ]  Retrieving https://ssl.pstatic.net/imgstock/upload/research/debenture/1545358983817.pdf to C:\\Users\\user\\AppData\\Local\\Temp/imgstock-upload-research-debenture-1545358983817.pdf.\n"
     ]
    },
    {
     "name": "stdout",
     "output_type": "stream",
     "text": [
      "413\n"
     ]
    },
    {
     "name": "stderr",
     "output_type": "stream",
     "text": [
      "2020-09-01 10:14:48,706 [MainThread  ] [INFO ]  Retrieving https://ssl.pstatic.net/imgstock/upload/research/debenture/1545186821673.pdf to C:\\Users\\user\\AppData\\Local\\Temp/imgstock-upload-research-debenture-1545186821673.pdf.\n"
     ]
    },
    {
     "name": "stdout",
     "output_type": "stream",
     "text": [
      "414\n"
     ]
    },
    {
     "name": "stderr",
     "output_type": "stream",
     "text": [
      "2020-09-01 10:14:48,962 [MainThread  ] [INFO ]  Retrieving https://ssl.pstatic.net/imgstock/upload/research/debenture/1544754464348.pdf to C:\\Users\\user\\AppData\\Local\\Temp/imgstock-upload-research-debenture-1544754464348.pdf.\n"
     ]
    },
    {
     "name": "stdout",
     "output_type": "stream",
     "text": [
      "415\n"
     ]
    },
    {
     "name": "stderr",
     "output_type": "stream",
     "text": [
      "2020-09-01 10:14:49,237 [MainThread  ] [INFO ]  Retrieving https://ssl.pstatic.net/imgstock/upload/research/debenture/1544580128793.pdf to C:\\Users\\user\\AppData\\Local\\Temp/imgstock-upload-research-debenture-1544580128793.pdf.\n"
     ]
    },
    {
     "name": "stdout",
     "output_type": "stream",
     "text": [
      "416\n"
     ]
    },
    {
     "name": "stderr",
     "output_type": "stream",
     "text": [
      "2020-09-01 10:14:49,689 [MainThread  ] [INFO ]  Retrieving https://ssl.pstatic.net/imgstock/upload/research/debenture/1544580106582.pdf to C:\\Users\\user\\AppData\\Local\\Temp/imgstock-upload-research-debenture-1544580106582.pdf.\n"
     ]
    },
    {
     "name": "stdout",
     "output_type": "stream",
     "text": [
      "417\n"
     ]
    },
    {
     "name": "stderr",
     "output_type": "stream",
     "text": [
      "2020-09-01 10:14:50,343 [MainThread  ] [INFO ]  Retrieving https://ssl.pstatic.net/imgstock/upload/research/debenture/1544174365410.pdf to C:\\Users\\user\\AppData\\Local\\Temp/imgstock-upload-research-debenture-1544174365410.pdf.\n"
     ]
    },
    {
     "name": "stdout",
     "output_type": "stream",
     "text": [
      "418\n"
     ]
    },
    {
     "name": "stderr",
     "output_type": "stream",
     "text": [
      "2020-09-01 10:14:50,669 [MainThread  ] [INFO ]  Retrieving https://ssl.pstatic.net/imgstock/upload/research/debenture/1544147858677.pdf to C:\\Users\\user\\AppData\\Local\\Temp/imgstock-upload-research-debenture-1544147858677.pdf.\n"
     ]
    },
    {
     "name": "stdout",
     "output_type": "stream",
     "text": [
      "419\n"
     ]
    },
    {
     "name": "stderr",
     "output_type": "stream",
     "text": [
      "2020-09-01 10:14:50,923 [MainThread  ] [INFO ]  Retrieving https://ssl.pstatic.net/imgstock/upload/research/debenture/1544147814233.pdf to C:\\Users\\user\\AppData\\Local\\Temp/imgstock-upload-research-debenture-1544147814233.pdf.\n"
     ]
    },
    {
     "name": "stdout",
     "output_type": "stream",
     "text": [
      "420\n"
     ]
    },
    {
     "name": "stderr",
     "output_type": "stream",
     "text": [
      "2020-09-01 10:14:51,362 [MainThread  ] [INFO ]  Retrieving https://ssl.pstatic.net/imgstock/upload/research/debenture/1543978890194.pdf to C:\\Users\\user\\AppData\\Local\\Temp/imgstock-upload-research-debenture-1543978890194.pdf.\n"
     ]
    },
    {
     "name": "stdout",
     "output_type": "stream",
     "text": [
      "421\n"
     ]
    },
    {
     "name": "stderr",
     "output_type": "stream",
     "text": [
      "2020-09-01 10:14:51,955 [MainThread  ] [INFO ]  Retrieving https://ssl.pstatic.net/imgstock/upload/research/debenture/1543978869676.pdf to C:\\Users\\user\\AppData\\Local\\Temp/imgstock-upload-research-debenture-1543978869676.pdf.\n"
     ]
    },
    {
     "name": "stdout",
     "output_type": "stream",
     "text": [
      "422\n"
     ]
    },
    {
     "name": "stderr",
     "output_type": "stream",
     "text": [
      "2020-09-01 10:14:52,594 [MainThread  ] [INFO ]  Retrieving https://ssl.pstatic.net/imgstock/upload/research/debenture/1543804180981.pdf to C:\\Users\\user\\AppData\\Local\\Temp/imgstock-upload-research-debenture-1543804180981.pdf.\n",
      "2020-09-01 10:14:52,730 [MainThread  ] [INFO ]  Retrieving https://ssl.pstatic.net/imgstock/upload/research/debenture/1543802689816.pdf to C:\\Users\\user\\AppData\\Local\\Temp/imgstock-upload-research-debenture-1543802689816.pdf.\n"
     ]
    },
    {
     "name": "stdout",
     "output_type": "stream",
     "text": [
      "423\n",
      "424\n"
     ]
    },
    {
     "name": "stderr",
     "output_type": "stream",
     "text": [
      "2020-09-01 10:14:52,997 [MainThread  ] [INFO ]  Retrieving https://ssl.pstatic.net/imgstock/upload/research/debenture/1543547061101.pdf to C:\\Users\\user\\AppData\\Local\\Temp/imgstock-upload-research-debenture-1543547061101.pdf.\n"
     ]
    },
    {
     "name": "stdout",
     "output_type": "stream",
     "text": [
      "425\n"
     ]
    },
    {
     "name": "stderr",
     "output_type": "stream",
     "text": [
      "2020-09-01 10:14:53,351 [MainThread  ] [INFO ]  Retrieving https://ssl.pstatic.net/imgstock/upload/research/debenture/1543285173753.pdf to C:\\Users\\user\\AppData\\Local\\Temp/imgstock-upload-research-debenture-1543285173753.pdf.\n"
     ]
    },
    {
     "name": "stdout",
     "output_type": "stream",
     "text": [
      "426\n"
     ]
    },
    {
     "name": "stderr",
     "output_type": "stream",
     "text": [
      "2020-09-01 10:14:54,247 [MainThread  ] [INFO ]  Retrieving https://ssl.pstatic.net/imgstock/upload/research/debenture/1543195868468.pdf to C:\\Users\\user\\AppData\\Local\\Temp/imgstock-upload-research-debenture-1543195868468.pdf.\n"
     ]
    },
    {
     "name": "stdout",
     "output_type": "stream",
     "text": [
      "427\n"
     ]
    },
    {
     "name": "stderr",
     "output_type": "stream",
     "text": [
      "2020-09-01 10:14:54,710 [MainThread  ] [INFO ]  Retrieving https://ssl.pstatic.net/imgstock/upload/research/debenture/1542941578543.pdf to C:\\Users\\user\\AppData\\Local\\Temp/imgstock-upload-research-debenture-1542941578543.pdf.\n"
     ]
    },
    {
     "name": "stdout",
     "output_type": "stream",
     "text": [
      "428\n"
     ]
    },
    {
     "name": "stderr",
     "output_type": "stream",
     "text": [
      "2020-09-01 10:14:55,066 [MainThread  ] [INFO ]  Retrieving https://ssl.pstatic.net/imgstock/upload/research/debenture/1542335745515.pdf to C:\\Users\\user\\AppData\\Local\\Temp/imgstock-upload-research-debenture-1542335745515.pdf.\n"
     ]
    },
    {
     "name": "stdout",
     "output_type": "stream",
     "text": [
      "429\n"
     ]
    },
    {
     "name": "stderr",
     "output_type": "stream",
     "text": [
      "2020-09-01 10:14:55,492 [MainThread  ] [INFO ]  Retrieving https://ssl.pstatic.net/imgstock/upload/research/debenture/1542335709349.pdf to C:\\Users\\user\\AppData\\Local\\Temp/imgstock-upload-research-debenture-1542335709349.pdf.\n"
     ]
    },
    {
     "name": "stdout",
     "output_type": "stream",
     "text": [
      "430\n"
     ]
    },
    {
     "name": "stderr",
     "output_type": "stream",
     "text": [
      "2020-09-01 10:14:57,113 [MainThread  ] [INFO ]  Retrieving https://ssl.pstatic.net/imgstock/upload/research/debenture/1541732759868.pdf to C:\\Users\\user\\AppData\\Local\\Temp/imgstock-upload-research-debenture-1541732759868.pdf.\n"
     ]
    },
    {
     "name": "stdout",
     "output_type": "stream",
     "text": [
      "431\n"
     ]
    },
    {
     "name": "stderr",
     "output_type": "stream",
     "text": [
      "2020-09-01 10:14:57,568 [MainThread  ] [INFO ]  Retrieving https://ssl.pstatic.net/imgstock/upload/research/debenture/1541732477740.pdf to C:\\Users\\user\\AppData\\Local\\Temp/imgstock-upload-research-debenture-1541732477740.pdf.\n"
     ]
    },
    {
     "name": "stdout",
     "output_type": "stream",
     "text": [
      "432\n"
     ]
    },
    {
     "name": "stderr",
     "output_type": "stream",
     "text": [
      "2020-09-01 10:14:57,932 [MainThread  ] [INFO ]  Retrieving https://ssl.pstatic.net/imgstock/upload/research/debenture/1541732254314.pdf to C:\\Users\\user\\AppData\\Local\\Temp/imgstock-upload-research-debenture-1541732254314.pdf.\n"
     ]
    },
    {
     "name": "stdout",
     "output_type": "stream",
     "text": [
      "433\n"
     ]
    },
    {
     "name": "stderr",
     "output_type": "stream",
     "text": [
      "2020-09-01 10:14:58,549 [MainThread  ] [INFO ]  Retrieving https://ssl.pstatic.net/imgstock/upload/research/debenture/1541731663078.pdf to C:\\Users\\user\\AppData\\Local\\Temp/imgstock-upload-research-debenture-1541731663078.pdf.\n"
     ]
    },
    {
     "name": "stdout",
     "output_type": "stream",
     "text": [
      "434\n"
     ]
    },
    {
     "name": "stderr",
     "output_type": "stream",
     "text": [
      "2020-09-01 10:14:58,857 [MainThread  ] [INFO ]  Retrieving https://ssl.pstatic.net/imgstock/upload/research/debenture/1541130369035.pdf to C:\\Users\\user\\AppData\\Local\\Temp/imgstock-upload-research-debenture-1541130369035.pdf.\n"
     ]
    },
    {
     "name": "stdout",
     "output_type": "stream",
     "text": [
      "435\n"
     ]
    },
    {
     "name": "stderr",
     "output_type": "stream",
     "text": [
      "2020-09-01 10:14:59,169 [MainThread  ] [INFO ]  Retrieving https://ssl.pstatic.net/imgstock/upload/research/debenture/1541128686576.pdf to C:\\Users\\user\\AppData\\Local\\Temp/imgstock-upload-research-debenture-1541128686576.pdf.\n"
     ]
    },
    {
     "name": "stdout",
     "output_type": "stream",
     "text": [
      "436\n"
     ]
    },
    {
     "name": "stderr",
     "output_type": "stream",
     "text": [
      "2020-09-01 10:14:59,515 [MainThread  ] [INFO ]  Retrieving https://ssl.pstatic.net/imgstock/upload/research/debenture/1541040371531.pdf to C:\\Users\\user\\AppData\\Local\\Temp/imgstock-upload-research-debenture-1541040371531.pdf.\n"
     ]
    },
    {
     "name": "stdout",
     "output_type": "stream",
     "text": [
      "437\n"
     ]
    },
    {
     "name": "stderr",
     "output_type": "stream",
     "text": [
      "2020-09-01 10:14:59,837 [MainThread  ] [INFO ]  Retrieving https://ssl.pstatic.net/imgstock/upload/research/debenture/1540953943077.pdf to C:\\Users\\user\\AppData\\Local\\Temp/imgstock-upload-research-debenture-1540953943077.pdf.\n"
     ]
    },
    {
     "name": "stdout",
     "output_type": "stream",
     "text": [
      "438\n"
     ]
    },
    {
     "name": "stderr",
     "output_type": "stream",
     "text": [
      "2020-09-01 10:15:00,315 [MainThread  ] [INFO ]  Retrieving https://ssl.pstatic.net/imgstock/upload/research/debenture/1540951869248.pdf to C:\\Users\\user\\AppData\\Local\\Temp/imgstock-upload-research-debenture-1540951869248.pdf.\n"
     ]
    },
    {
     "name": "stdout",
     "output_type": "stream",
     "text": [
      "439\n"
     ]
    },
    {
     "name": "stderr",
     "output_type": "stream",
     "text": [
      "2020-09-01 10:15:01,392 [MainThread  ] [INFO ]  Retrieving https://ssl.pstatic.net/imgstock/upload/research/debenture/1540864992981.pdf to C:\\Users\\user\\AppData\\Local\\Temp/imgstock-upload-research-debenture-1540864992981.pdf.\n"
     ]
    },
    {
     "name": "stdout",
     "output_type": "stream",
     "text": [
      "440\n"
     ]
    },
    {
     "name": "stderr",
     "output_type": "stream",
     "text": [
      "2020-09-01 10:15:01,688 [MainThread  ] [INFO ]  Retrieving https://ssl.pstatic.net/imgstock/upload/research/debenture/1540864909655.pdf to C:\\Users\\user\\AppData\\Local\\Temp/imgstock-upload-research-debenture-1540864909655.pdf.\n"
     ]
    },
    {
     "name": "stdout",
     "output_type": "stream",
     "text": [
      "441\n"
     ]
    },
    {
     "name": "stderr",
     "output_type": "stream",
     "text": [
      "2020-09-01 10:15:02,167 [MainThread  ] [INFO ]  Retrieving https://ssl.pstatic.net/imgstock/upload/research/debenture/1540864207723.pdf to C:\\Users\\user\\AppData\\Local\\Temp/imgstock-upload-research-debenture-1540864207723.pdf.\n"
     ]
    },
    {
     "name": "stdout",
     "output_type": "stream",
     "text": [
      "442\n"
     ]
    },
    {
     "name": "stderr",
     "output_type": "stream",
     "text": [
      "2020-09-01 10:15:03,045 [MainThread  ] [INFO ]  Retrieving https://ssl.pstatic.net/imgstock/upload/research/debenture/1540522321058.pdf to C:\\Users\\user\\AppData\\Local\\Temp/imgstock-upload-research-debenture-1540522321058.pdf.\n"
     ]
    },
    {
     "name": "stdout",
     "output_type": "stream",
     "text": [
      "443\n"
     ]
    },
    {
     "name": "stderr",
     "output_type": "stream",
     "text": [
      "2020-09-01 10:15:03,352 [MainThread  ] [INFO ]  Retrieving https://ssl.pstatic.net/imgstock/upload/research/debenture/1540345562900.pdf to C:\\Users\\user\\AppData\\Local\\Temp/imgstock-upload-research-debenture-1540345562900.pdf.\n"
     ]
    },
    {
     "name": "stdout",
     "output_type": "stream",
     "text": [
      "444\n"
     ]
    },
    {
     "name": "stderr",
     "output_type": "stream",
     "text": [
      "2020-09-01 10:15:04,218 [MainThread  ] [INFO ]  Retrieving https://ssl.pstatic.net/imgstock/upload/research/debenture/1539916510909.pdf to C:\\Users\\user\\AppData\\Local\\Temp/imgstock-upload-research-debenture-1539916510909.pdf.\n"
     ]
    },
    {
     "name": "stdout",
     "output_type": "stream",
     "text": [
      "445\n"
     ]
    },
    {
     "name": "stderr",
     "output_type": "stream",
     "text": [
      "2020-09-01 10:15:04,528 [MainThread  ] [INFO ]  Retrieving https://ssl.pstatic.net/imgstock/upload/research/debenture/1539916762456.pdf to C:\\Users\\user\\AppData\\Local\\Temp/imgstock-upload-research-debenture-1539916762456.pdf.\n"
     ]
    },
    {
     "name": "stdout",
     "output_type": "stream",
     "text": [
      "446\n"
     ]
    },
    {
     "name": "stderr",
     "output_type": "stream",
     "text": [
      "2020-09-01 10:15:05,068 [MainThread  ] [INFO ]  Retrieving https://ssl.pstatic.net/imgstock/upload/research/debenture/1539916152168.pdf to C:\\Users\\user\\AppData\\Local\\Temp/imgstock-upload-research-debenture-1539916152168.pdf.\n"
     ]
    },
    {
     "name": "stdout",
     "output_type": "stream",
     "text": [
      "447\n"
     ]
    },
    {
     "name": "stderr",
     "output_type": "stream",
     "text": [
      "2020-09-01 10:15:05,567 [MainThread  ] [INFO ]  Retrieving https://ssl.pstatic.net/imgstock/upload/research/debenture/1539915413963.pdf to C:\\Users\\user\\AppData\\Local\\Temp/imgstock-upload-research-debenture-1539915413963.pdf.\n"
     ]
    },
    {
     "name": "stdout",
     "output_type": "stream",
     "text": [
      "448\n"
     ]
    },
    {
     "name": "stderr",
     "output_type": "stream",
     "text": [
      "2020-09-01 10:15:05,929 [MainThread  ] [INFO ]  Retrieving https://ssl.pstatic.net/imgstock/upload/research/debenture/1539740802955.pdf to C:\\Users\\user\\AppData\\Local\\Temp/imgstock-upload-research-debenture-1539740802955.pdf.\n"
     ]
    },
    {
     "name": "stdout",
     "output_type": "stream",
     "text": [
      "449\n"
     ]
    },
    {
     "name": "stderr",
     "output_type": "stream",
     "text": [
      "2020-09-01 10:15:06,498 [MainThread  ] [INFO ]  Retrieving https://ssl.pstatic.net/imgstock/upload/research/debenture/1539656855111.pdf to C:\\Users\\user\\AppData\\Local\\Temp/imgstock-upload-research-debenture-1539656855111.pdf.\n"
     ]
    },
    {
     "name": "stdout",
     "output_type": "stream",
     "text": [
      "450\n"
     ]
    },
    {
     "name": "stderr",
     "output_type": "stream",
     "text": [
      "2020-09-01 10:15:06,772 [MainThread  ] [INFO ]  Retrieving https://ssl.pstatic.net/imgstock/upload/research/debenture/1539312240962.pdf to C:\\Users\\user\\AppData\\Local\\Temp/imgstock-upload-research-debenture-1539312240962.pdf.\n"
     ]
    },
    {
     "name": "stdout",
     "output_type": "stream",
     "text": [
      "451\n"
     ]
    },
    {
     "name": "stderr",
     "output_type": "stream",
     "text": [
      "2020-09-01 10:15:07,393 [MainThread  ] [INFO ]  Retrieving https://ssl.pstatic.net/imgstock/upload/research/debenture/1539136501153.pdf to C:\\Users\\user\\AppData\\Local\\Temp/imgstock-upload-research-debenture-1539136501153.pdf.\n"
     ]
    },
    {
     "name": "stdout",
     "output_type": "stream",
     "text": [
      "452\n"
     ]
    },
    {
     "name": "stderr",
     "output_type": "stream",
     "text": [
      "2020-09-01 10:15:07,643 [MainThread  ] [INFO ]  Retrieving https://ssl.pstatic.net/imgstock/upload/research/debenture/1538708160225.pdf to C:\\Users\\user\\AppData\\Local\\Temp/imgstock-upload-research-debenture-1538708160225.pdf.\n"
     ]
    },
    {
     "name": "stdout",
     "output_type": "stream",
     "text": [
      "453\n"
     ]
    },
    {
     "name": "stderr",
     "output_type": "stream",
     "text": [
      "2020-09-01 10:15:08,410 [MainThread  ] [INFO ]  Retrieving https://ssl.pstatic.net/imgstock/upload/research/debenture/1538705256496.pdf to C:\\Users\\user\\AppData\\Local\\Temp/imgstock-upload-research-debenture-1538705256496.pdf.\n"
     ]
    },
    {
     "name": "stdout",
     "output_type": "stream",
     "text": [
      "454\n"
     ]
    },
    {
     "name": "stderr",
     "output_type": "stream",
     "text": [
      "2020-09-01 10:15:08,667 [MainThread  ] [INFO ]  Retrieving https://ssl.pstatic.net/imgstock/upload/research/debenture/1538621638982.pdf to C:\\Users\\user\\AppData\\Local\\Temp/imgstock-upload-research-debenture-1538621638982.pdf.\n"
     ]
    },
    {
     "name": "stdout",
     "output_type": "stream",
     "text": [
      "455\n"
     ]
    },
    {
     "name": "stderr",
     "output_type": "stream",
     "text": [
      "2020-09-01 10:15:09,247 [MainThread  ] [INFO ]  Retrieving https://ssl.pstatic.net/imgstock/upload/research/debenture/1538102031623.pdf to C:\\Users\\user\\AppData\\Local\\Temp/imgstock-upload-research-debenture-1538102031623.pdf.\n",
      "2020-09-01 10:15:09,375 [MainThread  ] [INFO ]  Retrieving https://ssl.pstatic.net/imgstock/upload/research/debenture/1537496876552.pdf to C:\\Users\\user\\AppData\\Local\\Temp/imgstock-upload-research-debenture-1537496876552.pdf.\n"
     ]
    },
    {
     "name": "stdout",
     "output_type": "stream",
     "text": [
      "456\n",
      "457\n"
     ]
    },
    {
     "name": "stderr",
     "output_type": "stream",
     "text": [
      "2020-09-01 10:15:09,709 [MainThread  ] [INFO ]  Retrieving https://ssl.pstatic.net/imgstock/upload/research/debenture/1537407842225.pdf to C:\\Users\\user\\AppData\\Local\\Temp/imgstock-upload-research-debenture-1537407842225.pdf.\n"
     ]
    },
    {
     "name": "stdout",
     "output_type": "stream",
     "text": [
      "458\n"
     ]
    },
    {
     "name": "stderr",
     "output_type": "stream",
     "text": [
      "2020-09-01 10:15:09,972 [MainThread  ] [INFO ]  Retrieving https://ssl.pstatic.net/imgstock/upload/research/debenture/1537407802536.pdf to C:\\Users\\user\\AppData\\Local\\Temp/imgstock-upload-research-debenture-1537407802536.pdf.\n"
     ]
    },
    {
     "name": "stdout",
     "output_type": "stream",
     "text": [
      "459\n"
     ]
    },
    {
     "name": "stderr",
     "output_type": "stream",
     "text": [
      "2020-09-01 10:15:10,321 [MainThread  ] [INFO ]  Retrieving https://ssl.pstatic.net/imgstock/upload/research/debenture/1537323435859.pdf to C:\\Users\\user\\AppData\\Local\\Temp/imgstock-upload-research-debenture-1537323435859.pdf.\n"
     ]
    },
    {
     "name": "stdout",
     "output_type": "stream",
     "text": [
      "460\n"
     ]
    },
    {
     "name": "stderr",
     "output_type": "stream",
     "text": [
      "2020-09-01 10:15:10,749 [MainThread  ] [INFO ]  Retrieving https://ssl.pstatic.net/imgstock/upload/research/debenture/1537323372046.pdf to C:\\Users\\user\\AppData\\Local\\Temp/imgstock-upload-research-debenture-1537323372046.pdf.\n"
     ]
    },
    {
     "name": "stdout",
     "output_type": "stream",
     "text": [
      "461\n"
     ]
    },
    {
     "name": "stderr",
     "output_type": "stream",
     "text": [
      "2020-09-01 10:15:11,556 [MainThread  ] [INFO ]  Retrieving https://ssl.pstatic.net/imgstock/upload/research/debenture/1536892721123.pdf to C:\\Users\\user\\AppData\\Local\\Temp/imgstock-upload-research-debenture-1536892721123.pdf.\n"
     ]
    },
    {
     "name": "stdout",
     "output_type": "stream",
     "text": [
      "462\n"
     ]
    },
    {
     "name": "stderr",
     "output_type": "stream",
     "text": [
      "2020-09-01 10:15:11,941 [MainThread  ] [INFO ]  Retrieving https://ssl.pstatic.net/imgstock/upload/research/debenture/1536890267070.pdf to C:\\Users\\user\\AppData\\Local\\Temp/imgstock-upload-research-debenture-1536890267070.pdf.\n"
     ]
    },
    {
     "name": "stdout",
     "output_type": "stream",
     "text": [
      "463\n"
     ]
    },
    {
     "name": "stderr",
     "output_type": "stream",
     "text": [
      "2020-09-01 10:15:12,587 [MainThread  ] [INFO ]  Retrieving https://ssl.pstatic.net/imgstock/upload/research/debenture/1536888644535.pdf to C:\\Users\\user\\AppData\\Local\\Temp/imgstock-upload-research-debenture-1536888644535.pdf.\n"
     ]
    },
    {
     "name": "stdout",
     "output_type": "stream",
     "text": [
      "464\n"
     ]
    },
    {
     "name": "stderr",
     "output_type": "stream",
     "text": [
      "2020-09-01 10:15:12,915 [MainThread  ] [INFO ]  Retrieving https://ssl.pstatic.net/imgstock/upload/research/debenture/1536805094401.pdf to C:\\Users\\user\\AppData\\Local\\Temp/imgstock-upload-research-debenture-1536805094401.pdf.\n"
     ]
    },
    {
     "name": "stdout",
     "output_type": "stream",
     "text": [
      "465\n"
     ]
    },
    {
     "name": "stderr",
     "output_type": "stream",
     "text": [
      "2020-09-01 10:15:13,170 [MainThread  ] [INFO ]  Retrieving https://ssl.pstatic.net/imgstock/upload/research/debenture/1536719453451.pdf to C:\\Users\\user\\AppData\\Local\\Temp/imgstock-upload-research-debenture-1536719453451.pdf.\n"
     ]
    },
    {
     "name": "stdout",
     "output_type": "stream",
     "text": [
      "466\n"
     ]
    },
    {
     "name": "stderr",
     "output_type": "stream",
     "text": [
      "2020-09-01 10:15:14,126 [MainThread  ] [INFO ]  Retrieving https://ssl.pstatic.net/imgstock/upload/research/debenture/1536719357556.pdf to C:\\Users\\user\\AppData\\Local\\Temp/imgstock-upload-research-debenture-1536719357556.pdf.\n"
     ]
    },
    {
     "name": "stdout",
     "output_type": "stream",
     "text": [
      "467\n"
     ]
    },
    {
     "name": "stderr",
     "output_type": "stream",
     "text": [
      "2020-09-01 10:15:14,600 [MainThread  ] [INFO ]  Retrieving https://ssl.pstatic.net/imgstock/upload/research/debenture/1536287876824.pdf to C:\\Users\\user\\AppData\\Local\\Temp/imgstock-upload-research-debenture-1536287876824.pdf.\n"
     ]
    },
    {
     "name": "stdout",
     "output_type": "stream",
     "text": [
      "468\n"
     ]
    },
    {
     "name": "stderr",
     "output_type": "stream",
     "text": [
      "2020-09-01 10:15:14,939 [MainThread  ] [INFO ]  Retrieving https://ssl.pstatic.net/imgstock/upload/research/debenture/1535941137425.pdf to C:\\Users\\user\\AppData\\Local\\Temp/imgstock-upload-research-debenture-1535941137425.pdf.\n"
     ]
    },
    {
     "name": "stdout",
     "output_type": "stream",
     "text": [
      "469\n"
     ]
    },
    {
     "name": "stderr",
     "output_type": "stream",
     "text": [
      "2020-09-01 10:15:16,042 [MainThread  ] [INFO ]  Retrieving https://ssl.pstatic.net/imgstock/upload/research/debenture/1535508617986.pdf to C:\\Users\\user\\AppData\\Local\\Temp/imgstock-upload-research-debenture-1535508617986.pdf.\n"
     ]
    },
    {
     "name": "stdout",
     "output_type": "stream",
     "text": [
      "470\n"
     ]
    },
    {
     "name": "stderr",
     "output_type": "stream",
     "text": [
      "2020-09-01 10:15:16,392 [MainThread  ] [INFO ]  Retrieving https://ssl.pstatic.net/imgstock/upload/research/debenture/1535331769586.pdf to C:\\Users\\user\\AppData\\Local\\Temp/imgstock-upload-research-debenture-1535331769586.pdf.\n"
     ]
    },
    {
     "name": "stdout",
     "output_type": "stream",
     "text": [
      "471\n"
     ]
    },
    {
     "name": "stderr",
     "output_type": "stream",
     "text": [
      "2020-09-01 10:15:16,771 [MainThread  ] [INFO ]  Retrieving https://ssl.pstatic.net/imgstock/upload/research/debenture/1535075694779.pdf to C:\\Users\\user\\AppData\\Local\\Temp/imgstock-upload-research-debenture-1535075694779.pdf.\n"
     ]
    },
    {
     "name": "stdout",
     "output_type": "stream",
     "text": [
      "472\n"
     ]
    },
    {
     "name": "stderr",
     "output_type": "stream",
     "text": [
      "2020-09-01 10:15:17,117 [MainThread  ] [INFO ]  Retrieving https://ssl.pstatic.net/imgstock/upload/research/debenture/1535075670653.pdf to C:\\Users\\user\\AppData\\Local\\Temp/imgstock-upload-research-debenture-1535075670653.pdf.\n",
      "2020-09-01 10:15:17,253 [MainThread  ] [INFO ]  Retrieving https://ssl.pstatic.net/imgstock/upload/research/debenture/1535075193049.pdf to C:\\Users\\user\\AppData\\Local\\Temp/imgstock-upload-research-debenture-1535075193049.pdf.\n"
     ]
    },
    {
     "name": "stdout",
     "output_type": "stream",
     "text": [
      "473\n",
      "474\n"
     ]
    },
    {
     "name": "stderr",
     "output_type": "stream",
     "text": [
      "2020-09-01 10:15:17,697 [MainThread  ] [INFO ]  Retrieving https://ssl.pstatic.net/imgstock/upload/research/debenture/1534904292032.pdf to C:\\Users\\user\\AppData\\Local\\Temp/imgstock-upload-research-debenture-1534904292032.pdf.\n"
     ]
    },
    {
     "name": "stdout",
     "output_type": "stream",
     "text": [
      "475\n"
     ]
    },
    {
     "name": "stderr",
     "output_type": "stream",
     "text": [
      "2020-09-01 10:15:18,141 [MainThread  ] [INFO ]  Retrieving https://ssl.pstatic.net/imgstock/upload/research/debenture/1534904269199.pdf to C:\\Users\\user\\AppData\\Local\\Temp/imgstock-upload-research-debenture-1534904269199.pdf.\n"
     ]
    },
    {
     "name": "stdout",
     "output_type": "stream",
     "text": [
      "476\n"
     ]
    },
    {
     "name": "stderr",
     "output_type": "stream",
     "text": [
      "2020-09-01 10:15:18,964 [MainThread  ] [INFO ]  Retrieving https://ssl.pstatic.net/imgstock/upload/research/debenture/1534729547948.pdf to C:\\Users\\user\\AppData\\Local\\Temp/imgstock-upload-research-debenture-1534729547948.pdf.\n"
     ]
    },
    {
     "name": "stdout",
     "output_type": "stream",
     "text": [
      "477\n"
     ]
    },
    {
     "name": "stderr",
     "output_type": "stream",
     "text": [
      "2020-09-01 10:15:19,269 [MainThread  ] [INFO ]  Retrieving https://ssl.pstatic.net/imgstock/upload/research/debenture/1534475160985.pdf to C:\\Users\\user\\AppData\\Local\\Temp/imgstock-upload-research-debenture-1534475160985.pdf.\n"
     ]
    },
    {
     "name": "stdout",
     "output_type": "stream",
     "text": [
      "478\n"
     ]
    },
    {
     "name": "stderr",
     "output_type": "stream",
     "text": [
      "2020-09-01 10:15:19,676 [MainThread  ] [INFO ]  Retrieving https://ssl.pstatic.net/imgstock/upload/research/debenture/1534473063229.pdf to C:\\Users\\user\\AppData\\Local\\Temp/imgstock-upload-research-debenture-1534473063229.pdf.\n"
     ]
    },
    {
     "name": "stdout",
     "output_type": "stream",
     "text": [
      "479\n"
     ]
    },
    {
     "name": "stderr",
     "output_type": "stream",
     "text": [
      "2020-09-01 10:15:20,322 [MainThread  ] [INFO ]  Retrieving https://ssl.pstatic.net/imgstock/upload/research/debenture/1534124774972.pdf to C:\\Users\\user\\AppData\\Local\\Temp/imgstock-upload-research-debenture-1534124774972.pdf.\n"
     ]
    },
    {
     "name": "stdout",
     "output_type": "stream",
     "text": [
      "480\n"
     ]
    },
    {
     "name": "stderr",
     "output_type": "stream",
     "text": [
      "2020-09-01 10:15:20,630 [MainThread  ] [INFO ]  Retrieving https://ssl.pstatic.net/imgstock/upload/research/debenture/1533868829031.pdf to C:\\Users\\user\\AppData\\Local\\Temp/imgstock-upload-research-debenture-1533868829031.pdf.\n"
     ]
    },
    {
     "name": "stdout",
     "output_type": "stream",
     "text": [
      "481\n"
     ]
    },
    {
     "name": "stderr",
     "output_type": "stream",
     "text": [
      "2020-09-01 10:15:20,924 [MainThread  ] [INFO ]  Retrieving https://ssl.pstatic.net/imgstock/upload/research/debenture/1533694586691.pdf to C:\\Users\\user\\AppData\\Local\\Temp/imgstock-upload-research-debenture-1533694586691.pdf.\n"
     ]
    },
    {
     "name": "stdout",
     "output_type": "stream",
     "text": [
      "482\n"
     ]
    },
    {
     "name": "stderr",
     "output_type": "stream",
     "text": [
      "2020-09-01 10:15:21,718 [MainThread  ] [INFO ]  Retrieving https://ssl.pstatic.net/imgstock/upload/research/debenture/1533694560070.pdf to C:\\Users\\user\\AppData\\Local\\Temp/imgstock-upload-research-debenture-1533694560070.pdf.\n"
     ]
    },
    {
     "name": "stdout",
     "output_type": "stream",
     "text": [
      "483\n"
     ]
    },
    {
     "name": "stderr",
     "output_type": "stream",
     "text": [
      "2020-09-01 10:15:22,313 [MainThread  ] [INFO ]  Retrieving https://ssl.pstatic.net/imgstock/upload/research/debenture/1533517929687.pdf to C:\\Users\\user\\AppData\\Local\\Temp/imgstock-upload-research-debenture-1533517929687.pdf.\n"
     ]
    },
    {
     "name": "stdout",
     "output_type": "stream",
     "text": [
      "484\n"
     ]
    },
    {
     "name": "stderr",
     "output_type": "stream",
     "text": [
      "2020-09-01 10:15:23,032 [MainThread  ] [INFO ]  Retrieving https://ssl.pstatic.net/imgstock/upload/research/debenture/1533265816208.pdf to C:\\Users\\user\\AppData\\Local\\Temp/imgstock-upload-research-debenture-1533265816208.pdf.\n"
     ]
    },
    {
     "name": "stdout",
     "output_type": "stream",
     "text": [
      "485\n"
     ]
    },
    {
     "name": "stderr",
     "output_type": "stream",
     "text": [
      "2020-09-01 10:15:23,352 [MainThread  ] [INFO ]  Retrieving https://ssl.pstatic.net/imgstock/upload/research/debenture/1533265789834.pdf to C:\\Users\\user\\AppData\\Local\\Temp/imgstock-upload-research-debenture-1533265789834.pdf.\n"
     ]
    },
    {
     "name": "stdout",
     "output_type": "stream",
     "text": [
      "486\n"
     ]
    },
    {
     "name": "stderr",
     "output_type": "stream",
     "text": [
      "2020-09-01 10:15:23,610 [MainThread  ] [INFO ]  Retrieving https://ssl.pstatic.net/imgstock/upload/research/debenture/1533174588350.pdf to C:\\Users\\user\\AppData\\Local\\Temp/imgstock-upload-research-debenture-1533174588350.pdf.\n"
     ]
    },
    {
     "name": "stdout",
     "output_type": "stream",
     "text": [
      "487\n"
     ]
    },
    {
     "name": "stderr",
     "output_type": "stream",
     "text": [
      "2020-09-01 10:15:23,939 [MainThread  ] [INFO ]  Retrieving https://ssl.pstatic.net/imgstock/upload/research/debenture/1533096039647.pdf to C:\\Users\\user\\AppData\\Local\\Temp/imgstock-upload-research-debenture-1533096039647.pdf.\n"
     ]
    },
    {
     "name": "stdout",
     "output_type": "stream",
     "text": [
      "488\n"
     ]
    },
    {
     "name": "stderr",
     "output_type": "stream",
     "text": [
      "2020-09-01 10:15:24,946 [MainThread  ] [INFO ]  Retrieving https://ssl.pstatic.net/imgstock/upload/research/debenture/1533090031487.pdf to C:\\Users\\user\\AppData\\Local\\Temp/imgstock-upload-research-debenture-1533090031487.pdf.\n",
      "2020-09-01 10:15:25,060 [MainThread  ] [INFO ]  Retrieving https://ssl.pstatic.net/imgstock/upload/research/debenture/1532927022986.pdf to C:\\Users\\user\\AppData\\Local\\Temp/imgstock-upload-research-debenture-1532927022986.pdf.\n"
     ]
    },
    {
     "name": "stdout",
     "output_type": "stream",
     "text": [
      "489\n",
      "490\n"
     ]
    },
    {
     "name": "stderr",
     "output_type": "stream",
     "text": [
      "2020-09-01 10:15:25,665 [MainThread  ] [INFO ]  Retrieving https://ssl.pstatic.net/imgstock/upload/research/debenture/1532915670174.pdf to C:\\Users\\user\\AppData\\Local\\Temp/imgstock-upload-research-debenture-1532915670174.pdf.\n"
     ]
    },
    {
     "name": "stdout",
     "output_type": "stream",
     "text": [
      "491\n"
     ]
    },
    {
     "name": "stderr",
     "output_type": "stream",
     "text": [
      "2020-09-01 10:15:25,984 [MainThread  ] [INFO ]  Retrieving https://ssl.pstatic.net/imgstock/upload/research/debenture/1532670068595.pdf to C:\\Users\\user\\AppData\\Local\\Temp/imgstock-upload-research-debenture-1532670068595.pdf.\n"
     ]
    },
    {
     "name": "stdout",
     "output_type": "stream",
     "text": [
      "492\n"
     ]
    },
    {
     "name": "stderr",
     "output_type": "stream",
     "text": [
      "2020-09-01 10:15:26,316 [MainThread  ] [INFO ]  Retrieving https://ssl.pstatic.net/imgstock/upload/research/debenture/1532575061216.pdf to C:\\Users\\user\\AppData\\Local\\Temp/imgstock-upload-research-debenture-1532575061216.pdf.\n"
     ]
    },
    {
     "name": "stdout",
     "output_type": "stream",
     "text": [
      "493\n"
     ]
    },
    {
     "name": "stderr",
     "output_type": "stream",
     "text": [
      "2020-09-01 10:15:26,595 [MainThread  ] [INFO ]  Retrieving https://ssl.pstatic.net/imgstock/upload/research/debenture/1532308941964.pdf to C:\\Users\\user\\AppData\\Local\\Temp/imgstock-upload-research-debenture-1532308941964.pdf.\n"
     ]
    },
    {
     "name": "stdout",
     "output_type": "stream",
     "text": [
      "494\n"
     ]
    },
    {
     "name": "stderr",
     "output_type": "stream",
     "text": [
      "2020-09-01 10:15:26,802 [MainThread  ] [INFO ]  Retrieving https://ssl.pstatic.net/imgstock/upload/research/debenture/1532053222737.pdf to C:\\Users\\user\\AppData\\Local\\Temp/imgstock-upload-research-debenture-1532053222737.pdf.\n"
     ]
    },
    {
     "name": "stdout",
     "output_type": "stream",
     "text": [
      "495\n"
     ]
    },
    {
     "name": "stderr",
     "output_type": "stream",
     "text": [
      "2020-09-01 10:15:27,128 [MainThread  ] [INFO ]  Retrieving https://ssl.pstatic.net/imgstock/upload/research/debenture/1531967118717.pdf to C:\\Users\\user\\AppData\\Local\\Temp/imgstock-upload-research-debenture-1531967118717.pdf.\n"
     ]
    },
    {
     "name": "stdout",
     "output_type": "stream",
     "text": [
      "496\n"
     ]
    },
    {
     "name": "stderr",
     "output_type": "stream",
     "text": [
      "2020-09-01 10:15:27,488 [MainThread  ] [INFO ]  Retrieving https://ssl.pstatic.net/imgstock/upload/research/debenture/1531879230915.pdf to C:\\Users\\user\\AppData\\Local\\Temp/imgstock-upload-research-debenture-1531879230915.pdf.\n"
     ]
    },
    {
     "name": "stdout",
     "output_type": "stream",
     "text": [
      "497\n"
     ]
    },
    {
     "name": "stderr",
     "output_type": "stream",
     "text": [
      "2020-09-01 10:15:27,892 [MainThread  ] [INFO ]  Retrieving https://ssl.pstatic.net/imgstock/upload/research/debenture/1531879208954.pdf to C:\\Users\\user\\AppData\\Local\\Temp/imgstock-upload-research-debenture-1531879208954.pdf.\n"
     ]
    },
    {
     "name": "stdout",
     "output_type": "stream",
     "text": [
      "498\n"
     ]
    },
    {
     "name": "stderr",
     "output_type": "stream",
     "text": [
      "2020-09-01 10:15:28,641 [MainThread  ] [INFO ]  Retrieving https://ssl.pstatic.net/imgstock/upload/research/debenture/1531449384022.pdf to C:\\Users\\user\\AppData\\Local\\Temp/imgstock-upload-research-debenture-1531449384022.pdf.\n"
     ]
    },
    {
     "name": "stdout",
     "output_type": "stream",
     "text": [
      "499\n"
     ]
    },
    {
     "name": "stderr",
     "output_type": "stream",
     "text": [
      "2020-09-01 10:15:28,886 [MainThread  ] [INFO ]  Retrieving https://ssl.pstatic.net/imgstock/upload/research/debenture/1531448831379.pdf to C:\\Users\\user\\AppData\\Local\\Temp/imgstock-upload-research-debenture-1531448831379.pdf.\n"
     ]
    },
    {
     "name": "stdout",
     "output_type": "stream",
     "text": [
      "500\n"
     ]
    },
    {
     "name": "stderr",
     "output_type": "stream",
     "text": [
      "2020-09-01 10:15:29,446 [MainThread  ] [INFO ]  Retrieving https://ssl.pstatic.net/imgstock/upload/research/debenture/1531447694474.pdf to C:\\Users\\user\\AppData\\Local\\Temp/imgstock-upload-research-debenture-1531447694474.pdf.\n"
     ]
    },
    {
     "name": "stdout",
     "output_type": "stream",
     "text": [
      "501\n"
     ]
    },
    {
     "name": "stderr",
     "output_type": "stream",
     "text": [
      "2020-09-01 10:15:29,718 [MainThread  ] [INFO ]  Retrieving https://ssl.pstatic.net/imgstock/upload/research/debenture/1531444682243.pdf to C:\\Users\\user\\AppData\\Local\\Temp/imgstock-upload-research-debenture-1531444682243.pdf.\n"
     ]
    },
    {
     "name": "stdout",
     "output_type": "stream",
     "text": [
      "502\n"
     ]
    },
    {
     "name": "stderr",
     "output_type": "stream",
     "text": [
      "2020-09-01 10:15:29,954 [MainThread  ] [INFO ]  Retrieving https://ssl.pstatic.net/imgstock/upload/research/debenture/1531363472237.pdf to C:\\Users\\user\\AppData\\Local\\Temp/imgstock-upload-research-debenture-1531363472237.pdf.\n"
     ]
    },
    {
     "name": "stdout",
     "output_type": "stream",
     "text": [
      "503\n"
     ]
    },
    {
     "name": "stderr",
     "output_type": "stream",
     "text": [
      "2020-09-01 10:15:30,191 [MainThread  ] [INFO ]  Retrieving https://ssl.pstatic.net/imgstock/upload/research/debenture/1531274195921.pdf to C:\\Users\\user\\AppData\\Local\\Temp/imgstock-upload-research-debenture-1531274195921.pdf.\n"
     ]
    },
    {
     "name": "stdout",
     "output_type": "stream",
     "text": [
      "504\n"
     ]
    },
    {
     "name": "stderr",
     "output_type": "stream",
     "text": [
      "2020-09-01 10:15:30,482 [MainThread  ] [INFO ]  Retrieving https://ssl.pstatic.net/imgstock/upload/research/debenture/1531274176796.pdf to C:\\Users\\user\\AppData\\Local\\Temp/imgstock-upload-research-debenture-1531274176796.pdf.\n"
     ]
    },
    {
     "name": "stdout",
     "output_type": "stream",
     "text": [
      "505\n"
     ]
    },
    {
     "name": "stderr",
     "output_type": "stream",
     "text": [
      "2020-09-01 10:15:31,310 [MainThread  ] [INFO ]  Retrieving https://ssl.pstatic.net/imgstock/upload/research/debenture/1531272475484.pdf to C:\\Users\\user\\AppData\\Local\\Temp/imgstock-upload-research-debenture-1531272475484.pdf.\n"
     ]
    },
    {
     "name": "stdout",
     "output_type": "stream",
     "text": [
      "506\n",
      "507"
     ]
    },
    {
     "name": "stderr",
     "output_type": "stream",
     "text": [
      "2020-09-01 10:15:31,495 [MainThread  ] [INFO ]  Retrieving https://ssl.pstatic.net/imgstock/upload/research/debenture/1530841893407.pdf to C:\\Users\\user\\AppData\\Local\\Temp/imgstock-upload-research-debenture-1530841893407.pdf.\n"
     ]
    },
    {
     "name": "stdout",
     "output_type": "stream",
     "text": [
      "\n"
     ]
    },
    {
     "name": "stderr",
     "output_type": "stream",
     "text": [
      "2020-09-01 10:15:31,779 [MainThread  ] [INFO ]  Retrieving https://ssl.pstatic.net/imgstock/upload/research/debenture/1530673140825.pdf to C:\\Users\\user\\AppData\\Local\\Temp/imgstock-upload-research-debenture-1530673140825.pdf.\n"
     ]
    },
    {
     "name": "stdout",
     "output_type": "stream",
     "text": [
      "508\n"
     ]
    },
    {
     "name": "stderr",
     "output_type": "stream",
     "text": [
      "2020-09-01 10:15:32,317 [MainThread  ] [INFO ]  Retrieving https://ssl.pstatic.net/imgstock/upload/research/debenture/1530673120274.pdf to C:\\Users\\user\\AppData\\Local\\Temp/imgstock-upload-research-debenture-1530673120274.pdf.\n"
     ]
    },
    {
     "name": "stdout",
     "output_type": "stream",
     "text": [
      "509\n"
     ]
    },
    {
     "name": "stderr",
     "output_type": "stream",
     "text": [
      "2020-09-01 10:15:33,134 [MainThread  ] [INFO ]  Retrieving https://ssl.pstatic.net/imgstock/upload/research/debenture/1530238056232.pdf to C:\\Users\\user\\AppData\\Local\\Temp/imgstock-upload-research-debenture-1530238056232.pdf.\n"
     ]
    },
    {
     "name": "stdout",
     "output_type": "stream",
     "text": [
      "510\n"
     ]
    },
    {
     "name": "stderr",
     "output_type": "stream",
     "text": [
      "2020-09-01 10:15:33,552 [MainThread  ] [INFO ]  Retrieving https://ssl.pstatic.net/imgstock/upload/research/debenture/1530066038425.pdf to C:\\Users\\user\\AppData\\Local\\Temp/imgstock-upload-research-debenture-1530066038425.pdf.\n"
     ]
    },
    {
     "name": "stdout",
     "output_type": "stream",
     "text": [
      "511\n"
     ]
    },
    {
     "name": "stderr",
     "output_type": "stream",
     "text": [
      "2020-09-01 10:15:34,112 [MainThread  ] [INFO ]  Retrieving https://ssl.pstatic.net/imgstock/upload/research/debenture/1530065929521.pdf to C:\\Users\\user\\AppData\\Local\\Temp/imgstock-upload-research-debenture-1530065929521.pdf.\n"
     ]
    },
    {
     "name": "stdout",
     "output_type": "stream",
     "text": [
      "512\n"
     ]
    },
    {
     "name": "stderr",
     "output_type": "stream",
     "text": [
      "2020-09-01 10:15:34,687 [MainThread  ] [INFO ]  Retrieving https://ssl.pstatic.net/imgstock/upload/research/debenture/1530065906868.pdf to C:\\Users\\user\\AppData\\Local\\Temp/imgstock-upload-research-debenture-1530065906868.pdf.\n"
     ]
    },
    {
     "name": "stdout",
     "output_type": "stream",
     "text": [
      "513\n"
     ]
    },
    {
     "name": "stderr",
     "output_type": "stream",
     "text": [
      "2020-09-01 10:15:35,500 [MainThread  ] [INFO ]  Retrieving https://ssl.pstatic.net/imgstock/upload/research/debenture/1529979996420.pdf to C:\\Users\\user\\AppData\\Local\\Temp/imgstock-upload-research-debenture-1529979996420.pdf.\n"
     ]
    },
    {
     "name": "stdout",
     "output_type": "stream",
     "text": [
      "514\n"
     ]
    },
    {
     "name": "stderr",
     "output_type": "stream",
     "text": [
      "2020-09-01 10:15:36,618 [MainThread  ] [INFO ]  Retrieving https://ssl.pstatic.net/imgstock/upload/research/debenture/1529891486814.pdf to C:\\Users\\user\\AppData\\Local\\Temp/imgstock-upload-research-debenture-1529891486814.pdf.\n"
     ]
    },
    {
     "name": "stdout",
     "output_type": "stream",
     "text": [
      "515\n"
     ]
    },
    {
     "name": "stderr",
     "output_type": "stream",
     "text": [
      "2020-09-01 10:15:36,917 [MainThread  ] [INFO ]  Retrieving https://ssl.pstatic.net/imgstock/upload/research/debenture/1529636769374.pdf to C:\\Users\\user\\AppData\\Local\\Temp/imgstock-upload-research-debenture-1529636769374.pdf.\n"
     ]
    },
    {
     "name": "stdout",
     "output_type": "stream",
     "text": [
      "516\n"
     ]
    },
    {
     "name": "stderr",
     "output_type": "stream",
     "text": [
      "2020-09-01 10:15:37,220 [MainThread  ] [INFO ]  Retrieving https://ssl.pstatic.net/imgstock/upload/research/debenture/1529462547368.pdf to C:\\Users\\user\\AppData\\Local\\Temp/imgstock-upload-research-debenture-1529462547368.pdf.\n"
     ]
    },
    {
     "name": "stdout",
     "output_type": "stream",
     "text": [
      "517\n"
     ]
    },
    {
     "name": "stderr",
     "output_type": "stream",
     "text": [
      "2020-09-01 10:15:37,796 [MainThread  ] [INFO ]  Retrieving https://ssl.pstatic.net/imgstock/upload/research/debenture/1529462480458.pdf to C:\\Users\\user\\AppData\\Local\\Temp/imgstock-upload-research-debenture-1529462480458.pdf.\n"
     ]
    },
    {
     "name": "stdout",
     "output_type": "stream",
     "text": [
      "518\n"
     ]
    },
    {
     "name": "stderr",
     "output_type": "stream",
     "text": [
      "2020-09-01 10:15:38,655 [MainThread  ] [INFO ]  Retrieving https://ssl.pstatic.net/imgstock/upload/research/debenture/1529461273660.pdf to C:\\Users\\user\\AppData\\Local\\Temp/imgstock-upload-research-debenture-1529461273660.pdf.\n"
     ]
    },
    {
     "name": "stdout",
     "output_type": "stream",
     "text": [
      "519\n"
     ]
    },
    {
     "name": "stderr",
     "output_type": "stream",
     "text": [
      "2020-09-01 10:15:38,993 [MainThread  ] [INFO ]  Retrieving https://ssl.pstatic.net/imgstock/upload/research/debenture/1529286666155.pdf to C:\\Users\\user\\AppData\\Local\\Temp/imgstock-upload-research-debenture-1529286666155.pdf.\n"
     ]
    },
    {
     "name": "stdout",
     "output_type": "stream",
     "text": [
      "520\n"
     ]
    },
    {
     "name": "stderr",
     "output_type": "stream",
     "text": [
      "2020-09-01 10:15:39,283 [MainThread  ] [INFO ]  Retrieving https://ssl.pstatic.net/imgstock/upload/research/debenture/1529029845965.pdf to C:\\Users\\user\\AppData\\Local\\Temp/imgstock-upload-research-debenture-1529029845965.pdf.\n"
     ]
    },
    {
     "name": "stdout",
     "output_type": "stream",
     "text": [
      "521\n"
     ]
    },
    {
     "name": "stderr",
     "output_type": "stream",
     "text": [
      "2020-09-01 10:15:39,597 [MainThread  ] [INFO ]  Retrieving https://ssl.pstatic.net/imgstock/upload/research/debenture/1529027520784.pdf to C:\\Users\\user\\AppData\\Local\\Temp/imgstock-upload-research-debenture-1529027520784.pdf.\n",
      "2020-09-01 10:15:39,740 [MainThread  ] [INFO ]  Retrieving https://ssl.pstatic.net/imgstock/upload/research/debenture/1528943493525.pdf to C:\\Users\\user\\AppData\\Local\\Temp/imgstock-upload-research-debenture-1528943493525.pdf.\n"
     ]
    },
    {
     "name": "stdout",
     "output_type": "stream",
     "text": [
      "522\n",
      "523\n"
     ]
    },
    {
     "name": "stderr",
     "output_type": "stream",
     "text": [
      "2020-09-01 10:15:39,910 [MainThread  ] [INFO ]  Retrieving https://ssl.pstatic.net/imgstock/upload/research/debenture/1528943076090.pdf to C:\\Users\\user\\AppData\\Local\\Temp/imgstock-upload-research-debenture-1528943076090.pdf.\n"
     ]
    },
    {
     "name": "stdout",
     "output_type": "stream",
     "text": [
      "524\n"
     ]
    },
    {
     "name": "stderr",
     "output_type": "stream",
     "text": [
      "2020-09-01 10:15:40,359 [MainThread  ] [INFO ]  Retrieving https://ssl.pstatic.net/imgstock/upload/research/debenture/1528942133125.pdf to C:\\Users\\user\\AppData\\Local\\Temp/imgstock-upload-research-debenture-1528942133125.pdf.\n",
      "2020-09-01 10:15:40,499 [MainThread  ] [INFO ]  Retrieving https://ssl.pstatic.net/imgstock/upload/research/debenture/1528683602714.pdf to C:\\Users\\user\\AppData\\Local\\Temp/imgstock-upload-research-debenture-1528683602714.pdf.\n"
     ]
    },
    {
     "name": "stdout",
     "output_type": "stream",
     "text": [
      "525\n",
      "526\n"
     ]
    },
    {
     "name": "stderr",
     "output_type": "stream",
     "text": [
      "2020-09-01 10:15:40,757 [MainThread  ] [INFO ]  Retrieving https://ssl.pstatic.net/imgstock/upload/research/debenture/1528681317586.pdf to C:\\Users\\user\\AppData\\Local\\Temp/imgstock-upload-research-debenture-1528681317586.pdf.\n"
     ]
    },
    {
     "name": "stdout",
     "output_type": "stream",
     "text": [
      "527\n"
     ]
    },
    {
     "name": "stderr",
     "output_type": "stream",
     "text": [
      "2020-09-01 10:15:41,039 [MainThread  ] [INFO ]  Retrieving https://ssl.pstatic.net/imgstock/upload/research/debenture/1528422093444.pdf to C:\\Users\\user\\AppData\\Local\\Temp/imgstock-upload-research-debenture-1528422093444.pdf.\n"
     ]
    },
    {
     "name": "stdout",
     "output_type": "stream",
     "text": [
      "528\n"
     ]
    },
    {
     "name": "stderr",
     "output_type": "stream",
     "text": [
      "2020-09-01 10:15:41,678 [MainThread  ] [INFO ]  Retrieving https://ssl.pstatic.net/imgstock/upload/research/debenture/1528420924660.pdf to C:\\Users\\user\\AppData\\Local\\Temp/imgstock-upload-research-debenture-1528420924660.pdf.\n"
     ]
    },
    {
     "name": "stdout",
     "output_type": "stream",
     "text": [
      "529\n"
     ]
    },
    {
     "name": "stderr",
     "output_type": "stream",
     "text": [
      "2020-09-01 10:15:42,567 [MainThread  ] [INFO ]  Retrieving https://ssl.pstatic.net/imgstock/upload/research/debenture/1528165964263.pdf to C:\\Users\\user\\AppData\\Local\\Temp/imgstock-upload-research-debenture-1528165964263.pdf.\n"
     ]
    },
    {
     "name": "stdout",
     "output_type": "stream",
     "text": [
      "530\n"
     ]
    },
    {
     "name": "stderr",
     "output_type": "stream",
     "text": [
      "2020-09-01 10:15:43,535 [MainThread  ] [INFO ]  Retrieving https://ssl.pstatic.net/imgstock/upload/research/debenture/1528163497678.pdf to C:\\Users\\user\\AppData\\Local\\Temp/imgstock-upload-research-debenture-1528163497678.pdf.\n",
      "2020-09-01 10:15:43,693 [MainThread  ] [INFO ]  Retrieving https://ssl.pstatic.net/imgstock/upload/research/debenture/1528088852847.pdf to C:\\Users\\user\\AppData\\Local\\Temp/imgstock-upload-research-debenture-1528088852847.pdf.\n"
     ]
    },
    {
     "name": "stdout",
     "output_type": "stream",
     "text": [
      "531\n",
      "532\n"
     ]
    },
    {
     "name": "stderr",
     "output_type": "stream",
     "text": [
      "2020-09-01 10:15:43,980 [MainThread  ] [INFO ]  Retrieving https://ssl.pstatic.net/imgstock/upload/research/debenture/1528077360913.pdf to C:\\Users\\user\\AppData\\Local\\Temp/imgstock-upload-research-debenture-1528077360913.pdf.\n"
     ]
    },
    {
     "name": "stdout",
     "output_type": "stream",
     "text": [
      "533\n"
     ]
    },
    {
     "name": "stderr",
     "output_type": "stream",
     "text": [
      "2020-09-01 10:15:44,696 [MainThread  ] [INFO ]  Retrieving https://ssl.pstatic.net/imgstock/upload/research/debenture/1527823951753.pdf to C:\\Users\\user\\AppData\\Local\\Temp/imgstock-upload-research-debenture-1527823951753.pdf.\n"
     ]
    },
    {
     "name": "stdout",
     "output_type": "stream",
     "text": [
      "534\n"
     ]
    },
    {
     "name": "stderr",
     "output_type": "stream",
     "text": [
      "2020-09-01 10:15:45,010 [MainThread  ] [INFO ]  Retrieving https://ssl.pstatic.net/imgstock/upload/research/debenture/1527822071841.pdf to C:\\Users\\user\\AppData\\Local\\Temp/imgstock-upload-research-debenture-1527822071841.pdf.\n"
     ]
    },
    {
     "name": "stdout",
     "output_type": "stream",
     "text": [
      "535\n"
     ]
    },
    {
     "name": "stderr",
     "output_type": "stream",
     "text": [
      "2020-09-01 10:15:47,853 [MainThread  ] [INFO ]  Retrieving https://ssl.pstatic.net/imgstock/upload/research/debenture/1527732965778.pdf to C:\\Users\\user\\AppData\\Local\\Temp/imgstock-upload-research-debenture-1527732965778.pdf.\n",
      "2020-09-01 10:15:48,026 [MainThread  ] [INFO ]  Retrieving https://ssl.pstatic.net/imgstock/upload/research/debenture/1527645589219.pdf to C:\\Users\\user\\AppData\\Local\\Temp/imgstock-upload-research-debenture-1527645589219.pdf.\n"
     ]
    },
    {
     "name": "stdout",
     "output_type": "stream",
     "text": [
      "536\n",
      "537\n"
     ]
    },
    {
     "name": "stderr",
     "output_type": "stream",
     "text": [
      "2020-09-01 10:15:48,468 [MainThread  ] [INFO ]  Retrieving https://ssl.pstatic.net/imgstock/upload/research/debenture/1527645553902.pdf to C:\\Users\\user\\AppData\\Local\\Temp/imgstock-upload-research-debenture-1527645553902.pdf.\n"
     ]
    },
    {
     "name": "stdout",
     "output_type": "stream",
     "text": [
      "538\n"
     ]
    },
    {
     "name": "stderr",
     "output_type": "stream",
     "text": [
      "2020-09-01 10:15:49,331 [MainThread  ] [INFO ]  Retrieving https://ssl.pstatic.net/imgstock/upload/research/debenture/1527471912757.pdf to C:\\Users\\user\\AppData\\Local\\Temp/imgstock-upload-research-debenture-1527471912757.pdf.\n"
     ]
    },
    {
     "name": "stdout",
     "output_type": "stream",
     "text": [
      "539\n"
     ]
    },
    {
     "name": "stderr",
     "output_type": "stream",
     "text": [
      "2020-09-01 10:15:50,505 [MainThread  ] [INFO ]  Retrieving https://ssl.pstatic.net/imgstock/upload/research/debenture/1527217314927.pdf to C:\\Users\\user\\AppData\\Local\\Temp/imgstock-upload-research-debenture-1527217314927.pdf.\n"
     ]
    },
    {
     "name": "stdout",
     "output_type": "stream",
     "text": [
      "540\n"
     ]
    },
    {
     "name": "stderr",
     "output_type": "stream",
     "text": [
      "2020-09-01 10:15:50,838 [MainThread  ] [INFO ]  Retrieving https://ssl.pstatic.net/imgstock/upload/research/debenture/1527215719226.pdf to C:\\Users\\user\\AppData\\Local\\Temp/imgstock-upload-research-debenture-1527215719226.pdf.\n"
     ]
    },
    {
     "name": "stdout",
     "output_type": "stream",
     "text": [
      "541\n"
     ]
    },
    {
     "name": "stderr",
     "output_type": "stream",
     "text": [
      "2020-09-01 10:15:51,129 [MainThread  ] [INFO ]  Retrieving https://ssl.pstatic.net/imgstock/upload/research/debenture/1527212720384.pdf to C:\\Users\\user\\AppData\\Local\\Temp/imgstock-upload-research-debenture-1527212720384.pdf.\n",
      "2020-09-01 10:15:51,290 [MainThread  ] [INFO ]  Retrieving https://ssl.pstatic.net/imgstock/upload/research/debenture/1527041122643.pdf to C:\\Users\\user\\AppData\\Local\\Temp/imgstock-upload-research-debenture-1527041122643.pdf.\n"
     ]
    },
    {
     "name": "stdout",
     "output_type": "stream",
     "text": [
      "542\n",
      "543\n"
     ]
    },
    {
     "name": "stderr",
     "output_type": "stream",
     "text": [
      "2020-09-01 10:15:52,128 [MainThread  ] [INFO ]  Retrieving https://ssl.pstatic.net/imgstock/upload/research/debenture/1527041093940.pdf to C:\\Users\\user\\AppData\\Local\\Temp/imgstock-upload-research-debenture-1527041093940.pdf.\n"
     ]
    },
    {
     "name": "stdout",
     "output_type": "stream",
     "text": [
      "544\n"
     ]
    },
    {
     "name": "stderr",
     "output_type": "stream",
     "text": [
      "2020-09-01 10:15:53,134 [MainThread  ] [INFO ]  Retrieving https://ssl.pstatic.net/imgstock/upload/research/debenture/1526868778695.pdf to C:\\Users\\user\\AppData\\Local\\Temp/imgstock-upload-research-debenture-1526868778695.pdf.\n",
      "2020-09-01 10:15:53,271 [MainThread  ] [INFO ]  Retrieving https://ssl.pstatic.net/imgstock/upload/research/debenture/1526867739799.pdf to C:\\Users\\user\\AppData\\Local\\Temp/imgstock-upload-research-debenture-1526867739799.pdf.\n"
     ]
    },
    {
     "name": "stdout",
     "output_type": "stream",
     "text": [
      "545\n",
      "546\n"
     ]
    },
    {
     "name": "stderr",
     "output_type": "stream",
     "text": [
      "2020-09-01 10:15:53,480 [MainThread  ] [INFO ]  Retrieving https://ssl.pstatic.net/imgstock/upload/research/debenture/1526865069348.pdf to C:\\Users\\user\\AppData\\Local\\Temp/imgstock-upload-research-debenture-1526865069348.pdf.\n"
     ]
    },
    {
     "name": "stdout",
     "output_type": "stream",
     "text": [
      "547\n"
     ]
    },
    {
     "name": "stderr",
     "output_type": "stream",
     "text": [
      "2020-09-01 10:15:54,282 [MainThread  ] [INFO ]  Retrieving https://ssl.pstatic.net/imgstock/upload/research/debenture/1526609022671.pdf to C:\\Users\\user\\AppData\\Local\\Temp/imgstock-upload-research-debenture-1526609022671.pdf.\n"
     ]
    },
    {
     "name": "stdout",
     "output_type": "stream",
     "text": [
      "548\n"
     ]
    },
    {
     "name": "stderr",
     "output_type": "stream",
     "text": [
      "2020-09-01 10:15:54,611 [MainThread  ] [INFO ]  Retrieving https://ssl.pstatic.net/imgstock/upload/research/debenture/1526448671012.pdf to C:\\Users\\user\\AppData\\Local\\Temp/imgstock-upload-research-debenture-1526448671012.pdf.\n"
     ]
    },
    {
     "name": "stdout",
     "output_type": "stream",
     "text": [
      "549\n"
     ]
    },
    {
     "name": "stderr",
     "output_type": "stream",
     "text": [
      "2020-09-01 10:15:55,063 [MainThread  ] [INFO ]  Retrieving https://ssl.pstatic.net/imgstock/upload/research/debenture/1526448601879.pdf to C:\\Users\\user\\AppData\\Local\\Temp/imgstock-upload-research-debenture-1526448601879.pdf.\n"
     ]
    },
    {
     "name": "stdout",
     "output_type": "stream",
     "text": [
      "550\n"
     ]
    },
    {
     "name": "stderr",
     "output_type": "stream",
     "text": [
      "2020-09-01 10:15:55,984 [MainThread  ] [INFO ]  Retrieving https://ssl.pstatic.net/imgstock/upload/research/debenture/1526365232415.pdf to C:\\Users\\user\\AppData\\Local\\Temp/imgstock-upload-research-debenture-1526365232415.pdf.\n"
     ]
    },
    {
     "name": "stdout",
     "output_type": "stream",
     "text": [
      "551\n"
     ]
    },
    {
     "name": "stderr",
     "output_type": "stream",
     "text": [
      "2020-09-01 10:15:56,386 [MainThread  ] [INFO ]  Retrieving https://ssl.pstatic.net/imgstock/upload/research/debenture/1526277780704.pdf to C:\\Users\\user\\AppData\\Local\\Temp/imgstock-upload-research-debenture-1526277780704.pdf.\n"
     ]
    },
    {
     "name": "stdout",
     "output_type": "stream",
     "text": [
      "552\n"
     ]
    },
    {
     "name": "stderr",
     "output_type": "stream",
     "text": [
      "2020-09-01 10:15:56,645 [MainThread  ] [INFO ]  Retrieving https://ssl.pstatic.net/imgstock/upload/research/debenture/1526264267583.pdf to C:\\Users\\user\\AppData\\Local\\Temp/imgstock-upload-research-debenture-1526264267583.pdf.\n"
     ]
    },
    {
     "name": "stdout",
     "output_type": "stream",
     "text": [
      "553\n"
     ]
    },
    {
     "name": "stderr",
     "output_type": "stream",
     "text": [
      "2020-09-01 10:15:57,159 [MainThread  ] [INFO ]  Retrieving https://ssl.pstatic.net/imgstock/upload/research/debenture/1526262063382.pdf to C:\\Users\\user\\AppData\\Local\\Temp/imgstock-upload-research-debenture-1526262063382.pdf.\n"
     ]
    },
    {
     "name": "stdout",
     "output_type": "stream",
     "text": [
      "554\n"
     ]
    },
    {
     "name": "stderr",
     "output_type": "stream",
     "text": [
      "2020-09-01 10:15:57,529 [MainThread  ] [INFO ]  Retrieving https://ssl.pstatic.net/imgstock/upload/research/debenture/1526019870600.pdf to C:\\Users\\user\\AppData\\Local\\Temp/imgstock-upload-research-debenture-1526019870600.pdf.\n"
     ]
    },
    {
     "name": "stdout",
     "output_type": "stream",
     "text": [
      "555\n"
     ]
    },
    {
     "name": "stderr",
     "output_type": "stream",
     "text": [
      "2020-09-01 10:15:57,807 [MainThread  ] [INFO ]  Retrieving https://ssl.pstatic.net/imgstock/upload/research/debenture/1525834455835.pdf to C:\\Users\\user\\AppData\\Local\\Temp/imgstock-upload-research-debenture-1525834455835.pdf.\n"
     ]
    },
    {
     "name": "stdout",
     "output_type": "stream",
     "text": [
      "556\n"
     ]
    },
    {
     "name": "stderr",
     "output_type": "stream",
     "text": [
      "2020-09-01 10:15:58,211 [MainThread  ] [INFO ]  Retrieving https://ssl.pstatic.net/imgstock/upload/research/debenture/1525756030649.pdf to C:\\Users\\user\\AppData\\Local\\Temp/imgstock-upload-research-debenture-1525756030649.pdf.\n"
     ]
    },
    {
     "name": "stdout",
     "output_type": "stream",
     "text": [
      "557\n"
     ]
    },
    {
     "name": "stderr",
     "output_type": "stream",
     "text": [
      "2020-09-01 10:15:58,415 [MainThread  ] [INFO ]  Retrieving https://ssl.pstatic.net/imgstock/upload/research/debenture/1525745857981.pdf to C:\\Users\\user\\AppData\\Local\\Temp/imgstock-upload-research-debenture-1525745857981.pdf.\n"
     ]
    },
    {
     "name": "stdout",
     "output_type": "stream",
     "text": [
      "558\n"
     ]
    },
    {
     "name": "stderr",
     "output_type": "stream",
     "text": [
      "2020-09-01 10:15:58,745 [MainThread  ] [INFO ]  Retrieving https://ssl.pstatic.net/imgstock/upload/research/debenture/1525398675961.pdf to C:\\Users\\user\\AppData\\Local\\Temp/imgstock-upload-research-debenture-1525398675961.pdf.\n",
      "2020-09-01 10:15:58,837 [MainThread  ] [INFO ]  Retrieving https://ssl.pstatic.net/imgstock/upload/research/debenture/1525317966416.pdf to C:\\Users\\user\\AppData\\Local\\Temp/imgstock-upload-research-debenture-1525317966416.pdf.\n"
     ]
    },
    {
     "name": "stdout",
     "output_type": "stream",
     "text": [
      "559\n",
      "560\n"
     ]
    },
    {
     "name": "stderr",
     "output_type": "stream",
     "text": [
      "2020-09-01 10:15:59,250 [MainThread  ] [INFO ]  Retrieving https://ssl.pstatic.net/imgstock/upload/research/debenture/1525312615096.pdf to C:\\Users\\user\\AppData\\Local\\Temp/imgstock-upload-research-debenture-1525312615096.pdf.\n",
      "2020-09-01 10:15:59,358 [MainThread  ] [INFO ]  Retrieving https://ssl.pstatic.net/imgstock/upload/research/debenture/1525053137208.pdf to C:\\Users\\user\\AppData\\Local\\Temp/imgstock-upload-research-debenture-1525053137208.pdf.\n"
     ]
    },
    {
     "name": "stdout",
     "output_type": "stream",
     "text": [
      "561\n",
      "562\n"
     ]
    },
    {
     "name": "stderr",
     "output_type": "stream",
     "text": [
      "2020-09-01 10:15:59,909 [MainThread  ] [INFO ]  Retrieving https://ssl.pstatic.net/imgstock/upload/research/debenture/1525052471576.pdf to C:\\Users\\user\\AppData\\Local\\Temp/imgstock-upload-research-debenture-1525052471576.pdf.\n"
     ]
    },
    {
     "name": "stdout",
     "output_type": "stream",
     "text": [
      "563\n"
     ]
    },
    {
     "name": "stderr",
     "output_type": "stream",
     "text": [
      "2020-09-01 10:16:01,360 [MainThread  ] [INFO ]  Retrieving https://ssl.pstatic.net/imgstock/upload/research/debenture/1524808026041.pdf to C:\\Users\\user\\AppData\\Local\\Temp/imgstock-upload-research-debenture-1524808026041.pdf.\n"
     ]
    },
    {
     "name": "stdout",
     "output_type": "stream",
     "text": [
      "564\n"
     ]
    },
    {
     "name": "stderr",
     "output_type": "stream",
     "text": [
      "2020-09-01 10:16:01,646 [MainThread  ] [INFO ]  Retrieving https://ssl.pstatic.net/imgstock/upload/research/debenture/1524626078476.pdf to C:\\Users\\user\\AppData\\Local\\Temp/imgstock-upload-research-debenture-1524626078476.pdf.\n"
     ]
    },
    {
     "name": "stdout",
     "output_type": "stream",
     "text": [
      "565\n"
     ]
    },
    {
     "name": "stderr",
     "output_type": "stream",
     "text": [
      "2020-09-01 10:16:02,834 [MainThread  ] [INFO ]  Retrieving https://ssl.pstatic.net/imgstock/upload/research/debenture/1524626055079.pdf to C:\\Users\\user\\AppData\\Local\\Temp/imgstock-upload-research-debenture-1524626055079.pdf.\n"
     ]
    },
    {
     "name": "stdout",
     "output_type": "stream",
     "text": [
      "566\n"
     ]
    },
    {
     "name": "stderr",
     "output_type": "stream",
     "text": [
      "2020-09-01 10:16:03,930 [MainThread  ] [INFO ]  Retrieving https://ssl.pstatic.net/imgstock/upload/research/debenture/1524625992432.pdf to C:\\Users\\user\\AppData\\Local\\Temp/imgstock-upload-research-debenture-1524625992432.pdf.\n"
     ]
    },
    {
     "name": "stdout",
     "output_type": "stream",
     "text": [
      "567\n"
     ]
    },
    {
     "name": "stderr",
     "output_type": "stream",
     "text": [
      "2020-09-01 10:16:04,559 [MainThread  ] [INFO ]  Retrieving https://ssl.pstatic.net/imgstock/upload/research/debenture/1524463774613.pdf to C:\\Users\\user\\AppData\\Local\\Temp/imgstock-upload-research-debenture-1524463774613.pdf.\n",
      "2020-09-01 10:16:04,698 [MainThread  ] [INFO ]  Retrieving https://ssl.pstatic.net/imgstock/upload/research/debenture/1524448825598.pdf to C:\\Users\\user\\AppData\\Local\\Temp/imgstock-upload-research-debenture-1524448825598.pdf.\n"
     ]
    },
    {
     "name": "stdout",
     "output_type": "stream",
     "text": [
      "568\n",
      "569\n"
     ]
    },
    {
     "name": "stderr",
     "output_type": "stream",
     "text": [
      "2020-09-01 10:16:05,064 [MainThread  ] [INFO ]  Retrieving https://ssl.pstatic.net/imgstock/upload/research/debenture/1524448342279.pdf to C:\\Users\\user\\AppData\\Local\\Temp/imgstock-upload-research-debenture-1524448342279.pdf.\n"
     ]
    },
    {
     "name": "stdout",
     "output_type": "stream",
     "text": [
      "570\n"
     ]
    },
    {
     "name": "stderr",
     "output_type": "stream",
     "text": [
      "2020-09-01 10:16:06,109 [MainThread  ] [INFO ]  Retrieving https://ssl.pstatic.net/imgstock/upload/research/debenture/1524191126482.pdf to C:\\Users\\user\\AppData\\Local\\Temp/imgstock-upload-research-debenture-1524191126482.pdf.\n"
     ]
    },
    {
     "name": "stdout",
     "output_type": "stream",
     "text": [
      "571\n"
     ]
    },
    {
     "name": "stderr",
     "output_type": "stream",
     "text": [
      "2020-09-01 10:16:06,430 [MainThread  ] [INFO ]  Retrieving https://ssl.pstatic.net/imgstock/upload/research/debenture/1524106665677.pdf to C:\\Users\\user\\AppData\\Local\\Temp/imgstock-upload-research-debenture-1524106665677.pdf.\n"
     ]
    },
    {
     "name": "stdout",
     "output_type": "stream",
     "text": [
      "572\n"
     ]
    },
    {
     "name": "stderr",
     "output_type": "stream",
     "text": [
      "2020-09-01 10:16:06,930 [MainThread  ] [INFO ]  Retrieving http://imgstock.naver.com/upload/research/debenture/1524017068313.pdf to C:\\Users\\user\\AppData\\Local\\Temp/upload-research-debenture-1524017068313.pdf.\n"
     ]
    },
    {
     "name": "stdout",
     "output_type": "stream",
     "text": [
      "573\n"
     ]
    },
    {
     "name": "stderr",
     "output_type": "stream",
     "text": [
      "2020-09-01 10:16:07,577 [MainThread  ] [INFO ]  Retrieving http://imgstock.naver.com/upload/research/debenture/1524017047683.pdf to C:\\Users\\user\\AppData\\Local\\Temp/upload-research-debenture-1524017047683.pdf.\n"
     ]
    },
    {
     "name": "stdout",
     "output_type": "stream",
     "text": [
      "574\n"
     ]
    },
    {
     "name": "stderr",
     "output_type": "stream",
     "text": [
      "2020-09-01 10:16:08,384 [MainThread  ] [INFO ]  Retrieving http://imgstock.naver.com/upload/research/debenture/1523844893191.pdf to C:\\Users\\user\\AppData\\Local\\Temp/upload-research-debenture-1523844893191.pdf.\n"
     ]
    },
    {
     "name": "stdout",
     "output_type": "stream",
     "text": [
      "575\n"
     ]
    },
    {
     "name": "stderr",
     "output_type": "stream",
     "text": [
      "2020-09-01 10:16:08,726 [MainThread  ] [INFO ]  Retrieving http://imgstock.naver.com/upload/research/debenture/1523585027890.pdf to C:\\Users\\user\\AppData\\Local\\Temp/upload-research-debenture-1523585027890.pdf.\n"
     ]
    },
    {
     "name": "stdout",
     "output_type": "stream",
     "text": [
      "576\n"
     ]
    },
    {
     "name": "stderr",
     "output_type": "stream",
     "text": [
      "2020-09-01 10:16:09,197 [MainThread  ] [INFO ]  Retrieving http://imgstock.naver.com/upload/research/debenture/1523584279600.pdf to C:\\Users\\user\\AppData\\Local\\Temp/upload-research-debenture-1523584279600.pdf.\n",
      "2020-09-01 10:16:09,281 [MainThread  ] [INFO ]  Retrieving http://imgstock.naver.com/upload/research/debenture/1523583250175.pdf to C:\\Users\\user\\AppData\\Local\\Temp/upload-research-debenture-1523583250175.pdf.\n",
      "2020-09-01 10:16:09,372 [MainThread  ] [INFO ]  Retrieving http://imgstock.naver.com/upload/research/debenture/1523410641330.pdf to C:\\Users\\user\\AppData\\Local\\Temp/upload-research-debenture-1523410641330.pdf.\n"
     ]
    },
    {
     "name": "stdout",
     "output_type": "stream",
     "text": [
      "577\n",
      "578\n",
      "579\n"
     ]
    },
    {
     "name": "stderr",
     "output_type": "stream",
     "text": [
      "2020-09-01 10:16:09,927 [MainThread  ] [INFO ]  Retrieving http://imgstock.naver.com/upload/research/debenture/1523410616808.pdf to C:\\Users\\user\\AppData\\Local\\Temp/upload-research-debenture-1523410616808.pdf.\n"
     ]
    },
    {
     "name": "stdout",
     "output_type": "stream",
     "text": [
      "580\n"
     ]
    },
    {
     "name": "stderr",
     "output_type": "stream",
     "text": [
      "2020-09-01 10:16:10,903 [MainThread  ] [INFO ]  Retrieving http://imgstock.naver.com/upload/research/debenture/1523238695843.pdf to C:\\Users\\user\\AppData\\Local\\Temp/upload-research-debenture-1523238695843.pdf.\n"
     ]
    },
    {
     "name": "stdout",
     "output_type": "stream",
     "text": [
      "581\n"
     ]
    },
    {
     "name": "stderr",
     "output_type": "stream",
     "text": [
      "2020-09-01 10:16:11,260 [MainThread  ] [INFO ]  Retrieving http://imgstock.naver.com/upload/research/debenture/1523237571011.pdf to C:\\Users\\user\\AppData\\Local\\Temp/upload-research-debenture-1523237571011.pdf.\n"
     ]
    },
    {
     "name": "stdout",
     "output_type": "stream",
     "text": [
      "582\n"
     ]
    },
    {
     "name": "stderr",
     "output_type": "stream",
     "text": [
      "2020-09-01 10:16:11,604 [MainThread  ] [INFO ]  Retrieving http://imgstock.naver.com/upload/research/debenture/1522983323293.pdf to C:\\Users\\user\\AppData\\Local\\Temp/upload-research-debenture-1522983323293.pdf.\n"
     ]
    },
    {
     "name": "stdout",
     "output_type": "stream",
     "text": [
      "583\n"
     ]
    },
    {
     "name": "stderr",
     "output_type": "stream",
     "text": [
      "2020-09-01 10:16:11,941 [MainThread  ] [INFO ]  Retrieving http://imgstock.naver.com/upload/research/debenture/1522805685915.pdf to C:\\Users\\user\\AppData\\Local\\Temp/upload-research-debenture-1522805685915.pdf.\n"
     ]
    },
    {
     "name": "stdout",
     "output_type": "stream",
     "text": [
      "584\n"
     ]
    },
    {
     "name": "stderr",
     "output_type": "stream",
     "text": [
      "2020-09-01 10:16:13,080 [MainThread  ] [INFO ]  Retrieving http://imgstock.naver.com/upload/research/debenture/1522636663501.pdf to C:\\Users\\user\\AppData\\Local\\Temp/upload-research-debenture-1522636663501.pdf.\n"
     ]
    },
    {
     "name": "stdout",
     "output_type": "stream",
     "text": [
      "585\n"
     ]
    },
    {
     "name": "stderr",
     "output_type": "stream",
     "text": [
      "2020-09-01 10:16:13,285 [MainThread  ] [INFO ]  Retrieving http://imgstock.naver.com/upload/research/debenture/1522634858335.pdf to C:\\Users\\user\\AppData\\Local\\Temp/upload-research-debenture-1522634858335.pdf.\n"
     ]
    },
    {
     "name": "stdout",
     "output_type": "stream",
     "text": [
      "586\n"
     ]
    },
    {
     "name": "stderr",
     "output_type": "stream",
     "text": [
      "2020-09-01 10:16:13,536 [MainThread  ] [INFO ]  Retrieving http://imgstock.naver.com/upload/research/debenture/1522375883746.pdf to C:\\Users\\user\\AppData\\Local\\Temp/upload-research-debenture-1522375883746.pdf.\n"
     ]
    },
    {
     "name": "stdout",
     "output_type": "stream",
     "text": [
      "587\n"
     ]
    },
    {
     "name": "stderr",
     "output_type": "stream",
     "text": [
      "2020-09-01 10:16:14,184 [MainThread  ] [INFO ]  Retrieving http://imgstock.naver.com/upload/research/debenture/1522374128240.pdf to C:\\Users\\user\\AppData\\Local\\Temp/upload-research-debenture-1522374128240.pdf.\n"
     ]
    },
    {
     "name": "stdout",
     "output_type": "stream",
     "text": [
      "588\n"
     ]
    },
    {
     "name": "stderr",
     "output_type": "stream",
     "text": [
      "2020-09-01 10:16:14,400 [MainThread  ] [INFO ]  Retrieving http://imgstock.naver.com/upload/research/debenture/1522203463332.pdf to C:\\Users\\user\\AppData\\Local\\Temp/upload-research-debenture-1522203463332.pdf.\n"
     ]
    },
    {
     "name": "stdout",
     "output_type": "stream",
     "text": [
      "589\n"
     ]
    },
    {
     "name": "stderr",
     "output_type": "stream",
     "text": [
      "2020-09-01 10:16:14,994 [MainThread  ] [INFO ]  Retrieving http://imgstock.naver.com/upload/research/debenture/1522203422158.pdf to C:\\Users\\user\\AppData\\Local\\Temp/upload-research-debenture-1522203422158.pdf.\n"
     ]
    },
    {
     "name": "stdout",
     "output_type": "stream",
     "text": [
      "590\n"
     ]
    },
    {
     "name": "stderr",
     "output_type": "stream",
     "text": [
      "2020-09-01 10:16:15,807 [MainThread  ] [INFO ]  Retrieving http://imgstock.naver.com/upload/research/debenture/1522203342115.pdf to C:\\Users\\user\\AppData\\Local\\Temp/upload-research-debenture-1522203342115.pdf.\n"
     ]
    },
    {
     "name": "stdout",
     "output_type": "stream",
     "text": [
      "591\n"
     ]
    },
    {
     "name": "stderr",
     "output_type": "stream",
     "text": [
      "2020-09-01 10:16:16,313 [MainThread  ] [INFO ]  Retrieving http://imgstock.naver.com/upload/research/debenture/1522030461473.pdf to C:\\Users\\user\\AppData\\Local\\Temp/upload-research-debenture-1522030461473.pdf.\n"
     ]
    },
    {
     "name": "stdout",
     "output_type": "stream",
     "text": [
      "592\n"
     ]
    },
    {
     "name": "stderr",
     "output_type": "stream",
     "text": [
      "2020-09-01 10:16:16,754 [MainThread  ] [INFO ]  Retrieving http://imgstock.naver.com/upload/research/debenture/1522029161437.pdf to C:\\Users\\user\\AppData\\Local\\Temp/upload-research-debenture-1522029161437.pdf.\n"
     ]
    },
    {
     "name": "stdout",
     "output_type": "stream",
     "text": [
      "593\n"
     ]
    },
    {
     "name": "stderr",
     "output_type": "stream",
     "text": [
      "2020-09-01 10:16:18,014 [MainThread  ] [INFO ]  Retrieving http://imgstock.naver.com/upload/research/debenture/1521773695314.pdf to C:\\Users\\user\\AppData\\Local\\Temp/upload-research-debenture-1521773695314.pdf.\n"
     ]
    },
    {
     "name": "stdout",
     "output_type": "stream",
     "text": [
      "594\n"
     ]
    },
    {
     "name": "stderr",
     "output_type": "stream",
     "text": [
      "2020-09-01 10:16:18,315 [MainThread  ] [INFO ]  Retrieving http://imgstock.naver.com/upload/research/debenture/1521684331817.pdf to C:\\Users\\user\\AppData\\Local\\Temp/upload-research-debenture-1521684331817.pdf.\n"
     ]
    },
    {
     "name": "stdout",
     "output_type": "stream",
     "text": [
      "595\n"
     ]
    },
    {
     "name": "stderr",
     "output_type": "stream",
     "text": [
      "2020-09-01 10:16:18,690 [MainThread  ] [INFO ]  Retrieving http://imgstock.naver.com/upload/research/debenture/1521683482443.pdf to C:\\Users\\user\\AppData\\Local\\Temp/upload-research-debenture-1521683482443.pdf.\n"
     ]
    },
    {
     "name": "stdout",
     "output_type": "stream",
     "text": [
      "596\n"
     ]
    },
    {
     "name": "stderr",
     "output_type": "stream",
     "text": [
      "2020-09-01 10:16:18,899 [MainThread  ] [INFO ]  Retrieving http://imgstock.naver.com/upload/research/debenture/1521599018095.pdf to C:\\Users\\user\\AppData\\Local\\Temp/upload-research-debenture-1521599018095.pdf.\n"
     ]
    },
    {
     "name": "stdout",
     "output_type": "stream",
     "text": [
      "597\n"
     ]
    },
    {
     "name": "stderr",
     "output_type": "stream",
     "text": [
      "2020-09-01 10:16:19,673 [MainThread  ] [INFO ]  Retrieving http://imgstock.naver.com/upload/research/debenture/1521598981682.pdf to C:\\Users\\user\\AppData\\Local\\Temp/upload-research-debenture-1521598981682.pdf.\n"
     ]
    },
    {
     "name": "stdout",
     "output_type": "stream",
     "text": [
      "598\n"
     ]
    },
    {
     "name": "stderr",
     "output_type": "stream",
     "text": [
      "2020-09-01 10:16:20,224 [MainThread  ] [INFO ]  Retrieving http://imgstock.naver.com/upload/research/debenture/1521598858064.pdf to C:\\Users\\user\\AppData\\Local\\Temp/upload-research-debenture-1521598858064.pdf.\n"
     ]
    },
    {
     "name": "stdout",
     "output_type": "stream",
     "text": [
      "599\n"
     ]
    },
    {
     "name": "stderr",
     "output_type": "stream",
     "text": [
      "2020-09-01 10:16:20,634 [MainThread  ] [INFO ]  Retrieving http://imgstock.naver.com/upload/research/debenture/1521424217627.pdf to C:\\Users\\user\\AppData\\Local\\Temp/upload-research-debenture-1521424217627.pdf.\n"
     ]
    },
    {
     "name": "stdout",
     "output_type": "stream",
     "text": [
      "600\n"
     ]
    },
    {
     "name": "stderr",
     "output_type": "stream",
     "text": [
      "2020-09-01 10:16:21,050 [MainThread  ] [INFO ]  Retrieving http://imgstock.naver.com/upload/research/debenture/1521423872743.pdf to C:\\Users\\user\\AppData\\Local\\Temp/upload-research-debenture-1521423872743.pdf.\n"
     ]
    },
    {
     "name": "stdout",
     "output_type": "stream",
     "text": [
      "601\n"
     ]
    },
    {
     "name": "stderr",
     "output_type": "stream",
     "text": [
      "2020-09-01 10:16:21,259 [MainThread  ] [INFO ]  Retrieving http://imgstock.naver.com/upload/research/debenture/1521423828036.pdf to C:\\Users\\user\\AppData\\Local\\Temp/upload-research-debenture-1521423828036.pdf.\n"
     ]
    },
    {
     "name": "stdout",
     "output_type": "stream",
     "text": [
      "602\n"
     ]
    },
    {
     "name": "stderr",
     "output_type": "stream",
     "text": [
      "2020-09-01 10:16:21,499 [MainThread  ] [INFO ]  Retrieving http://imgstock.naver.com/upload/research/debenture/1521166753602.pdf to C:\\Users\\user\\AppData\\Local\\Temp/upload-research-debenture-1521166753602.pdf.\n"
     ]
    },
    {
     "name": "stdout",
     "output_type": "stream",
     "text": [
      "603\n"
     ]
    },
    {
     "name": "stderr",
     "output_type": "stream",
     "text": [
      "2020-09-01 10:16:21,804 [MainThread  ] [INFO ]  Retrieving http://imgstock.naver.com/upload/research/debenture/1520993526065.pdf to C:\\Users\\user\\AppData\\Local\\Temp/upload-research-debenture-1520993526065.pdf.\n"
     ]
    },
    {
     "name": "stdout",
     "output_type": "stream",
     "text": [
      "604\n"
     ]
    },
    {
     "name": "stderr",
     "output_type": "stream",
     "text": [
      "2020-09-01 10:16:22,338 [MainThread  ] [INFO ]  Retrieving http://imgstock.naver.com/upload/research/debenture/1520993431592.pdf to C:\\Users\\user\\AppData\\Local\\Temp/upload-research-debenture-1520993431592.pdf.\n"
     ]
    },
    {
     "name": "stdout",
     "output_type": "stream",
     "text": [
      "605\n"
     ]
    },
    {
     "name": "stderr",
     "output_type": "stream",
     "text": [
      "2020-09-01 10:16:23,528 [MainThread  ] [INFO ]  Retrieving http://imgstock.naver.com/upload/research/debenture/1520993240394.pdf to C:\\Users\\user\\AppData\\Local\\Temp/upload-research-debenture-1520993240394.pdf.\n"
     ]
    },
    {
     "name": "stdout",
     "output_type": "stream",
     "text": [
      "606\n"
     ]
    },
    {
     "name": "stderr",
     "output_type": "stream",
     "text": [
      "2020-09-01 10:16:24,154 [MainThread  ] [INFO ]  Retrieving http://imgstock.naver.com/upload/research/debenture/1520817599421.pdf to C:\\Users\\user\\AppData\\Local\\Temp/upload-research-debenture-1520817599421.pdf.\n"
     ]
    },
    {
     "name": "stdout",
     "output_type": "stream",
     "text": [
      "607\n"
     ]
    },
    {
     "name": "stderr",
     "output_type": "stream",
     "text": [
      "2020-09-01 10:16:24,519 [MainThread  ] [INFO ]  Retrieving http://imgstock.naver.com/upload/research/debenture/1520817550063.pdf to C:\\Users\\user\\AppData\\Local\\Temp/upload-research-debenture-1520817550063.pdf.\n"
     ]
    },
    {
     "name": "stdout",
     "output_type": "stream",
     "text": [
      "608\n"
     ]
    },
    {
     "name": "stderr",
     "output_type": "stream",
     "text": [
      "2020-09-01 10:16:25,602 [MainThread  ] [INFO ]  Retrieving http://imgstock.naver.com/upload/research/debenture/1520817272372.pdf to C:\\Users\\user\\AppData\\Local\\Temp/upload-research-debenture-1520817272372.pdf.\n"
     ]
    },
    {
     "name": "stdout",
     "output_type": "stream",
     "text": [
      "609\n"
     ]
    },
    {
     "name": "stderr",
     "output_type": "stream",
     "text": [
      "2020-09-01 10:16:26,028 [MainThread  ] [INFO ]  Retrieving http://imgstock.naver.com/upload/research/debenture/1520817215884.pdf to C:\\Users\\user\\AppData\\Local\\Temp/upload-research-debenture-1520817215884.pdf.\n",
      "2020-09-01 10:16:26,191 [MainThread  ] [INFO ]  Retrieving http://imgstock.naver.com/upload/research/debenture/1520566273913.pdf to C:\\Users\\user\\AppData\\Local\\Temp/upload-research-debenture-1520566273913.pdf.\n"
     ]
    },
    {
     "name": "stdout",
     "output_type": "stream",
     "text": [
      "610\n",
      "611\n"
     ]
    },
    {
     "name": "stderr",
     "output_type": "stream",
     "text": [
      "2020-09-01 10:16:26,875 [MainThread  ] [INFO ]  Retrieving http://imgstock.naver.com/upload/research/debenture/1520557828906.pdf to C:\\Users\\user\\AppData\\Local\\Temp/upload-research-debenture-1520557828906.pdf.\n",
      "2020-09-01 10:16:27,000 [MainThread  ] [INFO ]  Retrieving http://imgstock.naver.com/upload/research/debenture/1520389221421.pdf to C:\\Users\\user\\AppData\\Local\\Temp/upload-research-debenture-1520389221421.pdf.\n"
     ]
    },
    {
     "name": "stdout",
     "output_type": "stream",
     "text": [
      "612\n",
      "613\n"
     ]
    },
    {
     "name": "stderr",
     "output_type": "stream",
     "text": [
      "2020-09-01 10:16:27,828 [MainThread  ] [INFO ]  Retrieving http://imgstock.naver.com/upload/research/debenture/1520217225924.pdf to C:\\Users\\user\\AppData\\Local\\Temp/upload-research-debenture-1520217225924.pdf.\n"
     ]
    },
    {
     "name": "stdout",
     "output_type": "stream",
     "text": [
      "614\n"
     ]
    },
    {
     "name": "stderr",
     "output_type": "stream",
     "text": [
      "2020-09-01 10:16:28,197 [MainThread  ] [INFO ]  Retrieving http://imgstock.naver.com/upload/research/debenture/1520215200385.pdf to C:\\Users\\user\\AppData\\Local\\Temp/upload-research-debenture-1520215200385.pdf.\n"
     ]
    },
    {
     "name": "stdout",
     "output_type": "stream",
     "text": [
      "615\n"
     ]
    },
    {
     "name": "stderr",
     "output_type": "stream",
     "text": [
      "2020-09-01 10:16:28,432 [MainThread  ] [INFO ]  Retrieving http://imgstock.naver.com/upload/research/debenture/1520214288137.pdf to C:\\Users\\user\\AppData\\Local\\Temp/upload-research-debenture-1520214288137.pdf.\n"
     ]
    },
    {
     "name": "stdout",
     "output_type": "stream",
     "text": [
      "616\n"
     ]
    },
    {
     "name": "stderr",
     "output_type": "stream",
     "text": [
      "2020-09-01 10:16:28,976 [MainThread  ] [INFO ]  Retrieving http://imgstock.naver.com/upload/research/debenture/1519955325616.pdf to C:\\Users\\user\\AppData\\Local\\Temp/upload-research-debenture-1519955325616.pdf.\n",
      "2020-09-01 10:16:29,125 [MainThread  ] [INFO ]  Retrieving http://imgstock.naver.com/upload/research/debenture/1519786200220.pdf to C:\\Users\\user\\AppData\\Local\\Temp/upload-research-debenture-1519786200220.pdf.\n"
     ]
    },
    {
     "name": "stdout",
     "output_type": "stream",
     "text": [
      "617\n",
      "618\n"
     ]
    },
    {
     "name": "stderr",
     "output_type": "stream",
     "text": [
      "2020-09-01 10:16:30,114 [MainThread  ] [INFO ]  Retrieving http://imgstock.naver.com/upload/research/debenture/1519786095140.pdf to C:\\Users\\user\\AppData\\Local\\Temp/upload-research-debenture-1519786095140.pdf.\n"
     ]
    },
    {
     "name": "stdout",
     "output_type": "stream",
     "text": [
      "619\n"
     ]
    },
    {
     "name": "stderr",
     "output_type": "stream",
     "text": [
      "2020-09-01 10:16:30,505 [MainThread  ] [INFO ]  Retrieving http://imgstock.naver.com/upload/research/debenture/1519696369727.pdf to C:\\Users\\user\\AppData\\Local\\Temp/upload-research-debenture-1519696369727.pdf.\n"
     ]
    },
    {
     "name": "stdout",
     "output_type": "stream",
     "text": [
      "620\n"
     ]
    },
    {
     "name": "stderr",
     "output_type": "stream",
     "text": [
      "2020-09-01 10:16:30,787 [MainThread  ] [INFO ]  Retrieving http://imgstock.naver.com/upload/research/debenture/1519610024778.pdf to C:\\Users\\user\\AppData\\Local\\Temp/upload-research-debenture-1519610024778.pdf.\n"
     ]
    },
    {
     "name": "stdout",
     "output_type": "stream",
     "text": [
      "621\n"
     ]
    },
    {
     "name": "stderr",
     "output_type": "stream",
     "text": [
      "2020-09-01 10:16:31,204 [MainThread  ] [INFO ]  Retrieving http://imgstock.naver.com/upload/research/debenture/1519609817213.pdf to C:\\Users\\user\\AppData\\Local\\Temp/upload-research-debenture-1519609817213.pdf.\n"
     ]
    },
    {
     "name": "stdout",
     "output_type": "stream",
     "text": [
      "622\n"
     ]
    },
    {
     "name": "stderr",
     "output_type": "stream",
     "text": [
      "2020-09-01 10:16:31,481 [MainThread  ] [INFO ]  Retrieving http://imgstock.naver.com/upload/research/debenture/1519362408256.pdf to C:\\Users\\user\\AppData\\Local\\Temp/upload-research-debenture-1519362408256.pdf.\n"
     ]
    },
    {
     "name": "stdout",
     "output_type": "stream",
     "text": [
      "623\n"
     ]
    },
    {
     "name": "stderr",
     "output_type": "stream",
     "text": [
      "2020-09-01 10:16:32,136 [MainThread  ] [INFO ]  Retrieving http://imgstock.naver.com/upload/research/debenture/1519354108834.pdf to C:\\Users\\user\\AppData\\Local\\Temp/upload-research-debenture-1519354108834.pdf.\n",
      "2020-09-01 10:16:32,236 [MainThread  ] [INFO ]  Retrieving http://imgstock.naver.com/upload/research/debenture/1519265104277.pdf to C:\\Users\\user\\AppData\\Local\\Temp/upload-research-debenture-1519265104277.pdf.\n"
     ]
    },
    {
     "name": "stdout",
     "output_type": "stream",
     "text": [
      "624\n",
      "625\n"
     ]
    },
    {
     "name": "stderr",
     "output_type": "stream",
     "text": [
      "2020-09-01 10:16:32,736 [MainThread  ] [INFO ]  Retrieving http://imgstock.naver.com/upload/research/debenture/1519178501151.pdf to C:\\Users\\user\\AppData\\Local\\Temp/upload-research-debenture-1519178501151.pdf.\n"
     ]
    },
    {
     "name": "stdout",
     "output_type": "stream",
     "text": [
      "626\n"
     ]
    },
    {
     "name": "stderr",
     "output_type": "stream",
     "text": [
      "2020-09-01 10:16:33,405 [MainThread  ] [INFO ]  Retrieving http://imgstock.naver.com/upload/research/debenture/1519178475913.pdf to C:\\Users\\user\\AppData\\Local\\Temp/upload-research-debenture-1519178475913.pdf.\n"
     ]
    },
    {
     "name": "stdout",
     "output_type": "stream",
     "text": [
      "627\n"
     ]
    },
    {
     "name": "stderr",
     "output_type": "stream",
     "text": [
      "2020-09-01 10:16:34,302 [MainThread  ] [INFO ]  Retrieving http://imgstock.naver.com/upload/research/debenture/1519178367100.pdf to C:\\Users\\user\\AppData\\Local\\Temp/upload-research-debenture-1519178367100.pdf.\n"
     ]
    },
    {
     "name": "stdout",
     "output_type": "stream",
     "text": [
      "628\n"
     ]
    },
    {
     "name": "stderr",
     "output_type": "stream",
     "text": [
      "2020-09-01 10:16:34,811 [MainThread  ] [INFO ]  Retrieving http://imgstock.naver.com/upload/research/debenture/1519175879903.pdf to C:\\Users\\user\\AppData\\Local\\Temp/upload-research-debenture-1519175879903.pdf.\n"
     ]
    },
    {
     "name": "stdout",
     "output_type": "stream",
     "text": [
      "629\n"
     ]
    },
    {
     "name": "stderr",
     "output_type": "stream",
     "text": [
      "2020-09-01 10:16:35,530 [MainThread  ] [INFO ]  Retrieving http://imgstock.naver.com/upload/research/debenture/1519004220323.pdf to C:\\Users\\user\\AppData\\Local\\Temp/upload-research-debenture-1519004220323.pdf.\n"
     ]
    },
    {
     "name": "stdout",
     "output_type": "stream",
     "text": [
      "630\n"
     ]
    },
    {
     "name": "stderr",
     "output_type": "stream",
     "text": [
      "2020-09-01 10:16:35,900 [MainThread  ] [INFO ]  Retrieving http://imgstock.naver.com/upload/research/debenture/1518579595449.pdf to C:\\Users\\user\\AppData\\Local\\Temp/upload-research-debenture-1518579595449.pdf.\n"
     ]
    },
    {
     "name": "stdout",
     "output_type": "stream",
     "text": [
      "631\n"
     ]
    },
    {
     "name": "stderr",
     "output_type": "stream",
     "text": [
      "2020-09-01 10:16:36,235 [MainThread  ] [INFO ]  Retrieving http://imgstock.naver.com/upload/research/debenture/1518577013870.pdf to C:\\Users\\user\\AppData\\Local\\Temp/upload-research-debenture-1518577013870.pdf.\n"
     ]
    },
    {
     "name": "stdout",
     "output_type": "stream",
     "text": [
      "632\n"
     ]
    },
    {
     "name": "stderr",
     "output_type": "stream",
     "text": [
      "2020-09-01 10:16:36,719 [MainThread  ] [INFO ]  Retrieving http://imgstock.naver.com/upload/research/debenture/1518401436785.pdf to C:\\Users\\user\\AppData\\Local\\Temp/upload-research-debenture-1518401436785.pdf.\n"
     ]
    },
    {
     "name": "stdout",
     "output_type": "stream",
     "text": [
      "633\n"
     ]
    },
    {
     "name": "stderr",
     "output_type": "stream",
     "text": [
      "2020-09-01 10:16:37,471 [MainThread  ] [INFO ]  Retrieving http://imgstock.naver.com/upload/research/debenture/1518401071308.pdf to C:\\Users\\user\\AppData\\Local\\Temp/upload-research-debenture-1518401071308.pdf.\n"
     ]
    },
    {
     "name": "stdout",
     "output_type": "stream",
     "text": [
      "634\n"
     ]
    },
    {
     "name": "stderr",
     "output_type": "stream",
     "text": [
      "2020-09-01 10:16:38,135 [MainThread  ] [INFO ]  Retrieving http://imgstock.naver.com/upload/research/debenture/1518400957843.pdf to C:\\Users\\user\\AppData\\Local\\Temp/upload-research-debenture-1518400957843.pdf.\n",
      "2020-09-01 10:16:38,307 [MainThread  ] [INFO ]  Retrieving http://imgstock.naver.com/upload/research/debenture/1518145190132.pdf to C:\\Users\\user\\AppData\\Local\\Temp/upload-research-debenture-1518145190132.pdf.\n"
     ]
    },
    {
     "name": "stdout",
     "output_type": "stream",
     "text": [
      "635\n",
      "636\n"
     ]
    },
    {
     "name": "stderr",
     "output_type": "stream",
     "text": [
      "2020-09-01 10:16:38,689 [MainThread  ] [INFO ]  Retrieving http://imgstock.naver.com/upload/research/debenture/1518139369923.pdf to C:\\Users\\user\\AppData\\Local\\Temp/upload-research-debenture-1518139369923.pdf.\n"
     ]
    },
    {
     "name": "stdout",
     "output_type": "stream",
     "text": [
      "637\n"
     ]
    },
    {
     "name": "stderr",
     "output_type": "stream",
     "text": [
      "2020-09-01 10:16:39,649 [MainThread  ] [INFO ]  Retrieving http://imgstock.naver.com/upload/research/debenture/1517970244882.pdf to C:\\Users\\user\\AppData\\Local\\Temp/upload-research-debenture-1517970244882.pdf.\n"
     ]
    },
    {
     "name": "stdout",
     "output_type": "stream",
     "text": [
      "638\n"
     ]
    },
    {
     "name": "stderr",
     "output_type": "stream",
     "text": [
      "2020-09-01 10:16:40,239 [MainThread  ] [INFO ]  Retrieving http://imgstock.naver.com/upload/research/debenture/1517970189053.pdf to C:\\Users\\user\\AppData\\Local\\Temp/upload-research-debenture-1517970189053.pdf.\n"
     ]
    },
    {
     "name": "stdout",
     "output_type": "stream",
     "text": [
      "639\n"
     ]
    },
    {
     "name": "stderr",
     "output_type": "stream",
     "text": [
      "2020-09-01 10:16:41,019 [MainThread  ] [INFO ]  Retrieving http://imgstock.naver.com/upload/research/debenture/1517798746914.pdf to C:\\Users\\user\\AppData\\Local\\Temp/upload-research-debenture-1517798746914.pdf.\n",
      "2020-09-01 10:16:41,152 [MainThread  ] [INFO ]  Retrieving http://imgstock.naver.com/upload/research/debenture/1517797001762.pdf to C:\\Users\\user\\AppData\\Local\\Temp/upload-research-debenture-1517797001762.pdf.\n"
     ]
    },
    {
     "name": "stdout",
     "output_type": "stream",
     "text": [
      "640\n",
      "641\n"
     ]
    },
    {
     "name": "stderr",
     "output_type": "stream",
     "text": [
      "2020-09-01 10:16:41,674 [MainThread  ] [INFO ]  Retrieving http://imgstock.naver.com/upload/research/debenture/1517795287026.pdf to C:\\Users\\user\\AppData\\Local\\Temp/upload-research-debenture-1517795287026.pdf.\n"
     ]
    },
    {
     "name": "stdout",
     "output_type": "stream",
     "text": [
      "642\n"
     ]
    },
    {
     "name": "stderr",
     "output_type": "stream",
     "text": [
      "2020-09-01 10:16:42,401 [MainThread  ] [INFO ]  Retrieving http://imgstock.naver.com/upload/research/debenture/1517795016780.pdf to C:\\Users\\user\\AppData\\Local\\Temp/upload-research-debenture-1517795016780.pdf.\n"
     ]
    },
    {
     "name": "stdout",
     "output_type": "stream",
     "text": [
      "643\n"
     ]
    },
    {
     "name": "stderr",
     "output_type": "stream",
     "text": [
      "2020-09-01 10:16:43,221 [MainThread  ] [INFO ]  Retrieving http://imgstock.naver.com/upload/research/debenture/1517794575704.pdf to C:\\Users\\user\\AppData\\Local\\Temp/upload-research-debenture-1517794575704.pdf.\n"
     ]
    },
    {
     "name": "stdout",
     "output_type": "stream",
     "text": [
      "644\n",
      "645\n"
     ]
    },
    {
     "name": "stderr",
     "output_type": "stream",
     "text": [
      "2020-09-01 10:16:43,414 [MainThread  ] [INFO ]  Retrieving http://imgstock.naver.com/upload/research/debenture/1517794152144.pdf to C:\\Users\\user\\AppData\\Local\\Temp/upload-research-debenture-1517794152144.pdf.\n",
      "2020-09-01 10:16:44,154 [MainThread  ] [INFO ]  Retrieving http://imgstock.naver.com/upload/research/debenture/1517543955038.pdf to C:\\Users\\user\\AppData\\Local\\Temp/upload-research-debenture-1517543955038.pdf.\n"
     ]
    },
    {
     "name": "stdout",
     "output_type": "stream",
     "text": [
      "646\n"
     ]
    },
    {
     "name": "stderr",
     "output_type": "stream",
     "text": [
      "2020-09-01 10:16:44,566 [MainThread  ] [INFO ]  Retrieving http://imgstock.naver.com/upload/research/debenture/1517543802118.pdf to C:\\Users\\user\\AppData\\Local\\Temp/upload-research-debenture-1517543802118.pdf.\n"
     ]
    },
    {
     "name": "stdout",
     "output_type": "stream",
     "text": [
      "647\n"
     ]
    },
    {
     "name": "stderr",
     "output_type": "stream",
     "text": [
      "2020-09-01 10:16:44,879 [MainThread  ] [INFO ]  Retrieving http://imgstock.naver.com/upload/research/debenture/1517457208949.pdf to C:\\Users\\user\\AppData\\Local\\Temp/upload-research-debenture-1517457208949.pdf.\n"
     ]
    },
    {
     "name": "stdout",
     "output_type": "stream",
     "text": [
      "648\n"
     ]
    },
    {
     "name": "stderr",
     "output_type": "stream",
     "text": [
      "2020-09-01 10:16:45,238 [MainThread  ] [INFO ]  Retrieving http://imgstock.naver.com/upload/research/debenture/1517457169546.pdf to C:\\Users\\user\\AppData\\Local\\Temp/upload-research-debenture-1517457169546.pdf.\n"
     ]
    },
    {
     "name": "stdout",
     "output_type": "stream",
     "text": [
      "649\n"
     ]
    },
    {
     "name": "stderr",
     "output_type": "stream",
     "text": [
      "2020-09-01 10:16:45,893 [MainThread  ] [INFO ]  Retrieving http://imgstock.naver.com/upload/research/debenture/1517457024108.pdf to C:\\Users\\user\\AppData\\Local\\Temp/upload-research-debenture-1517457024108.pdf.\n"
     ]
    },
    {
     "name": "stdout",
     "output_type": "stream",
     "text": [
      "650\n"
     ]
    },
    {
     "name": "stderr",
     "output_type": "stream",
     "text": [
      "2020-09-01 10:16:47,218 [MainThread  ] [INFO ]  Retrieving http://imgstock.naver.com/upload/research/debenture/1517453676816.pdf to C:\\Users\\user\\AppData\\Local\\Temp/upload-research-debenture-1517453676816.pdf.\n",
      "2020-09-01 10:16:47,303 [MainThread  ] [INFO ]  Retrieving http://imgstock.naver.com/upload/research/debenture/1517450068159.pdf to C:\\Users\\user\\AppData\\Local\\Temp/upload-research-debenture-1517450068159.pdf.\n"
     ]
    },
    {
     "name": "stdout",
     "output_type": "stream",
     "text": [
      "651\n",
      "652\n"
     ]
    },
    {
     "name": "stderr",
     "output_type": "stream",
     "text": [
      "2020-09-01 10:16:47,429 [MainThread  ] [INFO ]  Retrieving http://imgstock.naver.com/upload/research/debenture/1517364869965.pdf to C:\\Users\\user\\AppData\\Local\\Temp/upload-research-debenture-1517364869965.pdf.\n"
     ]
    },
    {
     "name": "stdout",
     "output_type": "stream",
     "text": [
      "653\n"
     ]
    },
    {
     "name": "stderr",
     "output_type": "stream",
     "text": [
      "2020-09-01 10:16:47,679 [MainThread  ] [INFO ]  Retrieving http://imgstock.naver.com/upload/research/debenture/1517280512037.pdf to C:\\Users\\user\\AppData\\Local\\Temp/upload-research-debenture-1517280512037.pdf.\n"
     ]
    },
    {
     "name": "stdout",
     "output_type": "stream",
     "text": [
      "654\n"
     ]
    },
    {
     "name": "stderr",
     "output_type": "stream",
     "text": [
      "2020-09-01 10:16:48,079 [MainThread  ] [INFO ]  Retrieving http://imgstock.naver.com/upload/research/debenture/1517190634020.pdf to C:\\Users\\user\\AppData\\Local\\Temp/upload-research-debenture-1517190634020.pdf.\n"
     ]
    },
    {
     "name": "stdout",
     "output_type": "stream",
     "text": [
      "655\n"
     ]
    },
    {
     "name": "stderr",
     "output_type": "stream",
     "text": [
      "2020-09-01 10:16:48,628 [MainThread  ] [INFO ]  Retrieving http://imgstock.naver.com/upload/research/debenture/1517190058717.pdf to C:\\Users\\user\\AppData\\Local\\Temp/upload-research-debenture-1517190058717.pdf.\n"
     ]
    },
    {
     "name": "stdout",
     "output_type": "stream",
     "text": [
      "656\n"
     ]
    },
    {
     "name": "stderr",
     "output_type": "stream",
     "text": [
      "2020-09-01 10:16:49,914 [MainThread  ] [INFO ]  Retrieving http://imgstock.naver.com/upload/research/debenture/1517189904231.pdf to C:\\Users\\user\\AppData\\Local\\Temp/upload-research-debenture-1517189904231.pdf.\n"
     ]
    },
    {
     "name": "stdout",
     "output_type": "stream",
     "text": [
      "657\n"
     ]
    },
    {
     "name": "stderr",
     "output_type": "stream",
     "text": [
      "2020-09-01 10:16:50,179 [MainThread  ] [INFO ]  Retrieving http://imgstock.naver.com/upload/research/debenture/1516943376584.pdf to C:\\Users\\user\\AppData\\Local\\Temp/upload-research-debenture-1516943376584.pdf.\n"
     ]
    },
    {
     "name": "stdout",
     "output_type": "stream",
     "text": [
      "658\n"
     ]
    },
    {
     "name": "stderr",
     "output_type": "stream",
     "text": [
      "2020-09-01 10:16:50,552 [MainThread  ] [INFO ]  Retrieving http://imgstock.naver.com/upload/research/debenture/1516937489682.pdf to C:\\Users\\user\\AppData\\Local\\Temp/upload-research-debenture-1516937489682.pdf.\n"
     ]
    },
    {
     "name": "stdout",
     "output_type": "stream",
     "text": [
      "659\n"
     ]
    },
    {
     "name": "stderr",
     "output_type": "stream",
     "text": [
      "2020-09-01 10:16:50,795 [MainThread  ] [INFO ]  Retrieving http://imgstock.naver.com/upload/research/debenture/1516770146727.pdf to C:\\Users\\user\\AppData\\Local\\Temp/upload-research-debenture-1516770146727.pdf.\n"
     ]
    },
    {
     "name": "stdout",
     "output_type": "stream",
     "text": [
      "660\n"
     ]
    },
    {
     "name": "stderr",
     "output_type": "stream",
     "text": [
      "2020-09-01 10:16:51,042 [MainThread  ] [INFO ]  Retrieving http://imgstock.naver.com/upload/research/debenture/1516765661872.pdf to C:\\Users\\user\\AppData\\Local\\Temp/upload-research-debenture-1516765661872.pdf.\n"
     ]
    },
    {
     "name": "stdout",
     "output_type": "stream",
     "text": [
      "661\n"
     ]
    },
    {
     "name": "stderr",
     "output_type": "stream",
     "text": [
      "2020-09-01 10:16:51,854 [MainThread  ] [INFO ]  Retrieving http://imgstock.naver.com/upload/research/debenture/1516761322137.pdf to C:\\Users\\user\\AppData\\Local\\Temp/upload-research-debenture-1516761322137.pdf.\n"
     ]
    },
    {
     "name": "stdout",
     "output_type": "stream",
     "text": [
      "662\n"
     ]
    },
    {
     "name": "stderr",
     "output_type": "stream",
     "text": [
      "2020-09-01 10:16:52,528 [MainThread  ] [INFO ]  Retrieving http://imgstock.naver.com/upload/research/debenture/1516761227539.pdf to C:\\Users\\user\\AppData\\Local\\Temp/upload-research-debenture-1516761227539.pdf.\n"
     ]
    },
    {
     "name": "stdout",
     "output_type": "stream",
     "text": [
      "663\n"
     ]
    },
    {
     "name": "stderr",
     "output_type": "stream",
     "text": [
      "2020-09-01 10:16:52,775 [MainThread  ] [INFO ]  Retrieving http://imgstock.naver.com/upload/research/debenture/1516759929032.pdf to C:\\Users\\user\\AppData\\Local\\Temp/upload-research-debenture-1516759929032.pdf.\n",
      "2020-09-01 10:16:52,883 [MainThread  ] [INFO ]  Retrieving http://imgstock.naver.com/upload/research/debenture/1516674228602.pdf to C:\\Users\\user\\AppData\\Local\\Temp/upload-research-debenture-1516674228602.pdf.\n"
     ]
    },
    {
     "name": "stdout",
     "output_type": "stream",
     "text": [
      "664\n",
      "665\n"
     ]
    },
    {
     "name": "stderr",
     "output_type": "stream",
     "text": [
      "2020-09-01 10:16:53,286 [MainThread  ] [INFO ]  Retrieving http://imgstock.naver.com/upload/research/debenture/1516584744361.pdf to C:\\Users\\user\\AppData\\Local\\Temp/upload-research-debenture-1516584744361.pdf.\n"
     ]
    },
    {
     "name": "stdout",
     "output_type": "stream",
     "text": [
      "666\n",
      "667"
     ]
    },
    {
     "name": "stderr",
     "output_type": "stream",
     "text": [
      "2020-09-01 10:16:53,474 [MainThread  ] [INFO ]  Retrieving http://imgstock.naver.com/upload/research/debenture/1516328476203.pdf to C:\\Users\\user\\AppData\\Local\\Temp/upload-research-debenture-1516328476203.pdf.\n",
      "2020-09-01 10:16:53,546 [MainThread  ] [INFO ]  Retrieving http://imgstock.naver.com/upload/research/debenture/1516155477552.pdf to C:\\Users\\user\\AppData\\Local\\Temp/upload-research-debenture-1516155477552.pdf.\n"
     ]
    },
    {
     "name": "stdout",
     "output_type": "stream",
     "text": [
      "\n",
      "668\n"
     ]
    },
    {
     "name": "stderr",
     "output_type": "stream",
     "text": [
      "2020-09-01 10:16:54,297 [MainThread  ] [INFO ]  Retrieving http://imgstock.naver.com/upload/research/debenture/1516155178552.pdf to C:\\Users\\user\\AppData\\Local\\Temp/upload-research-debenture-1516155178552.pdf.\n"
     ]
    },
    {
     "name": "stdout",
     "output_type": "stream",
     "text": [
      "669\n"
     ]
    },
    {
     "name": "stderr",
     "output_type": "stream",
     "text": [
      "2020-09-01 10:16:54,685 [MainThread  ] [INFO ]  Retrieving http://imgstock.naver.com/upload/research/debenture/1515982028858.pdf to C:\\Users\\user\\AppData\\Local\\Temp/upload-research-debenture-1515982028858.pdf.\n"
     ]
    },
    {
     "name": "stdout",
     "output_type": "stream",
     "text": [
      "670\n"
     ]
    },
    {
     "name": "stderr",
     "output_type": "stream",
     "text": [
      "2020-09-01 10:16:55,053 [MainThread  ] [INFO ]  Retrieving http://imgstock.naver.com/upload/research/debenture/1515981402971.pdf to C:\\Users\\user\\AppData\\Local\\Temp/upload-research-debenture-1515981402971.pdf.\n"
     ]
    },
    {
     "name": "stdout",
     "output_type": "stream",
     "text": [
      "671\n"
     ]
    },
    {
     "name": "stderr",
     "output_type": "stream",
     "text": [
      "2020-09-01 10:16:55,510 [MainThread  ] [INFO ]  Retrieving http://imgstock.naver.com/upload/research/debenture/1515981355712.pdf to C:\\Users\\user\\AppData\\Local\\Temp/upload-research-debenture-1515981355712.pdf.\n",
      "2020-09-01 10:16:55,685 [MainThread  ] [INFO ]  Retrieving http://imgstock.naver.com/upload/research/debenture/1515980552792.pdf to C:\\Users\\user\\AppData\\Local\\Temp/upload-research-debenture-1515980552792.pdf.\n"
     ]
    },
    {
     "name": "stdout",
     "output_type": "stream",
     "text": [
      "672\n",
      "673\n"
     ]
    },
    {
     "name": "stderr",
     "output_type": "stream",
     "text": [
      "2020-09-01 10:16:56,357 [MainThread  ] [INFO ]  Retrieving http://imgstock.naver.com/upload/research/debenture/1515725946004.pdf to C:\\Users\\user\\AppData\\Local\\Temp/upload-research-debenture-1515725946004.pdf.\n"
     ]
    },
    {
     "name": "stdout",
     "output_type": "stream",
     "text": [
      "674\n"
     ]
    },
    {
     "name": "stderr",
     "output_type": "stream",
     "text": [
      "2020-09-01 10:16:56,963 [MainThread  ] [INFO ]  Retrieving http://imgstock.naver.com/upload/research/debenture/1515723378410.pdf to C:\\Users\\user\\AppData\\Local\\Temp/upload-research-debenture-1515723378410.pdf.\n"
     ]
    },
    {
     "name": "stdout",
     "output_type": "stream",
     "text": [
      "675\n"
     ]
    },
    {
     "name": "stderr",
     "output_type": "stream",
     "text": [
      "2020-09-01 10:16:57,239 [MainThread  ] [INFO ]  Retrieving http://imgstock.naver.com/upload/research/debenture/1515638077025.pdf to C:\\Users\\user\\AppData\\Local\\Temp/upload-research-debenture-1515638077025.pdf.\n",
      "2020-09-01 10:16:57,406 [MainThread  ] [INFO ]  Retrieving http://imgstock.naver.com/upload/research/debenture/1515637985383.pdf to C:\\Users\\user\\AppData\\Local\\Temp/upload-research-debenture-1515637985383.pdf.\n"
     ]
    },
    {
     "name": "stdout",
     "output_type": "stream",
     "text": [
      "676\n",
      "677\n"
     ]
    },
    {
     "name": "stderr",
     "output_type": "stream",
     "text": [
      "2020-09-01 10:16:57,528 [MainThread  ] [INFO ]  Retrieving http://imgstock.naver.com/upload/research/debenture/1515637156568.pdf to C:\\Users\\user\\AppData\\Local\\Temp/upload-research-debenture-1515637156568.pdf.\n"
     ]
    },
    {
     "name": "stdout",
     "output_type": "stream",
     "text": [
      "678\n"
     ]
    },
    {
     "name": "stderr",
     "output_type": "stream",
     "text": [
      "2020-09-01 10:16:58,632 [MainThread  ] [INFO ]  Retrieving http://imgstock.naver.com/upload/research/debenture/1515552376504.pdf to C:\\Users\\user\\AppData\\Local\\Temp/upload-research-debenture-1515552376504.pdf.\n"
     ]
    },
    {
     "name": "stdout",
     "output_type": "stream",
     "text": [
      "679\n"
     ]
    },
    {
     "name": "stderr",
     "output_type": "stream",
     "text": [
      "2020-09-01 10:16:59,094 [MainThread  ] [INFO ]  Retrieving http://imgstock.naver.com/upload/research/debenture/1515549293334.pdf to C:\\Users\\user\\AppData\\Local\\Temp/upload-research-debenture-1515549293334.pdf.\n",
      "2020-09-01 10:16:59,176 [MainThread  ] [INFO ]  Retrieving http://imgstock.naver.com/upload/research/debenture/1515376765971.pdf to C:\\Users\\user\\AppData\\Local\\Temp/upload-research-debenture-1515376765971.pdf.\n"
     ]
    },
    {
     "name": "stdout",
     "output_type": "stream",
     "text": [
      "680\n",
      "681\n"
     ]
    },
    {
     "name": "stderr",
     "output_type": "stream",
     "text": [
      "2020-09-01 10:16:59,864 [MainThread  ] [INFO ]  Retrieving http://imgstock.naver.com/upload/research/debenture/1515376690619.pdf to C:\\Users\\user\\AppData\\Local\\Temp/upload-research-debenture-1515376690619.pdf.\n"
     ]
    },
    {
     "name": "stdout",
     "output_type": "stream",
     "text": [
      "682\n",
      "683\n"
     ]
    },
    {
     "name": "stderr",
     "output_type": "stream",
     "text": [
      "2020-09-01 10:17:00,057 [MainThread  ] [INFO ]  Retrieving http://imgstock.naver.com/upload/research/debenture/1515118565099.pdf to C:\\Users\\user\\AppData\\Local\\Temp/upload-research-debenture-1515118565099.pdf.\n",
      "2020-09-01 10:17:00,784 [MainThread  ] [INFO ]  Retrieving http://imgstock.naver.com/upload/research/debenture/1515031815744.pdf to C:\\Users\\user\\AppData\\Local\\Temp/upload-research-debenture-1515031815744.pdf.\n"
     ]
    },
    {
     "name": "stdout",
     "output_type": "stream",
     "text": [
      "684\n"
     ]
    },
    {
     "name": "stderr",
     "output_type": "stream",
     "text": [
      "2020-09-01 10:17:01,501 [MainThread  ] [INFO ]  Retrieving http://imgstock.naver.com/upload/research/debenture/1514946177865.pdf to C:\\Users\\user\\AppData\\Local\\Temp/upload-research-debenture-1514946177865.pdf.\n"
     ]
    },
    {
     "name": "stdout",
     "output_type": "stream",
     "text": [
      "685\n"
     ]
    },
    {
     "name": "stderr",
     "output_type": "stream",
     "text": [
      "2020-09-01 10:17:02,263 [MainThread  ] [INFO ]  Retrieving http://imgstock.naver.com/upload/research/debenture/1514944923424.pdf to C:\\Users\\user\\AppData\\Local\\Temp/upload-research-debenture-1514944923424.pdf.\n",
      "2020-09-01 10:17:02,359 [MainThread  ] [INFO ]  Retrieving http://imgstock.naver.com/upload/research/debenture/1514862476342.pdf to C:\\Users\\user\\AppData\\Local\\Temp/upload-research-debenture-1514862476342.pdf.\n"
     ]
    },
    {
     "name": "stdout",
     "output_type": "stream",
     "text": [
      "686\n",
      "687\n"
     ]
    },
    {
     "name": "stderr",
     "output_type": "stream",
     "text": [
      "2020-09-01 10:17:02,501 [MainThread  ] [INFO ]  Retrieving http://imgstock.naver.com/upload/research/debenture/1515138222996.pdf to C:\\Users\\user\\AppData\\Local\\Temp/upload-research-debenture-1515138222996.pdf.\n"
     ]
    },
    {
     "name": "stdout",
     "output_type": "stream",
     "text": [
      "688\n"
     ]
    },
    {
     "name": "stderr",
     "output_type": "stream",
     "text": [
      "2020-09-01 10:17:02,751 [MainThread  ] [INFO ]  Retrieving http://imgstock.naver.com/upload/research/debenture/1514339254450.pdf to C:\\Users\\user\\AppData\\Local\\Temp/upload-research-debenture-1514339254450.pdf.\n"
     ]
    },
    {
     "name": "stdout",
     "output_type": "stream",
     "text": [
      "689\n"
     ]
    },
    {
     "name": "stderr",
     "output_type": "stream",
     "text": [
      "2020-09-01 10:17:03,387 [MainThread  ] [INFO ]  Retrieving http://imgstock.naver.com/upload/research/debenture/1514252144509.pdf to C:\\Users\\user\\AppData\\Local\\Temp/upload-research-debenture-1514252144509.pdf.\n"
     ]
    },
    {
     "name": "stdout",
     "output_type": "stream",
     "text": [
      "690\n"
     ]
    },
    {
     "name": "stderr",
     "output_type": "stream",
     "text": [
      "2020-09-01 10:17:03,644 [MainThread  ] [INFO ]  Retrieving http://imgstock.naver.com/upload/research/debenture/1513734929105.pdf to C:\\Users\\user\\AppData\\Local\\Temp/upload-research-debenture-1513734929105.pdf.\n"
     ]
    },
    {
     "name": "stdout",
     "output_type": "stream",
     "text": [
      "691\n"
     ]
    },
    {
     "name": "stderr",
     "output_type": "stream",
     "text": [
      "2020-09-01 10:17:04,000 [MainThread  ] [INFO ]  Retrieving http://imgstock.naver.com/upload/research/debenture/1513733575212.pdf to C:\\Users\\user\\AppData\\Local\\Temp/upload-research-debenture-1513733575212.pdf.\n",
      "2020-09-01 10:17:04,136 [MainThread  ] [INFO ]  Retrieving http://imgstock.naver.com/upload/research/debenture/1513560615141.pdf to C:\\Users\\user\\AppData\\Local\\Temp/upload-research-debenture-1513560615141.pdf.\n"
     ]
    },
    {
     "name": "stdout",
     "output_type": "stream",
     "text": [
      "692\n",
      "693\n"
     ]
    },
    {
     "name": "stderr",
     "output_type": "stream",
     "text": [
      "2020-09-01 10:17:04,306 [MainThread  ] [INFO ]  Retrieving http://imgstock.naver.com/upload/research/debenture/1513303183819.pdf to C:\\Users\\user\\AppData\\Local\\Temp/upload-research-debenture-1513303183819.pdf.\n",
      "2020-09-01 10:17:04,470 [MainThread  ] [INFO ]  Retrieving http://imgstock.naver.com/upload/research/debenture/1513302272756.pdf to C:\\Users\\user\\AppData\\Local\\Temp/upload-research-debenture-1513302272756.pdf.\n"
     ]
    },
    {
     "name": "stdout",
     "output_type": "stream",
     "text": [
      "694\n",
      "695\n"
     ]
    },
    {
     "name": "stderr",
     "output_type": "stream",
     "text": [
      "2020-09-01 10:17:04,724 [MainThread  ] [INFO ]  Retrieving http://imgstock.naver.com/upload/research/debenture/1513231547466.pdf to C:\\Users\\user\\AppData\\Local\\Temp/upload-research-debenture-1513231547466.pdf.\n",
      "2020-09-01 10:17:04,842 [MainThread  ] [INFO ]  Retrieving http://imgstock.naver.com/upload/research/debenture/1513216121339.pdf to C:\\Users\\user\\AppData\\Local\\Temp/upload-research-debenture-1513216121339.pdf.\n"
     ]
    },
    {
     "name": "stdout",
     "output_type": "stream",
     "text": [
      "696\n",
      "697\n"
     ]
    },
    {
     "name": "stderr",
     "output_type": "stream",
     "text": [
      "2020-09-01 10:17:05,009 [MainThread  ] [INFO ]  Retrieving http://imgstock.naver.com/upload/research/debenture/1513129304346.pdf to C:\\Users\\user\\AppData\\Local\\Temp/upload-research-debenture-1513129304346.pdf.\n"
     ]
    },
    {
     "name": "stdout",
     "output_type": "stream",
     "text": [
      "698\n"
     ]
    },
    {
     "name": "stderr",
     "output_type": "stream",
     "text": [
      "2020-09-01 10:17:05,746 [MainThread  ] [INFO ]  Retrieving http://imgstock.naver.com/upload/research/debenture/1512696828269.pdf to C:\\Users\\user\\AppData\\Local\\Temp/upload-research-debenture-1512696828269.pdf.\n"
     ]
    },
    {
     "name": "stdout",
     "output_type": "stream",
     "text": [
      "699\n"
     ]
    },
    {
     "ename": "KeyboardInterrupt",
     "evalue": "",
     "output_type": "error",
     "traceback": [
      "\u001b[1;31m---------------------------------------------------------------------------\u001b[0m",
      "\u001b[1;31mKeyboardInterrupt\u001b[0m                         Traceback (most recent call last)",
      "\u001b[1;32m<ipython-input-16-7f96a9be502c>\u001b[0m in \u001b[0;36m<module>\u001b[1;34m\u001b[0m\n\u001b[0;32m      3\u001b[0m \u001b[0mcontent_list\u001b[0m \u001b[1;33m=\u001b[0m \u001b[1;33m[\u001b[0m\u001b[1;33m]\u001b[0m\u001b[1;33m\u001b[0m\u001b[1;33m\u001b[0m\u001b[0m\n\u001b[0;32m      4\u001b[0m \u001b[1;32mfor\u001b[0m \u001b[0murl\u001b[0m \u001b[1;32min\u001b[0m \u001b[0murls\u001b[0m\u001b[1;33m:\u001b[0m\u001b[1;33m\u001b[0m\u001b[1;33m\u001b[0m\u001b[0m\n\u001b[1;32m----> 5\u001b[1;33m     \u001b[0mraw_data\u001b[0m \u001b[1;33m=\u001b[0m \u001b[0mparser\u001b[0m\u001b[1;33m.\u001b[0m\u001b[0mfrom_file\u001b[0m\u001b[1;33m(\u001b[0m\u001b[0murl\u001b[0m\u001b[1;33m)\u001b[0m\u001b[1;33m\u001b[0m\u001b[1;33m\u001b[0m\u001b[0m\n\u001b[0m\u001b[0;32m      6\u001b[0m     \u001b[0mcontent_list\u001b[0m\u001b[1;33m.\u001b[0m\u001b[0mappend\u001b[0m\u001b[1;33m(\u001b[0m\u001b[0mraw_data\u001b[0m\u001b[1;33m[\u001b[0m\u001b[1;34m'content'\u001b[0m\u001b[1;33m]\u001b[0m\u001b[1;33m)\u001b[0m\u001b[1;33m\u001b[0m\u001b[1;33m\u001b[0m\u001b[0m\n\u001b[0;32m      7\u001b[0m     \u001b[0mprint\u001b[0m\u001b[1;33m(\u001b[0m\u001b[0mi\u001b[0m\u001b[1;33m)\u001b[0m\u001b[1;33m\u001b[0m\u001b[1;33m\u001b[0m\u001b[0m\n",
      "\u001b[1;32m~\\anaconda3\\envs\\mulcam\\lib\\site-packages\\tika\\parser.py\u001b[0m in \u001b[0;36mfrom_file\u001b[1;34m(filename, serverEndpoint, service, xmlContent, headers, config_path, requestOptions)\u001b[0m\n\u001b[0;32m     38\u001b[0m     '''\n\u001b[0;32m     39\u001b[0m     \u001b[1;32mif\u001b[0m \u001b[1;32mnot\u001b[0m \u001b[0mxmlContent\u001b[0m\u001b[1;33m:\u001b[0m\u001b[1;33m\u001b[0m\u001b[1;33m\u001b[0m\u001b[0m\n\u001b[1;32m---> 40\u001b[1;33m         \u001b[0moutput\u001b[0m \u001b[1;33m=\u001b[0m \u001b[0mparse1\u001b[0m\u001b[1;33m(\u001b[0m\u001b[0mservice\u001b[0m\u001b[1;33m,\u001b[0m \u001b[0mfilename\u001b[0m\u001b[1;33m,\u001b[0m \u001b[0mserverEndpoint\u001b[0m\u001b[1;33m,\u001b[0m \u001b[0mheaders\u001b[0m\u001b[1;33m=\u001b[0m\u001b[0mheaders\u001b[0m\u001b[1;33m,\u001b[0m \u001b[0mconfig_path\u001b[0m\u001b[1;33m=\u001b[0m\u001b[0mconfig_path\u001b[0m\u001b[1;33m,\u001b[0m \u001b[0mrequestOptions\u001b[0m\u001b[1;33m=\u001b[0m\u001b[0mrequestOptions\u001b[0m\u001b[1;33m)\u001b[0m\u001b[1;33m\u001b[0m\u001b[1;33m\u001b[0m\u001b[0m\n\u001b[0m\u001b[0;32m     41\u001b[0m     \u001b[1;32melse\u001b[0m\u001b[1;33m:\u001b[0m\u001b[1;33m\u001b[0m\u001b[1;33m\u001b[0m\u001b[0m\n\u001b[0;32m     42\u001b[0m         output = parse1(service, filename, serverEndpoint, services={'meta': '/meta', 'text': '/tika', 'all': '/rmeta/xml'},\n",
      "\u001b[1;32m~\\anaconda3\\envs\\mulcam\\lib\\site-packages\\tika\\tika.py\u001b[0m in \u001b[0;36mparse1\u001b[1;34m(option, urlOrPath, serverEndpoint, verbose, tikaServerJar, responseMimeType, services, rawResponse, headers, config_path, requestOptions)\u001b[0m\n\u001b[0;32m    336\u001b[0m         status, response = callServer('put', serverEndpoint, service, f,\n\u001b[0;32m    337\u001b[0m                                       \u001b[0mheaders\u001b[0m\u001b[1;33m,\u001b[0m \u001b[0mverbose\u001b[0m\u001b[1;33m,\u001b[0m \u001b[0mtikaServerJar\u001b[0m\u001b[1;33m,\u001b[0m \u001b[0mconfig_path\u001b[0m\u001b[1;33m=\u001b[0m\u001b[0mconfig_path\u001b[0m\u001b[1;33m,\u001b[0m\u001b[1;33m\u001b[0m\u001b[1;33m\u001b[0m\u001b[0m\n\u001b[1;32m--> 338\u001b[1;33m                                       rawResponse=rawResponse, requestOptions=requestOptions)\n\u001b[0m\u001b[0;32m    339\u001b[0m \u001b[1;33m\u001b[0m\u001b[0m\n\u001b[0;32m    340\u001b[0m     \u001b[1;32mif\u001b[0m \u001b[0mfile_type\u001b[0m \u001b[1;33m==\u001b[0m \u001b[1;34m'remote'\u001b[0m\u001b[1;33m:\u001b[0m \u001b[0mos\u001b[0m\u001b[1;33m.\u001b[0m\u001b[0munlink\u001b[0m\u001b[1;33m(\u001b[0m\u001b[0mpath\u001b[0m\u001b[1;33m)\u001b[0m\u001b[1;33m\u001b[0m\u001b[1;33m\u001b[0m\u001b[0m\n",
      "\u001b[1;32m~\\anaconda3\\envs\\mulcam\\lib\\site-packages\\tika\\tika.py\u001b[0m in \u001b[0;36mcallServer\u001b[1;34m(verb, serverEndpoint, service, data, headers, verbose, tikaServerJar, httpVerbs, classpath, rawResponse, config_path, requestOptions)\u001b[0m\n\u001b[0;32m    552\u001b[0m     \u001b[0meffectiveRequestOptions\u001b[0m\u001b[1;33m.\u001b[0m\u001b[0mupdate\u001b[0m\u001b[1;33m(\u001b[0m\u001b[0mrequestOptions\u001b[0m\u001b[1;33m)\u001b[0m\u001b[1;33m\u001b[0m\u001b[1;33m\u001b[0m\u001b[0m\n\u001b[0;32m    553\u001b[0m \u001b[1;33m\u001b[0m\u001b[0m\n\u001b[1;32m--> 554\u001b[1;33m     \u001b[0mresp\u001b[0m \u001b[1;33m=\u001b[0m \u001b[0mverbFn\u001b[0m\u001b[1;33m(\u001b[0m\u001b[0mserviceUrl\u001b[0m\u001b[1;33m,\u001b[0m \u001b[0mencodedData\u001b[0m\u001b[1;33m,\u001b[0m \u001b[1;33m**\u001b[0m\u001b[0meffectiveRequestOptions\u001b[0m\u001b[1;33m)\u001b[0m\u001b[1;33m\u001b[0m\u001b[1;33m\u001b[0m\u001b[0m\n\u001b[0m\u001b[0;32m    555\u001b[0m \u001b[1;33m\u001b[0m\u001b[0m\n\u001b[0;32m    556\u001b[0m     \u001b[1;32mif\u001b[0m \u001b[0mverbose\u001b[0m\u001b[1;33m:\u001b[0m\u001b[1;33m\u001b[0m\u001b[1;33m\u001b[0m\u001b[0m\n",
      "\u001b[1;32m~\\anaconda3\\envs\\mulcam\\lib\\site-packages\\requests\\api.py\u001b[0m in \u001b[0;36mput\u001b[1;34m(url, data, **kwargs)\u001b[0m\n\u001b[0;32m    132\u001b[0m     \"\"\"\n\u001b[0;32m    133\u001b[0m \u001b[1;33m\u001b[0m\u001b[0m\n\u001b[1;32m--> 134\u001b[1;33m     \u001b[1;32mreturn\u001b[0m \u001b[0mrequest\u001b[0m\u001b[1;33m(\u001b[0m\u001b[1;34m'put'\u001b[0m\u001b[1;33m,\u001b[0m \u001b[0murl\u001b[0m\u001b[1;33m,\u001b[0m \u001b[0mdata\u001b[0m\u001b[1;33m=\u001b[0m\u001b[0mdata\u001b[0m\u001b[1;33m,\u001b[0m \u001b[1;33m**\u001b[0m\u001b[0mkwargs\u001b[0m\u001b[1;33m)\u001b[0m\u001b[1;33m\u001b[0m\u001b[1;33m\u001b[0m\u001b[0m\n\u001b[0m\u001b[0;32m    135\u001b[0m \u001b[1;33m\u001b[0m\u001b[0m\n\u001b[0;32m    136\u001b[0m \u001b[1;33m\u001b[0m\u001b[0m\n",
      "\u001b[1;32m~\\anaconda3\\envs\\mulcam\\lib\\site-packages\\requests\\api.py\u001b[0m in \u001b[0;36mrequest\u001b[1;34m(method, url, **kwargs)\u001b[0m\n\u001b[0;32m     59\u001b[0m     \u001b[1;31m# cases, and look like a memory leak in others.\u001b[0m\u001b[1;33m\u001b[0m\u001b[1;33m\u001b[0m\u001b[1;33m\u001b[0m\u001b[0m\n\u001b[0;32m     60\u001b[0m     \u001b[1;32mwith\u001b[0m \u001b[0msessions\u001b[0m\u001b[1;33m.\u001b[0m\u001b[0mSession\u001b[0m\u001b[1;33m(\u001b[0m\u001b[1;33m)\u001b[0m \u001b[1;32mas\u001b[0m \u001b[0msession\u001b[0m\u001b[1;33m:\u001b[0m\u001b[1;33m\u001b[0m\u001b[1;33m\u001b[0m\u001b[0m\n\u001b[1;32m---> 61\u001b[1;33m         \u001b[1;32mreturn\u001b[0m \u001b[0msession\u001b[0m\u001b[1;33m.\u001b[0m\u001b[0mrequest\u001b[0m\u001b[1;33m(\u001b[0m\u001b[0mmethod\u001b[0m\u001b[1;33m=\u001b[0m\u001b[0mmethod\u001b[0m\u001b[1;33m,\u001b[0m \u001b[0murl\u001b[0m\u001b[1;33m=\u001b[0m\u001b[0murl\u001b[0m\u001b[1;33m,\u001b[0m \u001b[1;33m**\u001b[0m\u001b[0mkwargs\u001b[0m\u001b[1;33m)\u001b[0m\u001b[1;33m\u001b[0m\u001b[1;33m\u001b[0m\u001b[0m\n\u001b[0m\u001b[0;32m     62\u001b[0m \u001b[1;33m\u001b[0m\u001b[0m\n\u001b[0;32m     63\u001b[0m \u001b[1;33m\u001b[0m\u001b[0m\n",
      "\u001b[1;32m~\\anaconda3\\envs\\mulcam\\lib\\site-packages\\requests\\sessions.py\u001b[0m in \u001b[0;36mrequest\u001b[1;34m(self, method, url, params, data, headers, cookies, files, auth, timeout, allow_redirects, proxies, hooks, stream, verify, cert, json)\u001b[0m\n\u001b[0;32m    528\u001b[0m         }\n\u001b[0;32m    529\u001b[0m         \u001b[0msend_kwargs\u001b[0m\u001b[1;33m.\u001b[0m\u001b[0mupdate\u001b[0m\u001b[1;33m(\u001b[0m\u001b[0msettings\u001b[0m\u001b[1;33m)\u001b[0m\u001b[1;33m\u001b[0m\u001b[1;33m\u001b[0m\u001b[0m\n\u001b[1;32m--> 530\u001b[1;33m         \u001b[0mresp\u001b[0m \u001b[1;33m=\u001b[0m \u001b[0mself\u001b[0m\u001b[1;33m.\u001b[0m\u001b[0msend\u001b[0m\u001b[1;33m(\u001b[0m\u001b[0mprep\u001b[0m\u001b[1;33m,\u001b[0m \u001b[1;33m**\u001b[0m\u001b[0msend_kwargs\u001b[0m\u001b[1;33m)\u001b[0m\u001b[1;33m\u001b[0m\u001b[1;33m\u001b[0m\u001b[0m\n\u001b[0m\u001b[0;32m    531\u001b[0m \u001b[1;33m\u001b[0m\u001b[0m\n\u001b[0;32m    532\u001b[0m         \u001b[1;32mreturn\u001b[0m \u001b[0mresp\u001b[0m\u001b[1;33m\u001b[0m\u001b[1;33m\u001b[0m\u001b[0m\n",
      "\u001b[1;32m~\\anaconda3\\envs\\mulcam\\lib\\site-packages\\requests\\sessions.py\u001b[0m in \u001b[0;36msend\u001b[1;34m(self, request, **kwargs)\u001b[0m\n\u001b[0;32m    641\u001b[0m \u001b[1;33m\u001b[0m\u001b[0m\n\u001b[0;32m    642\u001b[0m         \u001b[1;31m# Send the request\u001b[0m\u001b[1;33m\u001b[0m\u001b[1;33m\u001b[0m\u001b[1;33m\u001b[0m\u001b[0m\n\u001b[1;32m--> 643\u001b[1;33m         \u001b[0mr\u001b[0m \u001b[1;33m=\u001b[0m \u001b[0madapter\u001b[0m\u001b[1;33m.\u001b[0m\u001b[0msend\u001b[0m\u001b[1;33m(\u001b[0m\u001b[0mrequest\u001b[0m\u001b[1;33m,\u001b[0m \u001b[1;33m**\u001b[0m\u001b[0mkwargs\u001b[0m\u001b[1;33m)\u001b[0m\u001b[1;33m\u001b[0m\u001b[1;33m\u001b[0m\u001b[0m\n\u001b[0m\u001b[0;32m    644\u001b[0m \u001b[1;33m\u001b[0m\u001b[0m\n\u001b[0;32m    645\u001b[0m         \u001b[1;31m# Total elapsed time of the request (approximately)\u001b[0m\u001b[1;33m\u001b[0m\u001b[1;33m\u001b[0m\u001b[1;33m\u001b[0m\u001b[0m\n",
      "\u001b[1;32m~\\anaconda3\\envs\\mulcam\\lib\\site-packages\\requests\\adapters.py\u001b[0m in \u001b[0;36msend\u001b[1;34m(self, request, stream, timeout, verify, cert, proxies)\u001b[0m\n\u001b[0;32m    447\u001b[0m                     \u001b[0mdecode_content\u001b[0m\u001b[1;33m=\u001b[0m\u001b[1;32mFalse\u001b[0m\u001b[1;33m,\u001b[0m\u001b[1;33m\u001b[0m\u001b[1;33m\u001b[0m\u001b[0m\n\u001b[0;32m    448\u001b[0m                     \u001b[0mretries\u001b[0m\u001b[1;33m=\u001b[0m\u001b[0mself\u001b[0m\u001b[1;33m.\u001b[0m\u001b[0mmax_retries\u001b[0m\u001b[1;33m,\u001b[0m\u001b[1;33m\u001b[0m\u001b[1;33m\u001b[0m\u001b[0m\n\u001b[1;32m--> 449\u001b[1;33m                     \u001b[0mtimeout\u001b[0m\u001b[1;33m=\u001b[0m\u001b[0mtimeout\u001b[0m\u001b[1;33m\u001b[0m\u001b[1;33m\u001b[0m\u001b[0m\n\u001b[0m\u001b[0;32m    450\u001b[0m                 )\n\u001b[0;32m    451\u001b[0m \u001b[1;33m\u001b[0m\u001b[0m\n",
      "\u001b[1;32m~\\anaconda3\\envs\\mulcam\\lib\\site-packages\\urllib3\\connectionpool.py\u001b[0m in \u001b[0;36murlopen\u001b[1;34m(self, method, url, body, headers, retries, redirect, assert_same_host, timeout, pool_timeout, release_conn, chunked, body_pos, **response_kw)\u001b[0m\n\u001b[0;32m    675\u001b[0m                 \u001b[0mbody\u001b[0m\u001b[1;33m=\u001b[0m\u001b[0mbody\u001b[0m\u001b[1;33m,\u001b[0m\u001b[1;33m\u001b[0m\u001b[1;33m\u001b[0m\u001b[0m\n\u001b[0;32m    676\u001b[0m                 \u001b[0mheaders\u001b[0m\u001b[1;33m=\u001b[0m\u001b[0mheaders\u001b[0m\u001b[1;33m,\u001b[0m\u001b[1;33m\u001b[0m\u001b[1;33m\u001b[0m\u001b[0m\n\u001b[1;32m--> 677\u001b[1;33m                 \u001b[0mchunked\u001b[0m\u001b[1;33m=\u001b[0m\u001b[0mchunked\u001b[0m\u001b[1;33m,\u001b[0m\u001b[1;33m\u001b[0m\u001b[1;33m\u001b[0m\u001b[0m\n\u001b[0m\u001b[0;32m    678\u001b[0m             )\n\u001b[0;32m    679\u001b[0m \u001b[1;33m\u001b[0m\u001b[0m\n",
      "\u001b[1;32m~\\anaconda3\\envs\\mulcam\\lib\\site-packages\\urllib3\\connectionpool.py\u001b[0m in \u001b[0;36m_make_request\u001b[1;34m(self, conn, method, url, timeout, chunked, **httplib_request_kw)\u001b[0m\n\u001b[0;32m    424\u001b[0m                     \u001b[1;31m# Python 3 (including for exceptions like SystemExit).\u001b[0m\u001b[1;33m\u001b[0m\u001b[1;33m\u001b[0m\u001b[1;33m\u001b[0m\u001b[0m\n\u001b[0;32m    425\u001b[0m                     \u001b[1;31m# Otherwise it looks like a bug in the code.\u001b[0m\u001b[1;33m\u001b[0m\u001b[1;33m\u001b[0m\u001b[1;33m\u001b[0m\u001b[0m\n\u001b[1;32m--> 426\u001b[1;33m                     \u001b[0msix\u001b[0m\u001b[1;33m.\u001b[0m\u001b[0mraise_from\u001b[0m\u001b[1;33m(\u001b[0m\u001b[0me\u001b[0m\u001b[1;33m,\u001b[0m \u001b[1;32mNone\u001b[0m\u001b[1;33m)\u001b[0m\u001b[1;33m\u001b[0m\u001b[1;33m\u001b[0m\u001b[0m\n\u001b[0m\u001b[0;32m    427\u001b[0m         \u001b[1;32mexcept\u001b[0m \u001b[1;33m(\u001b[0m\u001b[0mSocketTimeout\u001b[0m\u001b[1;33m,\u001b[0m \u001b[0mBaseSSLError\u001b[0m\u001b[1;33m,\u001b[0m \u001b[0mSocketError\u001b[0m\u001b[1;33m)\u001b[0m \u001b[1;32mas\u001b[0m \u001b[0me\u001b[0m\u001b[1;33m:\u001b[0m\u001b[1;33m\u001b[0m\u001b[1;33m\u001b[0m\u001b[0m\n\u001b[0;32m    428\u001b[0m             \u001b[0mself\u001b[0m\u001b[1;33m.\u001b[0m\u001b[0m_raise_timeout\u001b[0m\u001b[1;33m(\u001b[0m\u001b[0merr\u001b[0m\u001b[1;33m=\u001b[0m\u001b[0me\u001b[0m\u001b[1;33m,\u001b[0m \u001b[0murl\u001b[0m\u001b[1;33m=\u001b[0m\u001b[0murl\u001b[0m\u001b[1;33m,\u001b[0m \u001b[0mtimeout_value\u001b[0m\u001b[1;33m=\u001b[0m\u001b[0mread_timeout\u001b[0m\u001b[1;33m)\u001b[0m\u001b[1;33m\u001b[0m\u001b[1;33m\u001b[0m\u001b[0m\n",
      "\u001b[1;32m~\\anaconda3\\envs\\mulcam\\lib\\site-packages\\urllib3\\packages\\six.py\u001b[0m in \u001b[0;36mraise_from\u001b[1;34m(value, from_value)\u001b[0m\n",
      "\u001b[1;32m~\\anaconda3\\envs\\mulcam\\lib\\site-packages\\urllib3\\connectionpool.py\u001b[0m in \u001b[0;36m_make_request\u001b[1;34m(self, conn, method, url, timeout, chunked, **httplib_request_kw)\u001b[0m\n\u001b[0;32m    419\u001b[0m                 \u001b[1;31m# Python 3\u001b[0m\u001b[1;33m\u001b[0m\u001b[1;33m\u001b[0m\u001b[1;33m\u001b[0m\u001b[0m\n\u001b[0;32m    420\u001b[0m                 \u001b[1;32mtry\u001b[0m\u001b[1;33m:\u001b[0m\u001b[1;33m\u001b[0m\u001b[1;33m\u001b[0m\u001b[0m\n\u001b[1;32m--> 421\u001b[1;33m                     \u001b[0mhttplib_response\u001b[0m \u001b[1;33m=\u001b[0m \u001b[0mconn\u001b[0m\u001b[1;33m.\u001b[0m\u001b[0mgetresponse\u001b[0m\u001b[1;33m(\u001b[0m\u001b[1;33m)\u001b[0m\u001b[1;33m\u001b[0m\u001b[1;33m\u001b[0m\u001b[0m\n\u001b[0m\u001b[0;32m    422\u001b[0m                 \u001b[1;32mexcept\u001b[0m \u001b[0mBaseException\u001b[0m \u001b[1;32mas\u001b[0m \u001b[0me\u001b[0m\u001b[1;33m:\u001b[0m\u001b[1;33m\u001b[0m\u001b[1;33m\u001b[0m\u001b[0m\n\u001b[0;32m    423\u001b[0m                     \u001b[1;31m# Remove the TypeError from the exception chain in\u001b[0m\u001b[1;33m\u001b[0m\u001b[1;33m\u001b[0m\u001b[1;33m\u001b[0m\u001b[0m\n",
      "\u001b[1;32m~\\anaconda3\\envs\\mulcam\\lib\\http\\client.py\u001b[0m in \u001b[0;36mgetresponse\u001b[1;34m(self)\u001b[0m\n\u001b[0;32m   1352\u001b[0m         \u001b[1;32mtry\u001b[0m\u001b[1;33m:\u001b[0m\u001b[1;33m\u001b[0m\u001b[1;33m\u001b[0m\u001b[0m\n\u001b[0;32m   1353\u001b[0m             \u001b[1;32mtry\u001b[0m\u001b[1;33m:\u001b[0m\u001b[1;33m\u001b[0m\u001b[1;33m\u001b[0m\u001b[0m\n\u001b[1;32m-> 1354\u001b[1;33m                 \u001b[0mresponse\u001b[0m\u001b[1;33m.\u001b[0m\u001b[0mbegin\u001b[0m\u001b[1;33m(\u001b[0m\u001b[1;33m)\u001b[0m\u001b[1;33m\u001b[0m\u001b[1;33m\u001b[0m\u001b[0m\n\u001b[0m\u001b[0;32m   1355\u001b[0m             \u001b[1;32mexcept\u001b[0m \u001b[0mConnectionError\u001b[0m\u001b[1;33m:\u001b[0m\u001b[1;33m\u001b[0m\u001b[1;33m\u001b[0m\u001b[0m\n\u001b[0;32m   1356\u001b[0m                 \u001b[0mself\u001b[0m\u001b[1;33m.\u001b[0m\u001b[0mclose\u001b[0m\u001b[1;33m(\u001b[0m\u001b[1;33m)\u001b[0m\u001b[1;33m\u001b[0m\u001b[1;33m\u001b[0m\u001b[0m\n",
      "\u001b[1;32m~\\anaconda3\\envs\\mulcam\\lib\\http\\client.py\u001b[0m in \u001b[0;36mbegin\u001b[1;34m(self)\u001b[0m\n\u001b[0;32m    305\u001b[0m         \u001b[1;31m# read until we get a non-100 response\u001b[0m\u001b[1;33m\u001b[0m\u001b[1;33m\u001b[0m\u001b[1;33m\u001b[0m\u001b[0m\n\u001b[0;32m    306\u001b[0m         \u001b[1;32mwhile\u001b[0m \u001b[1;32mTrue\u001b[0m\u001b[1;33m:\u001b[0m\u001b[1;33m\u001b[0m\u001b[1;33m\u001b[0m\u001b[0m\n\u001b[1;32m--> 307\u001b[1;33m             \u001b[0mversion\u001b[0m\u001b[1;33m,\u001b[0m \u001b[0mstatus\u001b[0m\u001b[1;33m,\u001b[0m \u001b[0mreason\u001b[0m \u001b[1;33m=\u001b[0m \u001b[0mself\u001b[0m\u001b[1;33m.\u001b[0m\u001b[0m_read_status\u001b[0m\u001b[1;33m(\u001b[0m\u001b[1;33m)\u001b[0m\u001b[1;33m\u001b[0m\u001b[1;33m\u001b[0m\u001b[0m\n\u001b[0m\u001b[0;32m    308\u001b[0m             \u001b[1;32mif\u001b[0m \u001b[0mstatus\u001b[0m \u001b[1;33m!=\u001b[0m \u001b[0mCONTINUE\u001b[0m\u001b[1;33m:\u001b[0m\u001b[1;33m\u001b[0m\u001b[1;33m\u001b[0m\u001b[0m\n\u001b[0;32m    309\u001b[0m                 \u001b[1;32mbreak\u001b[0m\u001b[1;33m\u001b[0m\u001b[1;33m\u001b[0m\u001b[0m\n",
      "\u001b[1;32m~\\anaconda3\\envs\\mulcam\\lib\\http\\client.py\u001b[0m in \u001b[0;36m_read_status\u001b[1;34m(self)\u001b[0m\n\u001b[0;32m    266\u001b[0m \u001b[1;33m\u001b[0m\u001b[0m\n\u001b[0;32m    267\u001b[0m     \u001b[1;32mdef\u001b[0m \u001b[0m_read_status\u001b[0m\u001b[1;33m(\u001b[0m\u001b[0mself\u001b[0m\u001b[1;33m)\u001b[0m\u001b[1;33m:\u001b[0m\u001b[1;33m\u001b[0m\u001b[1;33m\u001b[0m\u001b[0m\n\u001b[1;32m--> 268\u001b[1;33m         \u001b[0mline\u001b[0m \u001b[1;33m=\u001b[0m \u001b[0mstr\u001b[0m\u001b[1;33m(\u001b[0m\u001b[0mself\u001b[0m\u001b[1;33m.\u001b[0m\u001b[0mfp\u001b[0m\u001b[1;33m.\u001b[0m\u001b[0mreadline\u001b[0m\u001b[1;33m(\u001b[0m\u001b[0m_MAXLINE\u001b[0m \u001b[1;33m+\u001b[0m \u001b[1;36m1\u001b[0m\u001b[1;33m)\u001b[0m\u001b[1;33m,\u001b[0m \u001b[1;34m\"iso-8859-1\"\u001b[0m\u001b[1;33m)\u001b[0m\u001b[1;33m\u001b[0m\u001b[1;33m\u001b[0m\u001b[0m\n\u001b[0m\u001b[0;32m    269\u001b[0m         \u001b[1;32mif\u001b[0m \u001b[0mlen\u001b[0m\u001b[1;33m(\u001b[0m\u001b[0mline\u001b[0m\u001b[1;33m)\u001b[0m \u001b[1;33m>\u001b[0m \u001b[0m_MAXLINE\u001b[0m\u001b[1;33m:\u001b[0m\u001b[1;33m\u001b[0m\u001b[1;33m\u001b[0m\u001b[0m\n\u001b[0;32m    270\u001b[0m             \u001b[1;32mraise\u001b[0m \u001b[0mLineTooLong\u001b[0m\u001b[1;33m(\u001b[0m\u001b[1;34m\"status line\"\u001b[0m\u001b[1;33m)\u001b[0m\u001b[1;33m\u001b[0m\u001b[1;33m\u001b[0m\u001b[0m\n",
      "\u001b[1;32m~\\anaconda3\\envs\\mulcam\\lib\\socket.py\u001b[0m in \u001b[0;36mreadinto\u001b[1;34m(self, b)\u001b[0m\n\u001b[0;32m    584\u001b[0m         \u001b[1;32mwhile\u001b[0m \u001b[1;32mTrue\u001b[0m\u001b[1;33m:\u001b[0m\u001b[1;33m\u001b[0m\u001b[1;33m\u001b[0m\u001b[0m\n\u001b[0;32m    585\u001b[0m             \u001b[1;32mtry\u001b[0m\u001b[1;33m:\u001b[0m\u001b[1;33m\u001b[0m\u001b[1;33m\u001b[0m\u001b[0m\n\u001b[1;32m--> 586\u001b[1;33m                 \u001b[1;32mreturn\u001b[0m \u001b[0mself\u001b[0m\u001b[1;33m.\u001b[0m\u001b[0m_sock\u001b[0m\u001b[1;33m.\u001b[0m\u001b[0mrecv_into\u001b[0m\u001b[1;33m(\u001b[0m\u001b[0mb\u001b[0m\u001b[1;33m)\u001b[0m\u001b[1;33m\u001b[0m\u001b[1;33m\u001b[0m\u001b[0m\n\u001b[0m\u001b[0;32m    587\u001b[0m             \u001b[1;32mexcept\u001b[0m \u001b[0mtimeout\u001b[0m\u001b[1;33m:\u001b[0m\u001b[1;33m\u001b[0m\u001b[1;33m\u001b[0m\u001b[0m\n\u001b[0;32m    588\u001b[0m                 \u001b[0mself\u001b[0m\u001b[1;33m.\u001b[0m\u001b[0m_timeout_occurred\u001b[0m \u001b[1;33m=\u001b[0m \u001b[1;32mTrue\u001b[0m\u001b[1;33m\u001b[0m\u001b[1;33m\u001b[0m\u001b[0m\n",
      "\u001b[1;31mKeyboardInterrupt\u001b[0m: "
     ]
    }
   ],
   "source": [
    "print(len(urls))\n",
    "i = 1\n",
    "content_list = []\n",
    "for url in urls:\n",
    "    raw_data = parser.from_file(url)\n",
    "    content_list.append(raw_data['content'])\n",
    "    print(i)\n",
    "    i += 1"
   ]
  },
  {
   "cell_type": "code",
   "execution_count": null,
   "metadata": {
    "scrolled": false
   },
   "outputs": [],
   "source": [
    "df_report = pd.DataFrame(content_list)"
   ]
  },
  {
   "cell_type": "code",
   "execution_count": 14,
   "metadata": {},
   "outputs": [
    {
     "data": {
      "text/html": [
       "<div>\n",
       "<style scoped>\n",
       "    .dataframe tbody tr th:only-of-type {\n",
       "        vertical-align: middle;\n",
       "    }\n",
       "\n",
       "    .dataframe tbody tr th {\n",
       "        vertical-align: top;\n",
       "    }\n",
       "\n",
       "    .dataframe thead th {\n",
       "        text-align: right;\n",
       "    }\n",
       "</style>\n",
       "<table border=\"1\" class=\"dataframe\">\n",
       "  <thead>\n",
       "    <tr style=\"text-align: right;\">\n",
       "      <th></th>\n",
       "      <th>0</th>\n",
       "    </tr>\n",
       "  </thead>\n",
       "  <tbody>\n",
       "    <tr>\n",
       "      <th>0</th>\n",
       "      <td>\\n\\n\\n\\n\\n\\n\\n\\n\\n\\n\\n\\n\\n\\n\\n\\n\\n\\n\\n\\n\\n\\n\\n...</td>\n",
       "    </tr>\n",
       "    <tr>\n",
       "      <th>1</th>\n",
       "      <td>\\n\\n\\n\\n\\n\\n\\n\\n\\n\\n\\n\\n\\n\\n\\n\\n\\n\\n\\n\\n\\n\\n\\n...</td>\n",
       "    </tr>\n",
       "    <tr>\n",
       "      <th>2</th>\n",
       "      <td>\\n\\n\\n\\n\\n\\n\\n\\n\\n\\n\\n\\n\\n\\n\\n\\n\\n\\n\\n\\n\\n\\n\\n...</td>\n",
       "    </tr>\n",
       "    <tr>\n",
       "      <th>3</th>\n",
       "      <td>\\n\\n\\n\\n\\n\\n\\n\\n\\n\\n\\n\\n\\n\\n\\n\\n\\n\\n\\n\\n\\n\\n\\n...</td>\n",
       "    </tr>\n",
       "    <tr>\n",
       "      <th>4</th>\n",
       "      <td>\\n\\n\\n\\n\\n\\n\\n\\n\\n\\n\\n\\n\\n\\n\\n\\n\\n\\n\\n\\n\\n\\n\\n...</td>\n",
       "    </tr>\n",
       "    <tr>\n",
       "      <th>...</th>\n",
       "      <td>...</td>\n",
       "    </tr>\n",
       "    <tr>\n",
       "      <th>1369</th>\n",
       "      <td>\\n\\n\\n\\n\\n\\n\\n\\n\\n\\n\\n\\n\\n\\n\\n\\n\\n\\n\\n\\n\\n\\n\\n...</td>\n",
       "    </tr>\n",
       "    <tr>\n",
       "      <th>1370</th>\n",
       "      <td>\\n\\n\\n\\n\\n\\n\\n\\n\\n\\n\\n\\n\\n\\n\\n\\n\\n\\n\\n\\n\\n\\n\\n...</td>\n",
       "    </tr>\n",
       "    <tr>\n",
       "      <th>1371</th>\n",
       "      <td>\\n\\n\\n\\n\\n\\n\\n\\n\\n\\n\\n\\n\\n\\n\\n\\n\\n\\n\\n\\n\\n\\n\\n...</td>\n",
       "    </tr>\n",
       "    <tr>\n",
       "      <th>1372</th>\n",
       "      <td>\\n\\n\\n\\n\\n\\n\\n\\n\\n\\n\\n\\n\\n\\n\\n\\n\\n\\n\\n\\n\\n\\n\\n...</td>\n",
       "    </tr>\n",
       "    <tr>\n",
       "      <th>1373</th>\n",
       "      <td>\\n\\n\\n\\n\\n\\n\\n\\n\\n\\n\\n\\n\\n\\n\\n\\n\\n\\n\\n\\n\\n\\n\\n...</td>\n",
       "    </tr>\n",
       "  </tbody>\n",
       "</table>\n",
       "<p>1374 rows × 1 columns</p>\n",
       "</div>"
      ],
      "text/plain": [
       "                                                      0\n",
       "0     \\n\\n\\n\\n\\n\\n\\n\\n\\n\\n\\n\\n\\n\\n\\n\\n\\n\\n\\n\\n\\n\\n\\n...\n",
       "1     \\n\\n\\n\\n\\n\\n\\n\\n\\n\\n\\n\\n\\n\\n\\n\\n\\n\\n\\n\\n\\n\\n\\n...\n",
       "2     \\n\\n\\n\\n\\n\\n\\n\\n\\n\\n\\n\\n\\n\\n\\n\\n\\n\\n\\n\\n\\n\\n\\n...\n",
       "3     \\n\\n\\n\\n\\n\\n\\n\\n\\n\\n\\n\\n\\n\\n\\n\\n\\n\\n\\n\\n\\n\\n\\n...\n",
       "4     \\n\\n\\n\\n\\n\\n\\n\\n\\n\\n\\n\\n\\n\\n\\n\\n\\n\\n\\n\\n\\n\\n\\n...\n",
       "...                                                 ...\n",
       "1369  \\n\\n\\n\\n\\n\\n\\n\\n\\n\\n\\n\\n\\n\\n\\n\\n\\n\\n\\n\\n\\n\\n\\n...\n",
       "1370  \\n\\n\\n\\n\\n\\n\\n\\n\\n\\n\\n\\n\\n\\n\\n\\n\\n\\n\\n\\n\\n\\n\\n...\n",
       "1371  \\n\\n\\n\\n\\n\\n\\n\\n\\n\\n\\n\\n\\n\\n\\n\\n\\n\\n\\n\\n\\n\\n\\n...\n",
       "1372  \\n\\n\\n\\n\\n\\n\\n\\n\\n\\n\\n\\n\\n\\n\\n\\n\\n\\n\\n\\n\\n\\n\\n...\n",
       "1373  \\n\\n\\n\\n\\n\\n\\n\\n\\n\\n\\n\\n\\n\\n\\n\\n\\n\\n\\n\\n\\n\\n\\n...\n",
       "\n",
       "[1374 rows x 1 columns]"
      ]
     },
     "execution_count": 14,
     "metadata": {},
     "output_type": "execute_result"
    }
   ],
   "source": [
    "df_report"
   ]
  },
  {
   "cell_type": "code",
   "execution_count": 4,
   "metadata": {},
   "outputs": [
    {
     "ename": "FileNotFoundError",
     "evalue": "[Errno 2] No such file or directory: 'c:/content_list.pickle'",
     "output_type": "error",
     "traceback": [
      "\u001b[1;31m---------------------------------------------------------------------------\u001b[0m",
      "\u001b[1;31mFileNotFoundError\u001b[0m                         Traceback (most recent call last)",
      "\u001b[1;32m<ipython-input-4-14a27f3042a0>\u001b[0m in \u001b[0;36m<module>\u001b[1;34m\u001b[0m\n\u001b[0;32m      1\u001b[0m \u001b[1;32mimport\u001b[0m \u001b[0mpickle\u001b[0m\u001b[1;33m\u001b[0m\u001b[1;33m\u001b[0m\u001b[0m\n\u001b[0;32m      2\u001b[0m \u001b[1;33m\u001b[0m\u001b[0m\n\u001b[1;32m----> 3\u001b[1;33m \u001b[1;32mwith\u001b[0m \u001b[0mopen\u001b[0m\u001b[1;33m(\u001b[0m\u001b[1;34m'c:/content_list.pickle'\u001b[0m\u001b[1;33m,\u001b[0m \u001b[1;34m'rb'\u001b[0m\u001b[1;33m)\u001b[0m \u001b[1;32mas\u001b[0m \u001b[0mf\u001b[0m\u001b[1;33m:\u001b[0m\u001b[1;33m\u001b[0m\u001b[1;33m\u001b[0m\u001b[0m\n\u001b[0m\u001b[0;32m      4\u001b[0m     \u001b[0mcontent_list\u001b[0m \u001b[1;33m=\u001b[0m \u001b[0mpickle\u001b[0m\u001b[1;33m.\u001b[0m\u001b[0mload\u001b[0m\u001b[1;33m(\u001b[0m\u001b[0mf\u001b[0m\u001b[1;33m)\u001b[0m\u001b[1;33m\u001b[0m\u001b[1;33m\u001b[0m\u001b[0m\n",
      "\u001b[1;31mFileNotFoundError\u001b[0m: [Errno 2] No such file or directory: 'c:/content_list.pickle'"
     ]
    }
   ],
   "source": [
    "import pickle\n",
    "\n",
    "with open('c:/content_list.pickle', 'rb') as f:\n",
    "    content_list = pickle.load(f)"
   ]
  },
  {
   "cell_type": "code",
   "execution_count": null,
   "metadata": {},
   "outputs": [],
   "source": []
  }
 ],
 "metadata": {
  "hide_input": false,
  "kernelspec": {
   "display_name": "Python 3",
   "language": "python",
   "name": "python3"
  },
  "language_info": {
   "codemirror_mode": {
    "name": "ipython",
    "version": 3
   },
   "file_extension": ".py",
   "mimetype": "text/x-python",
   "name": "python",
   "nbconvert_exporter": "python",
   "pygments_lexer": "ipython3",
   "version": "3.6.10"
  }
 },
 "nbformat": 4,
 "nbformat_minor": 4
}
