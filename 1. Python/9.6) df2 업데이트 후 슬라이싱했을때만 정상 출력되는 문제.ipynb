{
 "cells": [
  {
   "cell_type": "code",
   "execution_count": 166,
   "metadata": {
    "colab": {},
    "colab_type": "code",
    "id": "yyp6F87bwJ9w"
   },
   "outputs": [],
   "source": [
    "import pandas as pd\n",
    "import numpy as np\n",
    "from numpy import dot\n",
    "from numpy.linalg import norm\n",
    "# from gensim.models.doc2vec import Doc2Vec, TaggedDocument\n",
    "# !pip install gensim"
   ]
  },
  {
   "cell_type": "markdown",
   "metadata": {},
   "source": [
    "# 인덱스로 grouping하기"
   ]
  },
  {
   "cell_type": "code",
   "execution_count": 1,
   "metadata": {},
   "outputs": [],
   "source": [
    "import pandas as pd\n",
    "\n",
    "df2 = pd.read_csv('c:/users/user/temp_df.csv')\n",
    "idx_dict = {'start':0,'end':0}\n",
    "\n",
    "number = 0\n",
    "temp_list = df2.temp\n",
    "for i in range(df2.shape[0]-1):\n",
    "    \n",
    "    if (df2.loc[i,'num'] - df2.loc[i+1,'num'] == 0):\n",
    "        pass\n",
    "    else:\n",
    "        idx_start = i\n",
    "        idx_end = i + 1\n",
    "        idx_dict['end'] = idx_end\n",
    "        # print(idx_dict['start'],idx_dict['end'])\n",
    "        \n",
    "        for j in range(idx_dict['start'],idx_dict['end']):\n",
    "            df2.loc[j,'temp'] = number\n",
    "        idx_dict['start'] = idx_dict['end']\n",
    "        number += 1\n",
    "df2 # temp 열은 0으로 일괄 표시된다. 하지만, df2.temp[5:8]과 같이 슬라이싱 하면 다른 숫자가 출력된다."
   ]
  },
  {
   "cell_type": "code",
   "execution_count": null,
   "metadata": {},
   "outputs": [],
   "source": [
    "ls = []\n",
    "for i in range(len(df2.temp)):\n",
    "    ls.append(df2.temp[i])\n",
    "\n",
    "for i in range(37360,37372):\n",
    "    ls[i] = 5807\n",
    "    \n",
    "pd.DataFrame(ls).to_csv('group_index.csv')"
   ]
  },
  {
   "cell_type": "code",
   "execution_count": 5,
   "metadata": {},
   "outputs": [
    {
     "data": {
      "text/html": [
       "<div>\n",
       "<style scoped>\n",
       "    .dataframe tbody tr th:only-of-type {\n",
       "        vertical-align: middle;\n",
       "    }\n",
       "\n",
       "    .dataframe tbody tr th {\n",
       "        vertical-align: top;\n",
       "    }\n",
       "\n",
       "    .dataframe thead th {\n",
       "        text-align: right;\n",
       "    }\n",
       "</style>\n",
       "<table border=\"1\" class=\"dataframe\">\n",
       "  <thead>\n",
       "    <tr style=\"text-align: right;\">\n",
       "      <th></th>\n",
       "      <th>broadcast</th>\n",
       "      <th>num</th>\n",
       "      <th>temp</th>\n",
       "    </tr>\n",
       "  </thead>\n",
       "  <tbody>\n",
       "    <tr>\n",
       "      <th>5</th>\n",
       "      <td>2019-01-01 6:40</td>\n",
       "      <td>0</td>\n",
       "      <td>0</td>\n",
       "    </tr>\n",
       "    <tr>\n",
       "      <th>6</th>\n",
       "      <td>2019-01-01 7:00</td>\n",
       "      <td>1</td>\n",
       "      <td>1</td>\n",
       "    </tr>\n",
       "    <tr>\n",
       "      <th>7</th>\n",
       "      <td>2019-01-01 7:20</td>\n",
       "      <td>1</td>\n",
       "      <td>1</td>\n",
       "    </tr>\n",
       "  </tbody>\n",
       "</table>\n",
       "</div>"
      ],
      "text/plain": [
       "         broadcast  num  temp\n",
       "5  2019-01-01 6:40    0     0\n",
       "6  2019-01-01 7:00    1     1\n",
       "7  2019-01-01 7:20    1     1"
      ]
     },
     "execution_count": 5,
     "metadata": {},
     "output_type": "execute_result"
    }
   ],
   "source": [
    "df2[5:8]\n",
    "\n",
    "# df2로 정상출력이 안되기 때문에 df2.temp를 ls 변수에 다시 생성하여 기존의 df2에 붙여주는 방식으로 진행하였지만 왜 df2시 정상출력이 되지 않는지 의문이 남는다."
   ]
  }
 ],
 "metadata": {
  "colab": {
   "name": "상품명간 그룹화 방법(작업중).ipynb",
   "private_outputs": true,
   "provenance": []
  },
  "kernelspec": {
   "display_name": "Python 3",
   "language": "python",
   "name": "python3"
  },
  "language_info": {
   "codemirror_mode": {
    "name": "ipython",
    "version": 3
   },
   "file_extension": ".py",
   "mimetype": "text/x-python",
   "name": "python",
   "nbconvert_exporter": "python",
   "pygments_lexer": "ipython3",
   "version": "3.6.10"
  }
 },
 "nbformat": 4,
 "nbformat_minor": 1
}
