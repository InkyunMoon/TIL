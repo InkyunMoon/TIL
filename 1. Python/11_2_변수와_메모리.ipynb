{
  "nbformat": 4,
  "nbformat_minor": 0,
  "metadata": {
    "colab": {
      "name": "11.2 변수와 메모리",
      "provenance": [],
      "private_outputs": true,
      "collapsed_sections": []
    },
    "kernelspec": {
      "name": "python3",
      "display_name": "Python 3"
    }
  },
  "cells": [
    {
      "cell_type": "markdown",
      "metadata": {
        "id": "Wl9am83eEp11"
      },
      "source": [
        "### mutable vs immutable\n",
        "- mutable : 데이터 내 순서 or 인덱싱으로 해당 데이터 타입의 element를 바꿀 수 있는 것\n",
        "- immutable : 데이터 내 순서 or 인덱싱는로 해당 데이터 element를 바꿀 수 없는 것"
      ]
    },
    {
      "cell_type": "code",
      "metadata": {
        "id": "Tv1aCFSHicAd"
      },
      "source": [
        "a = [1,2,3]\n",
        "b = a\n",
        "id(a), id(b)"
      ],
      "execution_count": null,
      "outputs": []
    },
    {
      "cell_type": "code",
      "metadata": {
        "id": "XAXhBjafjIwN"
      },
      "source": [
        "a[0] = 4\n",
        "id(a), id(b)"
      ],
      "execution_count": null,
      "outputs": []
    },
    {
      "cell_type": "code",
      "metadata": {
        "id": "-V4IL95CjMm9"
      },
      "source": [
        "print(a)\n",
        "print(b)"
      ],
      "execution_count": null,
      "outputs": []
    },
    {
      "cell_type": "markdown",
      "metadata": {
        "id": "IBiO5FgajsbE"
      },
      "source": [
        "##### mutable의 경우 그냥 복사 후 복사한 값을 변경하면 초기 값도 함께 변경됨을 알 수 있다.(참조만 복사된 경우)\n",
        "\n",
        "- deepcopy를 이용하여 참조만 복사하지 않고 전체 값을 복사한다. -> 위와 같은 경우 예방"
      ]
    },
    {
      "cell_type": "code",
      "metadata": {
        "id": "wqaN48w1kKNn"
      },
      "source": [
        "# 1. 리스트 깊은 복사\n",
        "a = [1,2,3]\n",
        "b = a[:]\n",
        "id(a), id(b)"
      ],
      "execution_count": null,
      "outputs": []
    },
    {
      "cell_type": "code",
      "metadata": {
        "id": "ZqrTyOx1k0eP"
      },
      "source": [
        "a[0] = 4\n",
        "a,b"
      ],
      "execution_count": null,
      "outputs": []
    },
    {
      "cell_type": "code",
      "metadata": {
        "id": "vuY_hwiKk2Ts"
      },
      "source": [
        "# 2. copy모듈 사용\n",
        "import copy\n",
        "a = [1,2,3]\n",
        "b = copy.deepcopy(a)\n",
        "a[0] = 4\n",
        "a, b"
      ],
      "execution_count": null,
      "outputs": []
    },
    {
      "cell_type": "code",
      "metadata": {
        "id": "79FfKxaAk_5s"
      },
      "source": [
        ""
      ],
      "execution_count": null,
      "outputs": []
    }
  ]
}