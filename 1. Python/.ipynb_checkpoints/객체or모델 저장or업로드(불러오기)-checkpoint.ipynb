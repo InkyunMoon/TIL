{
 "cells": [
  {
   "cell_type": "markdown",
   "metadata": {},
   "source": [
    "# 객체 저장\n",
    "\n",
    "- 코랩 환경: 연동된 드라이브에 저장되므로 구글 코랩 라이브러리를 통해 로컬로 다운로드 받는다.\n",
    "- 파이썬 환경: with 구문 내에서 로컬 디렉토리를 설정하여 저장한다.\n",
    "\n",
    "hist라는 이름으로 저장된 학습 history가 있다고 하자."
   ]
  },
  {
   "cell_type": "code",
   "execution_count": null,
   "metadata": {
    "scrolled": true
   },
   "outputs": [],
   "source": [
    "import pickle\n",
    "from google.colab import files\n",
    "\n",
    "with open('hist9-2.pickle','wb') as f:\n",
    "    pickle.dump(hist.history, f)\n",
    "# 위와 같이 입력하면 연동된 드라이브로 저장이 된다.\n",
    "\n",
    "files.download('hist9-2.pickle')\n",
    "# 구글 코랩 라이브러리를 통해 로컬로 다운로드 받을 수 있다.   "
   ]
  },
  {
   "cell_type": "code",
   "execution_count": 1,
   "metadata": {},
   "outputs": [],
   "source": [
    "## 객체 불러오기"
   ]
  },
  {
   "cell_type": "code",
   "execution_count": null,
   "metadata": {},
   "outputs": [],
   "source": [
    "with open('../hist9-2.pickle', 'rb') as f:\n",
    "    hist = pickle.load(f)"
   ]
  },
  {
   "cell_type": "markdown",
   "metadata": {},
   "source": [
    "# 모델 저장\n",
    "\n",
    "위와 같다."
   ]
  },
  {
   "cell_type": "code",
   "execution_count": null,
   "metadata": {},
   "outputs": [],
   "source": [
    "from keras.models import load_model\n",
    "\n",
    "model.save('model9-2.h5')\n",
    "files.download('model9-2.h5')\n",
    "\n",
    "# 코랩 환경이라면 위와 같은 방법으로 로컬에 저장"
   ]
  },
  {
   "cell_type": "markdown",
   "metadata": {},
   "source": [
    "## 모델 불러오기"
   ]
  },
  {
   "cell_type": "code",
   "execution_count": null,
   "metadata": {},
   "outputs": [],
   "source": [
    "model = load_model('model9-2.h5')"
   ]
  },
  {
   "cell_type": "markdown",
   "metadata": {},
   "source": [
    "# 코랩에서 로컬 csv파일 불러오기\n"
   ]
  },
  {
   "cell_type": "code",
   "execution_count": null,
   "metadata": {},
   "outputs": [],
   "source": [
    "from google.colab import files\n",
    "import io\n",
    "\n",
    "uploaded = files.upload()\n",
    "\n",
    "df = pd.read_csv(io.BytesIO(iploaded['filename.cvs']))"
   ]
  }
 ],
 "metadata": {
  "hide_input": false,
  "kernelspec": {
   "display_name": "Python 3",
   "language": "python",
   "name": "python3"
  },
  "language_info": {
   "codemirror_mode": {
    "name": "ipython",
    "version": 3
   },
   "file_extension": ".py",
   "mimetype": "text/x-python",
   "name": "python",
   "nbconvert_exporter": "python",
   "pygments_lexer": "ipython3",
   "version": "3.7.6"
  }
 },
 "nbformat": 4,
 "nbformat_minor": 4
}
