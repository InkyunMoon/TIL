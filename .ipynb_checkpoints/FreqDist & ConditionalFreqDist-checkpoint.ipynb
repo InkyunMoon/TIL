{
 "cells": [
  {
   "cell_type": "markdown",
   "metadata": {},
   "source": [
    "7.15\n",
    "\n",
    "## nltk.ConditionalFreqDist\n",
    "\n",
    ">빈도수를 시각화해주는 함수"
   ]
  },
  {
   "cell_type": "code",
   "execution_count": 3,
   "metadata": {},
   "outputs": [
    {
     "data": {
      "text/plain": [
       "<ConditionalFreqDist with 5 conditions>"
      ]
     },
     "execution_count": 3,
     "metadata": {},
     "output_type": "execute_result"
    }
   ],
   "source": [
    "import nltk\n",
    "\n",
    "celebrity = [ ('Madonna','Singer'),('Brad Pitt','Actor'), ('Rain','Singer'), ('Gisele Bundchen','Model'), ('Rain','Actor'), ('Yun ju,Jang','Model'),('Yun ju,Jang', 'Actor') ]\n",
    "  \n",
    "cf = nltk.ConditionalFreqDist(celebrity)\n",
    "cf"
   ]
  },
  {
   "cell_type": "code",
   "execution_count": 4,
   "metadata": {},
   "outputs": [
    {
     "name": "stdout",
     "output_type": "stream",
     "text": [
      "                 Actor  Model Singer \n",
      "      Brad Pitt      1      0      0 \n",
      "Gisele Bundchen      0      1      0 \n",
      "        Madonna      0      0      1 \n",
      "           Rain      1      0      1 \n",
      "    Yun ju,Jang      1      1      0 \n"
     ]
    }
   ],
   "source": [
    "cf.tabulate()"
   ]
  },
  {
   "cell_type": "markdown",
   "metadata": {},
   "source": [
    "## nltk.FreqDist \n",
    "\n",
    "[데이터사이언스스쿨](https://datascienceschool.net/view-notebook/8895b16a141749a9bb381007d52721c1/), [위키독스](https://wikidocs.net/31766)\n",
    "\n",
    ">FreqDist클래스는 문서에 사용된 토큰의 사용빈도 정보를 담는 클래스이다. \n",
    ">\n",
    ">Text클래스의 vocab메서드로 추출할 수 있다.\n",
    "\n",
    "- 단어를 key, 출현 빈도를 value로 가지는 사전 자료형과 유사하다. \n",
    "\n",
    "- most_common()은 상위 빈도수를 가진 단어만을 **튜플**로 리턴한다. 리턴된 값은 value를 기준으로 내림차순 정렬되어있다.\n"
   ]
  },
  {
   "cell_type": "code",
   "execution_count": 8,
   "metadata": {
    "collapsed": true
   },
   "outputs": [
    {
     "ename": "NameError",
     "evalue": "name 'vocab' is not defined",
     "output_type": "error",
     "traceback": [
      "\u001b[1;31m---------------------------------------------------------------------------\u001b[0m",
      "\u001b[1;31mNameError\u001b[0m                                 Traceback (most recent call last)",
      "\u001b[1;32m<ipython-input-8-245257a4d73b>\u001b[0m in \u001b[0;36m<module>\u001b[1;34m\u001b[0m\n\u001b[0;32m      1\u001b[0m \u001b[0mvocab_size\u001b[0m \u001b[1;33m=\u001b[0m \u001b[1;36m5\u001b[0m\u001b[1;33m\u001b[0m\u001b[1;33m\u001b[0m\u001b[0m\n\u001b[1;32m----> 2\u001b[1;33m \u001b[0mvocab\u001b[0m \u001b[1;33m=\u001b[0m \u001b[0mvocab\u001b[0m\u001b[1;33m.\u001b[0m\u001b[0mmost_common\u001b[0m\u001b[1;33m(\u001b[0m\u001b[0mvocab_size\u001b[0m\u001b[1;33m)\u001b[0m\u001b[1;33m\u001b[0m\u001b[1;33m\u001b[0m\u001b[0m\n\u001b[0m\u001b[0;32m      3\u001b[0m \u001b[0mvocab\u001b[0m\u001b[1;33m\u001b[0m\u001b[1;33m\u001b[0m\u001b[0m\n",
      "\u001b[1;31mNameError\u001b[0m: name 'vocab' is not defined"
     ]
    }
   ],
   "source": [
    "# 사용 예시\n",
    "vocab_size = 5\n",
    "vocab = vocab.most_common(vocab_size)\n",
    "vocab"
   ]
  }
 ],
 "metadata": {
  "hide_input": false,
  "kernelspec": {
   "display_name": "Python 3",
   "language": "python",
   "name": "python3"
  },
  "language_info": {
   "codemirror_mode": {
    "name": "ipython",
    "version": 3
   },
   "file_extension": ".py",
   "mimetype": "text/x-python",
   "name": "python",
   "nbconvert_exporter": "python",
   "pygments_lexer": "ipython3",
   "version": "3.7.6"
  }
 },
 "nbformat": 4,
 "nbformat_minor": 4
}
